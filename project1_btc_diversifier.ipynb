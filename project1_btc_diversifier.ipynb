{
 "cells": [
  {
   "cell_type": "markdown",
   "id": "ec5665d9",
   "metadata": {},
   "source": [
    "# BTC as a diversifier to US Equity\n",
    "\n",
    "This exercise will explore the potential diversification benefits of BTC to Equity.  We do this by examing two metrics; correlation and sharpe ratio. \n",
    "\n",
    "For correlation, we compare the correlation during market sell off periods and during normal market periods.  The purpose for this comparision is we want to know if BTC is a good diversifier to equity when we needed diversification the most, which is when market sells off.  \n",
    "\n",
    "For sharpe ratio, we compare sharpe ratio amongst BTC, SP500, NASDAQ, equally portfolios of BTC-SP500 and BTC-NASDAQ.  The result of sharpe ratio will help determine the diversification benefit of BTC to equity."
   ]
  },
  {
   "cell_type": "code",
   "execution_count": 205,
   "id": "5c29c4b2",
   "metadata": {},
   "outputs": [],
   "source": [
    "# Initial imports\n",
    "import pandas as pd\n",
    "from dotenv import load_dotenv\n",
    "import numpy as np\n",
    "import datetime\n",
    "import yfinance as yf\n",
    "import hvplot.pandas\n",
    "import matplotlib.pyplot as plt\n",
    "import plotly.express as px\n",
    "import seaborn as sb\n",
    "import panel as pn\n",
    "#import tabulate"
   ]
  },
  {
   "cell_type": "code",
   "execution_count": 206,
   "id": "b26e479e",
   "metadata": {},
   "outputs": [
    {
     "data": {
      "text/plain": [
       "True"
      ]
     },
     "execution_count": 206,
     "metadata": {},
     "output_type": "execute_result"
    }
   ],
   "source": [
    "load_dotenv()"
   ]
  },
  {
   "cell_type": "markdown",
   "id": "947d0992",
   "metadata": {},
   "source": [
    "# Data download and manipulation\n",
    "\n",
    "For data download, we use Yahoo API for price history.  Only necessary columns were kept and NA were droped.\n",
    "\n",
    "For data manipulation, a +/-2 standard deviation for SP500 daily price return was calculated.  \n",
    "\n",
    "A sell off market environment is defined as any daily price returns all each asset that fall below the -2 standard deviation of SP500 daily price return.  \n",
    "\n",
    "A normal market environment is defined as any daily price returns all each asset that fall within the -2 standard deviation and +2 standard deviation of SP500 daily price return.\n",
    "\n",
    "Data is filtered with sell off and normal market conditions"
   ]
  },
  {
   "cell_type": "code",
   "execution_count": 207,
   "id": "58d9f08b",
   "metadata": {},
   "outputs": [
    {
     "name": "stdout",
     "output_type": "stream",
     "text": [
      "[*********************100%***********************]  3 of 3 completed\n"
     ]
    }
   ],
   "source": [
    "# Download data from Yahoo API and clean data\n",
    "today = datetime.date.today().isoformat()\n",
    "\n",
    "response_yf = yf.download(\n",
    "    \"^GSPC ^IXIC BTC-USD\", \n",
    "    start=\"2014-09-17\", \n",
    "    end=today\n",
    ")\n",
    "\n",
    "# trimming the data\n",
    "price_df = response_yf['Close']\n",
    "price_df = price_df.rename(\n",
    "    columns={\n",
    "        '^GSPC': 'SP500', \n",
    "        '^IXIC': 'NASDAQ',\n",
    "        'BTC-USD': 'BTC'\n",
    "    }\n",
    ").copy(deep=True)\n",
    "\n",
    "# remove all NA \n",
    "price_df = price_df.dropna()"
   ]
  },
  {
   "cell_type": "code",
   "execution_count": 208,
   "id": "b410c696",
   "metadata": {},
   "outputs": [],
   "source": [
    "# Calculate daily price return for all assets.  Calculate the 2 standard deviation boundary for SP500\n",
    "\n",
    "# calc daily percentage returns\n",
    "pct_change_df = price_df.pct_change()\n",
    "pct_change_df = pct_change_df.dropna()\n",
    "\n",
    "pct_change_std = pct_change_df['SP500'].std()\n",
    "pct_change_ret = pct_change_df['SP500'].mean()\n",
    "\n",
    "# SP500 price return at 2 standard dev boundary\n",
    "outlier_neg2std = pct_change_ret - pct_change_std * 2\n",
    "outlier_pos2std = pct_change_ret + pct_change_std * 2\n",
    "\n",
    "# Extract returns where S&P returns are greater 2 std dev\n",
    "pct_change_outside_2std = pct_change_df.loc[\n",
    "    pct_change_df['SP500'] <= outlier_neg2std\n",
    "]\n",
    "# Extract returns where S&P returns are within the 2 std dev\n",
    "pct_change_within = pct_change_df.loc[\n",
    "    (pct_change_df['SP500'] >= outlier_neg2std) & \n",
    "    (pct_change_df['SP500'] <= outlier_pos2std)\n",
    "]\n",
    "\n",
    "# Create a portfolio between BTC & SP500, NASDAQ\n",
    "combined_pct_change = pd.concat(\n",
    "    [\n",
    "        pct_change_df['BTC'] + pct_change_df['SP500'],\n",
    "        pct_change_df['BTC'] + pct_change_df['NASDAQ']\n",
    "    ],\n",
    "    axis=1\n",
    ")\n",
    "\n",
    "# Extract returns where S&P returns are greater 2 std dev\n",
    "combined_pct_change_2std = combined_pct_change.loc[\n",
    "    pct_change_df['SP500'] <= outlier_neg2std\n",
    "]\n",
    "\n",
    "# Extract returns where S&P returns are within the 2 std dev\n",
    "combined_pct_change_within = combined_pct_change.loc[\n",
    "    (pct_change_df['SP500'] >= outlier_neg2std) & \n",
    "    (pct_change_df['SP500'] <=outlier_pos2std)\n",
    "]\n",
    "\n",
    "combined_pct_change.columns = ['BTC-SP500','BTC-NASDAQ']\n",
    "combined_pct_change_2std.columns = ['BTC-SP500','BTC-NASDAQ']\n",
    "combined_pct_change_within.columns = ['BTC-SP500','BTC-NASDAQ']"
   ]
  },
  {
   "cell_type": "code",
   "execution_count": 209,
   "id": "497b53a0",
   "metadata": {},
   "outputs": [
    {
     "data": {
      "text/plain": [
       "-0.06703439592607463"
      ]
     },
     "execution_count": 209,
     "metadata": {},
     "output_type": "execute_result"
    }
   ],
   "source": [
    "# Verify that portfolio returns are added correctly\n",
    "pct_change_df['BTC'].iloc[0]+pct_change_df['SP500'].iloc[0]"
   ]
  },
  {
   "cell_type": "code",
   "execution_count": 210,
   "id": "559a82f4",
   "metadata": {},
   "outputs": [
    {
     "data": {
      "text/plain": [
       "-0.06703439592607463"
      ]
     },
     "execution_count": 210,
     "metadata": {},
     "output_type": "execute_result"
    }
   ],
   "source": [
    "combined_pct_change['BTC-SP500'].iloc[0] "
   ]
  },
  {
   "cell_type": "markdown",
   "id": "e59bb804",
   "metadata": {},
   "source": [
    "# Correlation Analysis\n",
    "\n",
    "In this section we'll examine the correlation between BTC vs. SP500 and NASDAQ in two different market environments. Correlation in the sell off market and normal market environment."
   ]
  },
  {
   "cell_type": "code",
   "execution_count": 211,
   "id": "78bdea7a",
   "metadata": {},
   "outputs": [],
   "source": [
    "# Calculate correlation amongst all assets for returns that beyond the 2 std dev and within 2 std dev\n",
    "\n",
    "# Correlation matrix\n",
    "corrmat_2std = pct_change_2std.corr()\n",
    "corrmat_within = pct_change_within.corr()\n",
    "\n",
    "# Extract corr off the diagonal of the matrix\n",
    "corr_2std = np.extract(1 - np.eye(len(corrmat_2std)), corrmat_2std)\n",
    "corr_within  = np.extract(1 - np.eye(len(corrmat_2std)), corrmat_within)\n",
    "\n",
    "# Retrieve only correlation btween BTC vs equity and SP500 vs NASDAQ\n",
    "ix=[0,1,3]\n",
    "corr_2std = [corr_2std[i] for i in ix]\n",
    "corr_within = [corr_within[i] for i in ix]"
   ]
  },
  {
   "cell_type": "markdown",
   "id": "5de3289b",
   "metadata": {},
   "source": [
    "## Charting Section"
   ]
  },
  {
   "cell_type": "markdown",
   "id": "a05bf49c",
   "metadata": {},
   "source": [
    "#### Charting functions"
   ]
  },
  {
   "cell_type": "code",
   "execution_count": 212,
   "id": "093eb5c1",
   "metadata": {},
   "outputs": [],
   "source": [
    "def create_dist_chart_fill_opt(data, xloc1, xloc2, annotate_txt):\n",
    "    \n",
    "    # xloc1 or xloc2 is the number on x-axis where the chart is shaded beyond that location\n",
    "    # if both xloc1 and xloc2 are provided then a shaded area is in between those 2 numbers.\n",
    "    # if both xloc1 and xloc2 are empty then no shading is done\n",
    "    \n",
    "    plt.figure()\n",
    "    ax = sb.distplot(data)\n",
    "    x, y = ax.get_lines()[0].get_data()\n",
    "    line = ax.lines[0].get_data()\n",
    "\n",
    "    if bool(xloc1) & bool(xloc2):\n",
    "        plt.vlines(xloc1, 0, y[np.argmin(abs(x-xloc1))], color='k')\n",
    "        plt.vlines(xloc2, 0, y[np.argmin(abs(x-xloc2))], color='k')\n",
    "        ax.fill_between(line[0], np.zeros(len(line[0])), line[1])\n",
    "        ax.fill_between(\n",
    "            x, y, \n",
    "            where=(x>xloc1) & (x<xloc2), \n",
    "            interpolate=True,\n",
    "            color='#EF9A9A'\n",
    "        )      \n",
    "\n",
    "    elif bool(xloc1) | bool(xloc2):\n",
    "        plt.vlines(xloc1, 0, y[np.argmin(abs(x-xloc1))], color='k')\n",
    "        ax.fill_between(line[0], np.zeros(len(line[0])), line[1])\n",
    "        ax.fill_between(\n",
    "            x, y, \n",
    "            where=(x < xloc1), \n",
    "            interpolate=True, \n",
    "            color='#EF9A9A'\n",
    "        )\n",
    "\n",
    "    else:    \n",
    "        ax = sb.distplot(data)\n",
    "        ax.fill_between(line[0], np.zeros(len(line[0])), line[1])  \n",
    "        \n",
    "    ax.set_title('Distribution of SP500 Daily Price Return')   \n",
    "    ax.text(-0.12, 10,annotate_txt, fontsize=9)  "
   ]
  },
  {
   "cell_type": "code",
   "execution_count": 213,
   "id": "fa0d4f98",
   "metadata": {},
   "outputs": [],
   "source": [
    "def create_bar_chart(data,title):\n",
    "    barplot = data.hvplot.bar(title=title,height=300,width=500)\n",
    "    return barplot"
   ]
  },
  {
   "cell_type": "markdown",
   "id": "605769d7",
   "metadata": {},
   "source": [
    "### Chart density distribution charts\n",
    "These charts highlighted the section of the data distribution that will be used to calculate the correlation for sell off and normal market periods.\n",
    "We highlighted the +/- 2 standard deviation of SP500 price return on the charts.  The data used for the correlation analysis is highlighted by shaded area of the charts. "
   ]
  },
  {
   "cell_type": "code",
   "execution_count": 214,
   "id": "d85111b3",
   "metadata": {},
   "outputs": [
    {
     "name": "stderr",
     "output_type": "stream",
     "text": [
      "/opt/anaconda3/envs/pyvizenv/lib/python3.7/site-packages/seaborn/distributions.py:2619: FutureWarning:\n",
      "\n",
      "`distplot` is a deprecated function and will be removed in a future version. Please adapt your code to use either `displot` (a figure-level function with similar flexibility) or `histplot` (an axes-level function for histograms).\n",
      "\n"
     ]
    },
    {
     "data": {
      "image/png": "[encoded data removed]",
      "text/plain": [
       "<Figure size 432x288 with 1 Axes>"
      ]
     },
     "metadata": {
      "needs_background": "light"
     },
     "output_type": "display_data"
    }
   ],
   "source": [
    "annotext = str(len(pct_change_2std)) + \" data points were found\"\n",
    "selloff_dist_chart = create_dist_chart_fill_opt(\n",
    "    pct_change_df['SP500'],\n",
    "    outlier_neg2std,\n",
    "    [],\n",
    "    annotext\n",
    ")"
   ]
  },
  {
   "cell_type": "code",
   "execution_count": 215,
   "id": "98e64415",
   "metadata": {},
   "outputs": [
    {
     "name": "stderr",
     "output_type": "stream",
     "text": [
      "/opt/anaconda3/envs/pyvizenv/lib/python3.7/site-packages/seaborn/distributions.py:2619: FutureWarning:\n",
      "\n",
      "`distplot` is a deprecated function and will be removed in a future version. Please adapt your code to use either `displot` (a figure-level function with similar flexibility) or `histplot` (an axes-level function for histograms).\n",
      "\n"
     ]
    },
    {
     "data": {
      "image/png": "[encoded data removed]",
      "text/plain": [
       "<Figure size 432x288 with 1 Axes>"
      ]
     },
     "metadata": {
      "needs_background": "light"
     },
     "output_type": "display_data"
    }
   ],
   "source": [
    "annotext = str(len(pct_change_within)) + \" data points were found\"\n",
    "normal_dist_chart = create_dist_chart_fill_opt(\n",
    "    pct_change_df['SP500'],\n",
    "    outlier_neg2std,\n",
    "    outlier_pos2std,\n",
    "    annotext\n",
    ")"
   ]
  },
  {
   "cell_type": "markdown",
   "id": "8ca92d02",
   "metadata": {},
   "source": [
    "### Correlation results\n",
    "The distinct difference between correlations in during sell off market vs. normal market appears to suggest BTC is not a good diversifier to equity.  Equity needs diversification the most when market sells off.  The correlation between BTC and equity spiked ~ 5x during sell off market.  Correlation between SP500 and NASDAQ both remained high in both sell off and normal market environment."
   ]
  },
  {
   "cell_type": "code",
   "execution_count": 216,
   "id": "9435f7d1",
   "metadata": {},
   "outputs": [
    {
     "data": {
      "text/html": [
       "<div>\n",
       "<style scoped>\n",
       "    .dataframe tbody tr th:only-of-type {\n",
       "        vertical-align: middle;\n",
       "    }\n",
       "\n",
       "    .dataframe tbody tr th {\n",
       "        vertical-align: top;\n",
       "    }\n",
       "\n",
       "    .dataframe thead th {\n",
       "        text-align: right;\n",
       "    }\n",
       "</style>\n",
       "<table border=\"1\" class=\"dataframe\">\n",
       "  <thead>\n",
       "    <tr style=\"text-align: right;\">\n",
       "      <th></th>\n",
       "      <th>selloff</th>\n",
       "      <th>normal</th>\n",
       "    </tr>\n",
       "  </thead>\n",
       "  <tbody>\n",
       "    <tr>\n",
       "      <th>BTC vs SP500</th>\n",
       "      <td>0.526344</td>\n",
       "      <td>0.087877</td>\n",
       "    </tr>\n",
       "    <tr>\n",
       "      <th>BTC vs NASDAQ</th>\n",
       "      <td>0.490430</td>\n",
       "      <td>0.118869</td>\n",
       "    </tr>\n",
       "    <tr>\n",
       "      <th>SP500 vs NASDAQ</th>\n",
       "      <td>0.932749</td>\n",
       "      <td>0.911174</td>\n",
       "    </tr>\n",
       "  </tbody>\n",
       "</table>\n",
       "</div>"
      ],
      "text/plain": [
       "                  selloff    normal\n",
       "BTC vs SP500     0.526344  0.087877\n",
       "BTC vs NASDAQ    0.490430  0.118869\n",
       "SP500 vs NASDAQ  0.932749  0.911174"
      ]
     },
     "execution_count": 216,
     "metadata": {},
     "output_type": "execute_result"
    }
   ],
   "source": [
    "corr_btc_equity = pd.concat(\n",
    "    [\n",
    "        pd.DataFrame(corr_2std),\n",
    "        pd.DataFrame(corr_within)\n",
    "    ], \n",
    "    axis=1\n",
    ")\n",
    "\n",
    "corr_btc_equity = corr_btc_equity.set_index([\n",
    "    pd.Index([\n",
    "        'BTC vs SP500',\n",
    "        'BTC vs NASDAQ',\n",
    "        'SP500 vs NASDAQ'\n",
    "    ])\n",
    "])\n",
    "\n",
    "corr_btc_equity.columns = ['selloff','normal']\n",
    "corr_btc_equity"
   ]
  },
  {
   "cell_type": "code",
   "execution_count": 217,
   "id": "1e993251",
   "metadata": {},
   "outputs": [
    {
     "data": {},
     "metadata": {},
     "output_type": "display_data"
    },
    {
     "data": {
      "application/vnd.holoviews_exec.v0+json": "",
      "text/html": [
       "<div id='15162'>\n",
       "\n",
       "\n",
       "\n",
       "\n",
       "\n",
       "  <div class=\"bk-root\" id=\"d5cef933-a70c-4d7a-9d3d-15203c3ee36e\" data-root-id=\"15162\"></div>\n",
       "</div>\n",
       "<script type=\"application/javascript\">(function(root) {\n",
       "  function embed_document(root) {\n",
       "    var docs_json = {\"ee2b57b3-7d02-409f-8b39-d59c1d62861f\":{\"defs\":[{\"extends\":null,\"module\":null,\"name\":\"ReactiveHTML1\",\"overrides\":[],\"properties\":[]},{\"extends\":null,\"module\":null,\"name\":\"FlexBox1\",\"overrides\":[],\"properties\":[{\"default\":\"flex-start\",\"kind\":null,\"name\":\"align_content\"},{\"default\":\"flex-start\",\"kind\":null,\"name\":\"align_items\"},{\"default\":\"row\",\"kind\":null,\"name\":\"flex_direction\"},{\"default\":\"wrap\",\"kind\":null,\"name\":\"flex_wrap\"},{\"default\":\"flex-start\",\"kind\":null,\"name\":\"justify_content\"}]},{\"extends\":null,\"module\":null,\"name\":\"TemplateActions1\",\"overrides\":[],\"properties\":[{\"default\":0,\"kind\":null,\"name\":\"open_modal\"},{\"default\":0,\"kind\":null,\"name\":\"close_modal\"}]},{\"extends\":null,\"module\":null,\"name\":\"MaterialTemplateActions1\",\"overrides\":[],\"properties\":[{\"default\":0,\"kind\":null,\"name\":\"open_modal\"},{\"default\":0,\"kind\":null,\"name\":\"close_modal\"}]}],\"roots\":{\"references\":[{\"attributes\":{\"axis\":{\"id\":\"15176\"},\"coordinates\":null,\"grid_line_color\":null,\"group\":null,\"ticker\":null},\"id\":\"15178\",\"type\":\"Grid\"},{\"attributes\":{\"axis_label\":\"\",\"coordinates\":null,\"formatter\":{\"id\":\"15209\"},\"group\":null,\"major_label_policy\":{\"id\":\"15210\"},\"ticker\":{\"id\":\"15180\"}},\"id\":\"15179\",\"type\":\"LinearAxis\"},{\"attributes\":{\"fill_alpha\":{\"value\":0.2},\"fill_color\":{\"value\":\"#30a2da\"},\"hatch_alpha\":{\"value\":0.2},\"hatch_color\":{\"value\":\"#30a2da\"},\"line_alpha\":{\"value\":0.2},\"top\":{\"field\":\"selloff\"},\"width\":{\"value\":0.8},\"x\":{\"field\":\"index\"}},\"id\":\"15201\",\"type\":\"VBar\"},{\"attributes\":{},\"id\":\"15180\",\"type\":\"BasicTicker\"},{\"attributes\":{},\"id\":\"15197\",\"type\":\"Selection\"},{\"attributes\":{\"factors\":[\"BTC vs SP500\",\"BTC vs NASDAQ\",\"SP500 vs NASDAQ\"],\"tags\":[[[\"index\",\"index\",null]]]},\"id\":\"15164\",\"type\":\"FactorRange\"},{\"attributes\":{\"margin\":[5,5,5,5],\"name\":\"HSpacer09801\",\"sizing_mode\":\"stretch_width\"},\"id\":\"15231\",\"type\":\"Spacer\"},{\"attributes\":{\"axis\":{\"id\":\"15179\"},\"coordinates\":null,\"dimension\":1,\"grid_line_color\":null,\"group\":null,\"ticker\":null},\"id\":\"15182\",\"type\":\"Grid\"},{\"attributes\":{},\"id\":\"15172\",\"type\":\"CategoricalScale\"},{\"attributes\":{},\"id\":\"15206\",\"type\":\"CategoricalTickFormatter\"},{\"attributes\":{\"callback\":null,\"renderers\":[{\"id\":\"15202\"}],\"tags\":[\"hv_created\"],\"tooltips\":[[\"index\",\"@{index}\"],[\"selloff\",\"@{selloff}\"]]},\"id\":\"15166\",\"type\":\"HoverTool\"},{\"attributes\":{},\"id\":\"15177\",\"type\":\"CategoricalTicker\"},{\"attributes\":{},\"id\":\"15207\",\"type\":\"AllLabels\"},{\"attributes\":{},\"id\":\"15209\",\"type\":\"BasicTickFormatter\"},{\"attributes\":{},\"id\":\"15210\",\"type\":\"AllLabels\"},{\"attributes\":{\"coordinates\":null,\"group\":null,\"text\":\"Correlation between BTC vs SP500 and NASDAQ \\nduring Sell Off Market\",\"text_color\":\"black\",\"text_font_size\":\"12pt\"},\"id\":\"15168\",\"type\":\"Title\"},{\"attributes\":{\"bottom\":{\"value\":0},\"fill_alpha\":{\"value\":1.0},\"fill_color\":{\"value\":\"#30a2da\"},\"hatch_alpha\":{\"value\":1.0},\"hatch_color\":{\"value\":\"#30a2da\"},\"hatch_scale\":{\"value\":12.0},\"hatch_weight\":{\"value\":1.0},\"line_alpha\":{\"value\":1.0},\"line_cap\":{\"value\":\"butt\"},\"line_color\":{\"value\":\"black\"},\"line_dash\":{\"value\":[]},\"line_dash_offset\":{\"value\":0},\"line_join\":{\"value\":\"bevel\"},\"line_width\":{\"value\":1},\"top\":{\"field\":\"selloff\"},\"width\":{\"value\":0.8},\"x\":{\"field\":\"index\"}},\"id\":\"15204\",\"type\":\"VBar\"},{\"attributes\":{},\"id\":\"15183\",\"type\":\"SaveTool\"},{\"attributes\":{},\"id\":\"15218\",\"type\":\"UnionRenderers\"},{\"attributes\":{\"source\":{\"id\":\"15196\"}},\"id\":\"15203\",\"type\":\"CDSView\"},{\"attributes\":{},\"id\":\"15184\",\"type\":\"PanTool\"},{\"attributes\":{\"axis_label\":\"\",\"coordinates\":null,\"formatter\":{\"id\":\"15206\"},\"group\":null,\"major_label_policy\":{\"id\":\"15207\"},\"ticker\":{\"id\":\"15177\"}},\"id\":\"15176\",\"type\":\"CategoricalAxis\"},{\"attributes\":{},\"id\":\"15185\",\"type\":\"WheelZoomTool\"},{\"attributes\":{\"margin\":[5,5,5,5],\"name\":\"HSpacer09800\",\"sizing_mode\":\"stretch_width\"},\"id\":\"15163\",\"type\":\"Spacer\"},{\"attributes\":{\"fill_alpha\":{\"value\":0.1},\"fill_color\":{\"value\":\"#30a2da\"},\"hatch_alpha\":{\"value\":0.1},\"hatch_color\":{\"value\":\"#30a2da\"},\"line_alpha\":{\"value\":0.1},\"top\":{\"field\":\"selloff\"},\"width\":{\"value\":0.8},\"x\":{\"field\":\"index\"}},\"id\":\"15200\",\"type\":\"VBar\"},{\"attributes\":{\"children\":[{\"id\":\"15163\"},{\"id\":\"15167\"},{\"id\":\"15231\"}],\"margin\":[0,0,0,0],\"name\":\"Row09796\",\"tags\":[\"embedded\"]},\"id\":\"15162\",\"type\":\"Row\"},{\"attributes\":{\"overlay\":{\"id\":\"15188\"}},\"id\":\"15186\",\"type\":\"BoxZoomTool\"},{\"attributes\":{\"coordinates\":null,\"data_source\":{\"id\":\"15196\"},\"glyph\":{\"id\":\"15199\"},\"group\":null,\"hover_glyph\":null,\"muted_glyph\":{\"id\":\"15201\"},\"nonselection_glyph\":{\"id\":\"15200\"},\"selection_glyph\":{\"id\":\"15204\"},\"view\":{\"id\":\"15203\"}},\"id\":\"15202\",\"type\":\"GlyphRenderer\"},{\"attributes\":{\"end\":0.9769811270589481,\"reset_end\":0.9769811270589481,\"reset_start\":0.0,\"tags\":[[[\"selloff\",\"selloff\",null]]]},\"id\":\"15165\",\"type\":\"Range1d\"},{\"attributes\":{},\"id\":\"15187\",\"type\":\"ResetTool\"},{\"attributes\":{\"bottom_units\":\"screen\",\"coordinates\":null,\"fill_alpha\":0.5,\"fill_color\":\"lightgrey\",\"group\":null,\"left_units\":\"screen\",\"level\":\"overlay\",\"line_alpha\":1.0,\"line_color\":\"black\",\"line_dash\":[4,4],\"line_width\":2,\"right_units\":\"screen\",\"syncable\":false,\"top_units\":\"screen\"},\"id\":\"15188\",\"type\":\"BoxAnnotation\"},{\"attributes\":{\"below\":[{\"id\":\"15176\"}],\"center\":[{\"id\":\"15178\"},{\"id\":\"15182\"}],\"height\":300,\"left\":[{\"id\":\"15179\"}],\"margin\":[5,5,5,5],\"min_border_bottom\":10,\"min_border_left\":10,\"min_border_right\":10,\"min_border_top\":10,\"renderers\":[{\"id\":\"15202\"}],\"sizing_mode\":\"fixed\",\"title\":{\"id\":\"15168\"},\"toolbar\":{\"id\":\"15189\"},\"width\":500,\"x_range\":{\"id\":\"15164\"},\"x_scale\":{\"id\":\"15172\"},\"y_range\":{\"id\":\"15165\"},\"y_scale\":{\"id\":\"15174\"}},\"id\":\"15167\",\"subtype\":\"Figure\",\"type\":\"Plot\"},{\"attributes\":{\"tools\":[{\"id\":\"15166\"},{\"id\":\"15183\"},{\"id\":\"15184\"},{\"id\":\"15185\"},{\"id\":\"15186\"},{\"id\":\"15187\"}]},\"id\":\"15189\",\"type\":\"Toolbar\"},{\"attributes\":{},\"id\":\"15174\",\"type\":\"LinearScale\"},{\"attributes\":{\"data\":{\"index\":[\"BTC vs SP500\",\"BTC vs NASDAQ\",\"SP500 vs NASDAQ\"],\"selloff\":{\"__ndarray__\":\"CLJni87X4D+QL9zCNWPfPz3OqusU2e0/\",\"dtype\":\"float64\",\"order\":\"little\",\"shape\":[3]}},\"selected\":{\"id\":\"15197\"},\"selection_policy\":{\"id\":\"15218\"}},\"id\":\"15196\",\"type\":\"ColumnDataSource\"},{\"attributes\":{\"fill_color\":{\"value\":\"#30a2da\"},\"hatch_color\":{\"value\":\"#30a2da\"},\"top\":{\"field\":\"selloff\"},\"width\":{\"value\":0.8},\"x\":{\"field\":\"index\"}},\"id\":\"15199\",\"type\":\"VBar\"}],\"root_ids\":[\"15162\"]},\"title\":\"Bokeh Application\",\"version\":\"2.4.1\"}};\n",
       "    var render_items = [{\"docid\":\"ee2b57b3-7d02-409f-8b39-d59c1d62861f\",\"root_ids\":[\"15162\"],\"roots\":{\"15162\":\"d5cef933-a70c-4d7a-9d3d-15203c3ee36e\"}}];\n",
       "    root.Bokeh.embed.embed_items_notebook(docs_json, render_items);\n",
       "  }\n",
       "  if (root.Bokeh !== undefined && root.Bokeh.Panel !== undefined) {\n",
       "    embed_document(root);\n",
       "  } else {\n",
       "    var attempts = 0;\n",
       "    var timer = setInterval(function(root) {\n",
       "      if (root.Bokeh !== undefined && root.Bokeh.Panel !== undefined) {\n",
       "        clearInterval(timer);\n",
       "        embed_document(root);\n",
       "      } else if (document.readyState == \"complete\") {\n",
       "        attempts++;\n",
       "        if (attempts > 200) {\n",
       "          clearInterval(timer);\n",
       "          console.log(\"Bokeh: ERROR: Unable to run BokehJS code because BokehJS library is missing\");\n",
       "        }\n",
       "      }\n",
       "    }, 25, root)\n",
       "  }\n",
       "})(window);</script>"
      ],
      "text/plain": [
       ":Bars   [index]   (selloff)"
      ]
     },
     "execution_count": 217,
     "metadata": {
      "application/vnd.holoviews_exec.v0+json": {
       "id": "15162"
      }
     },
     "output_type": "execute_result"
    }
   ],
   "source": [
    "selloff_chart = create_bar_chart(\n",
    "    corr_btc_equity['selloff'],\n",
    "    'Correlation between BTC vs SP500 and NASDAQ \\nduring Sell Off Market'\n",
    ")\n",
    "\n",
    "selloff_chart"
   ]
  },
  {
   "cell_type": "code",
   "execution_count": 218,
   "id": "3570bdc2",
   "metadata": {},
   "outputs": [
    {
     "data": {},
     "metadata": {},
     "output_type": "display_data"
    },
    {
     "data": {
      "application/vnd.holoviews_exec.v0+json": "",
      "text/html": [
       "<div id='15313'>\n",
       "\n",
       "\n",
       "\n",
       "\n",
       "\n",
       "  <div class=\"bk-root\" id=\"008a06cd-f20a-4f42-a734-8cd1797e09b1\" data-root-id=\"15313\"></div>\n",
       "</div>\n",
       "<script type=\"application/javascript\">(function(root) {\n",
       "  function embed_document(root) {\n",
       "    var docs_json = {\"71e8fc38-294a-4018-9fab-a90e4972778f\":{\"defs\":[{\"extends\":null,\"module\":null,\"name\":\"ReactiveHTML1\",\"overrides\":[],\"properties\":[]},{\"extends\":null,\"module\":null,\"name\":\"FlexBox1\",\"overrides\":[],\"properties\":[{\"default\":\"flex-start\",\"kind\":null,\"name\":\"align_content\"},{\"default\":\"flex-start\",\"kind\":null,\"name\":\"align_items\"},{\"default\":\"row\",\"kind\":null,\"name\":\"flex_direction\"},{\"default\":\"wrap\",\"kind\":null,\"name\":\"flex_wrap\"},{\"default\":\"flex-start\",\"kind\":null,\"name\":\"justify_content\"}]},{\"extends\":null,\"module\":null,\"name\":\"TemplateActions1\",\"overrides\":[],\"properties\":[{\"default\":0,\"kind\":null,\"name\":\"open_modal\"},{\"default\":0,\"kind\":null,\"name\":\"close_modal\"}]},{\"extends\":null,\"module\":null,\"name\":\"MaterialTemplateActions1\",\"overrides\":[],\"properties\":[{\"default\":0,\"kind\":null,\"name\":\"open_modal\"},{\"default\":0,\"kind\":null,\"name\":\"close_modal\"}]}],\"roots\":{\"references\":[{\"attributes\":{\"coordinates\":null,\"data_source\":{\"id\":\"15347\"},\"glyph\":{\"id\":\"15350\"},\"group\":null,\"hover_glyph\":null,\"muted_glyph\":{\"id\":\"15352\"},\"nonselection_glyph\":{\"id\":\"15351\"},\"selection_glyph\":{\"id\":\"15355\"},\"view\":{\"id\":\"15354\"}},\"id\":\"15353\",\"type\":\"GlyphRenderer\"},{\"attributes\":{\"axis\":{\"id\":\"15330\"},\"coordinates\":null,\"dimension\":1,\"grid_line_color\":null,\"group\":null,\"ticker\":null},\"id\":\"15333\",\"type\":\"Grid\"},{\"attributes\":{\"source\":{\"id\":\"15347\"}},\"id\":\"15354\",\"type\":\"CDSView\"},{\"attributes\":{\"end\":0.9935041394240067,\"reset_end\":0.9935041394240067,\"reset_start\":0.0,\"tags\":[[[\"normal\",\"normal\",null]]]},\"id\":\"15316\",\"type\":\"Range1d\"},{\"attributes\":{\"axis\":{\"id\":\"15327\"},\"coordinates\":null,\"grid_line_color\":null,\"group\":null,\"ticker\":null},\"id\":\"15329\",\"type\":\"Grid\"},{\"attributes\":{},\"id\":\"15331\",\"type\":\"BasicTicker\"},{\"attributes\":{\"margin\":[5,5,5,5],\"name\":\"HSpacer09949\",\"sizing_mode\":\"stretch_width\"},\"id\":\"15314\",\"type\":\"Spacer\"},{\"attributes\":{\"axis_label\":\"\",\"coordinates\":null,\"formatter\":{\"id\":\"15360\"},\"group\":null,\"major_label_policy\":{\"id\":\"15361\"},\"ticker\":{\"id\":\"15331\"}},\"id\":\"15330\",\"type\":\"LinearAxis\"},{\"attributes\":{\"factors\":[\"BTC vs SP500\",\"BTC vs NASDAQ\",\"SP500 vs NASDAQ\"],\"tags\":[[[\"index\",\"index\",null]]]},\"id\":\"15315\",\"type\":\"FactorRange\"},{\"attributes\":{},\"id\":\"15348\",\"type\":\"Selection\"},{\"attributes\":{\"fill_alpha\":{\"value\":0.2},\"fill_color\":{\"value\":\"#30a2da\"},\"hatch_alpha\":{\"value\":0.2},\"hatch_color\":{\"value\":\"#30a2da\"},\"line_alpha\":{\"value\":0.2},\"top\":{\"field\":\"normal\"},\"width\":{\"value\":0.8},\"x\":{\"field\":\"index\"}},\"id\":\"15352\",\"type\":\"VBar\"},{\"attributes\":{\"fill_alpha\":{\"value\":0.1},\"fill_color\":{\"value\":\"#30a2da\"},\"hatch_alpha\":{\"value\":0.1},\"hatch_color\":{\"value\":\"#30a2da\"},\"line_alpha\":{\"value\":0.1},\"top\":{\"field\":\"normal\"},\"width\":{\"value\":0.8},\"x\":{\"field\":\"index\"}},\"id\":\"15351\",\"type\":\"VBar\"},{\"attributes\":{},\"id\":\"15357\",\"type\":\"CategoricalTickFormatter\"},{\"attributes\":{},\"id\":\"15369\",\"type\":\"UnionRenderers\"},{\"attributes\":{},\"id\":\"15323\",\"type\":\"CategoricalScale\"},{\"attributes\":{\"children\":[{\"id\":\"15314\"},{\"id\":\"15318\"},{\"id\":\"15382\"}],\"margin\":[0,0,0,0],\"name\":\"Row09945\",\"tags\":[\"embedded\"]},\"id\":\"15313\",\"type\":\"Row\"},{\"attributes\":{\"callback\":null,\"renderers\":[{\"id\":\"15353\"}],\"tags\":[\"hv_created\"],\"tooltips\":[[\"index\",\"@{index}\"],[\"normal\",\"@{normal}\"]]},\"id\":\"15317\",\"type\":\"HoverTool\"},{\"attributes\":{},\"id\":\"15358\",\"type\":\"AllLabels\"},{\"attributes\":{\"data\":{\"index\":[\"BTC vs SP500\",\"BTC vs NASDAQ\",\"SP500 vs NASDAQ\"],\"normal\":{\"__ndarray__\":\"HJWx3SB/tj/26HuJKm6+P/JptUZXKO0/\",\"dtype\":\"float64\",\"order\":\"little\",\"shape\":[3]}},\"selected\":{\"id\":\"15348\"},\"selection_policy\":{\"id\":\"15369\"}},\"id\":\"15347\",\"type\":\"ColumnDataSource\"},{\"attributes\":{\"fill_color\":{\"value\":\"#30a2da\"},\"hatch_color\":{\"value\":\"#30a2da\"},\"top\":{\"field\":\"normal\"},\"width\":{\"value\":0.8},\"x\":{\"field\":\"index\"}},\"id\":\"15350\",\"type\":\"VBar\"},{\"attributes\":{},\"id\":\"15334\",\"type\":\"SaveTool\"},{\"attributes\":{},\"id\":\"15335\",\"type\":\"PanTool\"},{\"attributes\":{\"margin\":[5,5,5,5],\"name\":\"HSpacer09950\",\"sizing_mode\":\"stretch_width\"},\"id\":\"15382\",\"type\":\"Spacer\"},{\"attributes\":{\"below\":[{\"id\":\"15327\"}],\"center\":[{\"id\":\"15329\"},{\"id\":\"15333\"}],\"height\":300,\"left\":[{\"id\":\"15330\"}],\"margin\":[5,5,5,5],\"min_border_bottom\":10,\"min_border_left\":10,\"min_border_right\":10,\"min_border_top\":10,\"renderers\":[{\"id\":\"15353\"}],\"sizing_mode\":\"fixed\",\"title\":{\"id\":\"15319\"},\"toolbar\":{\"id\":\"15340\"},\"width\":500,\"x_range\":{\"id\":\"15315\"},\"x_scale\":{\"id\":\"15323\"},\"y_range\":{\"id\":\"15316\"},\"y_scale\":{\"id\":\"15325\"}},\"id\":\"15318\",\"subtype\":\"Figure\",\"type\":\"Plot\"},{\"attributes\":{},\"id\":\"15336\",\"type\":\"WheelZoomTool\"},{\"attributes\":{\"tools\":[{\"id\":\"15317\"},{\"id\":\"15334\"},{\"id\":\"15335\"},{\"id\":\"15336\"},{\"id\":\"15337\"},{\"id\":\"15338\"}]},\"id\":\"15340\",\"type\":\"Toolbar\"},{\"attributes\":{},\"id\":\"15328\",\"type\":\"CategoricalTicker\"},{\"attributes\":{},\"id\":\"15325\",\"type\":\"LinearScale\"},{\"attributes\":{\"overlay\":{\"id\":\"15339\"}},\"id\":\"15337\",\"type\":\"BoxZoomTool\"},{\"attributes\":{},\"id\":\"15361\",\"type\":\"AllLabels\"},{\"attributes\":{\"bottom\":{\"value\":0},\"fill_alpha\":{\"value\":1.0},\"fill_color\":{\"value\":\"#30a2da\"},\"hatch_alpha\":{\"value\":1.0},\"hatch_color\":{\"value\":\"#30a2da\"},\"hatch_scale\":{\"value\":12.0},\"hatch_weight\":{\"value\":1.0},\"line_alpha\":{\"value\":1.0},\"line_cap\":{\"value\":\"butt\"},\"line_color\":{\"value\":\"black\"},\"line_dash\":{\"value\":[]},\"line_dash_offset\":{\"value\":0},\"line_join\":{\"value\":\"bevel\"},\"line_width\":{\"value\":1},\"top\":{\"field\":\"normal\"},\"width\":{\"value\":0.8},\"x\":{\"field\":\"index\"}},\"id\":\"15355\",\"type\":\"VBar\"},{\"attributes\":{},\"id\":\"15360\",\"type\":\"BasicTickFormatter\"},{\"attributes\":{\"axis_label\":\"\",\"coordinates\":null,\"formatter\":{\"id\":\"15357\"},\"group\":null,\"major_label_policy\":{\"id\":\"15358\"},\"ticker\":{\"id\":\"15328\"}},\"id\":\"15327\",\"type\":\"CategoricalAxis\"},{\"attributes\":{},\"id\":\"15338\",\"type\":\"ResetTool\"},{\"attributes\":{\"bottom_units\":\"screen\",\"coordinates\":null,\"fill_alpha\":0.5,\"fill_color\":\"lightgrey\",\"group\":null,\"left_units\":\"screen\",\"level\":\"overlay\",\"line_alpha\":1.0,\"line_color\":\"black\",\"line_dash\":[4,4],\"line_width\":2,\"right_units\":\"screen\",\"syncable\":false,\"top_units\":\"screen\"},\"id\":\"15339\",\"type\":\"BoxAnnotation\"},{\"attributes\":{\"coordinates\":null,\"group\":null,\"text\":\"Correlation between BTC vs SP500 and NASDAQ \\nduring Normal Market\",\"text_color\":\"black\",\"text_font_size\":\"12pt\"},\"id\":\"15319\",\"type\":\"Title\"}],\"root_ids\":[\"15313\"]},\"title\":\"Bokeh Application\",\"version\":\"2.4.1\"}};\n",
       "    var render_items = [{\"docid\":\"71e8fc38-294a-4018-9fab-a90e4972778f\",\"root_ids\":[\"15313\"],\"roots\":{\"15313\":\"008a06cd-f20a-4f42-a734-8cd1797e09b1\"}}];\n",
       "    root.Bokeh.embed.embed_items_notebook(docs_json, render_items);\n",
       "  }\n",
       "  if (root.Bokeh !== undefined && root.Bokeh.Panel !== undefined) {\n",
       "    embed_document(root);\n",
       "  } else {\n",
       "    var attempts = 0;\n",
       "    var timer = setInterval(function(root) {\n",
       "      if (root.Bokeh !== undefined && root.Bokeh.Panel !== undefined) {\n",
       "        clearInterval(timer);\n",
       "        embed_document(root);\n",
       "      } else if (document.readyState == \"complete\") {\n",
       "        attempts++;\n",
       "        if (attempts > 200) {\n",
       "          clearInterval(timer);\n",
       "          console.log(\"Bokeh: ERROR: Unable to run BokehJS code because BokehJS library is missing\");\n",
       "        }\n",
       "      }\n",
       "    }, 25, root)\n",
       "  }\n",
       "})(window);</script>"
      ],
      "text/plain": [
       ":Bars   [index]   (normal)"
      ]
     },
     "execution_count": 218,
     "metadata": {
      "application/vnd.holoviews_exec.v0+json": {
       "id": "15313"
      }
     },
     "output_type": "execute_result"
    }
   ],
   "source": [
    "normal_chart = create_bar_chart(\n",
    "    corr_btc_equity['normal'],\n",
    "    'Correlation between BTC vs SP500 and NASDAQ \\nduring Normal Market'\n",
    ")\n",
    "\n",
    "normal_chart"
   ]
  },
  {
   "cell_type": "code",
   "execution_count": 219,
   "id": "f5dede8c",
   "metadata": {},
   "outputs": [
    {
     "data": {},
     "metadata": {},
     "output_type": "display_data"
    },
    {
     "data": {},
     "metadata": {},
     "output_type": "display_data"
    },
    {
     "data": {
      "application/vnd.holoviews_exec.v0+json": "",
      "text/html": [
       "<div id='15464'>\n",
       "\n",
       "\n",
       "\n",
       "\n",
       "\n",
       "  <div class=\"bk-root\" id=\"ca6b4a76-aa2f-4f7c-a4ec-53733125637d\" data-root-id=\"15464\"></div>\n",
       "</div>\n",
       "<script type=\"application/javascript\">(function(root) {\n",
       "  function embed_document(root) {\n",
       "    var docs_json = {\"42b03a58-78fb-4af8-b1fa-969e50465331\":{\"defs\":[{\"extends\":null,\"module\":null,\"name\":\"ReactiveHTML1\",\"overrides\":[],\"properties\":[]},{\"extends\":null,\"module\":null,\"name\":\"FlexBox1\",\"overrides\":[],\"properties\":[{\"default\":\"flex-start\",\"kind\":null,\"name\":\"align_content\"},{\"default\":\"flex-start\",\"kind\":null,\"name\":\"align_items\"},{\"default\":\"row\",\"kind\":null,\"name\":\"flex_direction\"},{\"default\":\"wrap\",\"kind\":null,\"name\":\"flex_wrap\"},{\"default\":\"flex-start\",\"kind\":null,\"name\":\"justify_content\"}]},{\"extends\":null,\"module\":null,\"name\":\"TemplateActions1\",\"overrides\":[],\"properties\":[{\"default\":0,\"kind\":null,\"name\":\"open_modal\"},{\"default\":0,\"kind\":null,\"name\":\"close_modal\"}]},{\"extends\":null,\"module\":null,\"name\":\"MaterialTemplateActions1\",\"overrides\":[],\"properties\":[{\"default\":0,\"kind\":null,\"name\":\"open_modal\"},{\"default\":0,\"kind\":null,\"name\":\"close_modal\"}]}],\"roots\":{\"references\":[{\"attributes\":{},\"id\":\"15510\",\"type\":\"BasicTickFormatter\"},{\"attributes\":{\"bottom\":{\"value\":0},\"fill_alpha\":{\"value\":1.0},\"fill_color\":{\"value\":\"#30a2da\"},\"hatch_alpha\":{\"value\":1.0},\"hatch_color\":{\"value\":\"#30a2da\"},\"hatch_scale\":{\"value\":12.0},\"hatch_weight\":{\"value\":1.0},\"line_alpha\":{\"value\":1.0},\"line_cap\":{\"value\":\"butt\"},\"line_color\":{\"value\":\"black\"},\"line_dash\":{\"value\":[]},\"line_dash_offset\":{\"value\":0},\"line_join\":{\"value\":\"bevel\"},\"line_width\":{\"value\":1},\"top\":{\"field\":\"normal\"},\"width\":{\"value\":0.8},\"x\":{\"field\":\"index\"}},\"id\":\"15552\",\"type\":\"VBar\"},{\"attributes\":{},\"id\":\"15508\",\"type\":\"AllLabels\"},{\"attributes\":{},\"id\":\"15557\",\"type\":\"BasicTickFormatter\"},{\"attributes\":{},\"id\":\"15522\",\"type\":\"LinearScale\"},{\"attributes\":{},\"id\":\"15478\",\"type\":\"CategoricalTicker\"},{\"attributes\":{\"below\":[{\"id\":\"15477\"}],\"center\":[{\"id\":\"15479\"},{\"id\":\"15483\"}],\"height\":300,\"left\":[{\"id\":\"15480\"}],\"margin\":null,\"min_border_bottom\":10,\"min_border_left\":10,\"min_border_right\":10,\"min_border_top\":10,\"renderers\":[{\"id\":\"15503\"}],\"sizing_mode\":\"fixed\",\"title\":{\"id\":\"15469\"},\"toolbar\":{\"id\":\"15490\"},\"toolbar_location\":null,\"width\":500,\"x_range\":{\"id\":\"15465\"},\"x_scale\":{\"id\":\"15473\"},\"y_range\":{\"id\":\"15466\"},\"y_scale\":{\"id\":\"15475\"}},\"id\":\"15468\",\"subtype\":\"Figure\",\"type\":\"Plot\"},{\"attributes\":{\"below\":[{\"id\":\"15524\"}],\"center\":[{\"id\":\"15526\"},{\"id\":\"15530\"}],\"height\":300,\"left\":[{\"id\":\"15527\"}],\"margin\":null,\"min_border_bottom\":10,\"min_border_left\":10,\"min_border_right\":10,\"min_border_top\":10,\"renderers\":[{\"id\":\"15550\"}],\"sizing_mode\":\"fixed\",\"title\":{\"id\":\"15516\"},\"toolbar\":{\"id\":\"15537\"},\"toolbar_location\":null,\"width\":500,\"x_range\":{\"id\":\"15465\"},\"x_scale\":{\"id\":\"15520\"},\"y_range\":{\"id\":\"15513\"},\"y_scale\":{\"id\":\"15522\"}},\"id\":\"15515\",\"subtype\":\"Figure\",\"type\":\"Plot\"},{\"attributes\":{\"data\":{\"index\":[\"BTC vs SP500\",\"BTC vs NASDAQ\",\"SP500 vs NASDAQ\"],\"selloff\":{\"__ndarray__\":\"CLJni87X4D+QL9zCNWPfPz3OqusU2e0/\",\"dtype\":\"float64\",\"order\":\"little\",\"shape\":[3]}},\"selected\":{\"id\":\"15498\"},\"selection_policy\":{\"id\":\"15566\"}},\"id\":\"15497\",\"type\":\"ColumnDataSource\"},{\"attributes\":{\"coordinates\":null,\"group\":null,\"text\":\"Correlation between BTC vs SP500 and NASDAQ \\nduring Sell Off Market\",\"text_color\":\"black\",\"text_font_size\":\"12pt\"},\"id\":\"15469\",\"type\":\"Title\"},{\"attributes\":{},\"id\":\"15555\",\"type\":\"AllLabels\"},{\"attributes\":{\"callback\":null,\"renderers\":[{\"id\":\"15550\"}],\"tags\":[\"hv_created\"],\"tooltips\":[[\"index\",\"@{index}\"],[\"normal\",\"@{normal}\"]]},\"id\":\"15514\",\"type\":\"HoverTool\"},{\"attributes\":{},\"id\":\"15554\",\"type\":\"CategoricalTickFormatter\"},{\"attributes\":{\"coordinates\":null,\"data_source\":{\"id\":\"15544\"},\"glyph\":{\"id\":\"15547\"},\"group\":null,\"hover_glyph\":null,\"muted_glyph\":{\"id\":\"15549\"},\"nonselection_glyph\":{\"id\":\"15548\"},\"selection_glyph\":{\"id\":\"15552\"},\"view\":{\"id\":\"15551\"}},\"id\":\"15550\",\"type\":\"GlyphRenderer\"},{\"attributes\":{\"source\":{\"id\":\"15497\"}},\"id\":\"15504\",\"type\":\"CDSView\"},{\"attributes\":{},\"id\":\"15566\",\"type\":\"UnionRenderers\"},{\"attributes\":{\"coordinates\":null,\"data_source\":{\"id\":\"15497\"},\"glyph\":{\"id\":\"15500\"},\"group\":null,\"hover_glyph\":null,\"muted_glyph\":{\"id\":\"15502\"},\"nonselection_glyph\":{\"id\":\"15501\"},\"selection_glyph\":{\"id\":\"15505\"},\"view\":{\"id\":\"15504\"}},\"id\":\"15503\",\"type\":\"GlyphRenderer\"},{\"attributes\":{},\"id\":\"15511\",\"type\":\"AllLabels\"},{\"attributes\":{\"toolbar\":{\"id\":\"15582\"},\"toolbar_location\":\"above\"},\"id\":\"15583\",\"type\":\"ToolbarBox\"},{\"attributes\":{},\"id\":\"15475\",\"type\":\"LinearScale\"},{\"attributes\":{},\"id\":\"15577\",\"type\":\"UnionRenderers\"},{\"attributes\":{},\"id\":\"15558\",\"type\":\"AllLabels\"},{\"attributes\":{\"axis\":{\"id\":\"15480\"},\"coordinates\":null,\"dimension\":1,\"grid_line_color\":null,\"group\":null,\"ticker\":null},\"id\":\"15483\",\"type\":\"Grid\"},{\"attributes\":{\"fill_alpha\":{\"value\":0.2},\"fill_color\":{\"value\":\"#30a2da\"},\"hatch_alpha\":{\"value\":0.2},\"hatch_color\":{\"value\":\"#30a2da\"},\"line_alpha\":{\"value\":0.2},\"top\":{\"field\":\"normal\"},\"width\":{\"value\":0.8},\"x\":{\"field\":\"index\"}},\"id\":\"15549\",\"type\":\"VBar\"},{\"attributes\":{\"factors\":[\"BTC vs SP500\",\"BTC vs NASDAQ\",\"SP500 vs NASDAQ\"],\"tags\":[[[\"index\",\"index\",null]]]},\"id\":\"15465\",\"type\":\"FactorRange\"},{\"attributes\":{\"bottom\":{\"value\":0},\"fill_alpha\":{\"value\":1.0},\"fill_color\":{\"value\":\"#30a2da\"},\"hatch_alpha\":{\"value\":1.0},\"hatch_color\":{\"value\":\"#30a2da\"},\"hatch_scale\":{\"value\":12.0},\"hatch_weight\":{\"value\":1.0},\"line_alpha\":{\"value\":1.0},\"line_cap\":{\"value\":\"butt\"},\"line_color\":{\"value\":\"black\"},\"line_dash\":{\"value\":[]},\"line_dash_offset\":{\"value\":0},\"line_join\":{\"value\":\"bevel\"},\"line_width\":{\"value\":1},\"top\":{\"field\":\"selloff\"},\"width\":{\"value\":0.8},\"x\":{\"field\":\"index\"}},\"id\":\"15505\",\"type\":\"VBar\"},{\"attributes\":{\"callback\":null,\"renderers\":[{\"id\":\"15503\"}],\"tags\":[\"hv_created\"],\"tooltips\":[[\"index\",\"@{index}\"],[\"selloff\",\"@{selloff}\"]]},\"id\":\"15467\",\"type\":\"HoverTool\"},{\"attributes\":{},\"id\":\"15473\",\"type\":\"CategoricalScale\"},{\"attributes\":{\"children\":[{\"id\":\"15583\"},{\"id\":\"15581\"}]},\"id\":\"15584\",\"type\":\"Column\"},{\"attributes\":{\"client_comm_id\":\"52f05a2aa5594b318119b050d7c39f63\",\"comm_id\":\"a7f7cc2e7fb0442b9e893b1d6c26ef4f\",\"plot_id\":\"15464\"},\"id\":\"15885\",\"type\":\"panel.models.comm_manager.CommManager\"},{\"attributes\":{\"axis_label\":\"\",\"coordinates\":null,\"formatter\":{\"id\":\"15507\"},\"group\":null,\"major_label_policy\":{\"id\":\"15508\"},\"ticker\":{\"id\":\"15478\"}},\"id\":\"15477\",\"type\":\"CategoricalAxis\"},{\"attributes\":{\"axis\":{\"id\":\"15527\"},\"coordinates\":null,\"dimension\":1,\"grid_line_color\":null,\"group\":null,\"ticker\":null},\"id\":\"15530\",\"type\":\"Grid\"},{\"attributes\":{},\"id\":\"15498\",\"type\":\"Selection\"},{\"attributes\":{},\"id\":\"15520\",\"type\":\"CategoricalScale\"},{\"attributes\":{\"end\":0.9769811270589481,\"reset_end\":0.9769811270589481,\"reset_start\":0.0,\"tags\":[[[\"selloff\",\"selloff\",null]]]},\"id\":\"15466\",\"type\":\"Range1d\"},{\"attributes\":{\"coordinates\":null,\"group\":null,\"text\":\"Correlation between BTC vs SP500 and NASDAQ \\nduring Normal Market\",\"text_color\":\"black\",\"text_font_size\":\"12pt\"},\"id\":\"15516\",\"type\":\"Title\"},{\"attributes\":{\"axis\":{\"id\":\"15477\"},\"coordinates\":null,\"grid_line_color\":null,\"group\":null,\"ticker\":null},\"id\":\"15479\",\"type\":\"Grid\"},{\"attributes\":{\"children\":[[{\"id\":\"15468\"},0,0],[{\"id\":\"15515\"},0,1]]},\"id\":\"15581\",\"type\":\"GridBox\"},{\"attributes\":{},\"id\":\"15481\",\"type\":\"BasicTicker\"},{\"attributes\":{\"axis_label\":\"\",\"coordinates\":null,\"formatter\":{\"id\":\"15510\"},\"group\":null,\"major_label_policy\":{\"id\":\"15511\"},\"ticker\":{\"id\":\"15481\"}},\"id\":\"15480\",\"type\":\"LinearAxis\"},{\"attributes\":{\"axis_label\":\"\",\"coordinates\":null,\"formatter\":{\"id\":\"15554\"},\"group\":null,\"major_label_policy\":{\"id\":\"15555\"},\"ticker\":{\"id\":\"15525\"}},\"id\":\"15524\",\"type\":\"CategoricalAxis\"},{\"attributes\":{},\"id\":\"15545\",\"type\":\"Selection\"},{\"attributes\":{},\"id\":\"15525\",\"type\":\"CategoricalTicker\"},{\"attributes\":{},\"id\":\"15507\",\"type\":\"CategoricalTickFormatter\"},{\"attributes\":{\"axis\":{\"id\":\"15524\"},\"coordinates\":null,\"grid_line_color\":null,\"group\":null,\"ticker\":null},\"id\":\"15526\",\"type\":\"Grid\"},{\"attributes\":{\"fill_alpha\":{\"value\":0.1},\"fill_color\":{\"value\":\"#30a2da\"},\"hatch_alpha\":{\"value\":0.1},\"hatch_color\":{\"value\":\"#30a2da\"},\"line_alpha\":{\"value\":0.1},\"top\":{\"field\":\"selloff\"},\"width\":{\"value\":0.8},\"x\":{\"field\":\"index\"}},\"id\":\"15501\",\"type\":\"VBar\"},{\"attributes\":{\"fill_alpha\":{\"value\":0.2},\"fill_color\":{\"value\":\"#30a2da\"},\"hatch_alpha\":{\"value\":0.2},\"hatch_color\":{\"value\":\"#30a2da\"},\"line_alpha\":{\"value\":0.2},\"top\":{\"field\":\"selloff\"},\"width\":{\"value\":0.8},\"x\":{\"field\":\"index\"}},\"id\":\"15502\",\"type\":\"VBar\"},{\"attributes\":{},\"id\":\"15528\",\"type\":\"BasicTicker\"},{\"attributes\":{\"axis_label\":\"\",\"coordinates\":null,\"formatter\":{\"id\":\"15557\"},\"group\":null,\"major_label_policy\":{\"id\":\"15558\"},\"ticker\":{\"id\":\"15528\"}},\"id\":\"15527\",\"type\":\"LinearAxis\"},{\"attributes\":{},\"id\":\"15484\",\"type\":\"SaveTool\"},{\"attributes\":{\"toolbars\":[{\"id\":\"15490\"},{\"id\":\"15537\"}],\"tools\":[{\"id\":\"15467\"},{\"id\":\"15484\"},{\"id\":\"15485\"},{\"id\":\"15486\"},{\"id\":\"15487\"},{\"id\":\"15488\"},{\"id\":\"15514\"},{\"id\":\"15531\"},{\"id\":\"15532\"},{\"id\":\"15533\"},{\"id\":\"15534\"},{\"id\":\"15535\"}]},\"id\":\"15582\",\"type\":\"ProxyToolbar\"},{\"attributes\":{},\"id\":\"15485\",\"type\":\"PanTool\"},{\"attributes\":{},\"id\":\"15486\",\"type\":\"WheelZoomTool\"},{\"attributes\":{\"source\":{\"id\":\"15544\"}},\"id\":\"15551\",\"type\":\"CDSView\"},{\"attributes\":{\"tools\":[{\"id\":\"15467\"},{\"id\":\"15484\"},{\"id\":\"15485\"},{\"id\":\"15486\"},{\"id\":\"15487\"},{\"id\":\"15488\"}]},\"id\":\"15490\",\"type\":\"Toolbar\"},{\"attributes\":{\"fill_color\":{\"value\":\"#30a2da\"},\"hatch_color\":{\"value\":\"#30a2da\"},\"top\":{\"field\":\"normal\"},\"width\":{\"value\":0.8},\"x\":{\"field\":\"index\"}},\"id\":\"15547\",\"type\":\"VBar\"},{\"attributes\":{\"overlay\":{\"id\":\"15489\"}},\"id\":\"15487\",\"type\":\"BoxZoomTool\"},{\"attributes\":{\"tools\":[{\"id\":\"15514\"},{\"id\":\"15531\"},{\"id\":\"15532\"},{\"id\":\"15533\"},{\"id\":\"15534\"},{\"id\":\"15535\"}]},\"id\":\"15537\",\"type\":\"Toolbar\"},{\"attributes\":{\"end\":0.9935041394240067,\"reset_end\":0.9935041394240067,\"reset_start\":0.0,\"tags\":[[[\"normal\",\"normal\",null]]]},\"id\":\"15513\",\"type\":\"Range1d\"},{\"attributes\":{},\"id\":\"15531\",\"type\":\"SaveTool\"},{\"attributes\":{},\"id\":\"15532\",\"type\":\"PanTool\"},{\"attributes\":{},\"id\":\"15488\",\"type\":\"ResetTool\"},{\"attributes\":{},\"id\":\"15533\",\"type\":\"WheelZoomTool\"},{\"attributes\":{\"bottom_units\":\"screen\",\"coordinates\":null,\"fill_alpha\":0.5,\"fill_color\":\"lightgrey\",\"group\":null,\"left_units\":\"screen\",\"level\":\"overlay\",\"line_alpha\":1.0,\"line_color\":\"black\",\"line_dash\":[4,4],\"line_width\":2,\"right_units\":\"screen\",\"syncable\":false,\"top_units\":\"screen\"},\"id\":\"15489\",\"type\":\"BoxAnnotation\"},{\"attributes\":{\"overlay\":{\"id\":\"15536\"}},\"id\":\"15534\",\"type\":\"BoxZoomTool\"},{\"attributes\":{\"fill_color\":{\"value\":\"#30a2da\"},\"hatch_color\":{\"value\":\"#30a2da\"},\"top\":{\"field\":\"selloff\"},\"width\":{\"value\":0.8},\"x\":{\"field\":\"index\"}},\"id\":\"15500\",\"type\":\"VBar\"},{\"attributes\":{\"fill_alpha\":{\"value\":0.1},\"fill_color\":{\"value\":\"#30a2da\"},\"hatch_alpha\":{\"value\":0.1},\"hatch_color\":{\"value\":\"#30a2da\"},\"line_alpha\":{\"value\":0.1},\"top\":{\"field\":\"normal\"},\"width\":{\"value\":0.8},\"x\":{\"field\":\"index\"}},\"id\":\"15548\",\"type\":\"VBar\"},{\"attributes\":{\"children\":[{\"id\":\"15584\"}],\"margin\":[0,0,0,0],\"name\":\"Column10027\"},\"id\":\"15464\",\"type\":\"Column\"},{\"attributes\":{\"data\":{\"index\":[\"BTC vs SP500\",\"BTC vs NASDAQ\",\"SP500 vs NASDAQ\"],\"normal\":{\"__ndarray__\":\"HJWx3SB/tj/26HuJKm6+P/JptUZXKO0/\",\"dtype\":\"float64\",\"order\":\"little\",\"shape\":[3]}},\"selected\":{\"id\":\"15545\"},\"selection_policy\":{\"id\":\"15577\"}},\"id\":\"15544\",\"type\":\"ColumnDataSource\"},{\"attributes\":{},\"id\":\"15535\",\"type\":\"ResetTool\"},{\"attributes\":{\"bottom_units\":\"screen\",\"coordinates\":null,\"fill_alpha\":0.5,\"fill_color\":\"lightgrey\",\"group\":null,\"left_units\":\"screen\",\"level\":\"overlay\",\"line_alpha\":1.0,\"line_color\":\"black\",\"line_dash\":[4,4],\"line_width\":2,\"right_units\":\"screen\",\"syncable\":false,\"top_units\":\"screen\"},\"id\":\"15536\",\"type\":\"BoxAnnotation\"}],\"root_ids\":[\"15464\",\"15885\"]},\"title\":\"Bokeh Application\",\"version\":\"2.4.1\"}};\n",
       "    var render_items = [{\"docid\":\"42b03a58-78fb-4af8-b1fa-969e50465331\",\"root_ids\":[\"15464\"],\"roots\":{\"15464\":\"ca6b4a76-aa2f-4f7c-a4ec-53733125637d\"}}];\n",
       "    root.Bokeh.embed.embed_items_notebook(docs_json, render_items);\n",
       "  }\n",
       "  if (root.Bokeh !== undefined && root.Bokeh.Panel !== undefined) {\n",
       "    embed_document(root);\n",
       "  } else {\n",
       "    var attempts = 0;\n",
       "    var timer = setInterval(function(root) {\n",
       "      if (root.Bokeh !== undefined && root.Bokeh.Panel !== undefined) {\n",
       "        clearInterval(timer);\n",
       "        embed_document(root);\n",
       "      } else if (document.readyState == \"complete\") {\n",
       "        attempts++;\n",
       "        if (attempts > 200) {\n",
       "          clearInterval(timer);\n",
       "          console.log(\"Bokeh: ERROR: Unable to run BokehJS code because BokehJS library is missing\");\n",
       "        }\n",
       "      }\n",
       "    }, 25, root)\n",
       "  }\n",
       "})(window);</script>"
      ],
      "text/plain": [
       "Column\n",
       "    [0] HoloViews(Layout)"
      ]
     },
     "execution_count": 219,
     "metadata": {
      "application/vnd.holoviews_exec.v0+json": {
       "id": "15464"
      }
     },
     "output_type": "execute_result"
    }
   ],
   "source": [
    "corr_chart = pn.Column(selloff_chart + normal_chart)\n",
    "corr_chart"
   ]
  },
  {
   "cell_type": "markdown",
   "id": "2d51b65b",
   "metadata": {},
   "source": [
    "# Return and Risk Analysis \n",
    "In this analysis we'd like to examine the risk and return profile of each asset and an equally weighted portfolios of BTC-SP500 and BTC-NASDAQ.\n",
    "The first section of the analysis, we examined the return and the max loss of the assets and portfolios.  We do this by looking at the recent 4 years of return data.  And we use sunburst chart to display the return vs. the max loss for all the assets and portfolios.\n",
    "The second section of the analysis, we used an alternative metric of Sharpe ratio to assess the return for every unit of risk of each assets and portfolios.  We used hvplot to display our results."
   ]
  },
  {
   "cell_type": "code",
   "execution_count": 220,
   "id": "dcf039db",
   "metadata": {},
   "outputs": [],
   "source": [
    "# Manipulate the time series data into data that can be used for sunburst chart\n",
    "\n",
    "# concatenate the BTC, SP, NASD returns with equally wgted portfolios\n",
    "all_assets = pd.concat([pct_change_df, combined_pct_change], axis=1)\n",
    "years = [2019, 2020, 2021, 2022]\n",
    "data_sunburst = pd.DataFrame()\n",
    "years_sunburst = pd.DataFrame()\n",
    "\n",
    "# Loop through the last 4 years\n",
    "for i in years:\n",
    "    \n",
    "    # Calculate the avg ret and min ret for each year\n",
    "    yearly_data = all_assets[all_assets.index.year == i]\n",
    "    yearly_avg = yearly_data.mean()\n",
    "    yearly_min = yearly_data.min()\n",
    "    year_df = pd.DataFrame([i] * len(all_assets.columns))   \n",
    "    data_avg_min = pd.concat([yearly_avg, yearly_min], axis=1)\n",
    "    data_sunburst = data_sunburst.append(data_avg_min)\n",
    "    \n",
    "    # Append each yearly data\n",
    "    years_sunburst = years_sunburst.append(year_df)\n",
    "    \n",
    "data_sunburst.columns = ['avgret', 'minret']\n",
    "data_sunburst['port'] = data_sunburst.index\n",
    "data_sunburst = data_sunburst.reset_index(drop=True)\n",
    "years_sunburst = years_sunburst.reset_index(drop=True) \n",
    "years_sunburst.columns=['year']\n",
    "data_sunburst = pd.concat([data_sunburst,years_sunburst], axis=1)"
   ]
  },
  {
   "cell_type": "code",
   "execution_count": 221,
   "id": "77550b90",
   "metadata": {},
   "outputs": [
    {
     "data": {
      "application/vnd.plotly.v1+json": {
       "config": {
        "plotlyServerURL": "https://plot.ly"
       },
       "data": [
        {
         "branchvalues": "total",
         "customdata": [
          [
           -0.14702574743953378,
           -0.14702574743953378
          ],
          [
           -0.37169538560117077,
           -0.37169538560117077
          ],
          [
           -0.13766122609163733,
           -0.13766122609163733
          ],
          [
           -0.10381165615712483,
           -0.10381165615712483
          ],
          [
           -0.13641903075491646,
           -0.13641903075491646
          ],
          [
           -0.4660421286959826,
           -0.4660421286959826
          ],
          [
           -0.1599362927645065,
           -0.1599362927645065
          ],
          [
           -0.13101944745095173,
           -0.13101944745095173
          ],
          [
           -0.1393534464073456,
           -0.1393534464073456
          ],
          [
           -0.46680806657950735,
           -0.46680806657950735
          ],
          [
           -0.15466685563310334,
           -0.15466685563310334
          ],
          [
           -0.12272647802503345,
           -0.12272647802503345
          ],
          [
           -0.03473605194134943,
           -0.03473605194134943
          ],
          [
           -0.12321331290147408,
           -0.12321331290147408
          ],
          [
           -0.03519202121238085,
           -0.03519202121238085
          ],
          [
           -0.03736623070394007,
           -0.03736623070394007
          ],
          [
           -0.029777820002985896,
           -0.029777820002985896
          ],
          [
           -0.11984055240393443,
           -0.11984055240393443
          ],
          [
           -0.025677883699462,
           -0.025677883699462
          ],
          [
           -0.029518158313449172,
           -0.029518158313449172
          ],
          [
           -0.12410509616233512,
           -0.12410509616233512
          ],
          [
           -0.4064809681664345,
           -0.4064809681664345
          ],
          [
           -0.13462937456720744,
           -0.13462937456720744
          ],
          [
           -0.09638695835683307,
           -0.09638695835683307
          ]
         ],
         "domain": {
          "x": [
           0,
           1
          ],
          "y": [
           0,
           1
          ]
         },
         "hovertemplate": "labels=%{label}<br>avgret=%{value}<br>parent=%{parent}<br>id=%{id}<br>minret=%{color}<extra></extra>",
         "ids": [
          "2019/BTC",
          "2020/BTC",
          "2021/BTC",
          "2022/BTC",
          "2019/BTC-NASDAQ",
          "2020/BTC-NASDAQ",
          "2021/BTC-NASDAQ",
          "2022/BTC-NASDAQ",
          "2019/BTC-SP500",
          "2020/BTC-SP500",
          "2021/BTC-SP500",
          "2022/BTC-SP500",
          "2019/NASDAQ",
          "2020/NASDAQ",
          "2021/NASDAQ",
          "2022/NASDAQ",
          "2019/SP500",
          "2020/SP500",
          "2021/SP500",
          "2022/SP500",
          "2019",
          "2020",
          "2021",
          "2022"
         ],
         "labels": [
          "BTC",
          "BTC",
          "BTC",
          "BTC",
          "BTC-NASDAQ",
          "BTC-NASDAQ",
          "BTC-NASDAQ",
          "BTC-NASDAQ",
          "BTC-SP500",
          "BTC-SP500",
          "BTC-SP500",
          "BTC-SP500",
          "NASDAQ",
          "NASDAQ",
          "NASDAQ",
          "NASDAQ",
          "SP500",
          "SP500",
          "SP500",
          "SP500",
          "2019",
          "2020",
          "2021",
          "2022"
         ],
         "marker": {
          "coloraxis": "coloraxis",
          "colors": [
           -0.14702574743953378,
           -0.37169538560117077,
           -0.13766122609163733,
           -0.10381165615712483,
           -0.13641903075491646,
           -0.4660421286959826,
           -0.1599362927645065,
           -0.13101944745095173,
           -0.1393534464073456,
           -0.46680806657950735,
           -0.15466685563310334,
           -0.12272647802503345,
           -0.03473605194134943,
           -0.12321331290147408,
           -0.03519202121238085,
           -0.03736623070394007,
           -0.029777820002985896,
           -0.11984055240393443,
           -0.025677883699462,
           -0.029518158313449172,
           -0.12410509616233512,
           -0.4064809681664345,
           -0.13462937456720744,
           -0.09638695835683307
          ]
         },
         "name": "",
         "parents": [
          "2019",
          "2020",
          "2021",
          "2022",
          "2019",
          "2020",
          "2021",
          "2022",
          "2019",
          "2020",
          "2021",
          "2022",
          "2019",
          "2020",
          "2021",
          "2022",
          "2019",
          "2020",
          "2021",
          "2022",
          "",
          "",
          "",
          ""
         ],
         "type": "sunburst",
         "values": [
          0.003529104144616806,
          0.006640323632724496,
          0.0030778277863814803,
          -0.0013408681036107416,
          0.004775898651530864,
          0.008324579190616578,
          0.003911501069486135,
          -0.0033574167610480074,
          0.004567151269203426,
          0.007472490330944973,
          0.004057349526694966,
          -0.0023902549198867662,
          0.0012467945069140542,
          0.0016842555578920814,
          0.0008336732831046542,
          -0.002016548657437266,
          0.0010380471245866197,
          0.0008321666982204781,
          0.0009795217403134877,
          -0.0010493868162760244,
          0.01515699569685177,
          0.024953815410398608,
          0.012859873405980724,
          -0.010154475258258806
         ]
        }
       ],
       "layout": {
        "coloraxis": {
         "colorbar": {
          "title": {
           "text": "minret"
          }
         },
         "colorscale": [
          [
           0,
           "rgb(103,0,31)"
          ],
          [
           0.1,
           "rgb(178,24,43)"
          ],
          [
           0.2,
           "rgb(214,96,77)"
          ],
          [
           0.3,
           "rgb(244,165,130)"
          ],
          [
           0.4,
           "rgb(253,219,199)"
          ],
          [
           0.5,
           "rgb(247,247,247)"
          ],
          [
           0.6,
           "rgb(209,229,240)"
          ],
          [
           0.7,
           "rgb(146,197,222)"
          ],
          [
           0.8,
           "rgb(67,147,195)"
          ],
          [
           0.9,
           "rgb(33,102,172)"
          ],
          [
           1,
           "rgb(5,48,97)"
          ]
         ]
        },
        "legend": {
         "tracegroupgap": 0
        },
        "margin": {
         "t": 60
        },
        "template": {
         "data": {
          "bar": [
           {
            "error_x": {
             "color": "#2a3f5f"
            },
            "error_y": {
             "color": "#2a3f5f"
            },
            "marker": {
             "line": {
              "color": "#E5ECF6",
              "width": 0.5
             },
             "pattern": {
              "fillmode": "overlay",
              "size": 10,
              "solidity": 0.2
             }
            },
            "type": "bar"
           }
          ],
          "barpolar": [
           {
            "marker": {
             "line": {
              "color": "#E5ECF6",
              "width": 0.5
             },
             "pattern": {
              "fillmode": "overlay",
              "size": 10,
              "solidity": 0.2
             }
            },
            "type": "barpolar"
           }
          ],
          "carpet": [
           {
            "aaxis": {
             "endlinecolor": "#2a3f5f",
             "gridcolor": "white",
             "linecolor": "white",
             "minorgridcolor": "white",
             "startlinecolor": "#2a3f5f"
            },
            "baxis": {
             "endlinecolor": "#2a3f5f",
             "gridcolor": "white",
             "linecolor": "white",
             "minorgridcolor": "white",
             "startlinecolor": "#2a3f5f"
            },
            "type": "carpet"
           }
          ],
          "choropleth": [
           {
            "colorbar": {
             "outlinewidth": 0,
             "ticks": ""
            },
            "type": "choropleth"
           }
          ],
          "contour": [
           {
            "colorbar": {
             "outlinewidth": 0,
             "ticks": ""
            },
            "colorscale": [
             [
              0,
              "#0d0887"
             ],
             [
              0.1111111111111111,
              "#46039f"
             ],
             [
              0.2222222222222222,
              "#7201a8"
             ],
             [
              0.3333333333333333,
              "#9c179e"
             ],
             [
              0.4444444444444444,
              "#bd3786"
             ],
             [
              0.5555555555555556,
              "#d8576b"
             ],
             [
              0.6666666666666666,
              "#ed7953"
             ],
             [
              0.7777777777777778,
              "#fb9f3a"
             ],
             [
              0.8888888888888888,
              "#fdca26"
             ],
             [
              1,
              "#f0f921"
             ]
            ],
            "type": "contour"
           }
          ],
          "contourcarpet": [
           {
            "colorbar": {
             "outlinewidth": 0,
             "ticks": ""
            },
            "type": "contourcarpet"
           }
          ],
          "heatmap": [
           {
            "colorbar": {
             "outlinewidth": 0,
             "ticks": ""
            },
            "colorscale": [
             [
              0,
              "#0d0887"
             ],
             [
              0.1111111111111111,
              "#46039f"
             ],
             [
              0.2222222222222222,
              "#7201a8"
             ],
             [
              0.3333333333333333,
              "#9c179e"
             ],
             [
              0.4444444444444444,
              "#bd3786"
             ],
             [
              0.5555555555555556,
              "#d8576b"
             ],
             [
              0.6666666666666666,
              "#ed7953"
             ],
             [
              0.7777777777777778,
              "#fb9f3a"
             ],
             [
              0.8888888888888888,
              "#fdca26"
             ],
             [
              1,
              "#f0f921"
             ]
            ],
            "type": "heatmap"
           }
          ],
          "heatmapgl": [
           {
            "colorbar": {
             "outlinewidth": 0,
             "ticks": ""
            },
            "colorscale": [
             [
              0,
              "#0d0887"
             ],
             [
              0.1111111111111111,
              "#46039f"
             ],
             [
              0.2222222222222222,
              "#7201a8"
             ],
             [
              0.3333333333333333,
              "#9c179e"
             ],
             [
              0.4444444444444444,
              "#bd3786"
             ],
             [
              0.5555555555555556,
              "#d8576b"
             ],
             [
              0.6666666666666666,
              "#ed7953"
             ],
             [
              0.7777777777777778,
              "#fb9f3a"
             ],
             [
              0.8888888888888888,
              "#fdca26"
             ],
             [
              1,
              "#f0f921"
             ]
            ],
            "type": "heatmapgl"
           }
          ],
          "histogram": [
           {
            "marker": {
             "pattern": {
              "fillmode": "overlay",
              "size": 10,
              "solidity": 0.2
             }
            },
            "type": "histogram"
           }
          ],
          "histogram2d": [
           {
            "colorbar": {
             "outlinewidth": 0,
             "ticks": ""
            },
            "colorscale": [
             [
              0,
              "#0d0887"
             ],
             [
              0.1111111111111111,
              "#46039f"
             ],
             [
              0.2222222222222222,
              "#7201a8"
             ],
             [
              0.3333333333333333,
              "#9c179e"
             ],
             [
              0.4444444444444444,
              "#bd3786"
             ],
             [
              0.5555555555555556,
              "#d8576b"
             ],
             [
              0.6666666666666666,
              "#ed7953"
             ],
             [
              0.7777777777777778,
              "#fb9f3a"
             ],
             [
              0.8888888888888888,
              "#fdca26"
             ],
             [
              1,
              "#f0f921"
             ]
            ],
            "type": "histogram2d"
           }
          ],
          "histogram2dcontour": [
           {
            "colorbar": {
             "outlinewidth": 0,
             "ticks": ""
            },
            "colorscale": [
             [
              0,
              "#0d0887"
             ],
             [
              0.1111111111111111,
              "#46039f"
             ],
             [
              0.2222222222222222,
              "#7201a8"
             ],
             [
              0.3333333333333333,
              "#9c179e"
             ],
             [
              0.4444444444444444,
              "#bd3786"
             ],
             [
              0.5555555555555556,
              "#d8576b"
             ],
             [
              0.6666666666666666,
              "#ed7953"
             ],
             [
              0.7777777777777778,
              "#fb9f3a"
             ],
             [
              0.8888888888888888,
              "#fdca26"
             ],
             [
              1,
              "#f0f921"
             ]
            ],
            "type": "histogram2dcontour"
           }
          ],
          "mesh3d": [
           {
            "colorbar": {
             "outlinewidth": 0,
             "ticks": ""
            },
            "type": "mesh3d"
           }
          ],
          "parcoords": [
           {
            "line": {
             "colorbar": {
              "outlinewidth": 0,
              "ticks": ""
             }
            },
            "type": "parcoords"
           }
          ],
          "pie": [
           {
            "automargin": true,
            "type": "pie"
           }
          ],
          "scatter": [
           {
            "marker": {
             "colorbar": {
              "outlinewidth": 0,
              "ticks": ""
             }
            },
            "type": "scatter"
           }
          ],
          "scatter3d": [
           {
            "line": {
             "colorbar": {
              "outlinewidth": 0,
              "ticks": ""
             }
            },
            "marker": {
             "colorbar": {
              "outlinewidth": 0,
              "ticks": ""
             }
            },
            "type": "scatter3d"
           }
          ],
          "scattercarpet": [
           {
            "marker": {
             "colorbar": {
              "outlinewidth": 0,
              "ticks": ""
             }
            },
            "type": "scattercarpet"
           }
          ],
          "scattergeo": [
           {
            "marker": {
             "colorbar": {
              "outlinewidth": 0,
              "ticks": ""
             }
            },
            "type": "scattergeo"
           }
          ],
          "scattergl": [
           {
            "marker": {
             "colorbar": {
              "outlinewidth": 0,
              "ticks": ""
             }
            },
            "type": "scattergl"
           }
          ],
          "scattermapbox": [
           {
            "marker": {
             "colorbar": {
              "outlinewidth": 0,
              "ticks": ""
             }
            },
            "type": "scattermapbox"
           }
          ],
          "scatterpolar": [
           {
            "marker": {
             "colorbar": {
              "outlinewidth": 0,
              "ticks": ""
             }
            },
            "type": "scatterpolar"
           }
          ],
          "scatterpolargl": [
           {
            "marker": {
             "colorbar": {
              "outlinewidth": 0,
              "ticks": ""
             }
            },
            "type": "scatterpolargl"
           }
          ],
          "scatterternary": [
           {
            "marker": {
             "colorbar": {
              "outlinewidth": 0,
              "ticks": ""
             }
            },
            "type": "scatterternary"
           }
          ],
          "surface": [
           {
            "colorbar": {
             "outlinewidth": 0,
             "ticks": ""
            },
            "colorscale": [
             [
              0,
              "#0d0887"
             ],
             [
              0.1111111111111111,
              "#46039f"
             ],
             [
              0.2222222222222222,
              "#7201a8"
             ],
             [
              0.3333333333333333,
              "#9c179e"
             ],
             [
              0.4444444444444444,
              "#bd3786"
             ],
             [
              0.5555555555555556,
              "#d8576b"
             ],
             [
              0.6666666666666666,
              "#ed7953"
             ],
             [
              0.7777777777777778,
              "#fb9f3a"
             ],
             [
              0.8888888888888888,
              "#fdca26"
             ],
             [
              1,
              "#f0f921"
             ]
            ],
            "type": "surface"
           }
          ],
          "table": [
           {
            "cells": {
             "fill": {
              "color": "#EBF0F8"
             },
             "line": {
              "color": "white"
             }
            },
            "header": {
             "fill": {
              "color": "#C8D4E3"
             },
             "line": {
              "color": "white"
             }
            },
            "type": "table"
           }
          ]
         },
         "layout": {
          "annotationdefaults": {
           "arrowcolor": "#2a3f5f",
           "arrowhead": 0,
           "arrowwidth": 1
          },
          "autotypenumbers": "strict",
          "coloraxis": {
           "colorbar": {
            "outlinewidth": 0,
            "ticks": ""
           }
          },
          "colorscale": {
           "diverging": [
            [
             0,
             "#8e0152"
            ],
            [
             0.1,
             "#c51b7d"
            ],
            [
             0.2,
             "#de77ae"
            ],
            [
             0.3,
             "#f1b6da"
            ],
            [
             0.4,
             "#fde0ef"
            ],
            [
             0.5,
             "#f7f7f7"
            ],
            [
             0.6,
             "#e6f5d0"
            ],
            [
             0.7,
             "#b8e186"
            ],
            [
             0.8,
             "#7fbc41"
            ],
            [
             0.9,
             "#4d9221"
            ],
            [
             1,
             "#276419"
            ]
           ],
           "sequential": [
            [
             0,
             "#0d0887"
            ],
            [
             0.1111111111111111,
             "#46039f"
            ],
            [
             0.2222222222222222,
             "#7201a8"
            ],
            [
             0.3333333333333333,
             "#9c179e"
            ],
            [
             0.4444444444444444,
             "#bd3786"
            ],
            [
             0.5555555555555556,
             "#d8576b"
            ],
            [
             0.6666666666666666,
             "#ed7953"
            ],
            [
             0.7777777777777778,
             "#fb9f3a"
            ],
            [
             0.8888888888888888,
             "#fdca26"
            ],
            [
             1,
             "#f0f921"
            ]
           ],
           "sequentialminus": [
            [
             0,
             "#0d0887"
            ],
            [
             0.1111111111111111,
             "#46039f"
            ],
            [
             0.2222222222222222,
             "#7201a8"
            ],
            [
             0.3333333333333333,
             "#9c179e"
            ],
            [
             0.4444444444444444,
             "#bd3786"
            ],
            [
             0.5555555555555556,
             "#d8576b"
            ],
            [
             0.6666666666666666,
             "#ed7953"
            ],
            [
             0.7777777777777778,
             "#fb9f3a"
            ],
            [
             0.8888888888888888,
             "#fdca26"
            ],
            [
             1,
             "#f0f921"
            ]
           ]
          },
          "colorway": [
           "#636efa",
           "#EF553B",
           "#00cc96",
           "#ab63fa",
           "#FFA15A",
           "#19d3f3",
           "#FF6692",
           "#B6E880",
           "#FF97FF",
           "#FECB52"
          ],
          "font": {
           "color": "#2a3f5f"
          },
          "geo": {
           "bgcolor": "white",
           "lakecolor": "white",
           "landcolor": "#E5ECF6",
           "showlakes": true,
           "showland": true,
           "subunitcolor": "white"
          },
          "hoverlabel": {
           "align": "left"
          },
          "hovermode": "closest",
          "mapbox": {
           "style": "light"
          },
          "paper_bgcolor": "white",
          "plot_bgcolor": "#E5ECF6",
          "polar": {
           "angularaxis": {
            "gridcolor": "white",
            "linecolor": "white",
            "ticks": ""
           },
           "bgcolor": "#E5ECF6",
           "radialaxis": {
            "gridcolor": "white",
            "linecolor": "white",
            "ticks": ""
           }
          },
          "scene": {
           "xaxis": {
            "backgroundcolor": "#E5ECF6",
            "gridcolor": "white",
            "gridwidth": 2,
            "linecolor": "white",
            "showbackground": true,
            "ticks": "",
            "zerolinecolor": "white"
           },
           "yaxis": {
            "backgroundcolor": "#E5ECF6",
            "gridcolor": "white",
            "gridwidth": 2,
            "linecolor": "white",
            "showbackground": true,
            "ticks": "",
            "zerolinecolor": "white"
           },
           "zaxis": {
            "backgroundcolor": "#E5ECF6",
            "gridcolor": "white",
            "gridwidth": 2,
            "linecolor": "white",
            "showbackground": true,
            "ticks": "",
            "zerolinecolor": "white"
           }
          },
          "shapedefaults": {
           "line": {
            "color": "#2a3f5f"
           }
          },
          "ternary": {
           "aaxis": {
            "gridcolor": "white",
            "linecolor": "white",
            "ticks": ""
           },
           "baxis": {
            "gridcolor": "white",
            "linecolor": "white",
            "ticks": ""
           },
           "bgcolor": "#E5ECF6",
           "caxis": {
            "gridcolor": "white",
            "linecolor": "white",
            "ticks": ""
           }
          },
          "title": {
           "x": 0.05
          },
          "xaxis": {
           "automargin": true,
           "gridcolor": "white",
           "linecolor": "white",
           "ticks": "",
           "title": {
            "standoff": 15
           },
           "zerolinecolor": "white",
           "zerolinewidth": 2
          },
          "yaxis": {
           "automargin": true,
           "gridcolor": "white",
           "linecolor": "white",
           "ticks": "",
           "title": {
            "standoff": 15
           },
           "zerolinecolor": "white",
           "zerolinewidth": 2
          }
         }
        }
       }
      }
     },
     "metadata": {},
     "output_type": "display_data"
    }
   ],
   "source": [
    "# Create sunburst chart\n",
    "retmxloss_chart = px.sunburst(\n",
    "    data_sunburst, \n",
    "    path=['year', 'port'], \n",
    "    values='avgret',\n",
    "    color='minret', \n",
    "    color_continuous_scale='RdBu',\n",
    "    hover_data=['minret'],\n",
    ")\n",
    "\n",
    "retmxloss_chart.show()"
   ]
  },
  {
   "cell_type": "markdown",
   "id": "cc025f2f",
   "metadata": {},
   "source": [
    "### Sharpe results\n",
    "Sharpe for BTC and the equally weighted outperformed both SP500 and NASDAQ.\n",
    "Dispite high volatility of BTC and the portfolios, their return compensated for every unit of risk superior to SP500 and NASDAQ"
   ]
  },
  {
   "cell_type": "code",
   "execution_count": 222,
   "id": "5949e57e",
   "metadata": {},
   "outputs": [],
   "source": [
    "# annualized return, risk and sharpe for individual assets for whole history\n",
    "all_pct_change = pd.concat([pct_change_df, combined_pct_change], axis=1)\n",
    "ann_ret = all_pct_change.mean() * 252\n",
    "ann_std = all_pct_change.std() * np.sqrt(252)\n",
    "ann_sharpe = ann_ret / ann_std"
   ]
  },
  {
   "cell_type": "code",
   "execution_count": 226,
   "id": "44f1af53",
   "metadata": {},
   "outputs": [
    {
     "data": {},
     "metadata": {},
     "output_type": "display_data"
    },
    {
     "data": {
      "application/vnd.holoviews_exec.v0+json": "",
      "text/html": [
       "<div id='16913'>\n",
       "\n",
       "\n",
       "\n",
       "\n",
       "\n",
       "  <div class=\"bk-root\" id=\"e4a008d9-3e82-46e7-9aac-af3d75477d06\" data-root-id=\"16913\"></div>\n",
       "</div>\n",
       "<script type=\"application/javascript\">(function(root) {\n",
       "  function embed_document(root) {\n",
       "    var docs_json = {\"78db5a67-f731-4cab-846c-783c160a528a\":{\"defs\":[{\"extends\":null,\"module\":null,\"name\":\"ReactiveHTML1\",\"overrides\":[],\"properties\":[]},{\"extends\":null,\"module\":null,\"name\":\"FlexBox1\",\"overrides\":[],\"properties\":[{\"default\":\"flex-start\",\"kind\":null,\"name\":\"align_content\"},{\"default\":\"flex-start\",\"kind\":null,\"name\":\"align_items\"},{\"default\":\"row\",\"kind\":null,\"name\":\"flex_direction\"},{\"default\":\"wrap\",\"kind\":null,\"name\":\"flex_wrap\"},{\"default\":\"flex-start\",\"kind\":null,\"name\":\"justify_content\"}]},{\"extends\":null,\"module\":null,\"name\":\"TemplateActions1\",\"overrides\":[],\"properties\":[{\"default\":0,\"kind\":null,\"name\":\"open_modal\"},{\"default\":0,\"kind\":null,\"name\":\"close_modal\"}]},{\"extends\":null,\"module\":null,\"name\":\"MaterialTemplateActions1\",\"overrides\":[],\"properties\":[{\"default\":0,\"kind\":null,\"name\":\"open_modal\"},{\"default\":0,\"kind\":null,\"name\":\"close_modal\"}]}],\"roots\":{\"references\":[{\"attributes\":{},\"id\":\"16923\",\"type\":\"CategoricalScale\"},{\"attributes\":{},\"id\":\"16938\",\"type\":\"ResetTool\"},{\"attributes\":{\"callback\":null,\"renderers\":[{\"id\":\"16953\"}],\"tags\":[\"hv_created\"],\"tooltips\":[[\"index\",\"@{index}\"],[\"0\",\"@{A_0}\"]]},\"id\":\"16917\",\"type\":\"HoverTool\"},{\"attributes\":{\"margin\":[5,5,5,5],\"name\":\"HSpacer10784\",\"sizing_mode\":\"stretch_width\"},\"id\":\"16982\",\"type\":\"Spacer\"},{\"attributes\":{\"axis_label\":\"\",\"coordinates\":null,\"formatter\":{\"id\":\"16960\"},\"group\":null,\"major_label_policy\":{\"id\":\"16961\"},\"ticker\":{\"id\":\"16931\"}},\"id\":\"16930\",\"type\":\"LinearAxis\"},{\"attributes\":{},\"id\":\"16931\",\"type\":\"BasicTicker\"},{\"attributes\":{\"bottom_units\":\"screen\",\"coordinates\":null,\"fill_alpha\":0.5,\"fill_color\":\"lightgrey\",\"group\":null,\"left_units\":\"screen\",\"level\":\"overlay\",\"line_alpha\":1.0,\"line_color\":\"black\",\"line_dash\":[4,4],\"line_width\":2,\"right_units\":\"screen\",\"syncable\":false,\"top_units\":\"screen\"},\"id\":\"16939\",\"type\":\"BoxAnnotation\"},{\"attributes\":{\"bottom\":{\"value\":0},\"fill_alpha\":{\"value\":1.0},\"fill_color\":{\"value\":\"#30a2da\"},\"hatch_alpha\":{\"value\":1.0},\"hatch_color\":{\"value\":\"#30a2da\"},\"hatch_scale\":{\"value\":12.0},\"hatch_weight\":{\"value\":1.0},\"line_alpha\":{\"value\":1.0},\"line_cap\":{\"value\":\"butt\"},\"line_color\":{\"value\":\"black\"},\"line_dash\":{\"value\":[]},\"line_dash_offset\":{\"value\":0},\"line_join\":{\"value\":\"bevel\"},\"line_width\":{\"value\":1},\"top\":{\"field\":\"A_0\"},\"width\":{\"value\":0.8},\"x\":{\"field\":\"index\"}},\"id\":\"16955\",\"type\":\"VBar\"},{\"attributes\":{\"children\":[{\"id\":\"16914\"},{\"id\":\"16918\"},{\"id\":\"16982\"}],\"margin\":[0,0,0,0],\"name\":\"Row10779\",\"tags\":[\"embedded\"]},\"id\":\"16913\",\"type\":\"Row\"},{\"attributes\":{\"fill_alpha\":{\"value\":0.2},\"fill_color\":{\"value\":\"#30a2da\"},\"hatch_alpha\":{\"value\":0.2},\"hatch_color\":{\"value\":\"#30a2da\"},\"line_alpha\":{\"value\":0.2},\"top\":{\"field\":\"A_0\"},\"width\":{\"value\":0.8},\"x\":{\"field\":\"index\"}},\"id\":\"16952\",\"type\":\"VBar\"},{\"attributes\":{},\"id\":\"16960\",\"type\":\"BasicTickFormatter\"},{\"attributes\":{},\"id\":\"16957\",\"type\":\"CategoricalTickFormatter\"},{\"attributes\":{\"end\":1.3527243125254254,\"reset_end\":1.3527243125254254,\"reset_start\":0.0,\"tags\":[[[\"0\",\"0\",null]]]},\"id\":\"16916\",\"type\":\"Range1d\"},{\"attributes\":{\"source\":{\"id\":\"16947\"}},\"id\":\"16954\",\"type\":\"CDSView\"},{\"attributes\":{\"tools\":[{\"id\":\"16917\"},{\"id\":\"16934\"},{\"id\":\"16935\"},{\"id\":\"16936\"},{\"id\":\"16937\"},{\"id\":\"16938\"}]},\"id\":\"16940\",\"type\":\"Toolbar\"},{\"attributes\":{},\"id\":\"16969\",\"type\":\"UnionRenderers\"},{\"attributes\":{\"axis\":{\"id\":\"16930\"},\"coordinates\":null,\"dimension\":1,\"grid_line_color\":null,\"group\":null,\"ticker\":null},\"id\":\"16933\",\"type\":\"Grid\"},{\"attributes\":{},\"id\":\"16958\",\"type\":\"AllLabels\"},{\"attributes\":{\"below\":[{\"id\":\"16927\"}],\"center\":[{\"id\":\"16929\"},{\"id\":\"16933\"}],\"height\":300,\"left\":[{\"id\":\"16930\"}],\"margin\":[5,5,5,5],\"min_border_bottom\":10,\"min_border_left\":10,\"min_border_right\":10,\"min_border_top\":10,\"renderers\":[{\"id\":\"16953\"}],\"sizing_mode\":\"fixed\",\"title\":{\"id\":\"16919\"},\"toolbar\":{\"id\":\"16940\"},\"width\":500,\"x_range\":{\"id\":\"16915\"},\"x_scale\":{\"id\":\"16923\"},\"y_range\":{\"id\":\"16916\"},\"y_scale\":{\"id\":\"16925\"}},\"id\":\"16918\",\"subtype\":\"Figure\",\"type\":\"Plot\"},{\"attributes\":{},\"id\":\"16961\",\"type\":\"AllLabels\"},{\"attributes\":{\"margin\":[5,5,5,5],\"name\":\"HSpacer10783\",\"sizing_mode\":\"stretch_width\"},\"id\":\"16914\",\"type\":\"Spacer\"},{\"attributes\":{\"fill_color\":{\"value\":\"#30a2da\"},\"hatch_color\":{\"value\":\"#30a2da\"},\"top\":{\"field\":\"A_0\"},\"width\":{\"value\":0.8},\"x\":{\"field\":\"index\"}},\"id\":\"16950\",\"type\":\"VBar\"},{\"attributes\":{\"fill_alpha\":{\"value\":0.1},\"fill_color\":{\"value\":\"#30a2da\"},\"hatch_alpha\":{\"value\":0.1},\"hatch_color\":{\"value\":\"#30a2da\"},\"line_alpha\":{\"value\":0.1},\"top\":{\"field\":\"A_0\"},\"width\":{\"value\":0.8},\"x\":{\"field\":\"index\"}},\"id\":\"16951\",\"type\":\"VBar\"},{\"attributes\":{\"coordinates\":null,\"group\":null,\"text\":\"Annualized Sharpe Ratio for each assets and portfolios\",\"text_color\":\"black\",\"text_font_size\":\"12pt\"},\"id\":\"16919\",\"type\":\"Title\"},{\"attributes\":{\"axis_label\":\"\",\"coordinates\":null,\"formatter\":{\"id\":\"16957\"},\"group\":null,\"major_label_policy\":{\"id\":\"16958\"},\"ticker\":{\"id\":\"16928\"}},\"id\":\"16927\",\"type\":\"CategoricalAxis\"},{\"attributes\":{},\"id\":\"16925\",\"type\":\"LinearScale\"},{\"attributes\":{\"overlay\":{\"id\":\"16939\"}},\"id\":\"16937\",\"type\":\"BoxZoomTool\"},{\"attributes\":{},\"id\":\"16928\",\"type\":\"CategoricalTicker\"},{\"attributes\":{\"factors\":[\"BTC\",\"SP500\",\"NASDAQ\",\"BTC-SP500\",\"BTC-NASDAQ\"],\"tags\":[[[\"index\",\"index\",null]]]},\"id\":\"16915\",\"type\":\"FactorRange\"},{\"attributes\":{},\"id\":\"16935\",\"type\":\"PanTool\"},{\"attributes\":{},\"id\":\"16948\",\"type\":\"Selection\"},{\"attributes\":{\"data\":{\"A_0\":{\"__ndarray__\":\"Mm+EGlvY8j/vnh+bhmflP8n8EVcBSOk/wDgOG9Ue9D9soXtvH6b0Pw==\",\"dtype\":\"float64\",\"order\":\"little\",\"shape\":[5]},\"index\":[\"BTC\",\"SP500\",\"NASDAQ\",\"BTC-SP500\",\"BTC-NASDAQ\"]},\"selected\":{\"id\":\"16948\"},\"selection_policy\":{\"id\":\"16969\"}},\"id\":\"16947\",\"type\":\"ColumnDataSource\"},{\"attributes\":{},\"id\":\"16934\",\"type\":\"SaveTool\"},{\"attributes\":{},\"id\":\"16936\",\"type\":\"WheelZoomTool\"},{\"attributes\":{\"coordinates\":null,\"data_source\":{\"id\":\"16947\"},\"glyph\":{\"id\":\"16950\"},\"group\":null,\"hover_glyph\":null,\"muted_glyph\":{\"id\":\"16952\"},\"nonselection_glyph\":{\"id\":\"16951\"},\"selection_glyph\":{\"id\":\"16955\"},\"view\":{\"id\":\"16954\"}},\"id\":\"16953\",\"type\":\"GlyphRenderer\"},{\"attributes\":{\"axis\":{\"id\":\"16927\"},\"coordinates\":null,\"grid_line_color\":null,\"group\":null,\"ticker\":null},\"id\":\"16929\",\"type\":\"Grid\"}],\"root_ids\":[\"16913\"]},\"title\":\"Bokeh Application\",\"version\":\"2.4.1\"}};\n",
       "    var render_items = [{\"docid\":\"78db5a67-f731-4cab-846c-783c160a528a\",\"root_ids\":[\"16913\"],\"roots\":{\"16913\":\"e4a008d9-3e82-46e7-9aac-af3d75477d06\"}}];\n",
       "    root.Bokeh.embed.embed_items_notebook(docs_json, render_items);\n",
       "  }\n",
       "  if (root.Bokeh !== undefined && root.Bokeh.Panel !== undefined) {\n",
       "    embed_document(root);\n",
       "  } else {\n",
       "    var attempts = 0;\n",
       "    var timer = setInterval(function(root) {\n",
       "      if (root.Bokeh !== undefined && root.Bokeh.Panel !== undefined) {\n",
       "        clearInterval(timer);\n",
       "        embed_document(root);\n",
       "      } else if (document.readyState == \"complete\") {\n",
       "        attempts++;\n",
       "        if (attempts > 200) {\n",
       "          clearInterval(timer);\n",
       "          console.log(\"Bokeh: ERROR: Unable to run BokehJS code because BokehJS library is missing\");\n",
       "        }\n",
       "      }\n",
       "    }, 25, root)\n",
       "  }\n",
       "})(window);</script>"
      ],
      "text/plain": [
       ":Bars   [index]   (0)"
      ]
     },
     "execution_count": 226,
     "metadata": {
      "application/vnd.holoviews_exec.v0+json": {
       "id": "16913"
      }
     },
     "output_type": "execute_result"
    }
   ],
   "source": [
    "# Create bar chart to disply the annualized sharpe ratios\n",
    "sharpe_bar_chart = create_bar_chart(ann_sharpe,'Annualized Sharpe Ratio for each assets and portfolios')\n",
    "sharpe_bar_chart"
   ]
  },
  {
   "cell_type": "code",
   "execution_count": 225,
   "id": "658a322b",
   "metadata": {},
   "outputs": [
    {
     "data": {},
     "metadata": {},
     "output_type": "display_data"
    },
    {
     "data": {},
     "metadata": {},
     "output_type": "display_data"
    },
    {
     "data": {
      "application/vnd.holoviews_exec.v0+json": "",
      "text/html": [
       "<div id='16137'>\n",
       "\n",
       "\n",
       "\n",
       "\n",
       "\n",
       "  <div class=\"bk-root\" id=\"bb1965b7-9df1-4114-a47e-5e933b067438\" data-root-id=\"16137\"></div>\n",
       "</div>\n",
       "<script type=\"application/javascript\">(function(root) {\n",
       "  function embed_document(root) {\n",
       "    var docs_json = {\"761cad04-9eb9-4966-b038-29d88bc3c5f5\":{\"defs\":[{\"extends\":null,\"module\":null,\"name\":\"ReactiveHTML1\",\"overrides\":[],\"properties\":[]},{\"extends\":null,\"module\":null,\"name\":\"FlexBox1\",\"overrides\":[],\"properties\":[{\"default\":\"flex-start\",\"kind\":null,\"name\":\"align_content\"},{\"default\":\"flex-start\",\"kind\":null,\"name\":\"align_items\"},{\"default\":\"row\",\"kind\":null,\"name\":\"flex_direction\"},{\"default\":\"wrap\",\"kind\":null,\"name\":\"flex_wrap\"},{\"default\":\"flex-start\",\"kind\":null,\"name\":\"justify_content\"}]},{\"extends\":null,\"module\":null,\"name\":\"TemplateActions1\",\"overrides\":[],\"properties\":[{\"default\":0,\"kind\":null,\"name\":\"open_modal\"},{\"default\":0,\"kind\":null,\"name\":\"close_modal\"}]},{\"extends\":null,\"module\":null,\"name\":\"MaterialTemplateActions1\",\"overrides\":[],\"properties\":[{\"default\":0,\"kind\":null,\"name\":\"open_modal\"},{\"default\":0,\"kind\":null,\"name\":\"close_modal\"}]}],\"roots\":{\"references\":[{\"attributes\":{},\"id\":\"16159\",\"type\":\"WheelZoomTool\"},{\"attributes\":{\"coordinates\":null,\"data_source\":{\"id\":\"16289\"},\"glyph\":{\"id\":\"16292\"},\"group\":null,\"hover_glyph\":null,\"muted_glyph\":{\"id\":\"16294\"},\"nonselection_glyph\":{\"id\":\"16293\"},\"selection_glyph\":{\"id\":\"16297\"},\"view\":{\"id\":\"16296\"}},\"id\":\"16295\",\"type\":\"GlyphRenderer\"},{\"attributes\":{\"axis\":{\"id\":\"16272\"},\"coordinates\":null,\"dimension\":1,\"grid_line_color\":null,\"group\":null,\"ticker\":null},\"id\":\"16275\",\"type\":\"Grid\"},{\"attributes\":{\"overlay\":{\"id\":\"16162\"}},\"id\":\"16160\",\"type\":\"BoxZoomTool\"},{\"attributes\":{\"axis\":{\"id\":\"16269\"},\"coordinates\":null,\"grid_line_color\":null,\"group\":null,\"ticker\":null},\"id\":\"16271\",\"type\":\"Grid\"},{\"attributes\":{\"bottom\":{\"value\":0},\"fill_alpha\":{\"value\":1.0},\"fill_color\":{\"value\":\"#30a2da\"},\"hatch_alpha\":{\"value\":1.0},\"hatch_color\":{\"value\":\"#30a2da\"},\"hatch_scale\":{\"value\":12.0},\"hatch_weight\":{\"value\":1.0},\"line_alpha\":{\"value\":1.0},\"line_cap\":{\"value\":\"butt\"},\"line_color\":{\"value\":\"black\"},\"line_dash\":{\"value\":[]},\"line_dash_offset\":{\"value\":0},\"line_join\":{\"value\":\"bevel\"},\"line_width\":{\"value\":1},\"top\":{\"field\":\"A_0\"},\"width\":{\"value\":0.8},\"x\":{\"field\":\"index\"}},\"id\":\"16178\",\"type\":\"VBar\"},{\"attributes\":{\"children\":[[{\"id\":\"16213\"},0,0],[{\"id\":\"16260\"},0,1]]},\"id\":\"16326\",\"type\":\"GridBox\"},{\"attributes\":{},\"id\":\"16280\",\"type\":\"ResetTool\"},{\"attributes\":{},\"id\":\"16220\",\"type\":\"LinearScale\"},{\"attributes\":{},\"id\":\"16161\",\"type\":\"ResetTool\"},{\"attributes\":{\"child\":{\"id\":\"16511\"},\"name\":\"Row10404\",\"title\":\"Return distribution\"},\"id\":\"16514\",\"type\":\"Panel\"},{\"attributes\":{\"child\":{\"id\":\"16141\"},\"name\":\"BTC - Equity Diversifier\",\"title\":\"BTC - Equity Diversifier\"},\"id\":\"16205\",\"type\":\"Panel\"},{\"attributes\":{\"args\":{\"model\":{\"id\":\"16207\"}},\"code\":\"try { model.visibility = (cb_obj.active == 1); } catch { }\",\"tags\":[\"plotly_tab_fix16207\"]},\"id\":\"16687\",\"type\":\"CustomJS\"},{\"attributes\":{\"below\":[{\"id\":\"16222\"}],\"center\":[{\"id\":\"16224\"},{\"id\":\"16228\"}],\"height\":300,\"left\":[{\"id\":\"16225\"}],\"margin\":null,\"min_border_bottom\":10,\"min_border_left\":10,\"min_border_right\":10,\"min_border_top\":10,\"renderers\":[{\"id\":\"16248\"}],\"sizing_mode\":\"fixed\",\"title\":{\"id\":\"16214\"},\"toolbar\":{\"id\":\"16235\"},\"toolbar_location\":null,\"width\":500,\"x_range\":{\"id\":\"16138\"},\"x_scale\":{\"id\":\"16218\"},\"y_range\":{\"id\":\"16211\"},\"y_scale\":{\"id\":\"16220\"}},\"id\":\"16213\",\"subtype\":\"Figure\",\"type\":\"Plot\"},{\"attributes\":{\"bottom_units\":\"screen\",\"coordinates\":null,\"fill_alpha\":0.5,\"fill_color\":\"lightgrey\",\"group\":null,\"left_units\":\"screen\",\"level\":\"overlay\",\"line_alpha\":1.0,\"line_color\":\"black\",\"line_dash\":[4,4],\"line_width\":2,\"right_units\":\"screen\",\"syncable\":false,\"top_units\":\"screen\"},\"id\":\"16281\",\"type\":\"BoxAnnotation\"},{\"attributes\":{\"bottom_units\":\"screen\",\"coordinates\":null,\"fill_alpha\":0.5,\"fill_color\":\"lightgrey\",\"group\":null,\"left_units\":\"screen\",\"level\":\"overlay\",\"line_alpha\":1.0,\"line_color\":\"black\",\"line_dash\":[4,4],\"line_width\":2,\"right_units\":\"screen\",\"syncable\":false,\"top_units\":\"screen\"},\"id\":\"16162\",\"type\":\"BoxAnnotation\"},{\"attributes\":{},\"id\":\"16183\",\"type\":\"BasicTickFormatter\"},{\"attributes\":{},\"id\":\"16302\",\"type\":\"BasicTickFormatter\"},{\"attributes\":{\"axis_label\":\"\",\"coordinates\":null,\"formatter\":{\"id\":\"16252\"},\"group\":null,\"major_label_policy\":{\"id\":\"16253\"},\"ticker\":{\"id\":\"16223\"}},\"id\":\"16222\",\"type\":\"CategoricalAxis\"},{\"attributes\":{\"axis\":{\"id\":\"16225\"},\"coordinates\":null,\"dimension\":1,\"grid_line_color\":null,\"group\":null,\"ticker\":null},\"id\":\"16228\",\"type\":\"Grid\"},{\"attributes\":{\"data\":{\"index\":[\"BTC vs SP500\",\"BTC vs NASDAQ\",\"SP500 vs NASDAQ\"],\"normal\":{\"__ndarray__\":\"HJWx3SB/tj/26HuJKm6+P/JptUZXKO0/\",\"dtype\":\"float64\",\"order\":\"little\",\"shape\":[3]}},\"selected\":{\"id\":\"16290\"},\"selection_policy\":{\"id\":\"16322\"}},\"id\":\"16289\",\"type\":\"ColumnDataSource\"},{\"attributes\":{},\"id\":\"16181\",\"type\":\"AllLabels\"},{\"attributes\":{\"toolbar\":{\"id\":\"16327\"},\"toolbar_location\":\"above\"},\"id\":\"16328\",\"type\":\"ToolbarBox\"},{\"attributes\":{},\"id\":\"16270\",\"type\":\"CategoricalTicker\"},{\"attributes\":{\"child\":{\"id\":\"16207\"},\"name\":\"Returns vs. Max Loss\",\"title\":\"Returns vs. Max Loss\"},\"id\":\"16208\",\"type\":\"Panel\"},{\"attributes\":{\"children\":[{\"id\":\"16329\"}],\"margin\":[0,0,0,0],\"name\":\"Column10027\"},\"id\":\"16209\",\"type\":\"Column\"},{\"attributes\":{\"coordinates\":null,\"group\":null,\"text\":\"Correlation between BTC vs SP500 and NASDAQ \\nduring Sell Off Market\",\"text_color\":\"black\",\"text_font_size\":\"12pt\"},\"id\":\"16214\",\"type\":\"Title\"},{\"attributes\":{\"fill_alpha\":{\"value\":0.2},\"fill_color\":{\"value\":\"#30a2da\"},\"hatch_alpha\":{\"value\":0.2},\"hatch_color\":{\"value\":\"#30a2da\"},\"line_alpha\":{\"value\":0.2},\"top\":{\"field\":\"normal\"},\"width\":{\"value\":0.8},\"x\":{\"field\":\"index\"}},\"id\":\"16294\",\"type\":\"VBar\"},{\"attributes\":{\"factors\":[\"BTC\",\"SP500\",\"NASDAQ\",\"BTC-SP500\",\"BTC-NASDAQ\",\"BTC vs SP500\",\"BTC vs NASDAQ\",\"SP500 vs NASDAQ\"],\"tags\":[[[\"index\",\"index\",null]]]},\"id\":\"16138\",\"type\":\"FactorRange\"},{\"attributes\":{},\"id\":\"16223\",\"type\":\"CategoricalTicker\"},{\"attributes\":{\"callback\":null,\"renderers\":[{\"id\":\"16176\"}],\"tags\":[\"hv_created\"],\"tooltips\":[[\"index\",\"@{index}\"],[\"0\",\"@{A_0}\"]]},\"id\":\"16140\",\"type\":\"HoverTool\"},{\"attributes\":{},\"id\":\"16277\",\"type\":\"PanTool\"},{\"attributes\":{\"axis\":{\"id\":\"16222\"},\"coordinates\":null,\"grid_line_color\":null,\"group\":null,\"ticker\":null},\"id\":\"16224\",\"type\":\"Grid\"},{\"attributes\":{\"source\":{\"id\":\"16289\"}},\"id\":\"16296\",\"type\":\"CDSView\"},{\"attributes\":{\"coordinates\":null,\"data_source\":{\"id\":\"16242\"},\"glyph\":{\"id\":\"16245\"},\"group\":null,\"hover_glyph\":null,\"muted_glyph\":{\"id\":\"16247\"},\"nonselection_glyph\":{\"id\":\"16246\"},\"selection_glyph\":{\"id\":\"16250\"},\"view\":{\"id\":\"16249\"}},\"id\":\"16248\",\"type\":\"GlyphRenderer\"},{\"attributes\":{},\"id\":\"16226\",\"type\":\"BasicTicker\"},{\"attributes\":{\"children\":[{\"id\":\"16512\"},{\"id\":\"16513\"}],\"margin\":[0,0,0,0],\"name\":\"Row10404\"},\"id\":\"16511\",\"type\":\"Row\"},{\"attributes\":{},\"id\":\"16192\",\"type\":\"UnionRenderers\"},{\"attributes\":{\"toolbars\":[{\"id\":\"16235\"},{\"id\":\"16282\"}],\"tools\":[{\"id\":\"16212\"},{\"id\":\"16229\"},{\"id\":\"16230\"},{\"id\":\"16231\"},{\"id\":\"16232\"},{\"id\":\"16233\"},{\"id\":\"16259\"},{\"id\":\"16276\"},{\"id\":\"16277\"},{\"id\":\"16278\"},{\"id\":\"16279\"},{\"id\":\"16280\"}]},\"id\":\"16327\",\"type\":\"ProxyToolbar\"},{\"attributes\":{\"axis_label\":\"\",\"coordinates\":null,\"formatter\":{\"id\":\"16255\"},\"group\":null,\"major_label_policy\":{\"id\":\"16256\"},\"ticker\":{\"id\":\"16226\"}},\"id\":\"16225\",\"type\":\"LinearAxis\"},{\"attributes\":{\"data\":{\"index\":[\"BTC vs SP500\",\"BTC vs NASDAQ\",\"SP500 vs NASDAQ\"],\"selloff\":{\"__ndarray__\":\"CLJni87X4D+QL9zCNWPfPz3OqusU2e0/\",\"dtype\":\"float64\",\"order\":\"little\",\"shape\":[3]}},\"selected\":{\"id\":\"16243\"},\"selection_policy\":{\"id\":\"16311\"}},\"id\":\"16242\",\"type\":\"ColumnDataSource\"},{\"attributes\":{\"callback\":null,\"renderers\":[{\"id\":\"16295\"}],\"tags\":[\"hv_created\"],\"tooltips\":[[\"index\",\"@{index}\"],[\"normal\",\"@{normal}\"]]},\"id\":\"16259\",\"type\":\"HoverTool\"},{\"attributes\":{\"fill_alpha\":{\"value\":0.1},\"fill_color\":{\"value\":\"#30a2da\"},\"hatch_alpha\":{\"value\":0.1},\"hatch_color\":{\"value\":\"#30a2da\"},\"line_alpha\":{\"value\":0.1},\"top\":{\"field\":\"selloff\"},\"width\":{\"value\":0.8},\"x\":{\"field\":\"index\"}},\"id\":\"16246\",\"type\":\"VBar\"},{\"attributes\":{},\"id\":\"16229\",\"type\":\"SaveTool\"},{\"attributes\":{},\"id\":\"16180\",\"type\":\"CategoricalTickFormatter\"},{\"attributes\":{},\"id\":\"16146\",\"type\":\"CategoricalScale\"},{\"attributes\":{},\"id\":\"16243\",\"type\":\"Selection\"},{\"attributes\":{},\"id\":\"16230\",\"type\":\"PanTool\"},{\"attributes\":{},\"id\":\"16276\",\"type\":\"SaveTool\"},{\"attributes\":{\"fill_color\":{\"value\":\"#30a2da\"},\"hatch_color\":{\"value\":\"#30a2da\"},\"top\":{\"field\":\"A_0\"},\"width\":{\"value\":0.8},\"x\":{\"field\":\"index\"}},\"id\":\"16173\",\"type\":\"VBar\"},{\"attributes\":{},\"id\":\"16290\",\"type\":\"Selection\"},{\"attributes\":{\"coordinates\":null,\"group\":null,\"text\":\"Annualized Sharpe Ratio for each assets and portfolios\",\"text_color\":\"black\",\"text_font_size\":\"12pt\"},\"id\":\"16142\",\"type\":\"Title\"},{\"attributes\":{},\"id\":\"16231\",\"type\":\"WheelZoomTool\"},{\"attributes\":{\"tools\":[{\"id\":\"16212\"},{\"id\":\"16229\"},{\"id\":\"16230\"},{\"id\":\"16231\"},{\"id\":\"16232\"},{\"id\":\"16233\"}]},\"id\":\"16235\",\"type\":\"Toolbar\"},{\"attributes\":{\"children\":[{\"id\":\"16328\"},{\"id\":\"16326\"}]},\"id\":\"16329\",\"type\":\"Column\"},{\"attributes\":{},\"id\":\"16184\",\"type\":\"AllLabels\"},{\"attributes\":{\"below\":[{\"id\":\"16150\"}],\"center\":[{\"id\":\"16152\"},{\"id\":\"16156\"}],\"height\":300,\"left\":[{\"id\":\"16153\"}],\"margin\":[5,5,5,5],\"min_border_bottom\":10,\"min_border_left\":10,\"min_border_right\":10,\"min_border_top\":10,\"renderers\":[{\"id\":\"16176\"}],\"sizing_mode\":\"fixed\",\"title\":{\"id\":\"16142\"},\"toolbar\":{\"id\":\"16163\"},\"width\":500,\"x_range\":{\"id\":\"16138\"},\"x_scale\":{\"id\":\"16146\"},\"y_range\":{\"id\":\"16139\"},\"y_scale\":{\"id\":\"16148\"}},\"id\":\"16141\",\"subtype\":\"Figure\",\"type\":\"Plot\"},{\"attributes\":{\"end\":1.3527243125254254,\"reset_end\":1.3527243125254254,\"reset_start\":0.0,\"tags\":[[[\"0\",\"0\",null]]]},\"id\":\"16139\",\"type\":\"Range1d\"},{\"attributes\":{\"data\":{\"customdata\":[{\"__ndarray__\":\"yBx2XL3Rwr/IHHZcvdHCv/bKTnHbyde/9spOcdvJ17/80/4P4p7Bv/zT/g/insG/V3EjlGaTur9XcSOUZpO6vzB70sUtdsG/MHvSxS12wb+QrVNdotPdv5CtU12i092/EPtu3cp4xL8Q+27dynjEv9SN+Mg+xcC/1I34yD7FwL+gxHNvVdbBv6DEc29V1sG/TPPd8C7g3b9M893wLuDdvxQTXJ8fzMO/FBNcnx/Mw78ghXihAGu/vyCFeKEAa7+/8BYpfuzIob/wFil+7MihvzD5V13oir+/MPlXXeiKv7+g519IsASiv6DnX0iwBKK/EEmypaoho78QSbKlqiGjvz9qPKwTfp6/P2o8rBN+nr+YOU/V3q2+v5g5T9Xerb6/APTgmk1Lmr8A9OCaTUuav0CuYBICOp6/QK5gEgI6nr8Av0gBWsW/vwC/SAFaxb+/AykuwMgD2r8DKS7AyAPav3NtbAyJO8G/c21sDIk7wb+PTOfR0Ky4v49M59HQrLi/\",\"dtype\":\"float64\",\"order\":\"little\",\"shape\":[24,2]}],\"ids\":[[\"2019/BTC\",\"2020/BTC\",\"2021/BTC\",\"2022/BTC\",\"2019/BTC-NASDAQ\",\"2020/BTC-NASDAQ\",\"2021/BTC-NASDAQ\",\"2022/BTC-NASDAQ\",\"2019/BTC-SP500\",\"2020/BTC-SP500\",\"2021/BTC-SP500\",\"2022/BTC-SP500\",\"2019/NASDAQ\",\"2020/NASDAQ\",\"2021/NASDAQ\",\"2022/NASDAQ\",\"2019/SP500\",\"2020/SP500\",\"2021/SP500\",\"2022/SP500\",\"2019\",\"2020\",\"2021\",\"2022\"]],\"labels\":[[\"BTC\",\"BTC\",\"BTC\",\"BTC\",\"BTC-NASDAQ\",\"BTC-NASDAQ\",\"BTC-NASDAQ\",\"BTC-NASDAQ\",\"BTC-SP500\",\"BTC-SP500\",\"BTC-SP500\",\"BTC-SP500\",\"NASDAQ\",\"NASDAQ\",\"NASDAQ\",\"NASDAQ\",\"SP500\",\"SP500\",\"SP500\",\"SP500\",\"2019\",\"2020\",\"2021\",\"2022\"]],\"marker.colors\":[{\"__ndarray__\":\"yBx2XL3Rwr/2yk5x28nXv/zT/g/insG/V3EjlGaTur8we9LFLXbBv5CtU12i092/EPtu3cp4xL/UjfjIPsXAv6DEc29V1sG/TPPd8C7g3b8UE1yfH8zDvyCFeKEAa7+/8BYpfuzIob8w+Vdd6Iq/v6DnX0iwBKK/EEmypaoho78/ajysE36ev5g5T9Xerb6/APTgmk1Lmr9ArmASAjqevwC/SAFaxb+/AykuwMgD2r9zbWwMiTvBv49M59HQrLi/\",\"dtype\":\"float64\",\"order\":\"little\",\"shape\":[24]}],\"parents\":[[\"2019\",\"2020\",\"2021\",\"2022\",\"2019\",\"2020\",\"2021\",\"2022\",\"2019\",\"2020\",\"2021\",\"2022\",\"2019\",\"2020\",\"2021\",\"2022\",\"2019\",\"2020\",\"2021\",\"2022\",\"\",\"\",\"\",\"\"]],\"values\":[{\"__ndarray__\":\"129UXBHpbD+KBWZN4jJ7P2Nk7TWsNmk/R/nOKQL4Vb+nAUeI5I9zP4FmAxt6DIE/DlW/koEFcD+H/gFmA4Frvz3RZFUBtXI/ahV1WXmbfj9P12h4cJ5wPxJ1uFa6lGO/3SZzaG9tVD/cHYOiR5hbP98WRb5bUUs/5IEaUQKFYL9DZeqc4gFRPw1/eGC4REs/fpTIdWkMUD/c8KGDcjFRv+y2loahCo8/1G9kNH6NmT9F06z9RlaKP6RaI5ney4S/\",\"dtype\":\"float64\",\"order\":\"little\",\"shape\":[24]}]},\"selected\":{\"id\":\"16523\"},\"selection_policy\":{\"id\":\"16522\"}},\"id\":\"16206\",\"type\":\"ColumnDataSource\"},{\"attributes\":{\"callback\":null,\"renderers\":[{\"id\":\"16248\"}],\"tags\":[\"hv_created\"],\"tooltips\":[[\"index\",\"@{index}\"],[\"selloff\",\"@{selloff}\"]]},\"id\":\"16212\",\"type\":\"HoverTool\"},{\"attributes\":{\"source\":{\"id\":\"16242\"}},\"id\":\"16249\",\"type\":\"CDSView\"},{\"attributes\":{\"below\":[{\"id\":\"16269\"}],\"center\":[{\"id\":\"16271\"},{\"id\":\"16275\"}],\"height\":300,\"left\":[{\"id\":\"16272\"}],\"margin\":null,\"min_border_bottom\":10,\"min_border_left\":10,\"min_border_right\":10,\"min_border_top\":10,\"renderers\":[{\"id\":\"16295\"}],\"sizing_mode\":\"fixed\",\"title\":{\"id\":\"16261\"},\"toolbar\":{\"id\":\"16282\"},\"toolbar_location\":null,\"width\":500,\"x_range\":{\"id\":\"16138\"},\"x_scale\":{\"id\":\"16265\"},\"y_range\":{\"id\":\"16258\"},\"y_scale\":{\"id\":\"16267\"}},\"id\":\"16260\",\"subtype\":\"Figure\",\"type\":\"Plot\"},{\"attributes\":{\"bottom\":{\"value\":0},\"fill_alpha\":{\"value\":1.0},\"fill_color\":{\"value\":\"#30a2da\"},\"hatch_alpha\":{\"value\":1.0},\"hatch_color\":{\"value\":\"#30a2da\"},\"hatch_scale\":{\"value\":12.0},\"hatch_weight\":{\"value\":1.0},\"line_alpha\":{\"value\":1.0},\"line_cap\":{\"value\":\"butt\"},\"line_color\":{\"value\":\"black\"},\"line_dash\":{\"value\":[]},\"line_dash_offset\":{\"value\":0},\"line_join\":{\"value\":\"bevel\"},\"line_width\":{\"value\":1},\"top\":{\"field\":\"selloff\"},\"width\":{\"value\":0.8},\"x\":{\"field\":\"index\"}},\"id\":\"16250\",\"type\":\"VBar\"},{\"attributes\":{\"overlay\":{\"id\":\"16234\"}},\"id\":\"16232\",\"type\":\"BoxZoomTool\"},{\"attributes\":{\"fill_alpha\":{\"value\":0.1},\"fill_color\":{\"value\":\"#30a2da\"},\"hatch_alpha\":{\"value\":0.1},\"hatch_color\":{\"value\":\"#30a2da\"},\"line_alpha\":{\"value\":0.1},\"top\":{\"field\":\"normal\"},\"width\":{\"value\":0.8},\"x\":{\"field\":\"index\"}},\"id\":\"16293\",\"type\":\"VBar\"},{\"attributes\":{\"axis_label\":\"\",\"coordinates\":null,\"formatter\":{\"id\":\"16180\"},\"group\":null,\"major_label_policy\":{\"id\":\"16181\"},\"ticker\":{\"id\":\"16151\"}},\"id\":\"16150\",\"type\":\"CategoricalAxis\"},{\"attributes\":{},\"id\":\"16253\",\"type\":\"AllLabels\"},{\"attributes\":{\"coordinates\":null,\"data_source\":{\"id\":\"16170\"},\"glyph\":{\"id\":\"16173\"},\"group\":null,\"hover_glyph\":null,\"muted_glyph\":{\"id\":\"16175\"},\"nonselection_glyph\":{\"id\":\"16174\"},\"selection_glyph\":{\"id\":\"16178\"},\"view\":{\"id\":\"16177\"}},\"id\":\"16176\",\"type\":\"GlyphRenderer\"},{\"attributes\":{\"fill_color\":{\"value\":\"#30a2da\"},\"hatch_color\":{\"value\":\"#30a2da\"},\"top\":{\"field\":\"normal\"},\"width\":{\"value\":0.8},\"x\":{\"field\":\"index\"}},\"id\":\"16292\",\"type\":\"VBar\"},{\"attributes\":{\"margin\":[5,5,5,5],\"name\":\"Str10400\",\"text\":\"&lt;pre&gt; &lt;/pre&gt;\"},\"id\":\"16512\",\"type\":\"panel.models.markup.HTML\"},{\"attributes\":{},\"id\":\"16233\",\"type\":\"ResetTool\"},{\"attributes\":{},\"id\":\"16265\",\"type\":\"CategoricalScale\"},{\"attributes\":{\"data\":{\"A_0\":{\"__ndarray__\":\"Mm+EGlvY8j/vnh+bhmflP8n8EVcBSOk/wDgOG9Ue9D9soXtvH6b0Pw==\",\"dtype\":\"float64\",\"order\":\"little\",\"shape\":[5]},\"index\":[\"BTC\",\"SP500\",\"NASDAQ\",\"BTC-SP500\",\"BTC-NASDAQ\"]},\"selected\":{\"id\":\"16171\"},\"selection_policy\":{\"id\":\"16192\"}},\"id\":\"16170\",\"type\":\"ColumnDataSource\"},{\"attributes\":{\"axis_label\":\"\",\"coordinates\":null,\"formatter\":{\"id\":\"16299\"},\"group\":null,\"major_label_policy\":{\"id\":\"16300\"},\"ticker\":{\"id\":\"16270\"}},\"id\":\"16269\",\"type\":\"CategoricalAxis\"},{\"attributes\":{\"bottom_units\":\"screen\",\"coordinates\":null,\"fill_alpha\":0.5,\"fill_color\":\"lightgrey\",\"group\":null,\"left_units\":\"screen\",\"level\":\"overlay\",\"line_alpha\":1.0,\"line_color\":\"black\",\"line_dash\":[4,4],\"line_width\":2,\"right_units\":\"screen\",\"syncable\":false,\"top_units\":\"screen\"},\"id\":\"16234\",\"type\":\"BoxAnnotation\"},{\"attributes\":{},\"id\":\"16148\",\"type\":\"LinearScale\"},{\"attributes\":{\"client_comm_id\":\"6266e87f076e475fb2ba7449900a4e32\",\"comm_id\":\"3726ad1dc904487fb2496eae7081b840\",\"plot_id\":\"16137\"},\"id\":\"16752\",\"type\":\"panel.models.comm_manager.CommManager\"},{\"attributes\":{},\"id\":\"16522\",\"type\":\"UnionRenderers\"},{\"attributes\":{},\"id\":\"16252\",\"type\":\"CategoricalTickFormatter\"},{\"attributes\":{},\"id\":\"16151\",\"type\":\"CategoricalTicker\"},{\"attributes\":{},\"id\":\"16267\",\"type\":\"LinearScale\"},{\"attributes\":{\"bottom\":{\"value\":0},\"fill_alpha\":{\"value\":1.0},\"fill_color\":{\"value\":\"#30a2da\"},\"hatch_alpha\":{\"value\":1.0},\"hatch_color\":{\"value\":\"#30a2da\"},\"hatch_scale\":{\"value\":12.0},\"hatch_weight\":{\"value\":1.0},\"line_alpha\":{\"value\":1.0},\"line_cap\":{\"value\":\"butt\"},\"line_color\":{\"value\":\"black\"},\"line_dash\":{\"value\":[]},\"line_dash_offset\":{\"value\":0},\"line_join\":{\"value\":\"bevel\"},\"line_width\":{\"value\":1},\"top\":{\"field\":\"normal\"},\"width\":{\"value\":0.8},\"x\":{\"field\":\"index\"}},\"id\":\"16297\",\"type\":\"VBar\"},{\"attributes\":{},\"id\":\"16154\",\"type\":\"BasicTicker\"},{\"attributes\":{\"end\":0.9935041394240067,\"reset_end\":0.9935041394240067,\"reset_start\":0.0,\"tags\":[[[\"normal\",\"normal\",null]]]},\"id\":\"16258\",\"type\":\"Range1d\"},{\"attributes\":{\"axis\":{\"id\":\"16150\"},\"coordinates\":null,\"grid_line_color\":null,\"group\":null,\"ticker\":null},\"id\":\"16152\",\"type\":\"Grid\"},{\"attributes\":{},\"id\":\"16311\",\"type\":\"UnionRenderers\"},{\"attributes\":{\"fill_alpha\":{\"value\":0.2},\"fill_color\":{\"value\":\"#30a2da\"},\"hatch_alpha\":{\"value\":0.2},\"hatch_color\":{\"value\":\"#30a2da\"},\"line_alpha\":{\"value\":0.2},\"top\":{\"field\":\"selloff\"},\"width\":{\"value\":0.8},\"x\":{\"field\":\"index\"}},\"id\":\"16247\",\"type\":\"VBar\"},{\"attributes\":{\"axis_label\":\"\",\"coordinates\":null,\"formatter\":{\"id\":\"16183\"},\"group\":null,\"major_label_policy\":{\"id\":\"16184\"},\"ticker\":{\"id\":\"16154\"}},\"id\":\"16153\",\"type\":\"LinearAxis\"},{\"attributes\":{\"js_property_callbacks\":{\"change:active\":[{\"id\":\"16687\"}]},\"margin\":[0,0,0,0],\"tabs\":[{\"id\":\"16205\"},{\"id\":\"16208\"},{\"id\":\"16510\"},{\"id\":\"16514\"}]},\"id\":\"16137\",\"type\":\"Tabs\"},{\"attributes\":{},\"id\":\"16278\",\"type\":\"WheelZoomTool\"},{\"attributes\":{\"coordinates\":null,\"group\":null,\"text\":\"Correlation between BTC vs SP500 and NASDAQ \\nduring Normal Market\",\"text_color\":\"black\",\"text_font_size\":\"12pt\"},\"id\":\"16261\",\"type\":\"Title\"},{\"attributes\":{},\"id\":\"16218\",\"type\":\"CategoricalScale\"},{\"attributes\":{\"data\":[{\"branchvalues\":\"total\",\"domain\":{\"x\":[0.0,1.0],\"y\":[0.0,1.0]},\"hovertemplate\":\"labels=%{label}<br>avgret=%{value}<br>parent=%{parent}<br>id=%{id}<br>minret=%{color}<extra></extra>\",\"marker\":{\"coloraxis\":\"coloraxis\"},\"name\":\"\",\"type\":\"sunburst\"}],\"data_sources\":[{\"id\":\"16206\"}],\"layout\":{\"coloraxis\":{\"colorbar\":{\"title\":{\"text\":\"minret\"}},\"colorscale\":[[0.0,\"rgb(103,0,31)\"],[0.1,\"rgb(178,24,43)\"],[0.2,\"rgb(214,96,77)\"],[0.3,\"rgb(244,165,130)\"],[0.4,\"rgb(253,219,199)\"],[0.5,\"rgb(247,247,247)\"],[0.6,\"rgb(209,229,240)\"],[0.7,\"rgb(146,197,222)\"],[0.8,\"rgb(67,147,195)\"],[0.9,\"rgb(33,102,172)\"],[1.0,\"rgb(5,48,97)\"]]},\"legend\":{\"tracegroupgap\":0},\"margin\":{\"t\":60},\"template\":{\"data\":{\"bar\":[{\"error_x\":{\"color\":\"#2a3f5f\"},\"error_y\":{\"color\":\"#2a3f5f\"},\"marker\":{\"line\":{\"color\":\"#E5ECF6\",\"width\":0.5},\"pattern\":{\"fillmode\":\"overlay\",\"size\":10,\"solidity\":0.2}},\"type\":\"bar\"}],\"barpolar\":[{\"marker\":{\"line\":{\"color\":\"#E5ECF6\",\"width\":0.5},\"pattern\":{\"fillmode\":\"overlay\",\"size\":10,\"solidity\":0.2}},\"type\":\"barpolar\"}],\"carpet\":[{\"aaxis\":{\"endlinecolor\":\"#2a3f5f\",\"gridcolor\":\"white\",\"linecolor\":\"white\",\"minorgridcolor\":\"white\",\"startlinecolor\":\"#2a3f5f\"},\"baxis\":{\"endlinecolor\":\"#2a3f5f\",\"gridcolor\":\"white\",\"linecolor\":\"white\",\"minorgridcolor\":\"white\",\"startlinecolor\":\"#2a3f5f\"},\"type\":\"carpet\"}],\"choropleth\":[{\"colorbar\":{\"outlinewidth\":0,\"ticks\":\"\"},\"type\":\"choropleth\"}],\"contour\":[{\"colorbar\":{\"outlinewidth\":0,\"ticks\":\"\"},\"colorscale\":[[0.0,\"#0d0887\"],[0.1111111111111111,\"#46039f\"],[0.2222222222222222,\"#7201a8\"],[0.3333333333333333,\"#9c179e\"],[0.4444444444444444,\"#bd3786\"],[0.5555555555555556,\"#d8576b\"],[0.6666666666666666,\"#ed7953\"],[0.7777777777777778,\"#fb9f3a\"],[0.8888888888888888,\"#fdca26\"],[1.0,\"#f0f921\"]],\"type\":\"contour\"}],\"contourcarpet\":[{\"colorbar\":{\"outlinewidth\":0,\"ticks\":\"\"},\"type\":\"contourcarpet\"}],\"heatmap\":[{\"colorbar\":{\"outlinewidth\":0,\"ticks\":\"\"},\"colorscale\":[[0.0,\"#0d0887\"],[0.1111111111111111,\"#46039f\"],[0.2222222222222222,\"#7201a8\"],[0.3333333333333333,\"#9c179e\"],[0.4444444444444444,\"#bd3786\"],[0.5555555555555556,\"#d8576b\"],[0.6666666666666666,\"#ed7953\"],[0.7777777777777778,\"#fb9f3a\"],[0.8888888888888888,\"#fdca26\"],[1.0,\"#f0f921\"]],\"type\":\"heatmap\"}],\"heatmapgl\":[{\"colorbar\":{\"outlinewidth\":0,\"ticks\":\"\"},\"colorscale\":[[0.0,\"#0d0887\"],[0.1111111111111111,\"#46039f\"],[0.2222222222222222,\"#7201a8\"],[0.3333333333333333,\"#9c179e\"],[0.4444444444444444,\"#bd3786\"],[0.5555555555555556,\"#d8576b\"],[0.6666666666666666,\"#ed7953\"],[0.7777777777777778,\"#fb9f3a\"],[0.8888888888888888,\"#fdca26\"],[1.0,\"#f0f921\"]],\"type\":\"heatmapgl\"}],\"histogram\":[{\"marker\":{\"pattern\":{\"fillmode\":\"overlay\",\"size\":10,\"solidity\":0.2}},\"type\":\"histogram\"}],\"histogram2d\":[{\"colorbar\":{\"outlinewidth\":0,\"ticks\":\"\"},\"colorscale\":[[0.0,\"#0d0887\"],[0.1111111111111111,\"#46039f\"],[0.2222222222222222,\"#7201a8\"],[0.3333333333333333,\"#9c179e\"],[0.4444444444444444,\"#bd3786\"],[0.5555555555555556,\"#d8576b\"],[0.6666666666666666,\"#ed7953\"],[0.7777777777777778,\"#fb9f3a\"],[0.8888888888888888,\"#fdca26\"],[1.0,\"#f0f921\"]],\"type\":\"histogram2d\"}],\"histogram2dcontour\":[{\"colorbar\":{\"outlinewidth\":0,\"ticks\":\"\"},\"colorscale\":[[0.0,\"#0d0887\"],[0.1111111111111111,\"#46039f\"],[0.2222222222222222,\"#7201a8\"],[0.3333333333333333,\"#9c179e\"],[0.4444444444444444,\"#bd3786\"],[0.5555555555555556,\"#d8576b\"],[0.6666666666666666,\"#ed7953\"],[0.7777777777777778,\"#fb9f3a\"],[0.8888888888888888,\"#fdca26\"],[1.0,\"#f0f921\"]],\"type\":\"histogram2dcontour\"}],\"mesh3d\":[{\"colorbar\":{\"outlinewidth\":0,\"ticks\":\"\"},\"type\":\"mesh3d\"}],\"parcoords\":[{\"line\":{\"colorbar\":{\"outlinewidth\":0,\"ticks\":\"\"}},\"type\":\"parcoords\"}],\"pie\":[{\"automargin\":true,\"type\":\"pie\"}],\"scatter\":[{\"marker\":{\"colorbar\":{\"outlinewidth\":0,\"ticks\":\"\"}},\"type\":\"scatter\"}],\"scatter3d\":[{\"line\":{\"colorbar\":{\"outlinewidth\":0,\"ticks\":\"\"}},\"marker\":{\"colorbar\":{\"outlinewidth\":0,\"ticks\":\"\"}},\"type\":\"scatter3d\"}],\"scattercarpet\":[{\"marker\":{\"colorbar\":{\"outlinewidth\":0,\"ticks\":\"\"}},\"type\":\"scattercarpet\"}],\"scattergeo\":[{\"marker\":{\"colorbar\":{\"outlinewidth\":0,\"ticks\":\"\"}},\"type\":\"scattergeo\"}],\"scattergl\":[{\"marker\":{\"colorbar\":{\"outlinewidth\":0,\"ticks\":\"\"}},\"type\":\"scattergl\"}],\"scattermapbox\":[{\"marker\":{\"colorbar\":{\"outlinewidth\":0,\"ticks\":\"\"}},\"type\":\"scattermapbox\"}],\"scatterpolar\":[{\"marker\":{\"colorbar\":{\"outlinewidth\":0,\"ticks\":\"\"}},\"type\":\"scatterpolar\"}],\"scatterpolargl\":[{\"marker\":{\"colorbar\":{\"outlinewidth\":0,\"ticks\":\"\"}},\"type\":\"scatterpolargl\"}],\"scatterternary\":[{\"marker\":{\"colorbar\":{\"outlinewidth\":0,\"ticks\":\"\"}},\"type\":\"scatterternary\"}],\"surface\":[{\"colorbar\":{\"outlinewidth\":0,\"ticks\":\"\"},\"colorscale\":[[0.0,\"#0d0887\"],[0.1111111111111111,\"#46039f\"],[0.2222222222222222,\"#7201a8\"],[0.3333333333333333,\"#9c179e\"],[0.4444444444444444,\"#bd3786\"],[0.5555555555555556,\"#d8576b\"],[0.6666666666666666,\"#ed7953\"],[0.7777777777777778,\"#fb9f3a\"],[0.8888888888888888,\"#fdca26\"],[1.0,\"#f0f921\"]],\"type\":\"surface\"}],\"table\":[{\"cells\":{\"fill\":{\"color\":\"#EBF0F8\"},\"line\":{\"color\":\"white\"}},\"header\":{\"fill\":{\"color\":\"#C8D4E3\"},\"line\":{\"color\":\"white\"}},\"type\":\"table\"}]},\"layout\":{\"annotationdefaults\":{\"arrowcolor\":\"#2a3f5f\",\"arrowhead\":0,\"arrowwidth\":1},\"autotypenumbers\":\"strict\",\"coloraxis\":{\"colorbar\":{\"outlinewidth\":0,\"ticks\":\"\"}},\"colorscale\":{\"diverging\":[[0,\"#8e0152\"],[0.1,\"#c51b7d\"],[0.2,\"#de77ae\"],[0.3,\"#f1b6da\"],[0.4,\"#fde0ef\"],[0.5,\"#f7f7f7\"],[0.6,\"#e6f5d0\"],[0.7,\"#b8e186\"],[0.8,\"#7fbc41\"],[0.9,\"#4d9221\"],[1,\"#276419\"]],\"sequential\":[[0.0,\"#0d0887\"],[0.1111111111111111,\"#46039f\"],[0.2222222222222222,\"#7201a8\"],[0.3333333333333333,\"#9c179e\"],[0.4444444444444444,\"#bd3786\"],[0.5555555555555556,\"#d8576b\"],[0.6666666666666666,\"#ed7953\"],[0.7777777777777778,\"#fb9f3a\"],[0.8888888888888888,\"#fdca26\"],[1.0,\"#f0f921\"]],\"sequentialminus\":[[0.0,\"#0d0887\"],[0.1111111111111111,\"#46039f\"],[0.2222222222222222,\"#7201a8\"],[0.3333333333333333,\"#9c179e\"],[0.4444444444444444,\"#bd3786\"],[0.5555555555555556,\"#d8576b\"],[0.6666666666666666,\"#ed7953\"],[0.7777777777777778,\"#fb9f3a\"],[0.8888888888888888,\"#fdca26\"],[1.0,\"#f0f921\"]]},\"colorway\":[\"#636efa\",\"#EF553B\",\"#00cc96\",\"#ab63fa\",\"#FFA15A\",\"#19d3f3\",\"#FF6692\",\"#B6E880\",\"#FF97FF\",\"#FECB52\"],\"font\":{\"color\":\"#2a3f5f\"},\"geo\":{\"bgcolor\":\"white\",\"lakecolor\":\"white\",\"landcolor\":\"#E5ECF6\",\"showlakes\":true,\"showland\":true,\"subunitcolor\":\"white\"},\"hoverlabel\":{\"align\":\"left\"},\"hovermode\":\"closest\",\"mapbox\":{\"style\":\"light\"},\"paper_bgcolor\":\"white\",\"plot_bgcolor\":\"#E5ECF6\",\"polar\":{\"angularaxis\":{\"gridcolor\":\"white\",\"linecolor\":\"white\",\"ticks\":\"\"},\"bgcolor\":\"#E5ECF6\",\"radialaxis\":{\"gridcolor\":\"white\",\"linecolor\":\"white\",\"ticks\":\"\"}},\"scene\":{\"xaxis\":{\"backgroundcolor\":\"#E5ECF6\",\"gridcolor\":\"white\",\"gridwidth\":2,\"linecolor\":\"white\",\"showbackground\":true,\"ticks\":\"\",\"zerolinecolor\":\"white\"},\"yaxis\":{\"backgroundcolor\":\"#E5ECF6\",\"gridcolor\":\"white\",\"gridwidth\":2,\"linecolor\":\"white\",\"showbackground\":true,\"ticks\":\"\",\"zerolinecolor\":\"white\"},\"zaxis\":{\"backgroundcolor\":\"#E5ECF6\",\"gridcolor\":\"white\",\"gridwidth\":2,\"linecolor\":\"white\",\"showbackground\":true,\"ticks\":\"\",\"zerolinecolor\":\"white\"}},\"shapedefaults\":{\"line\":{\"color\":\"#2a3f5f\"}},\"ternary\":{\"aaxis\":{\"gridcolor\":\"white\",\"linecolor\":\"white\",\"ticks\":\"\"},\"baxis\":{\"gridcolor\":\"white\",\"linecolor\":\"white\",\"ticks\":\"\"},\"bgcolor\":\"#E5ECF6\",\"caxis\":{\"gridcolor\":\"white\",\"linecolor\":\"white\",\"ticks\":\"\"}},\"title\":{\"x\":0.05},\"xaxis\":{\"automargin\":true,\"gridcolor\":\"white\",\"linecolor\":\"white\",\"ticks\":\"\",\"title\":{\"standoff\":15},\"zerolinecolor\":\"white\",\"zerolinewidth\":2},\"yaxis\":{\"automargin\":true,\"gridcolor\":\"white\",\"linecolor\":\"white\",\"ticks\":\"\",\"title\":{\"standoff\":15},\"zerolinecolor\":\"white\",\"zerolinewidth\":2}}}},\"margin\":[5,5,5,5],\"name\":\"Returns vs. Max Loss\",\"viewport_update_throttle\":200,\"visibility\":false},\"id\":\"16207\",\"type\":\"panel.models.plotly.PlotlyPlot\"},{\"attributes\":{},\"id\":\"16299\",\"type\":\"CategoricalTickFormatter\"},{\"attributes\":{},\"id\":\"16322\",\"type\":\"UnionRenderers\"},{\"attributes\":{\"axis\":{\"id\":\"16153\"},\"coordinates\":null,\"dimension\":1,\"grid_line_color\":null,\"group\":null,\"ticker\":null},\"id\":\"16156\",\"type\":\"Grid\"},{\"attributes\":{},\"id\":\"16523\",\"type\":\"Selection\"},{\"attributes\":{},\"id\":\"16273\",\"type\":\"BasicTicker\"},{\"attributes\":{\"fill_color\":{\"value\":\"#30a2da\"},\"hatch_color\":{\"value\":\"#30a2da\"},\"top\":{\"field\":\"selloff\"},\"width\":{\"value\":0.8},\"x\":{\"field\":\"index\"}},\"id\":\"16245\",\"type\":\"VBar\"},{\"attributes\":{},\"id\":\"16171\",\"type\":\"Selection\"},{\"attributes\":{\"fill_alpha\":{\"value\":0.1},\"fill_color\":{\"value\":\"#30a2da\"},\"hatch_alpha\":{\"value\":0.1},\"hatch_color\":{\"value\":\"#30a2da\"},\"line_alpha\":{\"value\":0.1},\"top\":{\"field\":\"A_0\"},\"width\":{\"value\":0.8},\"x\":{\"field\":\"index\"}},\"id\":\"16174\",\"type\":\"VBar\"},{\"attributes\":{},\"id\":\"16300\",\"type\":\"AllLabels\"},{\"attributes\":{\"fill_alpha\":{\"value\":0.2},\"fill_color\":{\"value\":\"#30a2da\"},\"hatch_alpha\":{\"value\":0.2},\"hatch_color\":{\"value\":\"#30a2da\"},\"line_alpha\":{\"value\":0.2},\"top\":{\"field\":\"A_0\"},\"width\":{\"value\":0.8},\"x\":{\"field\":\"index\"}},\"id\":\"16175\",\"type\":\"VBar\"},{\"attributes\":{\"child\":{\"id\":\"16209\"},\"name\":\"Column10027\",\"title\":\"Correlation in diff Markets\"},\"id\":\"16510\",\"type\":\"Panel\"},{\"attributes\":{\"source\":{\"id\":\"16170\"}},\"id\":\"16177\",\"type\":\"CDSView\"},{\"attributes\":{\"margin\":[5,5,5,5],\"name\":\"Str10402\",\"text\":\"&lt;pre&gt; &lt;/pre&gt;\"},\"id\":\"16513\",\"type\":\"panel.models.markup.HTML\"},{\"attributes\":{},\"id\":\"16255\",\"type\":\"BasicTickFormatter\"},{\"attributes\":{\"tools\":[{\"id\":\"16140\"},{\"id\":\"16157\"},{\"id\":\"16158\"},{\"id\":\"16159\"},{\"id\":\"16160\"},{\"id\":\"16161\"}]},\"id\":\"16163\",\"type\":\"Toolbar\"},{\"attributes\":{\"tools\":[{\"id\":\"16259\"},{\"id\":\"16276\"},{\"id\":\"16277\"},{\"id\":\"16278\"},{\"id\":\"16279\"},{\"id\":\"16280\"}]},\"id\":\"16282\",\"type\":\"Toolbar\"},{\"attributes\":{\"axis_label\":\"\",\"coordinates\":null,\"formatter\":{\"id\":\"16302\"},\"group\":null,\"major_label_policy\":{\"id\":\"16303\"},\"ticker\":{\"id\":\"16273\"}},\"id\":\"16272\",\"type\":\"LinearAxis\"},{\"attributes\":{},\"id\":\"16303\",\"type\":\"AllLabels\"},{\"attributes\":{\"end\":0.9769811270589481,\"reset_end\":0.9769811270589481,\"reset_start\":0.0,\"tags\":[[[\"selloff\",\"selloff\",null]]]},\"id\":\"16211\",\"type\":\"Range1d\"},{\"attributes\":{},\"id\":\"16157\",\"type\":\"SaveTool\"},{\"attributes\":{},\"id\":\"16256\",\"type\":\"AllLabels\"},{\"attributes\":{\"overlay\":{\"id\":\"16281\"}},\"id\":\"16279\",\"type\":\"BoxZoomTool\"},{\"attributes\":{},\"id\":\"16158\",\"type\":\"PanTool\"}],\"root_ids\":[\"16137\",\"16752\"]},\"title\":\"Bokeh Application\",\"version\":\"2.4.1\"}};\n",
       "    var render_items = [{\"docid\":\"761cad04-9eb9-4966-b038-29d88bc3c5f5\",\"root_ids\":[\"16137\"],\"roots\":{\"16137\":\"bb1965b7-9df1-4114-a47e-5e933b067438\"}}];\n",
       "    root.Bokeh.embed.embed_items_notebook(docs_json, render_items);\n",
       "  }\n",
       "  if (root.Bokeh !== undefined && root.Bokeh.Panel !== undefined) {\n",
       "    embed_document(root);\n",
       "  } else {\n",
       "    var attempts = 0;\n",
       "    var timer = setInterval(function(root) {\n",
       "      if (root.Bokeh !== undefined && root.Bokeh.Panel !== undefined) {\n",
       "        clearInterval(timer);\n",
       "        embed_document(root);\n",
       "      } else if (document.readyState == \"complete\") {\n",
       "        attempts++;\n",
       "        if (attempts > 200) {\n",
       "          clearInterval(timer);\n",
       "          console.log(\"Bokeh: ERROR: Unable to run BokehJS code because BokehJS library is missing\");\n",
       "        }\n",
       "      }\n",
       "    }, 25, root)\n",
       "  }\n",
       "})(window);</script>"
      ],
      "text/plain": [
       "Tabs\n",
       "    [0] HoloViews(Bars, name='BTC - Equity D...)\n",
       "    [1] Plotly(Figure, name='Returns vs. Max Loss')\n",
       "    [2] Column\n",
       "        [0] HoloViews(Layout)\n",
       "    [3] Row\n",
       "        [0] Str(None)\n",
       "        [1] Str(None)"
      ]
     },
     "execution_count": 225,
     "metadata": {
      "application/vnd.holoviews_exec.v0+json": {
       "id": "16137"
      }
     },
     "output_type": "execute_result"
    }
   ],
   "source": [
    "tabs = pn.Tabs(\n",
    "    (\"BTC - Equity Diversifier\", sharpe_chart),\n",
    "    (\"Returns vs. Max Loss\", retmxloss_chart),\n",
    "    (\"Correlation in diff Markets\",corr_chart),\n",
    "    (\"Return distribution\", pn.Row(selloff_dist_chart,normal_dist_chart)))\n",
    "tabs"
   ]
  },
  {
   "cell_type": "code",
   "execution_count": null,
   "id": "98ae5921",
   "metadata": {},
   "outputs": [],
   "source": []
  }
 ],
 "metadata": {
  "kernelspec": {
   "display_name": "Python 3 (ipykernel)",
   "language": "python",
   "name": "python3"
  },
  "language_info": {
   "codemirror_mode": {
    "name": "ipython",
    "version": 3
   },
   "file_extension": ".py",
   "mimetype": "text/x-python",
   "name": "python",
   "nbconvert_exporter": "python",
   "pygments_lexer": "ipython3",
   "version": "3.7.11"
  }
 },
 "nbformat": 4,
 "nbformat_minor": 5
}
