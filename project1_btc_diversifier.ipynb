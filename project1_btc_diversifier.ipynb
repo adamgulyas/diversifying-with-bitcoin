{
 "cells": [
  {
   "cell_type": "markdown",
   "id": "ec5665d9",
   "metadata": {},
   "source": [
    "# Bitcoin as a Diversifier to US Equity\n",
    "\n",
    "## Introduction\n",
    "\n",
    "This exercise will explore the potential diversification benefits of Bitcoin to an all-US equity portfolio. This will be done by examing two core metrics: correlation and Sharpe ratio. \n",
    "\n",
    "Correlations are drawn during market sell-off periods as well as normal market periods. The purpose for this comparison is to find out if Bitcoin is a good diversifier to US equities when it's needed the most, which is when the US equity market sells off.  \n",
    "\n",
    "The Sharpe ratios of Bitcoin, the S&P 500, the NASDAQ, and equally balanced portfolios of BTC-SP500 and BTC-NASDAQ are compared. The Sharpe ratio will help determine the diversification benefit of Bitcoin to US equity.\n",
    "\n",
    "## Assumptions\n",
    "\n",
    "A sell-off market environment is defined as any daily returns that fall below the -2 standard deviation of SP500 daily price return.  \n",
    "\n",
    "A normal market environment is defined as any daily returns that fall within the -2 standard deviation and +2 standard deviation of SP500 daily price return.\n",
    "\n",
    "Data is filtered with sell off and normal market conditions"
   ]
  },
  {
   "cell_type": "code",
   "execution_count": 20,
   "id": "5c29c4b2",
   "metadata": {},
   "outputs": [],
   "source": [
    "# Initial imports\n",
    "import pandas as pd\n",
    "from dotenv import load_dotenv\n",
    "import numpy as np\n",
    "import datetime\n",
    "import yfinance as yf\n",
    "import hvplot.pandas\n",
    "import matplotlib.pyplot as plt\n",
    "import plotly.express as px\n",
    "import seaborn as sb\n",
    "import panel as pn\n",
    "#import tabulate"
   ]
  },
  {
   "cell_type": "code",
   "execution_count": 40,
   "id": "b26e479e",
   "metadata": {},
   "outputs": [],
   "source": [
    "load_dotenv()\n",
    "\n",
    "sb.set_style('darkgrid')"
   ]
  },
  {
   "cell_type": "markdown",
   "id": "947d0992",
   "metadata": {},
   "source": [
    "# Data Exploration and Cleanup\n",
    "\n",
    "Using the `yfinance` library, price data was retreived through the Yahoo Finance API. Only necessary columns were kept and null values were dropped.\n",
    "\n",
    "For data exploration, a +/-2 standard deviation for the S&P 500's daily return was calculated.  "
   ]
  },
  {
   "cell_type": "code",
   "execution_count": 22,
   "id": "58d9f08b",
   "metadata": {},
   "outputs": [
    {
     "name": "stdout",
     "output_type": "stream",
     "text": [
      "[*********************100%***********************]  3 of 3 completed\n"
     ]
    }
   ],
   "source": [
    "# Download data from Yahoo API and clean data\n",
    "today = datetime.date.today().isoformat()\n",
    "\n",
    "response_yf = yf.download(\n",
    "    \"^GSPC ^IXIC BTC-USD\", \n",
    "    start=\"2014-09-17\", \n",
    "    end=today\n",
    ")\n",
    "\n",
    "# trimming the data\n",
    "price_df = response_yf['Close']\n",
    "price_df = price_df.rename(\n",
    "    columns={\n",
    "        '^GSPC': 'SP500', \n",
    "        '^IXIC': 'NASDAQ',\n",
    "        'BTC-USD': 'BTC'\n",
    "    }\n",
    ").copy(deep=True)\n",
    "\n",
    "# remove all NA \n",
    "price_df = price_df.dropna()"
   ]
  },
  {
   "cell_type": "code",
   "execution_count": 23,
   "id": "b410c696",
   "metadata": {},
   "outputs": [],
   "source": [
    "# Calculate daily price return for all assets.  Calculate the 2 standard deviation boundary for SP500\n",
    "\n",
    "# calc daily percentage returns\n",
    "pct_change_df = price_df.pct_change()\n",
    "pct_change_df = pct_change_df.dropna()\n",
    "\n",
    "pct_change_std = pct_change_df['SP500'].std()\n",
    "pct_change_ret = pct_change_df['SP500'].mean()\n",
    "\n",
    "# SP500 price return at 2 standard dev boundary\n",
    "outlier_neg2std = pct_change_ret - pct_change_std * 2\n",
    "outlier_pos2std = pct_change_ret + pct_change_std * 2\n",
    "\n",
    "# Extract returns where S&P returns are greater 2 std dev\n",
    "pct_change_below_2std = pct_change_df.loc[\n",
    "    pct_change_df['SP500'] <= outlier_neg2std\n",
    "]\n",
    "# Extract returns where S&P returns are within the 2 std dev\n",
    "pct_change_inside_2std = pct_change_df.loc[\n",
    "    (pct_change_df['SP500'] >= outlier_neg2std) & \n",
    "    (pct_change_df['SP500'] <= outlier_pos2std)\n",
    "]\n",
    "\n",
    "# Create a portfolio between BTC & SP500, NASDAQ\n",
    "combined_pct_change = pd.concat(\n",
    "    [\n",
    "        pct_change_df['BTC'] + pct_change_df['SP500'],\n",
    "        pct_change_df['BTC'] + pct_change_df['NASDAQ']\n",
    "    ],\n",
    "    axis=1\n",
    ")\n",
    "\n",
    "# Extract returns where S&P returns are greater 2 std dev\n",
    "combined_pct_change_below_2std = combined_pct_change.loc[\n",
    "    pct_change_df['SP500'] <= outlier_neg2std\n",
    "]\n",
    "\n",
    "# Extract returns where S&P returns are within the 2 std dev\n",
    "combined_pct_change_inside_2std = combined_pct_change.loc[\n",
    "    (pct_change_df['SP500'] >= outlier_neg2std) & \n",
    "    (pct_change_df['SP500'] <=outlier_pos2std)\n",
    "]\n",
    "\n",
    "combined_pct_change.columns = ['BTC-SP500','BTC-NASDAQ']\n",
    "combined_pct_change_below_2std.columns = ['BTC-SP500','BTC-NASDAQ']\n",
    "combined_pct_change_inside_2std.columns = ['BTC-SP500','BTC-NASDAQ']"
   ]
  },
  {
   "cell_type": "code",
   "execution_count": 24,
   "id": "497b53a0",
   "metadata": {},
   "outputs": [
    {
     "data": {
      "text/plain": [
       "-0.06703439592607463"
      ]
     },
     "execution_count": 24,
     "metadata": {},
     "output_type": "execute_result"
    }
   ],
   "source": [
    "# Verify that portfolio returns are added correctly\n",
    "pct_change_df['BTC'].iloc[0]+pct_change_df['SP500'].iloc[0]"
   ]
  },
  {
   "cell_type": "code",
   "execution_count": 25,
   "id": "559a82f4",
   "metadata": {},
   "outputs": [
    {
     "data": {
      "text/plain": [
       "-0.06703439592607463"
      ]
     },
     "execution_count": 25,
     "metadata": {},
     "output_type": "execute_result"
    }
   ],
   "source": [
    "combined_pct_change['BTC-SP500'].iloc[0] "
   ]
  },
  {
   "cell_type": "markdown",
   "id": "e59bb804",
   "metadata": {},
   "source": [
    "# Correlation Analysis\n",
    "\n",
    "This section examines the correlation between Bitcoin and the S&P 500 and NASDAQ in sell-off and normal market environments."
   ]
  },
  {
   "cell_type": "code",
   "execution_count": 26,
   "id": "78bdea7a",
   "metadata": {},
   "outputs": [],
   "source": [
    "# Calculate correlation amongst all assets for returns that beyond the 2 std dev and within 2 std dev\n",
    "\n",
    "# Correlation matrix\n",
    "corr_below_2std = pct_change_below_2std.corr()\n",
    "corr_inside_2std = pct_change_inside_2std.corr()\n",
    "\n",
    "# Extract corr off the diagonal of the matrices\n",
    "extracted_corr_below_2std = np.extract(\n",
    "    1 - np.eye(len(corr_below_2std)), \n",
    "    corr_below_2std\n",
    ")\n",
    "extracted_corr_inside_2std  = np.extract(\n",
    "    1 - np.eye(len(corr_below_2std)), \n",
    "    corr_inside_2std\n",
    ")\n",
    "\n",
    "# Retrieve only correlation btween BTC vs equity and SP500 vs NASDAQ\n",
    "ix=[0,1,3]\n",
    "extracted_corr_below_2std = [extracted_corr_below_2std[i] for i in ix]\n",
    "extracted_corr_inside_2std = [extracted_corr_inside_2std[i] for i in ix]"
   ]
  },
  {
   "cell_type": "markdown",
   "id": "5de3289b",
   "metadata": {},
   "source": [
    "## Charting Section"
   ]
  },
  {
   "cell_type": "markdown",
   "id": "a05bf49c",
   "metadata": {},
   "source": [
    "#### Charting functions"
   ]
  },
  {
   "cell_type": "code",
   "execution_count": 27,
   "id": "093eb5c1",
   "metadata": {},
   "outputs": [],
   "source": [
    "def create_dist_chart_fill_opt(data, xloc1, xloc2, annotate_txt):\n",
    "    \n",
    "    # xloc1 or xloc2 is the number on x-axis where the chart is shaded beyond that location\n",
    "    # if both xloc1 and xloc2 are provided then a shaded area is in between those 2 numbers.\n",
    "    # if both xloc1 and xloc2 are empty then no shading is done\n",
    "    \n",
    "    plt.figure(figsize=(12,5))\n",
    "    ax = sb.distplot(data)\n",
    "    x, y = ax.get_lines()[0].get_data()\n",
    "    line = ax.lines[0].get_data()\n",
    "\n",
    "    if bool(xloc1) & bool(xloc2):\n",
    "        plt.vlines(xloc1, 0, y[np.argmin(abs(x-xloc1))], color='k')\n",
    "        plt.vlines(xloc2, 0, y[np.argmin(abs(x-xloc2))], color='k')\n",
    "        ax.fill_between(line[0], np.zeros(len(line[0])), line[1])\n",
    "        ax.fill_between(\n",
    "            x, y, \n",
    "            where=(x>xloc1) & (x<xloc2), \n",
    "            interpolate=True,\n",
    "            color='#EF9A9A'\n",
    "        )      \n",
    "\n",
    "    elif bool(xloc1) | bool(xloc2):\n",
    "        plt.vlines(xloc1, 0, y[np.argmin(abs(x-xloc1))], color='k')\n",
    "        ax.fill_between(line[0], np.zeros(len(line[0])), line[1])\n",
    "        ax.fill_between(\n",
    "            x, y, \n",
    "            where=(x < xloc1), \n",
    "            interpolate=True, \n",
    "            color='#EF9A9A'\n",
    "        )\n",
    "\n",
    "    else:    \n",
    "        ax = sb.distplot(data)\n",
    "        ax.fill_between(line[0], np.zeros(len(line[0])), line[1])  \n",
    "        \n",
    "    ax.set_title('Distribution of SP500 Daily Price Return')   \n",
    "    ax.text(-0.12, 10,annotate_txt, fontsize=9)  "
   ]
  },
  {
   "cell_type": "code",
   "execution_count": 28,
   "id": "fa0d4f98",
   "metadata": {},
   "outputs": [],
   "source": [
    "def create_bar_chart(data,title):\n",
    "    barplot = data.hvplot.bar(title=title,height=300,width=500)\n",
    "    return barplot"
   ]
  },
  {
   "cell_type": "markdown",
   "id": "605769d7",
   "metadata": {},
   "source": [
    "### Chart density distribution charts\n",
    "\n",
    "These charts highlight the section of the data distribution that will be used to calculate the correlation for sell-off and normal market environments.\n",
    "\n",
    "The -2 standard deviation of the S&P 500's returns is highlighted on the chart."
   ]
  },
  {
   "cell_type": "code",
   "execution_count": 41,
   "id": "d85111b3",
   "metadata": {},
   "outputs": [
    {
     "name": "stderr",
     "output_type": "stream",
     "text": [
      "/opt/anaconda3/envs/pyvizenv/lib/python3.7/site-packages/seaborn/distributions.py:2619: FutureWarning:\n",
      "\n",
      "`distplot` is a deprecated function and will be removed in a future version. Please adapt your code to use either `displot` (a figure-level function with similar flexibility) or `histplot` (an axes-level function for histograms).\n",
      "\n"
     ]
    },
    {
     "data": {
      "image/png": "[encoded data removed]",
      "text/plain": [
       "<Figure size 864x360 with 1 Axes>"
      ]
     },
     "metadata": {},
     "output_type": "display_data"
    }
   ],
   "source": [
    "annotext = str(len(pct_change_below_2std)) + \" data points were found\"\n",
    "\n",
    "selloff_dist_chart = create_dist_chart_fill_opt(\n",
    "    pct_change_df['SP500'],\n",
    "    outlier_neg2std,\n",
    "    [],\n",
    "    annotext\n",
    ")"
   ]
  },
  {
   "cell_type": "markdown",
   "id": "4071b9c5",
   "metadata": {},
   "source": [
    "This chart highlights the normal trading activity inside of +/-2 standard deviations."
   ]
  },
  {
   "cell_type": "code",
   "execution_count": 42,
   "id": "98e64415",
   "metadata": {},
   "outputs": [
    {
     "name": "stderr",
     "output_type": "stream",
     "text": [
      "/opt/anaconda3/envs/pyvizenv/lib/python3.7/site-packages/seaborn/distributions.py:2619: FutureWarning:\n",
      "\n",
      "`distplot` is a deprecated function and will be removed in a future version. Please adapt your code to use either `displot` (a figure-level function with similar flexibility) or `histplot` (an axes-level function for histograms).\n",
      "\n"
     ]
    },
    {
     "data": {
      "image/png": "[encoded data removed]",
      "text/plain": [
       "<Figure size 864x360 with 1 Axes>"
      ]
     },
     "metadata": {},
     "output_type": "display_data"
    }
   ],
   "source": [
    "annotext = str(len(pct_change_inside_2std)) + \" data points were found\"\n",
    "\n",
    "normal_dist_chart = create_dist_chart_fill_opt(\n",
    "    pct_change_df['SP500'],\n",
    "    outlier_neg2std,\n",
    "    outlier_pos2std,\n",
    "    annotext\n",
    ")"
   ]
  },
  {
   "cell_type": "markdown",
   "id": "8ca92d02",
   "metadata": {},
   "source": [
    "### Correlation results\n",
    "The distinct difference between correlations during sell-off and normal markets appears to suggest that Bitcoin is not a good diversifier to US equity. US Equity needs diversification the most during a market sell-off. \n",
    "\n",
    "The correlation between Bitcoin and equity spiked ~5x during market sell-offs. The correlation between the S&P 500 and NASDAQ remained high in both sell-off and normal market environments."
   ]
  },
  {
   "cell_type": "code",
   "execution_count": 31,
   "id": "9435f7d1",
   "metadata": {},
   "outputs": [
    {
     "data": {
      "text/html": [
       "<div>\n",
       "<style scoped>\n",
       "    .dataframe tbody tr th:only-of-type {\n",
       "        vertical-align: middle;\n",
       "    }\n",
       "\n",
       "    .dataframe tbody tr th {\n",
       "        vertical-align: top;\n",
       "    }\n",
       "\n",
       "    .dataframe thead th {\n",
       "        text-align: right;\n",
       "    }\n",
       "</style>\n",
       "<table border=\"1\" class=\"dataframe\">\n",
       "  <thead>\n",
       "    <tr style=\"text-align: right;\">\n",
       "      <th></th>\n",
       "      <th>selloff</th>\n",
       "      <th>normal</th>\n",
       "    </tr>\n",
       "  </thead>\n",
       "  <tbody>\n",
       "    <tr>\n",
       "      <th>BTC vs SP500</th>\n",
       "      <td>0.526344</td>\n",
       "      <td>0.087877</td>\n",
       "    </tr>\n",
       "    <tr>\n",
       "      <th>BTC vs NASDAQ</th>\n",
       "      <td>0.490430</td>\n",
       "      <td>0.118869</td>\n",
       "    </tr>\n",
       "    <tr>\n",
       "      <th>SP500 vs NASDAQ</th>\n",
       "      <td>0.932749</td>\n",
       "      <td>0.911174</td>\n",
       "    </tr>\n",
       "  </tbody>\n",
       "</table>\n",
       "</div>"
      ],
      "text/plain": [
       "                  selloff    normal\n",
       "BTC vs SP500     0.526344  0.087877\n",
       "BTC vs NASDAQ    0.490430  0.118869\n",
       "SP500 vs NASDAQ  0.932749  0.911174"
      ]
     },
     "execution_count": 31,
     "metadata": {},
     "output_type": "execute_result"
    }
   ],
   "source": [
    "corr_btc_equity = pd.concat(\n",
    "    [\n",
    "        pd.DataFrame(extracted_corr_below_2std),\n",
    "        pd.DataFrame(extracted_corr_inside_2std)\n",
    "    ], \n",
    "    axis=1\n",
    ")\n",
    "\n",
    "corr_btc_equity = corr_btc_equity.set_index([\n",
    "    pd.Index([\n",
    "        'BTC vs SP500',\n",
    "        'BTC vs NASDAQ',\n",
    "        'SP500 vs NASDAQ'\n",
    "    ])\n",
    "])\n",
    "\n",
    "corr_btc_equity.columns = ['selloff','normal']\n",
    "corr_btc_equity"
   ]
  },
  {
   "cell_type": "code",
   "execution_count": 32,
   "id": "f5dede8c",
   "metadata": {},
   "outputs": [
    {
     "data": {},
     "metadata": {},
     "output_type": "display_data"
    },
    {
     "data": {},
     "metadata": {},
     "output_type": "display_data"
    },
    {
     "data": {
      "application/vnd.holoviews_exec.v0+json": "",
      "text/html": [
       "<div id='2382'>\n",
       "\n",
       "\n",
       "\n",
       "\n",
       "\n",
       "  <div class=\"bk-root\" id=\"172a5d52-9d80-4719-8b60-bcbd44bbb137\" data-root-id=\"2382\"></div>\n",
       "</div>\n",
       "<script type=\"application/javascript\">(function(root) {\n",
       "  function embed_document(root) {\n",
       "    var docs_json = {\"4711c2f2-e12c-4b49-ba9b-67dd2d3ad657\":{\"defs\":[{\"extends\":null,\"module\":null,\"name\":\"ReactiveHTML1\",\"overrides\":[],\"properties\":[]},{\"extends\":null,\"module\":null,\"name\":\"FlexBox1\",\"overrides\":[],\"properties\":[{\"default\":\"flex-start\",\"kind\":null,\"name\":\"align_content\"},{\"default\":\"flex-start\",\"kind\":null,\"name\":\"align_items\"},{\"default\":\"row\",\"kind\":null,\"name\":\"flex_direction\"},{\"default\":\"wrap\",\"kind\":null,\"name\":\"flex_wrap\"},{\"default\":\"flex-start\",\"kind\":null,\"name\":\"justify_content\"}]},{\"extends\":null,\"module\":null,\"name\":\"TemplateActions1\",\"overrides\":[],\"properties\":[{\"default\":0,\"kind\":null,\"name\":\"open_modal\"},{\"default\":0,\"kind\":null,\"name\":\"close_modal\"}]},{\"extends\":null,\"module\":null,\"name\":\"MaterialTemplateActions1\",\"overrides\":[],\"properties\":[{\"default\":0,\"kind\":null,\"name\":\"open_modal\"},{\"default\":0,\"kind\":null,\"name\":\"close_modal\"}]}],\"roots\":{\"references\":[{\"attributes\":{},\"id\":\"2463\",\"type\":\"Selection\"},{\"attributes\":{\"below\":[{\"id\":\"2442\"}],\"center\":[{\"id\":\"2444\"},{\"id\":\"2448\"}],\"height\":300,\"left\":[{\"id\":\"2445\"}],\"margin\":null,\"min_border_bottom\":10,\"min_border_left\":10,\"min_border_right\":10,\"min_border_top\":10,\"renderers\":[{\"id\":\"2468\"}],\"sizing_mode\":\"fixed\",\"title\":{\"id\":\"2434\"},\"toolbar\":{\"id\":\"2455\"},\"toolbar_location\":null,\"width\":500,\"x_range\":{\"id\":\"2383\"},\"x_scale\":{\"id\":\"2438\"},\"y_range\":{\"id\":\"2431\"},\"y_scale\":{\"id\":\"2440\"}},\"id\":\"2433\",\"subtype\":\"Figure\",\"type\":\"Plot\"},{\"attributes\":{\"fill_alpha\":{\"value\":0.1},\"fill_color\":{\"value\":\"#30a2da\"},\"hatch_alpha\":{\"value\":0.1},\"hatch_color\":{\"value\":\"#30a2da\"},\"line_alpha\":{\"value\":0.1},\"top\":{\"field\":\"selloff\"},\"width\":{\"value\":0.8},\"x\":{\"field\":\"index\"}},\"id\":\"2419\",\"type\":\"VBar\"},{\"attributes\":{\"end\":0.9935041394240067,\"reset_end\":0.9935041394240067,\"reset_start\":0.0,\"tags\":[[[\"normal\",\"normal\",null]]]},\"id\":\"2431\",\"type\":\"Range1d\"},{\"attributes\":{},\"id\":\"2429\",\"type\":\"AllLabels\"},{\"attributes\":{\"children\":[{\"id\":\"2501\"},{\"id\":\"2499\"}]},\"id\":\"2502\",\"type\":\"Column\"},{\"attributes\":{\"fill_color\":{\"value\":\"#30a2da\"},\"hatch_color\":{\"value\":\"#30a2da\"},\"top\":{\"field\":\"selloff\"},\"width\":{\"value\":0.8},\"x\":{\"field\":\"index\"}},\"id\":\"2418\",\"type\":\"VBar\"},{\"attributes\":{\"below\":[{\"id\":\"2395\"}],\"center\":[{\"id\":\"2397\"},{\"id\":\"2401\"}],\"height\":300,\"left\":[{\"id\":\"2398\"}],\"margin\":null,\"min_border_bottom\":10,\"min_border_left\":10,\"min_border_right\":10,\"min_border_top\":10,\"renderers\":[{\"id\":\"2421\"}],\"sizing_mode\":\"fixed\",\"title\":{\"id\":\"2387\"},\"toolbar\":{\"id\":\"2408\"},\"toolbar_location\":null,\"width\":500,\"x_range\":{\"id\":\"2383\"},\"x_scale\":{\"id\":\"2391\"},\"y_range\":{\"id\":\"2384\"},\"y_scale\":{\"id\":\"2393\"}},\"id\":\"2386\",\"subtype\":\"Figure\",\"type\":\"Plot\"},{\"attributes\":{\"toolbars\":[{\"id\":\"2408\"},{\"id\":\"2455\"}],\"tools\":[{\"id\":\"2385\"},{\"id\":\"2402\"},{\"id\":\"2403\"},{\"id\":\"2404\"},{\"id\":\"2405\"},{\"id\":\"2406\"},{\"id\":\"2432\"},{\"id\":\"2449\"},{\"id\":\"2450\"},{\"id\":\"2451\"},{\"id\":\"2452\"},{\"id\":\"2453\"}]},\"id\":\"2500\",\"type\":\"ProxyToolbar\"},{\"attributes\":{\"client_comm_id\":\"2559564c7b5c418f80450162818afef2\",\"comm_id\":\"74dd7580f1914c5b94bdae46ada654b7\",\"plot_id\":\"2382\"},\"id\":\"2803\",\"type\":\"panel.models.comm_manager.CommManager\"},{\"attributes\":{},\"id\":\"2426\",\"type\":\"AllLabels\"},{\"attributes\":{\"fill_color\":{\"value\":\"#30a2da\"},\"hatch_color\":{\"value\":\"#30a2da\"},\"top\":{\"field\":\"normal\"},\"width\":{\"value\":0.8},\"x\":{\"field\":\"index\"}},\"id\":\"2465\",\"type\":\"VBar\"},{\"attributes\":{\"source\":{\"id\":\"2462\"}},\"id\":\"2469\",\"type\":\"CDSView\"},{\"attributes\":{},\"id\":\"2393\",\"type\":\"LinearScale\"},{\"attributes\":{},\"id\":\"2476\",\"type\":\"AllLabels\"},{\"attributes\":{},\"id\":\"2396\",\"type\":\"CategoricalTicker\"},{\"attributes\":{\"children\":[[{\"id\":\"2386\"},0,0],[{\"id\":\"2433\"},0,1]]},\"id\":\"2499\",\"type\":\"GridBox\"},{\"attributes\":{},\"id\":\"2391\",\"type\":\"CategoricalScale\"},{\"attributes\":{},\"id\":\"2440\",\"type\":\"LinearScale\"},{\"attributes\":{\"coordinates\":null,\"group\":null,\"text\":\"Correlation between BTC vs SP500 and NASDAQ \\nduring Sell Off Market\",\"text_color\":\"black\",\"text_font_size\":\"12pt\"},\"id\":\"2387\",\"type\":\"Title\"},{\"attributes\":{},\"id\":\"2438\",\"type\":\"CategoricalScale\"},{\"attributes\":{\"axis\":{\"id\":\"2398\"},\"coordinates\":null,\"dimension\":1,\"grid_line_color\":null,\"group\":null,\"ticker\":null},\"id\":\"2401\",\"type\":\"Grid\"},{\"attributes\":{},\"id\":\"2484\",\"type\":\"UnionRenderers\"},{\"attributes\":{\"axis_label\":\"\",\"coordinates\":null,\"formatter\":{\"id\":\"2472\"},\"group\":null,\"major_label_policy\":{\"id\":\"2473\"},\"ticker\":{\"id\":\"2443\"}},\"id\":\"2442\",\"type\":\"CategoricalAxis\"},{\"attributes\":{\"data\":{\"index\":[\"BTC vs SP500\",\"BTC vs NASDAQ\",\"SP500 vs NASDAQ\"],\"selloff\":{\"__ndarray__\":\"CLJni87X4D+QL9zCNWPfPz3OqusU2e0/\",\"dtype\":\"float64\",\"order\":\"little\",\"shape\":[3]}},\"selected\":{\"id\":\"2416\"},\"selection_policy\":{\"id\":\"2484\"}},\"id\":\"2415\",\"type\":\"ColumnDataSource\"},{\"attributes\":{\"axis\":{\"id\":\"2445\"},\"coordinates\":null,\"dimension\":1,\"grid_line_color\":null,\"group\":null,\"ticker\":null},\"id\":\"2448\",\"type\":\"Grid\"},{\"attributes\":{\"data\":{\"index\":[\"BTC vs SP500\",\"BTC vs NASDAQ\",\"SP500 vs NASDAQ\"],\"normal\":{\"__ndarray__\":\"HJWx3SB/tj/26HuJKm6+P/JptUZXKO0/\",\"dtype\":\"float64\",\"order\":\"little\",\"shape\":[3]}},\"selected\":{\"id\":\"2463\"},\"selection_policy\":{\"id\":\"2495\"}},\"id\":\"2462\",\"type\":\"ColumnDataSource\"},{\"attributes\":{\"axis_label\":\"\",\"coordinates\":null,\"formatter\":{\"id\":\"2425\"},\"group\":null,\"major_label_policy\":{\"id\":\"2426\"},\"ticker\":{\"id\":\"2396\"}},\"id\":\"2395\",\"type\":\"CategoricalAxis\"},{\"attributes\":{\"coordinates\":null,\"group\":null,\"text\":\"Correlation between BTC vs SP500 and NASDAQ \\nduring Normal Market\",\"text_color\":\"black\",\"text_font_size\":\"12pt\"},\"id\":\"2434\",\"type\":\"Title\"},{\"attributes\":{\"axis\":{\"id\":\"2395\"},\"coordinates\":null,\"grid_line_color\":null,\"group\":null,\"ticker\":null},\"id\":\"2397\",\"type\":\"Grid\"},{\"attributes\":{},\"id\":\"2443\",\"type\":\"CategoricalTicker\"},{\"attributes\":{\"axis\":{\"id\":\"2442\"},\"coordinates\":null,\"grid_line_color\":null,\"group\":null,\"ticker\":null},\"id\":\"2444\",\"type\":\"Grid\"},{\"attributes\":{},\"id\":\"2399\",\"type\":\"BasicTicker\"},{\"attributes\":{\"axis_label\":\"\",\"coordinates\":null,\"formatter\":{\"id\":\"2428\"},\"group\":null,\"major_label_policy\":{\"id\":\"2429\"},\"ticker\":{\"id\":\"2399\"}},\"id\":\"2398\",\"type\":\"LinearAxis\"},{\"attributes\":{},\"id\":\"2446\",\"type\":\"BasicTicker\"},{\"attributes\":{\"axis_label\":\"\",\"coordinates\":null,\"formatter\":{\"id\":\"2475\"},\"group\":null,\"major_label_policy\":{\"id\":\"2476\"},\"ticker\":{\"id\":\"2446\"}},\"id\":\"2445\",\"type\":\"LinearAxis\"},{\"attributes\":{\"children\":[{\"id\":\"2502\"}],\"margin\":[0,0,0,0],\"name\":\"Column02538\"},\"id\":\"2382\",\"type\":\"Column\"},{\"attributes\":{\"fill_alpha\":{\"value\":0.2},\"fill_color\":{\"value\":\"#30a2da\"},\"hatch_alpha\":{\"value\":0.2},\"hatch_color\":{\"value\":\"#30a2da\"},\"line_alpha\":{\"value\":0.2},\"top\":{\"field\":\"selloff\"},\"width\":{\"value\":0.8},\"x\":{\"field\":\"index\"}},\"id\":\"2420\",\"type\":\"VBar\"},{\"attributes\":{},\"id\":\"2472\",\"type\":\"CategoricalTickFormatter\"},{\"attributes\":{},\"id\":\"2473\",\"type\":\"AllLabels\"},{\"attributes\":{\"coordinates\":null,\"data_source\":{\"id\":\"2415\"},\"glyph\":{\"id\":\"2418\"},\"group\":null,\"hover_glyph\":null,\"muted_glyph\":{\"id\":\"2420\"},\"nonselection_glyph\":{\"id\":\"2419\"},\"selection_glyph\":{\"id\":\"2423\"},\"view\":{\"id\":\"2422\"}},\"id\":\"2421\",\"type\":\"GlyphRenderer\"},{\"attributes\":{\"bottom\":{\"value\":0},\"fill_alpha\":{\"value\":1.0},\"fill_color\":{\"value\":\"#30a2da\"},\"hatch_alpha\":{\"value\":1.0},\"hatch_color\":{\"value\":\"#30a2da\"},\"hatch_scale\":{\"value\":12.0},\"hatch_weight\":{\"value\":1.0},\"line_alpha\":{\"value\":1.0},\"line_cap\":{\"value\":\"butt\"},\"line_color\":{\"value\":\"black\"},\"line_dash\":{\"value\":[]},\"line_dash_offset\":{\"value\":0},\"line_join\":{\"value\":\"bevel\"},\"line_width\":{\"value\":1},\"top\":{\"field\":\"selloff\"},\"width\":{\"value\":0.8},\"x\":{\"field\":\"index\"}},\"id\":\"2423\",\"type\":\"VBar\"},{\"attributes\":{\"fill_alpha\":{\"value\":0.1},\"fill_color\":{\"value\":\"#30a2da\"},\"hatch_alpha\":{\"value\":0.1},\"hatch_color\":{\"value\":\"#30a2da\"},\"line_alpha\":{\"value\":0.1},\"top\":{\"field\":\"normal\"},\"width\":{\"value\":0.8},\"x\":{\"field\":\"index\"}},\"id\":\"2466\",\"type\":\"VBar\"},{\"attributes\":{},\"id\":\"2402\",\"type\":\"SaveTool\"},{\"attributes\":{},\"id\":\"2403\",\"type\":\"PanTool\"},{\"attributes\":{},\"id\":\"2449\",\"type\":\"SaveTool\"},{\"attributes\":{},\"id\":\"2416\",\"type\":\"Selection\"},{\"attributes\":{},\"id\":\"2404\",\"type\":\"WheelZoomTool\"},{\"attributes\":{},\"id\":\"2450\",\"type\":\"PanTool\"},{\"attributes\":{\"tools\":[{\"id\":\"2385\"},{\"id\":\"2402\"},{\"id\":\"2403\"},{\"id\":\"2404\"},{\"id\":\"2405\"},{\"id\":\"2406\"}]},\"id\":\"2408\",\"type\":\"Toolbar\"},{\"attributes\":{\"overlay\":{\"id\":\"2407\"}},\"id\":\"2405\",\"type\":\"BoxZoomTool\"},{\"attributes\":{},\"id\":\"2451\",\"type\":\"WheelZoomTool\"},{\"attributes\":{\"callback\":null,\"renderers\":[{\"id\":\"2421\"}],\"tags\":[\"hv_created\"],\"tooltips\":[[\"index\",\"@{index}\"],[\"selloff\",\"@{selloff}\"]]},\"id\":\"2385\",\"type\":\"HoverTool\"},{\"attributes\":{\"overlay\":{\"id\":\"2454\"}},\"id\":\"2452\",\"type\":\"BoxZoomTool\"},{\"attributes\":{\"source\":{\"id\":\"2415\"}},\"id\":\"2422\",\"type\":\"CDSView\"},{\"attributes\":{\"fill_alpha\":{\"value\":0.2},\"fill_color\":{\"value\":\"#30a2da\"},\"hatch_alpha\":{\"value\":0.2},\"hatch_color\":{\"value\":\"#30a2da\"},\"line_alpha\":{\"value\":0.2},\"top\":{\"field\":\"normal\"},\"width\":{\"value\":0.8},\"x\":{\"field\":\"index\"}},\"id\":\"2467\",\"type\":\"VBar\"},{\"attributes\":{},\"id\":\"2406\",\"type\":\"ResetTool\"},{\"attributes\":{},\"id\":\"2453\",\"type\":\"ResetTool\"},{\"attributes\":{\"factors\":[\"BTC vs SP500\",\"BTC vs NASDAQ\",\"SP500 vs NASDAQ\"],\"tags\":[[[\"index\",\"index\",null]]]},\"id\":\"2383\",\"type\":\"FactorRange\"},{\"attributes\":{\"bottom_units\":\"screen\",\"coordinates\":null,\"fill_alpha\":0.5,\"fill_color\":\"lightgrey\",\"group\":null,\"left_units\":\"screen\",\"level\":\"overlay\",\"line_alpha\":1.0,\"line_color\":\"black\",\"line_dash\":[4,4],\"line_width\":2,\"right_units\":\"screen\",\"syncable\":false,\"top_units\":\"screen\"},\"id\":\"2407\",\"type\":\"BoxAnnotation\"},{\"attributes\":{},\"id\":\"2428\",\"type\":\"BasicTickFormatter\"},{\"attributes\":{\"tools\":[{\"id\":\"2432\"},{\"id\":\"2449\"},{\"id\":\"2450\"},{\"id\":\"2451\"},{\"id\":\"2452\"},{\"id\":\"2453\"}]},\"id\":\"2455\",\"type\":\"Toolbar\"},{\"attributes\":{},\"id\":\"2425\",\"type\":\"CategoricalTickFormatter\"},{\"attributes\":{},\"id\":\"2475\",\"type\":\"BasicTickFormatter\"},{\"attributes\":{\"callback\":null,\"renderers\":[{\"id\":\"2468\"}],\"tags\":[\"hv_created\"],\"tooltips\":[[\"index\",\"@{index}\"],[\"normal\",\"@{normal}\"]]},\"id\":\"2432\",\"type\":\"HoverTool\"},{\"attributes\":{\"end\":0.9769811270589481,\"reset_end\":0.9769811270589481,\"reset_start\":0.0,\"tags\":[[[\"selloff\",\"selloff\",null]]]},\"id\":\"2384\",\"type\":\"Range1d\"},{\"attributes\":{},\"id\":\"2495\",\"type\":\"UnionRenderers\"},{\"attributes\":{\"bottom\":{\"value\":0},\"fill_alpha\":{\"value\":1.0},\"fill_color\":{\"value\":\"#30a2da\"},\"hatch_alpha\":{\"value\":1.0},\"hatch_color\":{\"value\":\"#30a2da\"},\"hatch_scale\":{\"value\":12.0},\"hatch_weight\":{\"value\":1.0},\"line_alpha\":{\"value\":1.0},\"line_cap\":{\"value\":\"butt\"},\"line_color\":{\"value\":\"black\"},\"line_dash\":{\"value\":[]},\"line_dash_offset\":{\"value\":0},\"line_join\":{\"value\":\"bevel\"},\"line_width\":{\"value\":1},\"top\":{\"field\":\"normal\"},\"width\":{\"value\":0.8},\"x\":{\"field\":\"index\"}},\"id\":\"2470\",\"type\":\"VBar\"},{\"attributes\":{\"toolbar\":{\"id\":\"2500\"},\"toolbar_location\":\"above\"},\"id\":\"2501\",\"type\":\"ToolbarBox\"},{\"attributes\":{\"bottom_units\":\"screen\",\"coordinates\":null,\"fill_alpha\":0.5,\"fill_color\":\"lightgrey\",\"group\":null,\"left_units\":\"screen\",\"level\":\"overlay\",\"line_alpha\":1.0,\"line_color\":\"black\",\"line_dash\":[4,4],\"line_width\":2,\"right_units\":\"screen\",\"syncable\":false,\"top_units\":\"screen\"},\"id\":\"2454\",\"type\":\"BoxAnnotation\"},{\"attributes\":{\"coordinates\":null,\"data_source\":{\"id\":\"2462\"},\"glyph\":{\"id\":\"2465\"},\"group\":null,\"hover_glyph\":null,\"muted_glyph\":{\"id\":\"2467\"},\"nonselection_glyph\":{\"id\":\"2466\"},\"selection_glyph\":{\"id\":\"2470\"},\"view\":{\"id\":\"2469\"}},\"id\":\"2468\",\"type\":\"GlyphRenderer\"}],\"root_ids\":[\"2382\",\"2803\"]},\"title\":\"Bokeh Application\",\"version\":\"2.4.1\"}};\n",
       "    var render_items = [{\"docid\":\"4711c2f2-e12c-4b49-ba9b-67dd2d3ad657\",\"root_ids\":[\"2382\"],\"roots\":{\"2382\":\"172a5d52-9d80-4719-8b60-bcbd44bbb137\"}}];\n",
       "    root.Bokeh.embed.embed_items_notebook(docs_json, render_items);\n",
       "  }\n",
       "  if (root.Bokeh !== undefined && root.Bokeh.Panel !== undefined) {\n",
       "    embed_document(root);\n",
       "  } else {\n",
       "    var attempts = 0;\n",
       "    var timer = setInterval(function(root) {\n",
       "      if (root.Bokeh !== undefined && root.Bokeh.Panel !== undefined) {\n",
       "        clearInterval(timer);\n",
       "        embed_document(root);\n",
       "      } else if (document.readyState == \"complete\") {\n",
       "        attempts++;\n",
       "        if (attempts > 200) {\n",
       "          clearInterval(timer);\n",
       "          console.log(\"Bokeh: ERROR: Unable to run BokehJS code because BokehJS library is missing\");\n",
       "        }\n",
       "      }\n",
       "    }, 25, root)\n",
       "  }\n",
       "})(window);</script>"
      ],
      "text/plain": [
       "Column\n",
       "    [0] HoloViews(Layout)"
      ]
     },
     "execution_count": 32,
     "metadata": {
      "application/vnd.holoviews_exec.v0+json": {
       "id": "2382"
      }
     },
     "output_type": "execute_result"
    }
   ],
   "source": [
    "selloff_chart = create_bar_chart(\n",
    "    corr_btc_equity['selloff'],\n",
    "    'Correlation between BTC vs SP500 and NASDAQ \\nduring Sell Off Market'\n",
    ")\n",
    "\n",
    "normal_chart = create_bar_chart(\n",
    "    corr_btc_equity['normal'],\n",
    "    'Correlation between BTC vs SP500 and NASDAQ \\nduring Normal Market'\n",
    ")\n",
    "\n",
    "corr_chart = pn.Column(selloff_chart + normal_chart)\n",
    "corr_chart"
   ]
  },
  {
   "cell_type": "code",
   "execution_count": 33,
   "id": "3213279d",
   "metadata": {},
   "outputs": [
    {
     "data": {
      "text/plain": [
       "Text(0.5, 1.0, 'Correlation in a Normal Market Environment')"
      ]
     },
     "execution_count": 33,
     "metadata": {},
     "output_type": "execute_result"
    },
    {
     "data": {
      "image/png": "[encoded data removed]",
      "text/plain": [
       "<Figure size 1224x432 with 4 Axes>"
      ]
     },
     "metadata": {
      "needs_background": "light"
     },
     "output_type": "display_data"
    }
   ],
   "source": [
    "fig, ax = plt.subplots(1,2,figsize=(17,6))\n",
    "\n",
    "selloff_mkt_heatmap = sb.heatmap(\n",
    "    corr_below_2std, \n",
    "    vmin=0, \n",
    "    vmax=1,\n",
    "    ax=ax[0],\n",
    "    cmap='viridis'\n",
    ")\n",
    "normal_mkt_heatmap = sb.heatmap(\n",
    "    corr_inside_2std, \n",
    "    vmin=0, \n",
    "    vmax=1,\n",
    "    ax=ax[1],\n",
    "    cmap='viridis'\n",
    ")\n",
    "\n",
    "selloff_mkt_heatmap.set_title(\n",
    "    \"Correlation in a Sell-off Market Environment\"\n",
    ")\n",
    "normal_mkt_heatmap.set_title(\n",
    "    \"Correlation in a Normal Market Environment\"\n",
    ")"
   ]
  },
  {
   "cell_type": "markdown",
   "id": "2d51b65b",
   "metadata": {},
   "source": [
    "# Risk and Return Analysis \n",
    "This analysis examines the risk and return profile of each asset as well as equally weighted portfolios of BTC-SP500 and BTC-NASDAQ.\n",
    "\n",
    "The first section of the analysis examined the return and the maximum loss of the assets and portfolios.\n",
    "\n",
    "The second section of the analysis uses an alternative metric of Sharpe ratio to assess the return for every unit of risk of each assets and portfolio.\n",
    "\n",
    "Below are the visualized results of these analyses."
   ]
  },
  {
   "cell_type": "code",
   "execution_count": 34,
   "id": "dcf039db",
   "metadata": {},
   "outputs": [],
   "source": [
    "# Manipulate the time series data into data that can be used for sunburst chart\n",
    "\n",
    "# concatenate the BTC, SP, NASD returns with equally wgted portfolios\n",
    "all_assets = pd.concat([pct_change_df, combined_pct_change], axis=1)\n",
    "years = [2019, 2020, 2021, 2022]\n",
    "data_sunburst = pd.DataFrame()\n",
    "years_sunburst = pd.DataFrame()\n",
    "\n",
    "# Loop through the last 4 years\n",
    "for i in years:\n",
    "    \n",
    "    # Calculate the avg ret and min ret for each year\n",
    "    yearly_data = all_assets[all_assets.index.year == i]\n",
    "    yearly_avg = yearly_data.mean()\n",
    "    yearly_min = yearly_data.min()\n",
    "    year_df = pd.DataFrame([i] * len(all_assets.columns))   \n",
    "    data_avg_min = pd.concat([yearly_avg, yearly_min], axis=1)\n",
    "    data_sunburst = data_sunburst.append(data_avg_min)\n",
    "    \n",
    "    # Append each yearly data\n",
    "    years_sunburst = years_sunburst.append(year_df)\n",
    "    \n",
    "data_sunburst.columns = ['avgret', 'minret']\n",
    "data_sunburst['port'] = data_sunburst.index\n",
    "data_sunburst = data_sunburst.reset_index(drop=True)\n",
    "years_sunburst = years_sunburst.reset_index(drop=True) \n",
    "years_sunburst.columns=['year']\n",
    "data_sunburst = pd.concat([data_sunburst,years_sunburst], axis=1)"
   ]
  },
  {
   "cell_type": "code",
   "execution_count": 35,
   "id": "77550b90",
   "metadata": {},
   "outputs": [
    {
     "data": {
      "application/vnd.plotly.v1+json": {
       "config": {
        "plotlyServerURL": "https://plot.ly"
       },
       "data": [
        {
         "branchvalues": "total",
         "customdata": [
          [
           -0.14702574743953378,
           -0.14702574743953378
          ],
          [
           -0.37169538560117077,
           -0.37169538560117077
          ],
          [
           -0.13766122609163733,
           -0.13766122609163733
          ],
          [
           -0.10381165615712483,
           -0.10381165615712483
          ],
          [
           -0.13641903075491646,
           -0.13641903075491646
          ],
          [
           -0.4660421286959826,
           -0.4660421286959826
          ],
          [
           -0.1599362927645065,
           -0.1599362927645065
          ],
          [
           -0.13101944745095173,
           -0.13101944745095173
          ],
          [
           -0.1393534464073456,
           -0.1393534464073456
          ],
          [
           -0.46680806657950735,
           -0.46680806657950735
          ],
          [
           -0.15466685563310334,
           -0.15466685563310334
          ],
          [
           -0.12272647802503345,
           -0.12272647802503345
          ],
          [
           -0.03473605194134943,
           -0.03473605194134943
          ],
          [
           -0.12321331290147408,
           -0.12321331290147408
          ],
          [
           -0.03519202121238085,
           -0.03519202121238085
          ],
          [
           -0.03736623070394007,
           -0.03736623070394007
          ],
          [
           -0.029777820002985896,
           -0.029777820002985896
          ],
          [
           -0.11984055240393443,
           -0.11984055240393443
          ],
          [
           -0.025677883699462,
           -0.025677883699462
          ],
          [
           -0.029518158313449172,
           -0.029518158313449172
          ],
          [
           -0.12410509616233512,
           -0.12410509616233512
          ],
          [
           -0.4064809681664345,
           -0.4064809681664345
          ],
          [
           -0.13462937456720744,
           -0.13462937456720744
          ],
          [
           -0.09638695835683307,
           -0.09638695835683307
          ]
         ],
         "domain": {
          "x": [
           0,
           1
          ],
          "y": [
           0,
           1
          ]
         },
         "hovertemplate": "labels=%{label}<br>avgret=%{value}<br>parent=%{parent}<br>id=%{id}<br>minret=%{color}<extra></extra>",
         "ids": [
          "2019/BTC",
          "2020/BTC",
          "2021/BTC",
          "2022/BTC",
          "2019/BTC-NASDAQ",
          "2020/BTC-NASDAQ",
          "2021/BTC-NASDAQ",
          "2022/BTC-NASDAQ",
          "2019/BTC-SP500",
          "2020/BTC-SP500",
          "2021/BTC-SP500",
          "2022/BTC-SP500",
          "2019/NASDAQ",
          "2020/NASDAQ",
          "2021/NASDAQ",
          "2022/NASDAQ",
          "2019/SP500",
          "2020/SP500",
          "2021/SP500",
          "2022/SP500",
          "2019",
          "2020",
          "2021",
          "2022"
         ],
         "labels": [
          "BTC",
          "BTC",
          "BTC",
          "BTC",
          "BTC-NASDAQ",
          "BTC-NASDAQ",
          "BTC-NASDAQ",
          "BTC-NASDAQ",
          "BTC-SP500",
          "BTC-SP500",
          "BTC-SP500",
          "BTC-SP500",
          "NASDAQ",
          "NASDAQ",
          "NASDAQ",
          "NASDAQ",
          "SP500",
          "SP500",
          "SP500",
          "SP500",
          "2019",
          "2020",
          "2021",
          "2022"
         ],
         "marker": {
          "coloraxis": "coloraxis",
          "colors": [
           -0.14702574743953378,
           -0.37169538560117077,
           -0.13766122609163733,
           -0.10381165615712483,
           -0.13641903075491646,
           -0.4660421286959826,
           -0.1599362927645065,
           -0.13101944745095173,
           -0.1393534464073456,
           -0.46680806657950735,
           -0.15466685563310334,
           -0.12272647802503345,
           -0.03473605194134943,
           -0.12321331290147408,
           -0.03519202121238085,
           -0.03736623070394007,
           -0.029777820002985896,
           -0.11984055240393443,
           -0.025677883699462,
           -0.029518158313449172,
           -0.12410509616233512,
           -0.4064809681664345,
           -0.13462937456720744,
           -0.09638695835683307
          ]
         },
         "name": "",
         "parents": [
          "2019",
          "2020",
          "2021",
          "2022",
          "2019",
          "2020",
          "2021",
          "2022",
          "2019",
          "2020",
          "2021",
          "2022",
          "2019",
          "2020",
          "2021",
          "2022",
          "2019",
          "2020",
          "2021",
          "2022",
          "",
          "",
          "",
          ""
         ],
         "type": "sunburst",
         "values": [
          0.003529104144616806,
          0.006640323632724496,
          0.0030778277863814803,
          -0.0013408681036107416,
          0.004775898651530864,
          0.008324579190616578,
          0.003911501069486135,
          -0.0033574167610480074,
          0.004567151269203426,
          0.007472490330944973,
          0.004057349526694966,
          -0.0023902549198867662,
          0.0012467945069140542,
          0.0016842555578920814,
          0.0008336732831046542,
          -0.002016548657437266,
          0.0010380471245866197,
          0.0008321666982204781,
          0.0009795217403134877,
          -0.0010493868162760244,
          0.01515699569685177,
          0.024953815410398608,
          0.012859873405980724,
          -0.010154475258258806
         ]
        }
       ],
       "layout": {
        "coloraxis": {
         "colorbar": {
          "title": {
           "text": "minret"
          }
         },
         "colorscale": [
          [
           0,
           "rgb(103,0,31)"
          ],
          [
           0.1,
           "rgb(178,24,43)"
          ],
          [
           0.2,
           "rgb(214,96,77)"
          ],
          [
           0.3,
           "rgb(244,165,130)"
          ],
          [
           0.4,
           "rgb(253,219,199)"
          ],
          [
           0.5,
           "rgb(247,247,247)"
          ],
          [
           0.6,
           "rgb(209,229,240)"
          ],
          [
           0.7,
           "rgb(146,197,222)"
          ],
          [
           0.8,
           "rgb(67,147,195)"
          ],
          [
           0.9,
           "rgb(33,102,172)"
          ],
          [
           1,
           "rgb(5,48,97)"
          ]
         ]
        },
        "legend": {
         "tracegroupgap": 0
        },
        "margin": {
         "t": 60
        },
        "template": {
         "data": {
          "bar": [
           {
            "error_x": {
             "color": "#2a3f5f"
            },
            "error_y": {
             "color": "#2a3f5f"
            },
            "marker": {
             "line": {
              "color": "#E5ECF6",
              "width": 0.5
             },
             "pattern": {
              "fillmode": "overlay",
              "size": 10,
              "solidity": 0.2
             }
            },
            "type": "bar"
           }
          ],
          "barpolar": [
           {
            "marker": {
             "line": {
              "color": "#E5ECF6",
              "width": 0.5
             },
             "pattern": {
              "fillmode": "overlay",
              "size": 10,
              "solidity": 0.2
             }
            },
            "type": "barpolar"
           }
          ],
          "carpet": [
           {
            "aaxis": {
             "endlinecolor": "#2a3f5f",
             "gridcolor": "white",
             "linecolor": "white",
             "minorgridcolor": "white",
             "startlinecolor": "#2a3f5f"
            },
            "baxis": {
             "endlinecolor": "#2a3f5f",
             "gridcolor": "white",
             "linecolor": "white",
             "minorgridcolor": "white",
             "startlinecolor": "#2a3f5f"
            },
            "type": "carpet"
           }
          ],
          "choropleth": [
           {
            "colorbar": {
             "outlinewidth": 0,
             "ticks": ""
            },
            "type": "choropleth"
           }
          ],
          "contour": [
           {
            "colorbar": {
             "outlinewidth": 0,
             "ticks": ""
            },
            "colorscale": [
             [
              0,
              "#0d0887"
             ],
             [
              0.1111111111111111,
              "#46039f"
             ],
             [
              0.2222222222222222,
              "#7201a8"
             ],
             [
              0.3333333333333333,
              "#9c179e"
             ],
             [
              0.4444444444444444,
              "#bd3786"
             ],
             [
              0.5555555555555556,
              "#d8576b"
             ],
             [
              0.6666666666666666,
              "#ed7953"
             ],
             [
              0.7777777777777778,
              "#fb9f3a"
             ],
             [
              0.8888888888888888,
              "#fdca26"
             ],
             [
              1,
              "#f0f921"
             ]
            ],
            "type": "contour"
           }
          ],
          "contourcarpet": [
           {
            "colorbar": {
             "outlinewidth": 0,
             "ticks": ""
            },
            "type": "contourcarpet"
           }
          ],
          "heatmap": [
           {
            "colorbar": {
             "outlinewidth": 0,
             "ticks": ""
            },
            "colorscale": [
             [
              0,
              "#0d0887"
             ],
             [
              0.1111111111111111,
              "#46039f"
             ],
             [
              0.2222222222222222,
              "#7201a8"
             ],
             [
              0.3333333333333333,
              "#9c179e"
             ],
             [
              0.4444444444444444,
              "#bd3786"
             ],
             [
              0.5555555555555556,
              "#d8576b"
             ],
             [
              0.6666666666666666,
              "#ed7953"
             ],
             [
              0.7777777777777778,
              "#fb9f3a"
             ],
             [
              0.8888888888888888,
              "#fdca26"
             ],
             [
              1,
              "#f0f921"
             ]
            ],
            "type": "heatmap"
           }
          ],
          "heatmapgl": [
           {
            "colorbar": {
             "outlinewidth": 0,
             "ticks": ""
            },
            "colorscale": [
             [
              0,
              "#0d0887"
             ],
             [
              0.1111111111111111,
              "#46039f"
             ],
             [
              0.2222222222222222,
              "#7201a8"
             ],
             [
              0.3333333333333333,
              "#9c179e"
             ],
             [
              0.4444444444444444,
              "#bd3786"
             ],
             [
              0.5555555555555556,
              "#d8576b"
             ],
             [
              0.6666666666666666,
              "#ed7953"
             ],
             [
              0.7777777777777778,
              "#fb9f3a"
             ],
             [
              0.8888888888888888,
              "#fdca26"
             ],
             [
              1,
              "#f0f921"
             ]
            ],
            "type": "heatmapgl"
           }
          ],
          "histogram": [
           {
            "marker": {
             "pattern": {
              "fillmode": "overlay",
              "size": 10,
              "solidity": 0.2
             }
            },
            "type": "histogram"
           }
          ],
          "histogram2d": [
           {
            "colorbar": {
             "outlinewidth": 0,
             "ticks": ""
            },
            "colorscale": [
             [
              0,
              "#0d0887"
             ],
             [
              0.1111111111111111,
              "#46039f"
             ],
             [
              0.2222222222222222,
              "#7201a8"
             ],
             [
              0.3333333333333333,
              "#9c179e"
             ],
             [
              0.4444444444444444,
              "#bd3786"
             ],
             [
              0.5555555555555556,
              "#d8576b"
             ],
             [
              0.6666666666666666,
              "#ed7953"
             ],
             [
              0.7777777777777778,
              "#fb9f3a"
             ],
             [
              0.8888888888888888,
              "#fdca26"
             ],
             [
              1,
              "#f0f921"
             ]
            ],
            "type": "histogram2d"
           }
          ],
          "histogram2dcontour": [
           {
            "colorbar": {
             "outlinewidth": 0,
             "ticks": ""
            },
            "colorscale": [
             [
              0,
              "#0d0887"
             ],
             [
              0.1111111111111111,
              "#46039f"
             ],
             [
              0.2222222222222222,
              "#7201a8"
             ],
             [
              0.3333333333333333,
              "#9c179e"
             ],
             [
              0.4444444444444444,
              "#bd3786"
             ],
             [
              0.5555555555555556,
              "#d8576b"
             ],
             [
              0.6666666666666666,
              "#ed7953"
             ],
             [
              0.7777777777777778,
              "#fb9f3a"
             ],
             [
              0.8888888888888888,
              "#fdca26"
             ],
             [
              1,
              "#f0f921"
             ]
            ],
            "type": "histogram2dcontour"
           }
          ],
          "mesh3d": [
           {
            "colorbar": {
             "outlinewidth": 0,
             "ticks": ""
            },
            "type": "mesh3d"
           }
          ],
          "parcoords": [
           {
            "line": {
             "colorbar": {
              "outlinewidth": 0,
              "ticks": ""
             }
            },
            "type": "parcoords"
           }
          ],
          "pie": [
           {
            "automargin": true,
            "type": "pie"
           }
          ],
          "scatter": [
           {
            "marker": {
             "colorbar": {
              "outlinewidth": 0,
              "ticks": ""
             }
            },
            "type": "scatter"
           }
          ],
          "scatter3d": [
           {
            "line": {
             "colorbar": {
              "outlinewidth": 0,
              "ticks": ""
             }
            },
            "marker": {
             "colorbar": {
              "outlinewidth": 0,
              "ticks": ""
             }
            },
            "type": "scatter3d"
           }
          ],
          "scattercarpet": [
           {
            "marker": {
             "colorbar": {
              "outlinewidth": 0,
              "ticks": ""
             }
            },
            "type": "scattercarpet"
           }
          ],
          "scattergeo": [
           {
            "marker": {
             "colorbar": {
              "outlinewidth": 0,
              "ticks": ""
             }
            },
            "type": "scattergeo"
           }
          ],
          "scattergl": [
           {
            "marker": {
             "colorbar": {
              "outlinewidth": 0,
              "ticks": ""
             }
            },
            "type": "scattergl"
           }
          ],
          "scattermapbox": [
           {
            "marker": {
             "colorbar": {
              "outlinewidth": 0,
              "ticks": ""
             }
            },
            "type": "scattermapbox"
           }
          ],
          "scatterpolar": [
           {
            "marker": {
             "colorbar": {
              "outlinewidth": 0,
              "ticks": ""
             }
            },
            "type": "scatterpolar"
           }
          ],
          "scatterpolargl": [
           {
            "marker": {
             "colorbar": {
              "outlinewidth": 0,
              "ticks": ""
             }
            },
            "type": "scatterpolargl"
           }
          ],
          "scatterternary": [
           {
            "marker": {
             "colorbar": {
              "outlinewidth": 0,
              "ticks": ""
             }
            },
            "type": "scatterternary"
           }
          ],
          "surface": [
           {
            "colorbar": {
             "outlinewidth": 0,
             "ticks": ""
            },
            "colorscale": [
             [
              0,
              "#0d0887"
             ],
             [
              0.1111111111111111,
              "#46039f"
             ],
             [
              0.2222222222222222,
              "#7201a8"
             ],
             [
              0.3333333333333333,
              "#9c179e"
             ],
             [
              0.4444444444444444,
              "#bd3786"
             ],
             [
              0.5555555555555556,
              "#d8576b"
             ],
             [
              0.6666666666666666,
              "#ed7953"
             ],
             [
              0.7777777777777778,
              "#fb9f3a"
             ],
             [
              0.8888888888888888,
              "#fdca26"
             ],
             [
              1,
              "#f0f921"
             ]
            ],
            "type": "surface"
           }
          ],
          "table": [
           {
            "cells": {
             "fill": {
              "color": "#EBF0F8"
             },
             "line": {
              "color": "white"
             }
            },
            "header": {
             "fill": {
              "color": "#C8D4E3"
             },
             "line": {
              "color": "white"
             }
            },
            "type": "table"
           }
          ]
         },
         "layout": {
          "annotationdefaults": {
           "arrowcolor": "#2a3f5f",
           "arrowhead": 0,
           "arrowwidth": 1
          },
          "autotypenumbers": "strict",
          "coloraxis": {
           "colorbar": {
            "outlinewidth": 0,
            "ticks": ""
           }
          },
          "colorscale": {
           "diverging": [
            [
             0,
             "#8e0152"
            ],
            [
             0.1,
             "#c51b7d"
            ],
            [
             0.2,
             "#de77ae"
            ],
            [
             0.3,
             "#f1b6da"
            ],
            [
             0.4,
             "#fde0ef"
            ],
            [
             0.5,
             "#f7f7f7"
            ],
            [
             0.6,
             "#e6f5d0"
            ],
            [
             0.7,
             "#b8e186"
            ],
            [
             0.8,
             "#7fbc41"
            ],
            [
             0.9,
             "#4d9221"
            ],
            [
             1,
             "#276419"
            ]
           ],
           "sequential": [
            [
             0,
             "#0d0887"
            ],
            [
             0.1111111111111111,
             "#46039f"
            ],
            [
             0.2222222222222222,
             "#7201a8"
            ],
            [
             0.3333333333333333,
             "#9c179e"
            ],
            [
             0.4444444444444444,
             "#bd3786"
            ],
            [
             0.5555555555555556,
             "#d8576b"
            ],
            [
             0.6666666666666666,
             "#ed7953"
            ],
            [
             0.7777777777777778,
             "#fb9f3a"
            ],
            [
             0.8888888888888888,
             "#fdca26"
            ],
            [
             1,
             "#f0f921"
            ]
           ],
           "sequentialminus": [
            [
             0,
             "#0d0887"
            ],
            [
             0.1111111111111111,
             "#46039f"
            ],
            [
             0.2222222222222222,
             "#7201a8"
            ],
            [
             0.3333333333333333,
             "#9c179e"
            ],
            [
             0.4444444444444444,
             "#bd3786"
            ],
            [
             0.5555555555555556,
             "#d8576b"
            ],
            [
             0.6666666666666666,
             "#ed7953"
            ],
            [
             0.7777777777777778,
             "#fb9f3a"
            ],
            [
             0.8888888888888888,
             "#fdca26"
            ],
            [
             1,
             "#f0f921"
            ]
           ]
          },
          "colorway": [
           "#636efa",
           "#EF553B",
           "#00cc96",
           "#ab63fa",
           "#FFA15A",
           "#19d3f3",
           "#FF6692",
           "#B6E880",
           "#FF97FF",
           "#FECB52"
          ],
          "font": {
           "color": "#2a3f5f"
          },
          "geo": {
           "bgcolor": "white",
           "lakecolor": "white",
           "landcolor": "#E5ECF6",
           "showlakes": true,
           "showland": true,
           "subunitcolor": "white"
          },
          "hoverlabel": {
           "align": "left"
          },
          "hovermode": "closest",
          "mapbox": {
           "style": "light"
          },
          "paper_bgcolor": "white",
          "plot_bgcolor": "#E5ECF6",
          "polar": {
           "angularaxis": {
            "gridcolor": "white",
            "linecolor": "white",
            "ticks": ""
           },
           "bgcolor": "#E5ECF6",
           "radialaxis": {
            "gridcolor": "white",
            "linecolor": "white",
            "ticks": ""
           }
          },
          "scene": {
           "xaxis": {
            "backgroundcolor": "#E5ECF6",
            "gridcolor": "white",
            "gridwidth": 2,
            "linecolor": "white",
            "showbackground": true,
            "ticks": "",
            "zerolinecolor": "white"
           },
           "yaxis": {
            "backgroundcolor": "#E5ECF6",
            "gridcolor": "white",
            "gridwidth": 2,
            "linecolor": "white",
            "showbackground": true,
            "ticks": "",
            "zerolinecolor": "white"
           },
           "zaxis": {
            "backgroundcolor": "#E5ECF6",
            "gridcolor": "white",
            "gridwidth": 2,
            "linecolor": "white",
            "showbackground": true,
            "ticks": "",
            "zerolinecolor": "white"
           }
          },
          "shapedefaults": {
           "line": {
            "color": "#2a3f5f"
           }
          },
          "ternary": {
           "aaxis": {
            "gridcolor": "white",
            "linecolor": "white",
            "ticks": ""
           },
           "baxis": {
            "gridcolor": "white",
            "linecolor": "white",
            "ticks": ""
           },
           "bgcolor": "#E5ECF6",
           "caxis": {
            "gridcolor": "white",
            "linecolor": "white",
            "ticks": ""
           }
          },
          "title": {
           "x": 0.05
          },
          "xaxis": {
           "automargin": true,
           "gridcolor": "white",
           "linecolor": "white",
           "ticks": "",
           "title": {
            "standoff": 15
           },
           "zerolinecolor": "white",
           "zerolinewidth": 2
          },
          "yaxis": {
           "automargin": true,
           "gridcolor": "white",
           "linecolor": "white",
           "ticks": "",
           "title": {
            "standoff": 15
           },
           "zerolinecolor": "white",
           "zerolinewidth": 2
          }
         }
        }
       }
      }
     },
     "metadata": {},
     "output_type": "display_data"
    }
   ],
   "source": [
    "# Create sunburst chart\n",
    "retmxloss_chart = px.sunburst(\n",
    "    data_sunburst, \n",
    "    path=['year', 'port'], \n",
    "    values='avgret',\n",
    "    color='minret', \n",
    "    color_continuous_scale='RdBu',\n",
    "    hover_data=['minret'],\n",
    ")\n",
    "\n",
    "retmxloss_chart.show()"
   ]
  },
  {
   "cell_type": "markdown",
   "id": "cc025f2f",
   "metadata": {},
   "source": [
    "### Sharpe results\n",
    "\n",
    "The Sharpe ratio for Bitcoin and the equally weighted portfolios outperformed both the S&P 500 and NASDAQ.\n",
    "\n",
    "Despite high volatility of bitcoin and the portfolios, their returns compensated for every unit of risk superior to the S&P 500 and NASDAQ."
   ]
  },
  {
   "cell_type": "code",
   "execution_count": 36,
   "id": "5949e57e",
   "metadata": {},
   "outputs": [],
   "source": [
    "# annualized return, risk and sharpe for individual assets for whole history\n",
    "all_pct_change = pd.concat([pct_change_df, combined_pct_change], axis=1)\n",
    "annual_returns = all_pct_change.mean() * 252\n",
    "annual_std = all_pct_change.std() * np.sqrt(252)\n",
    "annual_sharpe = annual_returns / annual_std"
   ]
  },
  {
   "cell_type": "code",
   "execution_count": 37,
   "id": "44f1af53",
   "metadata": {},
   "outputs": [
    {
     "data": {},
     "metadata": {},
     "output_type": "display_data"
    },
    {
     "data": {
      "application/vnd.holoviews_exec.v0+json": "",
      "text/html": [
       "<div id='2904'>\n",
       "\n",
       "\n",
       "\n",
       "\n",
       "\n",
       "  <div class=\"bk-root\" id=\"3c2c9b2e-fdc8-4023-a8e4-06099d3a9732\" data-root-id=\"2904\"></div>\n",
       "</div>\n",
       "<script type=\"application/javascript\">(function(root) {\n",
       "  function embed_document(root) {\n",
       "    var docs_json = {\"4f3c0b22-6271-4663-84cd-f1e75636e193\":{\"defs\":[{\"extends\":null,\"module\":null,\"name\":\"ReactiveHTML1\",\"overrides\":[],\"properties\":[]},{\"extends\":null,\"module\":null,\"name\":\"FlexBox1\",\"overrides\":[],\"properties\":[{\"default\":\"flex-start\",\"kind\":null,\"name\":\"align_content\"},{\"default\":\"flex-start\",\"kind\":null,\"name\":\"align_items\"},{\"default\":\"row\",\"kind\":null,\"name\":\"flex_direction\"},{\"default\":\"wrap\",\"kind\":null,\"name\":\"flex_wrap\"},{\"default\":\"flex-start\",\"kind\":null,\"name\":\"justify_content\"}]},{\"extends\":null,\"module\":null,\"name\":\"TemplateActions1\",\"overrides\":[],\"properties\":[{\"default\":0,\"kind\":null,\"name\":\"open_modal\"},{\"default\":0,\"kind\":null,\"name\":\"close_modal\"}]},{\"extends\":null,\"module\":null,\"name\":\"MaterialTemplateActions1\",\"overrides\":[],\"properties\":[{\"default\":0,\"kind\":null,\"name\":\"open_modal\"},{\"default\":0,\"kind\":null,\"name\":\"close_modal\"}]}],\"roots\":{\"references\":[{\"attributes\":{},\"id\":\"2929\",\"type\":\"ResetTool\"},{\"attributes\":{\"axis_label\":\"\",\"coordinates\":null,\"formatter\":{\"id\":\"2948\"},\"group\":null,\"major_label_policy\":{\"id\":\"2949\"},\"ticker\":{\"id\":\"2919\"}},\"id\":\"2918\",\"type\":\"CategoricalAxis\"},{\"attributes\":{},\"id\":\"2960\",\"type\":\"UnionRenderers\"},{\"attributes\":{\"bottom_units\":\"screen\",\"coordinates\":null,\"fill_alpha\":0.5,\"fill_color\":\"lightgrey\",\"group\":null,\"left_units\":\"screen\",\"level\":\"overlay\",\"line_alpha\":1.0,\"line_color\":\"black\",\"line_dash\":[4,4],\"line_width\":2,\"right_units\":\"screen\",\"syncable\":false,\"top_units\":\"screen\"},\"id\":\"2930\",\"type\":\"BoxAnnotation\"},{\"attributes\":{\"margin\":[5,5,5,5],\"name\":\"HSpacer02840\",\"sizing_mode\":\"stretch_width\"},\"id\":\"2905\",\"type\":\"Spacer\"},{\"attributes\":{\"axis\":{\"id\":\"2918\"},\"coordinates\":null,\"grid_line_color\":null,\"group\":null,\"ticker\":null},\"id\":\"2920\",\"type\":\"Grid\"},{\"attributes\":{\"axis\":{\"id\":\"2921\"},\"coordinates\":null,\"dimension\":1,\"grid_line_color\":null,\"group\":null,\"ticker\":null},\"id\":\"2924\",\"type\":\"Grid\"},{\"attributes\":{},\"id\":\"2952\",\"type\":\"AllLabels\"},{\"attributes\":{},\"id\":\"2919\",\"type\":\"CategoricalTicker\"},{\"attributes\":{\"fill_alpha\":{\"value\":0.1},\"fill_color\":{\"value\":\"#30a2da\"},\"hatch_alpha\":{\"value\":0.1},\"hatch_color\":{\"value\":\"#30a2da\"},\"line_alpha\":{\"value\":0.1},\"top\":{\"field\":\"A_0\"},\"width\":{\"value\":0.8},\"x\":{\"field\":\"index\"}},\"id\":\"2942\",\"type\":\"VBar\"},{\"attributes\":{\"coordinates\":null,\"group\":null,\"text\":\"Annualized Sharpe Ratio for each assets and portfolios\",\"text_color\":\"black\",\"text_font_size\":\"12pt\"},\"id\":\"2910\",\"type\":\"Title\"},{\"attributes\":{\"bottom\":{\"value\":0},\"fill_alpha\":{\"value\":1.0},\"fill_color\":{\"value\":\"#30a2da\"},\"hatch_alpha\":{\"value\":1.0},\"hatch_color\":{\"value\":\"#30a2da\"},\"hatch_scale\":{\"value\":12.0},\"hatch_weight\":{\"value\":1.0},\"line_alpha\":{\"value\":1.0},\"line_cap\":{\"value\":\"butt\"},\"line_color\":{\"value\":\"black\"},\"line_dash\":{\"value\":[]},\"line_dash_offset\":{\"value\":0},\"line_join\":{\"value\":\"bevel\"},\"line_width\":{\"value\":1},\"top\":{\"field\":\"A_0\"},\"width\":{\"value\":0.8},\"x\":{\"field\":\"index\"}},\"id\":\"2946\",\"type\":\"VBar\"},{\"attributes\":{},\"id\":\"2922\",\"type\":\"BasicTicker\"},{\"attributes\":{\"axis_label\":\"\",\"coordinates\":null,\"formatter\":{\"id\":\"2951\"},\"group\":null,\"major_label_policy\":{\"id\":\"2952\"},\"ticker\":{\"id\":\"2922\"}},\"id\":\"2921\",\"type\":\"LinearAxis\"},{\"attributes\":{\"source\":{\"id\":\"2938\"}},\"id\":\"2945\",\"type\":\"CDSView\"},{\"attributes\":{},\"id\":\"2951\",\"type\":\"BasicTickFormatter\"},{\"attributes\":{\"fill_alpha\":{\"value\":0.2},\"fill_color\":{\"value\":\"#30a2da\"},\"hatch_alpha\":{\"value\":0.2},\"hatch_color\":{\"value\":\"#30a2da\"},\"line_alpha\":{\"value\":0.2},\"top\":{\"field\":\"A_0\"},\"width\":{\"value\":0.8},\"x\":{\"field\":\"index\"}},\"id\":\"2943\",\"type\":\"VBar\"},{\"attributes\":{},\"id\":\"2949\",\"type\":\"AllLabels\"},{\"attributes\":{\"callback\":null,\"renderers\":[{\"id\":\"2944\"}],\"tags\":[\"hv_created\"],\"tooltips\":[[\"index\",\"@{index}\"],[\"0\",\"@{A_0}\"]]},\"id\":\"2908\",\"type\":\"HoverTool\"},{\"attributes\":{\"coordinates\":null,\"data_source\":{\"id\":\"2938\"},\"glyph\":{\"id\":\"2941\"},\"group\":null,\"hover_glyph\":null,\"muted_glyph\":{\"id\":\"2943\"},\"nonselection_glyph\":{\"id\":\"2942\"},\"selection_glyph\":{\"id\":\"2946\"},\"view\":{\"id\":\"2945\"}},\"id\":\"2944\",\"type\":\"GlyphRenderer\"},{\"attributes\":{},\"id\":\"2916\",\"type\":\"LinearScale\"},{\"attributes\":{\"data\":{\"A_0\":{\"__ndarray__\":\"Mm+EGlvY8j/vnh+bhmflP8n8EVcBSOk/wDgOG9Ue9D9soXtvH6b0Pw==\",\"dtype\":\"float64\",\"order\":\"little\",\"shape\":[5]},\"index\":[\"BTC\",\"SP500\",\"NASDAQ\",\"BTC-SP500\",\"BTC-NASDAQ\"]},\"selected\":{\"id\":\"2939\"},\"selection_policy\":{\"id\":\"2960\"}},\"id\":\"2938\",\"type\":\"ColumnDataSource\"},{\"attributes\":{},\"id\":\"2948\",\"type\":\"CategoricalTickFormatter\"},{\"attributes\":{},\"id\":\"2925\",\"type\":\"SaveTool\"},{\"attributes\":{\"fill_color\":{\"value\":\"#30a2da\"},\"hatch_color\":{\"value\":\"#30a2da\"},\"top\":{\"field\":\"A_0\"},\"width\":{\"value\":0.8},\"x\":{\"field\":\"index\"}},\"id\":\"2941\",\"type\":\"VBar\"},{\"attributes\":{\"below\":[{\"id\":\"2918\"}],\"center\":[{\"id\":\"2920\"},{\"id\":\"2924\"}],\"height\":300,\"left\":[{\"id\":\"2921\"}],\"margin\":[5,5,5,5],\"min_border_bottom\":10,\"min_border_left\":10,\"min_border_right\":10,\"min_border_top\":10,\"renderers\":[{\"id\":\"2944\"}],\"sizing_mode\":\"fixed\",\"title\":{\"id\":\"2910\"},\"toolbar\":{\"id\":\"2931\"},\"width\":500,\"x_range\":{\"id\":\"2906\"},\"x_scale\":{\"id\":\"2914\"},\"y_range\":{\"id\":\"2907\"},\"y_scale\":{\"id\":\"2916\"}},\"id\":\"2909\",\"subtype\":\"Figure\",\"type\":\"Plot\"},{\"attributes\":{},\"id\":\"2926\",\"type\":\"PanTool\"},{\"attributes\":{\"children\":[{\"id\":\"2905\"},{\"id\":\"2909\"},{\"id\":\"2973\"}],\"margin\":[0,0,0,0],\"name\":\"Row02836\",\"tags\":[\"embedded\"]},\"id\":\"2904\",\"type\":\"Row\"},{\"attributes\":{\"margin\":[5,5,5,5],\"name\":\"HSpacer02841\",\"sizing_mode\":\"stretch_width\"},\"id\":\"2973\",\"type\":\"Spacer\"},{\"attributes\":{},\"id\":\"2914\",\"type\":\"CategoricalScale\"},{\"attributes\":{},\"id\":\"2927\",\"type\":\"WheelZoomTool\"},{\"attributes\":{\"tools\":[{\"id\":\"2908\"},{\"id\":\"2925\"},{\"id\":\"2926\"},{\"id\":\"2927\"},{\"id\":\"2928\"},{\"id\":\"2929\"}]},\"id\":\"2931\",\"type\":\"Toolbar\"},{\"attributes\":{},\"id\":\"2939\",\"type\":\"Selection\"},{\"attributes\":{\"overlay\":{\"id\":\"2930\"}},\"id\":\"2928\",\"type\":\"BoxZoomTool\"},{\"attributes\":{\"factors\":[\"BTC\",\"SP500\",\"NASDAQ\",\"BTC-SP500\",\"BTC-NASDAQ\"],\"tags\":[[[\"index\",\"index\",null]]]},\"id\":\"2906\",\"type\":\"FactorRange\"},{\"attributes\":{\"end\":1.3527243125254254,\"reset_end\":1.3527243125254254,\"reset_start\":0.0,\"tags\":[[[\"0\",\"0\",null]]]},\"id\":\"2907\",\"type\":\"Range1d\"}],\"root_ids\":[\"2904\"]},\"title\":\"Bokeh Application\",\"version\":\"2.4.1\"}};\n",
       "    var render_items = [{\"docid\":\"4f3c0b22-6271-4663-84cd-f1e75636e193\",\"root_ids\":[\"2904\"],\"roots\":{\"2904\":\"3c2c9b2e-fdc8-4023-a8e4-06099d3a9732\"}}];\n",
       "    root.Bokeh.embed.embed_items_notebook(docs_json, render_items);\n",
       "  }\n",
       "  if (root.Bokeh !== undefined && root.Bokeh.Panel !== undefined) {\n",
       "    embed_document(root);\n",
       "  } else {\n",
       "    var attempts = 0;\n",
       "    var timer = setInterval(function(root) {\n",
       "      if (root.Bokeh !== undefined && root.Bokeh.Panel !== undefined) {\n",
       "        clearInterval(timer);\n",
       "        embed_document(root);\n",
       "      } else if (document.readyState == \"complete\") {\n",
       "        attempts++;\n",
       "        if (attempts > 200) {\n",
       "          clearInterval(timer);\n",
       "          console.log(\"Bokeh: ERROR: Unable to run BokehJS code because BokehJS library is missing\");\n",
       "        }\n",
       "      }\n",
       "    }, 25, root)\n",
       "  }\n",
       "})(window);</script>"
      ],
      "text/plain": [
       ":Bars   [index]   (0)"
      ]
     },
     "execution_count": 37,
     "metadata": {
      "application/vnd.holoviews_exec.v0+json": {
       "id": "2904"
      }
     },
     "output_type": "execute_result"
    }
   ],
   "source": [
    "# Create bar chart to disply the annualized sharpe ratios\n",
    "sharpe_bar_chart = create_bar_chart(\n",
    "    annual_sharpe,\n",
    "    'Annualized Sharpe Ratio for each assets and portfolios'\n",
    ")\n",
    "\n",
    "sharpe_bar_chart"
   ]
  },
  {
   "cell_type": "code",
   "execution_count": 38,
   "id": "658a322b",
   "metadata": {},
   "outputs": [
    {
     "data": {},
     "metadata": {},
     "output_type": "display_data"
    },
    {
     "data": {},
     "metadata": {},
     "output_type": "display_data"
    },
    {
     "data": {
      "application/vnd.holoviews_exec.v0+json": "",
      "text/html": [
       "<div id='3055'>\n",
       "\n",
       "\n",
       "\n",
       "\n",
       "\n",
       "  <div class=\"bk-root\" id=\"b75ae1c1-936f-4d2c-a73b-85ea00ad79dd\" data-root-id=\"3055\"></div>\n",
       "</div>\n",
       "<script type=\"application/javascript\">(function(root) {\n",
       "  function embed_document(root) {\n",
       "    var docs_json = {\"1f318676-c50f-4c66-97e5-b1716a9bf6b8\":{\"defs\":[{\"extends\":null,\"module\":null,\"name\":\"ReactiveHTML1\",\"overrides\":[],\"properties\":[]},{\"extends\":null,\"module\":null,\"name\":\"FlexBox1\",\"overrides\":[],\"properties\":[{\"default\":\"flex-start\",\"kind\":null,\"name\":\"align_content\"},{\"default\":\"flex-start\",\"kind\":null,\"name\":\"align_items\"},{\"default\":\"row\",\"kind\":null,\"name\":\"flex_direction\"},{\"default\":\"wrap\",\"kind\":null,\"name\":\"flex_wrap\"},{\"default\":\"flex-start\",\"kind\":null,\"name\":\"justify_content\"}]},{\"extends\":null,\"module\":null,\"name\":\"TemplateActions1\",\"overrides\":[],\"properties\":[{\"default\":0,\"kind\":null,\"name\":\"open_modal\"},{\"default\":0,\"kind\":null,\"name\":\"close_modal\"}]},{\"extends\":null,\"module\":null,\"name\":\"MaterialTemplateActions1\",\"overrides\":[],\"properties\":[{\"default\":0,\"kind\":null,\"name\":\"open_modal\"},{\"default\":0,\"kind\":null,\"name\":\"close_modal\"}]}],\"roots\":{\"references\":[{\"attributes\":{\"fill_color\":{\"value\":\"#30a2da\"},\"hatch_color\":{\"value\":\"#30a2da\"},\"top\":{\"field\":\"A_0\"},\"width\":{\"value\":0.8},\"x\":{\"field\":\"index\"}},\"id\":\"3091\",\"type\":\"VBar\"},{\"attributes\":{\"axis\":{\"id\":\"3143\"},\"coordinates\":null,\"dimension\":1,\"grid_line_color\":null,\"group\":null,\"ticker\":null},\"id\":\"3146\",\"type\":\"Grid\"},{\"attributes\":{\"data\":{\"index\":[\"BTC vs SP500\",\"BTC vs NASDAQ\",\"SP500 vs NASDAQ\"],\"normal\":{\"__ndarray__\":\"HJWx3SB/tj/26HuJKm6+P/JptUZXKO0/\",\"dtype\":\"float64\",\"order\":\"little\",\"shape\":[3]}},\"selected\":{\"id\":\"3208\"},\"selection_policy\":{\"id\":\"3240\"}},\"id\":\"3207\",\"type\":\"ColumnDataSource\"},{\"attributes\":{},\"id\":\"3441\",\"type\":\"Selection\"},{\"attributes\":{\"axis\":{\"id\":\"3190\"},\"coordinates\":null,\"dimension\":1,\"grid_line_color\":null,\"group\":null,\"ticker\":null},\"id\":\"3193\",\"type\":\"Grid\"},{\"attributes\":{},\"id\":\"3440\",\"type\":\"UnionRenderers\"},{\"attributes\":{\"source\":{\"id\":\"3160\"}},\"id\":\"3167\",\"type\":\"CDSView\"},{\"attributes\":{\"axis\":{\"id\":\"3187\"},\"coordinates\":null,\"grid_line_color\":null,\"group\":null,\"ticker\":null},\"id\":\"3189\",\"type\":\"Grid\"},{\"attributes\":{\"fill_alpha\":{\"value\":0.2},\"fill_color\":{\"value\":\"#30a2da\"},\"hatch_alpha\":{\"value\":0.2},\"hatch_color\":{\"value\":\"#30a2da\"},\"line_alpha\":{\"value\":0.2},\"top\":{\"field\":\"A_0\"},\"width\":{\"value\":0.8},\"x\":{\"field\":\"index\"}},\"id\":\"3093\",\"type\":\"VBar\"},{\"attributes\":{},\"id\":\"3191\",\"type\":\"BasicTicker\"},{\"attributes\":{\"callback\":null,\"renderers\":[{\"id\":\"3094\"}],\"tags\":[\"hv_created\"],\"tooltips\":[[\"index\",\"@{index}\"],[\"0\",\"@{A_0}\"]]},\"id\":\"3058\",\"type\":\"HoverTool\"},{\"attributes\":{\"axis_label\":\"\",\"coordinates\":null,\"formatter\":{\"id\":\"3220\"},\"group\":null,\"major_label_policy\":{\"id\":\"3221\"},\"ticker\":{\"id\":\"3191\"}},\"id\":\"3190\",\"type\":\"LinearAxis\"},{\"attributes\":{\"coordinates\":null,\"data_source\":{\"id\":\"3160\"},\"glyph\":{\"id\":\"3163\"},\"group\":null,\"hover_glyph\":null,\"muted_glyph\":{\"id\":\"3165\"},\"nonselection_glyph\":{\"id\":\"3164\"},\"selection_glyph\":{\"id\":\"3168\"},\"view\":{\"id\":\"3167\"}},\"id\":\"3166\",\"type\":\"GlyphRenderer\"},{\"attributes\":{},\"id\":\"3147\",\"type\":\"SaveTool\"},{\"attributes\":{\"data\":{\"customdata\":[{\"__ndarray__\":\"yBx2XL3Rwr/IHHZcvdHCv/bKTnHbyde/9spOcdvJ17/80/4P4p7Bv/zT/g/insG/V3EjlGaTur9XcSOUZpO6vzB70sUtdsG/MHvSxS12wb+QrVNdotPdv5CtU12i092/EPtu3cp4xL8Q+27dynjEv9SN+Mg+xcC/1I34yD7FwL+gxHNvVdbBv6DEc29V1sG/TPPd8C7g3b9M893wLuDdvxQTXJ8fzMO/FBNcnx/Mw78ghXihAGu/vyCFeKEAa7+/8BYpfuzIob/wFil+7MihvzD5V13oir+/MPlXXeiKv7+g519IsASiv6DnX0iwBKK/EEmypaoho78QSbKlqiGjvz9qPKwTfp6/P2o8rBN+nr+YOU/V3q2+v5g5T9Xerb6/APTgmk1Lmr8A9OCaTUuav0CuYBICOp6/QK5gEgI6nr8Av0gBWsW/vwC/SAFaxb+/AykuwMgD2r8DKS7AyAPav3NtbAyJO8G/c21sDIk7wb+PTOfR0Ky4v49M59HQrLi/\",\"dtype\":\"float64\",\"order\":\"little\",\"shape\":[24,2]}],\"ids\":[[\"2019/BTC\",\"2020/BTC\",\"2021/BTC\",\"2022/BTC\",\"2019/BTC-NASDAQ\",\"2020/BTC-NASDAQ\",\"2021/BTC-NASDAQ\",\"2022/BTC-NASDAQ\",\"2019/BTC-SP500\",\"2020/BTC-SP500\",\"2021/BTC-SP500\",\"2022/BTC-SP500\",\"2019/NASDAQ\",\"2020/NASDAQ\",\"2021/NASDAQ\",\"2022/NASDAQ\",\"2019/SP500\",\"2020/SP500\",\"2021/SP500\",\"2022/SP500\",\"2019\",\"2020\",\"2021\",\"2022\"]],\"labels\":[[\"BTC\",\"BTC\",\"BTC\",\"BTC\",\"BTC-NASDAQ\",\"BTC-NASDAQ\",\"BTC-NASDAQ\",\"BTC-NASDAQ\",\"BTC-SP500\",\"BTC-SP500\",\"BTC-SP500\",\"BTC-SP500\",\"NASDAQ\",\"NASDAQ\",\"NASDAQ\",\"NASDAQ\",\"SP500\",\"SP500\",\"SP500\",\"SP500\",\"2019\",\"2020\",\"2021\",\"2022\"]],\"marker.colors\":[{\"__ndarray__\":\"yBx2XL3Rwr/2yk5x28nXv/zT/g/insG/V3EjlGaTur8we9LFLXbBv5CtU12i092/EPtu3cp4xL/UjfjIPsXAv6DEc29V1sG/TPPd8C7g3b8UE1yfH8zDvyCFeKEAa7+/8BYpfuzIob8w+Vdd6Iq/v6DnX0iwBKK/EEmypaoho78/ajysE36ev5g5T9Xerb6/APTgmk1Lmr9ArmASAjqevwC/SAFaxb+/AykuwMgD2r9zbWwMiTvBv49M59HQrLi/\",\"dtype\":\"float64\",\"order\":\"little\",\"shape\":[24]}],\"parents\":[[\"2019\",\"2020\",\"2021\",\"2022\",\"2019\",\"2020\",\"2021\",\"2022\",\"2019\",\"2020\",\"2021\",\"2022\",\"2019\",\"2020\",\"2021\",\"2022\",\"2019\",\"2020\",\"2021\",\"2022\",\"\",\"\",\"\",\"\"]],\"values\":[{\"__ndarray__\":\"129UXBHpbD+KBWZN4jJ7P2Nk7TWsNmk/R/nOKQL4Vb+nAUeI5I9zP4FmAxt6DIE/DlW/koEFcD+H/gFmA4Frvz3RZFUBtXI/ahV1WXmbfj9P12h4cJ5wPxJ1uFa6lGO/3SZzaG9tVD/cHYOiR5hbP98WRb5bUUs/5IEaUQKFYL9DZeqc4gFRPw1/eGC4REs/fpTIdWkMUD/c8KGDcjFRv+y2loahCo8/1G9kNH6NmT9F06z9RlaKP6RaI5ney4S/\",\"dtype\":\"float64\",\"order\":\"little\",\"shape\":[24]}]},\"selected\":{\"id\":\"3441\"},\"selection_policy\":{\"id\":\"3440\"}},\"id\":\"3124\",\"type\":\"ColumnDataSource\"},{\"attributes\":{\"data\":[{\"branchvalues\":\"total\",\"domain\":{\"x\":[0.0,1.0],\"y\":[0.0,1.0]},\"hovertemplate\":\"labels=%{label}<br>avgret=%{value}<br>parent=%{parent}<br>id=%{id}<br>minret=%{color}<extra></extra>\",\"marker\":{\"coloraxis\":\"coloraxis\"},\"name\":\"\",\"type\":\"sunburst\"}],\"data_sources\":[{\"id\":\"3124\"}],\"layout\":{\"coloraxis\":{\"colorbar\":{\"title\":{\"text\":\"minret\"}},\"colorscale\":[[0.0,\"rgb(103,0,31)\"],[0.1,\"rgb(178,24,43)\"],[0.2,\"rgb(214,96,77)\"],[0.3,\"rgb(244,165,130)\"],[0.4,\"rgb(253,219,199)\"],[0.5,\"rgb(247,247,247)\"],[0.6,\"rgb(209,229,240)\"],[0.7,\"rgb(146,197,222)\"],[0.8,\"rgb(67,147,195)\"],[0.9,\"rgb(33,102,172)\"],[1.0,\"rgb(5,48,97)\"]]},\"legend\":{\"tracegroupgap\":0},\"margin\":{\"t\":60},\"template\":{\"data\":{\"bar\":[{\"error_x\":{\"color\":\"#2a3f5f\"},\"error_y\":{\"color\":\"#2a3f5f\"},\"marker\":{\"line\":{\"color\":\"#E5ECF6\",\"width\":0.5},\"pattern\":{\"fillmode\":\"overlay\",\"size\":10,\"solidity\":0.2}},\"type\":\"bar\"}],\"barpolar\":[{\"marker\":{\"line\":{\"color\":\"#E5ECF6\",\"width\":0.5},\"pattern\":{\"fillmode\":\"overlay\",\"size\":10,\"solidity\":0.2}},\"type\":\"barpolar\"}],\"carpet\":[{\"aaxis\":{\"endlinecolor\":\"#2a3f5f\",\"gridcolor\":\"white\",\"linecolor\":\"white\",\"minorgridcolor\":\"white\",\"startlinecolor\":\"#2a3f5f\"},\"baxis\":{\"endlinecolor\":\"#2a3f5f\",\"gridcolor\":\"white\",\"linecolor\":\"white\",\"minorgridcolor\":\"white\",\"startlinecolor\":\"#2a3f5f\"},\"type\":\"carpet\"}],\"choropleth\":[{\"colorbar\":{\"outlinewidth\":0,\"ticks\":\"\"},\"type\":\"choropleth\"}],\"contour\":[{\"colorbar\":{\"outlinewidth\":0,\"ticks\":\"\"},\"colorscale\":[[0.0,\"#0d0887\"],[0.1111111111111111,\"#46039f\"],[0.2222222222222222,\"#7201a8\"],[0.3333333333333333,\"#9c179e\"],[0.4444444444444444,\"#bd3786\"],[0.5555555555555556,\"#d8576b\"],[0.6666666666666666,\"#ed7953\"],[0.7777777777777778,\"#fb9f3a\"],[0.8888888888888888,\"#fdca26\"],[1.0,\"#f0f921\"]],\"type\":\"contour\"}],\"contourcarpet\":[{\"colorbar\":{\"outlinewidth\":0,\"ticks\":\"\"},\"type\":\"contourcarpet\"}],\"heatmap\":[{\"colorbar\":{\"outlinewidth\":0,\"ticks\":\"\"},\"colorscale\":[[0.0,\"#0d0887\"],[0.1111111111111111,\"#46039f\"],[0.2222222222222222,\"#7201a8\"],[0.3333333333333333,\"#9c179e\"],[0.4444444444444444,\"#bd3786\"],[0.5555555555555556,\"#d8576b\"],[0.6666666666666666,\"#ed7953\"],[0.7777777777777778,\"#fb9f3a\"],[0.8888888888888888,\"#fdca26\"],[1.0,\"#f0f921\"]],\"type\":\"heatmap\"}],\"heatmapgl\":[{\"colorbar\":{\"outlinewidth\":0,\"ticks\":\"\"},\"colorscale\":[[0.0,\"#0d0887\"],[0.1111111111111111,\"#46039f\"],[0.2222222222222222,\"#7201a8\"],[0.3333333333333333,\"#9c179e\"],[0.4444444444444444,\"#bd3786\"],[0.5555555555555556,\"#d8576b\"],[0.6666666666666666,\"#ed7953\"],[0.7777777777777778,\"#fb9f3a\"],[0.8888888888888888,\"#fdca26\"],[1.0,\"#f0f921\"]],\"type\":\"heatmapgl\"}],\"histogram\":[{\"marker\":{\"pattern\":{\"fillmode\":\"overlay\",\"size\":10,\"solidity\":0.2}},\"type\":\"histogram\"}],\"histogram2d\":[{\"colorbar\":{\"outlinewidth\":0,\"ticks\":\"\"},\"colorscale\":[[0.0,\"#0d0887\"],[0.1111111111111111,\"#46039f\"],[0.2222222222222222,\"#7201a8\"],[0.3333333333333333,\"#9c179e\"],[0.4444444444444444,\"#bd3786\"],[0.5555555555555556,\"#d8576b\"],[0.6666666666666666,\"#ed7953\"],[0.7777777777777778,\"#fb9f3a\"],[0.8888888888888888,\"#fdca26\"],[1.0,\"#f0f921\"]],\"type\":\"histogram2d\"}],\"histogram2dcontour\":[{\"colorbar\":{\"outlinewidth\":0,\"ticks\":\"\"},\"colorscale\":[[0.0,\"#0d0887\"],[0.1111111111111111,\"#46039f\"],[0.2222222222222222,\"#7201a8\"],[0.3333333333333333,\"#9c179e\"],[0.4444444444444444,\"#bd3786\"],[0.5555555555555556,\"#d8576b\"],[0.6666666666666666,\"#ed7953\"],[0.7777777777777778,\"#fb9f3a\"],[0.8888888888888888,\"#fdca26\"],[1.0,\"#f0f921\"]],\"type\":\"histogram2dcontour\"}],\"mesh3d\":[{\"colorbar\":{\"outlinewidth\":0,\"ticks\":\"\"},\"type\":\"mesh3d\"}],\"parcoords\":[{\"line\":{\"colorbar\":{\"outlinewidth\":0,\"ticks\":\"\"}},\"type\":\"parcoords\"}],\"pie\":[{\"automargin\":true,\"type\":\"pie\"}],\"scatter\":[{\"marker\":{\"colorbar\":{\"outlinewidth\":0,\"ticks\":\"\"}},\"type\":\"scatter\"}],\"scatter3d\":[{\"line\":{\"colorbar\":{\"outlinewidth\":0,\"ticks\":\"\"}},\"marker\":{\"colorbar\":{\"outlinewidth\":0,\"ticks\":\"\"}},\"type\":\"scatter3d\"}],\"scattercarpet\":[{\"marker\":{\"colorbar\":{\"outlinewidth\":0,\"ticks\":\"\"}},\"type\":\"scattercarpet\"}],\"scattergeo\":[{\"marker\":{\"colorbar\":{\"outlinewidth\":0,\"ticks\":\"\"}},\"type\":\"scattergeo\"}],\"scattergl\":[{\"marker\":{\"colorbar\":{\"outlinewidth\":0,\"ticks\":\"\"}},\"type\":\"scattergl\"}],\"scattermapbox\":[{\"marker\":{\"colorbar\":{\"outlinewidth\":0,\"ticks\":\"\"}},\"type\":\"scattermapbox\"}],\"scatterpolar\":[{\"marker\":{\"colorbar\":{\"outlinewidth\":0,\"ticks\":\"\"}},\"type\":\"scatterpolar\"}],\"scatterpolargl\":[{\"marker\":{\"colorbar\":{\"outlinewidth\":0,\"ticks\":\"\"}},\"type\":\"scatterpolargl\"}],\"scatterternary\":[{\"marker\":{\"colorbar\":{\"outlinewidth\":0,\"ticks\":\"\"}},\"type\":\"scatterternary\"}],\"surface\":[{\"colorbar\":{\"outlinewidth\":0,\"ticks\":\"\"},\"colorscale\":[[0.0,\"#0d0887\"],[0.1111111111111111,\"#46039f\"],[0.2222222222222222,\"#7201a8\"],[0.3333333333333333,\"#9c179e\"],[0.4444444444444444,\"#bd3786\"],[0.5555555555555556,\"#d8576b\"],[0.6666666666666666,\"#ed7953\"],[0.7777777777777778,\"#fb9f3a\"],[0.8888888888888888,\"#fdca26\"],[1.0,\"#f0f921\"]],\"type\":\"surface\"}],\"table\":[{\"cells\":{\"fill\":{\"color\":\"#EBF0F8\"},\"line\":{\"color\":\"white\"}},\"header\":{\"fill\":{\"color\":\"#C8D4E3\"},\"line\":{\"color\":\"white\"}},\"type\":\"table\"}]},\"layout\":{\"annotationdefaults\":{\"arrowcolor\":\"#2a3f5f\",\"arrowhead\":0,\"arrowwidth\":1},\"autotypenumbers\":\"strict\",\"coloraxis\":{\"colorbar\":{\"outlinewidth\":0,\"ticks\":\"\"}},\"colorscale\":{\"diverging\":[[0,\"#8e0152\"],[0.1,\"#c51b7d\"],[0.2,\"#de77ae\"],[0.3,\"#f1b6da\"],[0.4,\"#fde0ef\"],[0.5,\"#f7f7f7\"],[0.6,\"#e6f5d0\"],[0.7,\"#b8e186\"],[0.8,\"#7fbc41\"],[0.9,\"#4d9221\"],[1,\"#276419\"]],\"sequential\":[[0.0,\"#0d0887\"],[0.1111111111111111,\"#46039f\"],[0.2222222222222222,\"#7201a8\"],[0.3333333333333333,\"#9c179e\"],[0.4444444444444444,\"#bd3786\"],[0.5555555555555556,\"#d8576b\"],[0.6666666666666666,\"#ed7953\"],[0.7777777777777778,\"#fb9f3a\"],[0.8888888888888888,\"#fdca26\"],[1.0,\"#f0f921\"]],\"sequentialminus\":[[0.0,\"#0d0887\"],[0.1111111111111111,\"#46039f\"],[0.2222222222222222,\"#7201a8\"],[0.3333333333333333,\"#9c179e\"],[0.4444444444444444,\"#bd3786\"],[0.5555555555555556,\"#d8576b\"],[0.6666666666666666,\"#ed7953\"],[0.7777777777777778,\"#fb9f3a\"],[0.8888888888888888,\"#fdca26\"],[1.0,\"#f0f921\"]]},\"colorway\":[\"#636efa\",\"#EF553B\",\"#00cc96\",\"#ab63fa\",\"#FFA15A\",\"#19d3f3\",\"#FF6692\",\"#B6E880\",\"#FF97FF\",\"#FECB52\"],\"font\":{\"color\":\"#2a3f5f\"},\"geo\":{\"bgcolor\":\"white\",\"lakecolor\":\"white\",\"landcolor\":\"#E5ECF6\",\"showlakes\":true,\"showland\":true,\"subunitcolor\":\"white\"},\"hoverlabel\":{\"align\":\"left\"},\"hovermode\":\"closest\",\"mapbox\":{\"style\":\"light\"},\"paper_bgcolor\":\"white\",\"plot_bgcolor\":\"#E5ECF6\",\"polar\":{\"angularaxis\":{\"gridcolor\":\"white\",\"linecolor\":\"white\",\"ticks\":\"\"},\"bgcolor\":\"#E5ECF6\",\"radialaxis\":{\"gridcolor\":\"white\",\"linecolor\":\"white\",\"ticks\":\"\"}},\"scene\":{\"xaxis\":{\"backgroundcolor\":\"#E5ECF6\",\"gridcolor\":\"white\",\"gridwidth\":2,\"linecolor\":\"white\",\"showbackground\":true,\"ticks\":\"\",\"zerolinecolor\":\"white\"},\"yaxis\":{\"backgroundcolor\":\"#E5ECF6\",\"gridcolor\":\"white\",\"gridwidth\":2,\"linecolor\":\"white\",\"showbackground\":true,\"ticks\":\"\",\"zerolinecolor\":\"white\"},\"zaxis\":{\"backgroundcolor\":\"#E5ECF6\",\"gridcolor\":\"white\",\"gridwidth\":2,\"linecolor\":\"white\",\"showbackground\":true,\"ticks\":\"\",\"zerolinecolor\":\"white\"}},\"shapedefaults\":{\"line\":{\"color\":\"#2a3f5f\"}},\"ternary\":{\"aaxis\":{\"gridcolor\":\"white\",\"linecolor\":\"white\",\"ticks\":\"\"},\"baxis\":{\"gridcolor\":\"white\",\"linecolor\":\"white\",\"ticks\":\"\"},\"bgcolor\":\"#E5ECF6\",\"caxis\":{\"gridcolor\":\"white\",\"linecolor\":\"white\",\"ticks\":\"\"}},\"title\":{\"x\":0.05},\"xaxis\":{\"automargin\":true,\"gridcolor\":\"white\",\"linecolor\":\"white\",\"ticks\":\"\",\"title\":{\"standoff\":15},\"zerolinecolor\":\"white\",\"zerolinewidth\":2},\"yaxis\":{\"automargin\":true,\"gridcolor\":\"white\",\"linecolor\":\"white\",\"ticks\":\"\",\"title\":{\"standoff\":15},\"zerolinecolor\":\"white\",\"zerolinewidth\":2}}}},\"margin\":[5,5,5,5],\"name\":\"Returns vs. Max Loss\",\"viewport_update_throttle\":200,\"visibility\":false},\"id\":\"3125\",\"type\":\"panel.models.plotly.PlotlyPlot\"},{\"attributes\":{\"children\":[{\"id\":\"3247\"}],\"margin\":[0,0,0,0],\"name\":\"Column02538\"},\"id\":\"3127\",\"type\":\"Column\"},{\"attributes\":{},\"id\":\"3217\",\"type\":\"CategoricalTickFormatter\"},{\"attributes\":{},\"id\":\"3148\",\"type\":\"PanTool\"},{\"attributes\":{\"source\":{\"id\":\"3207\"}},\"id\":\"3214\",\"type\":\"CDSView\"},{\"attributes\":{},\"id\":\"3110\",\"type\":\"UnionRenderers\"},{\"attributes\":{},\"id\":\"3149\",\"type\":\"WheelZoomTool\"},{\"attributes\":{},\"id\":\"3102\",\"type\":\"AllLabels\"},{\"attributes\":{},\"id\":\"3098\",\"type\":\"CategoricalTickFormatter\"},{\"attributes\":{\"tools\":[{\"id\":\"3130\"},{\"id\":\"3147\"},{\"id\":\"3148\"},{\"id\":\"3149\"},{\"id\":\"3150\"},{\"id\":\"3151\"}]},\"id\":\"3153\",\"type\":\"Toolbar\"},{\"attributes\":{\"overlay\":{\"id\":\"3152\"}},\"id\":\"3150\",\"type\":\"BoxZoomTool\"},{\"attributes\":{\"coordinates\":null,\"data_source\":{\"id\":\"3207\"},\"glyph\":{\"id\":\"3210\"},\"group\":null,\"hover_glyph\":null,\"muted_glyph\":{\"id\":\"3212\"},\"nonselection_glyph\":{\"id\":\"3211\"},\"selection_glyph\":{\"id\":\"3215\"},\"view\":{\"id\":\"3214\"}},\"id\":\"3213\",\"type\":\"GlyphRenderer\"},{\"attributes\":{\"below\":[{\"id\":\"3068\"}],\"center\":[{\"id\":\"3070\"},{\"id\":\"3074\"}],\"height\":300,\"left\":[{\"id\":\"3071\"}],\"margin\":[5,5,5,5],\"min_border_bottom\":10,\"min_border_left\":10,\"min_border_right\":10,\"min_border_top\":10,\"renderers\":[{\"id\":\"3094\"}],\"sizing_mode\":\"fixed\",\"title\":{\"id\":\"3060\"},\"toolbar\":{\"id\":\"3081\"},\"width\":500,\"x_range\":{\"id\":\"3056\"},\"x_scale\":{\"id\":\"3064\"},\"y_range\":{\"id\":\"3057\"},\"y_scale\":{\"id\":\"3066\"}},\"id\":\"3059\",\"subtype\":\"Figure\",\"type\":\"Plot\"},{\"attributes\":{},\"id\":\"3194\",\"type\":\"SaveTool\"},{\"attributes\":{\"coordinates\":null,\"group\":null,\"text\":\"Annualized Sharpe Ratio for each assets and portfolios\",\"text_color\":\"black\",\"text_font_size\":\"12pt\"},\"id\":\"3060\",\"type\":\"Title\"},{\"attributes\":{\"coordinates\":null,\"group\":null,\"text\":\"Correlation between BTC vs SP500 and NASDAQ \\nduring Sell Off Market\",\"text_color\":\"black\",\"text_font_size\":\"12pt\"},\"id\":\"3132\",\"type\":\"Title\"},{\"attributes\":{},\"id\":\"3195\",\"type\":\"PanTool\"},{\"attributes\":{},\"id\":\"3066\",\"type\":\"LinearScale\"},{\"attributes\":{},\"id\":\"3151\",\"type\":\"ResetTool\"},{\"attributes\":{},\"id\":\"3196\",\"type\":\"WheelZoomTool\"},{\"attributes\":{\"args\":{\"model\":{\"id\":\"3125\"}},\"code\":\"try { model.visibility = (cb_obj.active == 1); } catch { }\",\"tags\":[\"plotly_tab_fix3125\"]},\"id\":\"3605\",\"type\":\"CustomJS\"},{\"attributes\":{\"child\":{\"id\":\"3059\"},\"name\":\"BTC - Equity Diversifier\",\"title\":\"BTC - Equity Diversifier\"},\"id\":\"3123\",\"type\":\"Panel\"},{\"attributes\":{\"tools\":[{\"id\":\"3177\"},{\"id\":\"3194\"},{\"id\":\"3195\"},{\"id\":\"3196\"},{\"id\":\"3197\"},{\"id\":\"3198\"}]},\"id\":\"3200\",\"type\":\"Toolbar\"},{\"attributes\":{\"bottom_units\":\"screen\",\"coordinates\":null,\"fill_alpha\":0.5,\"fill_color\":\"lightgrey\",\"group\":null,\"left_units\":\"screen\",\"level\":\"overlay\",\"line_alpha\":1.0,\"line_color\":\"black\",\"line_dash\":[4,4],\"line_width\":2,\"right_units\":\"screen\",\"syncable\":false,\"top_units\":\"screen\"},\"id\":\"3152\",\"type\":\"BoxAnnotation\"},{\"attributes\":{\"source\":{\"id\":\"3088\"}},\"id\":\"3095\",\"type\":\"CDSView\"},{\"attributes\":{\"overlay\":{\"id\":\"3199\"}},\"id\":\"3197\",\"type\":\"BoxZoomTool\"},{\"attributes\":{\"axis\":{\"id\":\"3071\"},\"coordinates\":null,\"dimension\":1,\"grid_line_color\":null,\"group\":null,\"ticker\":null},\"id\":\"3074\",\"type\":\"Grid\"},{\"attributes\":{},\"id\":\"3173\",\"type\":\"BasicTickFormatter\"},{\"attributes\":{\"axis_label\":\"\",\"coordinates\":null,\"formatter\":{\"id\":\"3098\"},\"group\":null,\"major_label_policy\":{\"id\":\"3099\"},\"ticker\":{\"id\":\"3069\"}},\"id\":\"3068\",\"type\":\"CategoricalAxis\"},{\"attributes\":{\"callback\":null,\"renderers\":[{\"id\":\"3166\"}],\"tags\":[\"hv_created\"],\"tooltips\":[[\"index\",\"@{index}\"],[\"selloff\",\"@{selloff}\"]]},\"id\":\"3130\",\"type\":\"HoverTool\"},{\"attributes\":{},\"id\":\"3069\",\"type\":\"CategoricalTicker\"},{\"attributes\":{},\"id\":\"3171\",\"type\":\"AllLabels\"},{\"attributes\":{},\"id\":\"3198\",\"type\":\"ResetTool\"},{\"attributes\":{\"fill_color\":{\"value\":\"#30a2da\"},\"hatch_color\":{\"value\":\"#30a2da\"},\"top\":{\"field\":\"normal\"},\"width\":{\"value\":0.8},\"x\":{\"field\":\"index\"}},\"id\":\"3210\",\"type\":\"VBar\"},{\"attributes\":{\"js_property_callbacks\":{\"change:active\":[{\"id\":\"3605\"}]},\"margin\":[0,0,0,0],\"tabs\":[{\"id\":\"3123\"},{\"id\":\"3126\"},{\"id\":\"3428\"},{\"id\":\"3432\"}]},\"id\":\"3055\",\"type\":\"Tabs\"},{\"attributes\":{},\"id\":\"3089\",\"type\":\"Selection\"},{\"attributes\":{},\"id\":\"3208\",\"type\":\"Selection\"},{\"attributes\":{},\"id\":\"3183\",\"type\":\"CategoricalScale\"},{\"attributes\":{\"bottom_units\":\"screen\",\"coordinates\":null,\"fill_alpha\":0.5,\"fill_color\":\"lightgrey\",\"group\":null,\"left_units\":\"screen\",\"level\":\"overlay\",\"line_alpha\":1.0,\"line_color\":\"black\",\"line_dash\":[4,4],\"line_width\":2,\"right_units\":\"screen\",\"syncable\":false,\"top_units\":\"screen\"},\"id\":\"3199\",\"type\":\"BoxAnnotation\"},{\"attributes\":{\"axis\":{\"id\":\"3068\"},\"coordinates\":null,\"grid_line_color\":null,\"group\":null,\"ticker\":null},\"id\":\"3070\",\"type\":\"Grid\"},{\"attributes\":{\"below\":[{\"id\":\"3187\"}],\"center\":[{\"id\":\"3189\"},{\"id\":\"3193\"}],\"height\":300,\"left\":[{\"id\":\"3190\"}],\"margin\":null,\"min_border_bottom\":10,\"min_border_left\":10,\"min_border_right\":10,\"min_border_top\":10,\"renderers\":[{\"id\":\"3213\"}],\"sizing_mode\":\"fixed\",\"title\":{\"id\":\"3179\"},\"toolbar\":{\"id\":\"3200\"},\"toolbar_location\":null,\"width\":500,\"x_range\":{\"id\":\"3056\"},\"x_scale\":{\"id\":\"3183\"},\"y_range\":{\"id\":\"3176\"},\"y_scale\":{\"id\":\"3185\"}},\"id\":\"3178\",\"subtype\":\"Figure\",\"type\":\"Plot\"},{\"attributes\":{\"fill_alpha\":{\"value\":0.1},\"fill_color\":{\"value\":\"#30a2da\"},\"hatch_alpha\":{\"value\":0.1},\"hatch_color\":{\"value\":\"#30a2da\"},\"line_alpha\":{\"value\":0.1},\"top\":{\"field\":\"A_0\"},\"width\":{\"value\":0.8},\"x\":{\"field\":\"index\"}},\"id\":\"3092\",\"type\":\"VBar\"},{\"attributes\":{},\"id\":\"3072\",\"type\":\"BasicTicker\"},{\"attributes\":{\"axis_label\":\"\",\"coordinates\":null,\"formatter\":{\"id\":\"3101\"},\"group\":null,\"major_label_policy\":{\"id\":\"3102\"},\"ticker\":{\"id\":\"3072\"}},\"id\":\"3071\",\"type\":\"LinearAxis\"},{\"attributes\":{\"fill_alpha\":{\"value\":0.1},\"fill_color\":{\"value\":\"#30a2da\"},\"hatch_alpha\":{\"value\":0.1},\"hatch_color\":{\"value\":\"#30a2da\"},\"line_alpha\":{\"value\":0.1},\"top\":{\"field\":\"selloff\"},\"width\":{\"value\":0.8},\"x\":{\"field\":\"index\"}},\"id\":\"3164\",\"type\":\"VBar\"},{\"attributes\":{\"coordinates\":null,\"data_source\":{\"id\":\"3088\"},\"glyph\":{\"id\":\"3091\"},\"group\":null,\"hover_glyph\":null,\"muted_glyph\":{\"id\":\"3093\"},\"nonselection_glyph\":{\"id\":\"3092\"},\"selection_glyph\":{\"id\":\"3096\"},\"view\":{\"id\":\"3095\"}},\"id\":\"3094\",\"type\":\"GlyphRenderer\"},{\"attributes\":{\"bottom\":{\"value\":0},\"fill_alpha\":{\"value\":1.0},\"fill_color\":{\"value\":\"#30a2da\"},\"hatch_alpha\":{\"value\":1.0},\"hatch_color\":{\"value\":\"#30a2da\"},\"hatch_scale\":{\"value\":12.0},\"hatch_weight\":{\"value\":1.0},\"line_alpha\":{\"value\":1.0},\"line_cap\":{\"value\":\"butt\"},\"line_color\":{\"value\":\"black\"},\"line_dash\":{\"value\":[]},\"line_dash_offset\":{\"value\":0},\"line_join\":{\"value\":\"bevel\"},\"line_width\":{\"value\":1},\"top\":{\"field\":\"selloff\"},\"width\":{\"value\":0.8},\"x\":{\"field\":\"index\"}},\"id\":\"3168\",\"type\":\"VBar\"},{\"attributes\":{},\"id\":\"3064\",\"type\":\"CategoricalScale\"},{\"attributes\":{\"fill_alpha\":{\"value\":0.2},\"fill_color\":{\"value\":\"#30a2da\"},\"hatch_alpha\":{\"value\":0.2},\"hatch_color\":{\"value\":\"#30a2da\"},\"line_alpha\":{\"value\":0.2},\"top\":{\"field\":\"selloff\"},\"width\":{\"value\":0.8},\"x\":{\"field\":\"index\"}},\"id\":\"3165\",\"type\":\"VBar\"},{\"attributes\":{},\"id\":\"3161\",\"type\":\"Selection\"},{\"attributes\":{\"margin\":[5,5,5,5],\"name\":\"Str02911\",\"text\":\"&lt;pre&gt; &lt;/pre&gt;\"},\"id\":\"3430\",\"type\":\"panel.models.markup.HTML\"},{\"attributes\":{\"data\":{\"A_0\":{\"__ndarray__\":\"Mm+EGlvY8j/vnh+bhmflP8n8EVcBSOk/wDgOG9Ue9D9soXtvH6b0Pw==\",\"dtype\":\"float64\",\"order\":\"little\",\"shape\":[5]},\"index\":[\"BTC\",\"SP500\",\"NASDAQ\",\"BTC-SP500\",\"BTC-NASDAQ\"]},\"selected\":{\"id\":\"3089\"},\"selection_policy\":{\"id\":\"3110\"}},\"id\":\"3088\",\"type\":\"ColumnDataSource\"},{\"attributes\":{\"end\":0.9769811270589481,\"reset_end\":0.9769811270589481,\"reset_start\":0.0,\"tags\":[[[\"selloff\",\"selloff\",null]]]},\"id\":\"3129\",\"type\":\"Range1d\"},{\"attributes\":{\"client_comm_id\":\"7a1fec11504949b68e4344e463bdc7e0\",\"comm_id\":\"e4dc10051ce74862a80dfeeff252469b\",\"plot_id\":\"3055\"},\"id\":\"3670\",\"type\":\"panel.models.comm_manager.CommManager\"},{\"attributes\":{},\"id\":\"3174\",\"type\":\"AllLabels\"},{\"attributes\":{},\"id\":\"3218\",\"type\":\"AllLabels\"},{\"attributes\":{\"tools\":[{\"id\":\"3058\"},{\"id\":\"3075\"},{\"id\":\"3076\"},{\"id\":\"3077\"},{\"id\":\"3078\"},{\"id\":\"3079\"}]},\"id\":\"3081\",\"type\":\"Toolbar\"},{\"attributes\":{\"fill_alpha\":{\"value\":0.1},\"fill_color\":{\"value\":\"#30a2da\"},\"hatch_alpha\":{\"value\":0.1},\"hatch_color\":{\"value\":\"#30a2da\"},\"line_alpha\":{\"value\":0.1},\"top\":{\"field\":\"normal\"},\"width\":{\"value\":0.8},\"x\":{\"field\":\"index\"}},\"id\":\"3211\",\"type\":\"VBar\"},{\"attributes\":{\"end\":1.3527243125254254,\"reset_end\":1.3527243125254254,\"reset_start\":0.0,\"tags\":[[[\"0\",\"0\",null]]]},\"id\":\"3057\",\"type\":\"Range1d\"},{\"attributes\":{\"callback\":null,\"renderers\":[{\"id\":\"3213\"}],\"tags\":[\"hv_created\"],\"tooltips\":[[\"index\",\"@{index}\"],[\"normal\",\"@{normal}\"]]},\"id\":\"3177\",\"type\":\"HoverTool\"},{\"attributes\":{},\"id\":\"3144\",\"type\":\"BasicTicker\"},{\"attributes\":{\"bottom\":{\"value\":0},\"fill_alpha\":{\"value\":1.0},\"fill_color\":{\"value\":\"#30a2da\"},\"hatch_alpha\":{\"value\":1.0},\"hatch_color\":{\"value\":\"#30a2da\"},\"hatch_scale\":{\"value\":12.0},\"hatch_weight\":{\"value\":1.0},\"line_alpha\":{\"value\":1.0},\"line_cap\":{\"value\":\"butt\"},\"line_color\":{\"value\":\"black\"},\"line_dash\":{\"value\":[]},\"line_dash_offset\":{\"value\":0},\"line_join\":{\"value\":\"bevel\"},\"line_width\":{\"value\":1},\"top\":{\"field\":\"normal\"},\"width\":{\"value\":0.8},\"x\":{\"field\":\"index\"}},\"id\":\"3215\",\"type\":\"VBar\"},{\"attributes\":{},\"id\":\"3075\",\"type\":\"SaveTool\"},{\"attributes\":{\"fill_color\":{\"value\":\"#30a2da\"},\"hatch_color\":{\"value\":\"#30a2da\"},\"top\":{\"field\":\"selloff\"},\"width\":{\"value\":0.8},\"x\":{\"field\":\"index\"}},\"id\":\"3163\",\"type\":\"VBar\"},{\"attributes\":{\"toolbar\":{\"id\":\"3245\"},\"toolbar_location\":\"above\"},\"id\":\"3246\",\"type\":\"ToolbarBox\"},{\"attributes\":{},\"id\":\"3138\",\"type\":\"LinearScale\"},{\"attributes\":{\"fill_alpha\":{\"value\":0.2},\"fill_color\":{\"value\":\"#30a2da\"},\"hatch_alpha\":{\"value\":0.2},\"hatch_color\":{\"value\":\"#30a2da\"},\"line_alpha\":{\"value\":0.2},\"top\":{\"field\":\"normal\"},\"width\":{\"value\":0.8},\"x\":{\"field\":\"index\"}},\"id\":\"3212\",\"type\":\"VBar\"},{\"attributes\":{},\"id\":\"3076\",\"type\":\"PanTool\"},{\"attributes\":{\"data\":{\"index\":[\"BTC vs SP500\",\"BTC vs NASDAQ\",\"SP500 vs NASDAQ\"],\"selloff\":{\"__ndarray__\":\"CLJni87X4D+QL9zCNWPfPz3OqusU2e0/\",\"dtype\":\"float64\",\"order\":\"little\",\"shape\":[3]}},\"selected\":{\"id\":\"3161\"},\"selection_policy\":{\"id\":\"3229\"}},\"id\":\"3160\",\"type\":\"ColumnDataSource\"},{\"attributes\":{},\"id\":\"3220\",\"type\":\"BasicTickFormatter\"},{\"attributes\":{},\"id\":\"3077\",\"type\":\"WheelZoomTool\"},{\"attributes\":{\"child\":{\"id\":\"3127\"},\"name\":\"Column02538\",\"title\":\"Correlation in diff Markets\"},\"id\":\"3428\",\"type\":\"Panel\"},{\"attributes\":{\"below\":[{\"id\":\"3140\"}],\"center\":[{\"id\":\"3142\"},{\"id\":\"3146\"}],\"height\":300,\"left\":[{\"id\":\"3143\"}],\"margin\":null,\"min_border_bottom\":10,\"min_border_left\":10,\"min_border_right\":10,\"min_border_top\":10,\"renderers\":[{\"id\":\"3166\"}],\"sizing_mode\":\"fixed\",\"title\":{\"id\":\"3132\"},\"toolbar\":{\"id\":\"3153\"},\"toolbar_location\":null,\"width\":500,\"x_range\":{\"id\":\"3056\"},\"x_scale\":{\"id\":\"3136\"},\"y_range\":{\"id\":\"3129\"},\"y_scale\":{\"id\":\"3138\"}},\"id\":\"3131\",\"subtype\":\"Figure\",\"type\":\"Plot\"},{\"attributes\":{\"overlay\":{\"id\":\"3080\"}},\"id\":\"3078\",\"type\":\"BoxZoomTool\"},{\"attributes\":{},\"id\":\"3170\",\"type\":\"CategoricalTickFormatter\"},{\"attributes\":{\"margin\":[5,5,5,5],\"name\":\"Str02913\",\"text\":\"&lt;pre&gt; &lt;/pre&gt;\"},\"id\":\"3431\",\"type\":\"panel.models.markup.HTML\"},{\"attributes\":{\"end\":0.9935041394240067,\"reset_end\":0.9935041394240067,\"reset_start\":0.0,\"tags\":[[[\"normal\",\"normal\",null]]]},\"id\":\"3176\",\"type\":\"Range1d\"},{\"attributes\":{\"children\":[{\"id\":\"3430\"},{\"id\":\"3431\"}],\"margin\":[0,0,0,0],\"name\":\"Row02915\"},\"id\":\"3429\",\"type\":\"Row\"},{\"attributes\":{\"toolbars\":[{\"id\":\"3153\"},{\"id\":\"3200\"}],\"tools\":[{\"id\":\"3130\"},{\"id\":\"3147\"},{\"id\":\"3148\"},{\"id\":\"3149\"},{\"id\":\"3150\"},{\"id\":\"3151\"},{\"id\":\"3177\"},{\"id\":\"3194\"},{\"id\":\"3195\"},{\"id\":\"3196\"},{\"id\":\"3197\"},{\"id\":\"3198\"}]},\"id\":\"3245\",\"type\":\"ProxyToolbar\"},{\"attributes\":{\"child\":{\"id\":\"3429\"},\"name\":\"Row02915\",\"title\":\"Return distribution\"},\"id\":\"3432\",\"type\":\"Panel\"},{\"attributes\":{\"coordinates\":null,\"group\":null,\"text\":\"Correlation between BTC vs SP500 and NASDAQ \\nduring Normal Market\",\"text_color\":\"black\",\"text_font_size\":\"12pt\"},\"id\":\"3179\",\"type\":\"Title\"},{\"attributes\":{},\"id\":\"3240\",\"type\":\"UnionRenderers\"},{\"attributes\":{},\"id\":\"3079\",\"type\":\"ResetTool\"},{\"attributes\":{},\"id\":\"3099\",\"type\":\"AllLabels\"},{\"attributes\":{},\"id\":\"3136\",\"type\":\"CategoricalScale\"},{\"attributes\":{\"axis_label\":\"\",\"coordinates\":null,\"formatter\":{\"id\":\"3217\"},\"group\":null,\"major_label_policy\":{\"id\":\"3218\"},\"ticker\":{\"id\":\"3188\"}},\"id\":\"3187\",\"type\":\"CategoricalAxis\"},{\"attributes\":{\"child\":{\"id\":\"3125\"},\"name\":\"Returns vs. Max Loss\",\"title\":\"Returns vs. Max Loss\"},\"id\":\"3126\",\"type\":\"Panel\"},{\"attributes\":{},\"id\":\"3221\",\"type\":\"AllLabels\"},{\"attributes\":{\"bottom_units\":\"screen\",\"coordinates\":null,\"fill_alpha\":0.5,\"fill_color\":\"lightgrey\",\"group\":null,\"left_units\":\"screen\",\"level\":\"overlay\",\"line_alpha\":1.0,\"line_color\":\"black\",\"line_dash\":[4,4],\"line_width\":2,\"right_units\":\"screen\",\"syncable\":false,\"top_units\":\"screen\"},\"id\":\"3080\",\"type\":\"BoxAnnotation\"},{\"attributes\":{\"children\":[{\"id\":\"3246\"},{\"id\":\"3244\"}]},\"id\":\"3247\",\"type\":\"Column\"},{\"attributes\":{\"bottom\":{\"value\":0},\"fill_alpha\":{\"value\":1.0},\"fill_color\":{\"value\":\"#30a2da\"},\"hatch_alpha\":{\"value\":1.0},\"hatch_color\":{\"value\":\"#30a2da\"},\"hatch_scale\":{\"value\":12.0},\"hatch_weight\":{\"value\":1.0},\"line_alpha\":{\"value\":1.0},\"line_cap\":{\"value\":\"butt\"},\"line_color\":{\"value\":\"black\"},\"line_dash\":{\"value\":[]},\"line_dash_offset\":{\"value\":0},\"line_join\":{\"value\":\"bevel\"},\"line_width\":{\"value\":1},\"top\":{\"field\":\"A_0\"},\"width\":{\"value\":0.8},\"x\":{\"field\":\"index\"}},\"id\":\"3096\",\"type\":\"VBar\"},{\"attributes\":{},\"id\":\"3101\",\"type\":\"BasicTickFormatter\"},{\"attributes\":{\"axis_label\":\"\",\"coordinates\":null,\"formatter\":{\"id\":\"3170\"},\"group\":null,\"major_label_policy\":{\"id\":\"3171\"},\"ticker\":{\"id\":\"3141\"}},\"id\":\"3140\",\"type\":\"CategoricalAxis\"},{\"attributes\":{},\"id\":\"3141\",\"type\":\"CategoricalTicker\"},{\"attributes\":{},\"id\":\"3188\",\"type\":\"CategoricalTicker\"},{\"attributes\":{\"children\":[[{\"id\":\"3131\"},0,0],[{\"id\":\"3178\"},0,1]]},\"id\":\"3244\",\"type\":\"GridBox\"},{\"attributes\":{\"axis\":{\"id\":\"3140\"},\"coordinates\":null,\"grid_line_color\":null,\"group\":null,\"ticker\":null},\"id\":\"3142\",\"type\":\"Grid\"},{\"attributes\":{},\"id\":\"3185\",\"type\":\"LinearScale\"},{\"attributes\":{\"factors\":[\"BTC\",\"SP500\",\"NASDAQ\",\"BTC-SP500\",\"BTC-NASDAQ\",\"BTC vs SP500\",\"BTC vs NASDAQ\",\"SP500 vs NASDAQ\"],\"tags\":[[[\"index\",\"index\",null]]]},\"id\":\"3056\",\"type\":\"FactorRange\"},{\"attributes\":{},\"id\":\"3229\",\"type\":\"UnionRenderers\"},{\"attributes\":{\"axis_label\":\"\",\"coordinates\":null,\"formatter\":{\"id\":\"3173\"},\"group\":null,\"major_label_policy\":{\"id\":\"3174\"},\"ticker\":{\"id\":\"3144\"}},\"id\":\"3143\",\"type\":\"LinearAxis\"}],\"root_ids\":[\"3055\",\"3670\"]},\"title\":\"Bokeh Application\",\"version\":\"2.4.1\"}};\n",
       "    var render_items = [{\"docid\":\"1f318676-c50f-4c66-97e5-b1716a9bf6b8\",\"root_ids\":[\"3055\"],\"roots\":{\"3055\":\"b75ae1c1-936f-4d2c-a73b-85ea00ad79dd\"}}];\n",
       "    root.Bokeh.embed.embed_items_notebook(docs_json, render_items);\n",
       "  }\n",
       "  if (root.Bokeh !== undefined && root.Bokeh.Panel !== undefined) {\n",
       "    embed_document(root);\n",
       "  } else {\n",
       "    var attempts = 0;\n",
       "    var timer = setInterval(function(root) {\n",
       "      if (root.Bokeh !== undefined && root.Bokeh.Panel !== undefined) {\n",
       "        clearInterval(timer);\n",
       "        embed_document(root);\n",
       "      } else if (document.readyState == \"complete\") {\n",
       "        attempts++;\n",
       "        if (attempts > 200) {\n",
       "          clearInterval(timer);\n",
       "          console.log(\"Bokeh: ERROR: Unable to run BokehJS code because BokehJS library is missing\");\n",
       "        }\n",
       "      }\n",
       "    }, 25, root)\n",
       "  }\n",
       "})(window);</script>"
      ],
      "text/plain": [
       "Tabs\n",
       "    [0] HoloViews(Bars, name='BTC - Equity D...)\n",
       "    [1] Plotly(Figure, name='Returns vs. Max Loss')\n",
       "    [2] Column\n",
       "        [0] HoloViews(Layout)\n",
       "    [3] Row\n",
       "        [0] Str(None)\n",
       "        [1] Str(None)"
      ]
     },
     "execution_count": 38,
     "metadata": {
      "application/vnd.holoviews_exec.v0+json": {
       "id": "3055"
      }
     },
     "output_type": "execute_result"
    }
   ],
   "source": [
    "tabs = pn.Tabs(\n",
    "    (\"BTC - Equity Diversifier\", sharpe_bar_chart),\n",
    "    (\"Returns vs. Max Loss\", retmxloss_chart),\n",
    "    (\"Correlation in diff Markets\",corr_chart),\n",
    "    (\"Return distribution\", pn.Row(selloff_dist_chart,normal_dist_chart)))\n",
    "tabs"
   ]
  }
 ],
 "metadata": {
  "kernelspec": {
   "display_name": "Python 3 (ipykernel)",
   "language": "python",
   "name": "python3"
  },
  "language_info": {
   "codemirror_mode": {
    "name": "ipython",
    "version": 3
   },
   "file_extension": ".py",
   "mimetype": "text/x-python",
   "name": "python",
   "nbconvert_exporter": "python",
   "pygments_lexer": "ipython3",
   "version": "3.7.11"
  }
 },
 "nbformat": 4,
 "nbformat_minor": 5
}
