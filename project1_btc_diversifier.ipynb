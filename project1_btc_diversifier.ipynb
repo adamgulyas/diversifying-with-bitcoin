{
 "cells": [
  {
   "cell_type": "markdown",
   "id": "ec5665d9",
   "metadata": {},
   "source": [
    "# Bitcoin as a Diversifier to US Equity\n",
    "\n",
    "## Introduction\n",
    "\n",
    "This exercise will explore the potential diversification benefits of Bitcoin to an all-US equity portfolio. This will be done by examing two core metrics: correlation and Sharpe ratio. \n",
    "\n",
    "Correlations are drawn during market sell-off periods as well as normal market periods. The purpose for this comparison is to find out if Bitcoin is a good diversifier to US equities when it's needed the most, which is when the US equity market sells off.  \n",
    "\n",
    "The Sharpe ratios of BTC, SP500, NASDAQ, and equally balanced BTC-SP500 and BTC-NASDAQ portfolios were compared. The Sharpe ratio will help determine the diversification benefit of Bitcoin to US equity.\n",
    "\n",
    "## Assumptions\n",
    "\n",
    "A sell-off market environment is defined as any daily returns that fall below the -2 standard deviation of SP500 daily price return.  \n",
    "\n",
    "A normal market environment is defined as any daily returns that fall within the -2 standard deviation and +2 standard deviation of SP500 daily price return.\n",
    "\n",
    "Data is filtered with sell off and normal market conditions"
   ]
  },
  {
   "cell_type": "code",
   "execution_count": 24,
   "id": "5c29c4b2",
   "metadata": {},
   "outputs": [],
   "source": [
    "# Initial imports\n",
    "import pandas as pd\n",
    "from dotenv import load_dotenv\n",
    "import numpy as np\n",
    "import datetime\n",
    "import yfinance as yf\n",
    "import hvplot.pandas\n",
    "import matplotlib.pyplot as plt\n",
    "import plotly.express as px\n",
    "import seaborn as sb\n",
    "import panel as pn\n",
    "#import tabulate"
   ]
  },
  {
   "cell_type": "code",
   "execution_count": 25,
   "id": "b26e479e",
   "metadata": {},
   "outputs": [
    {
     "data": {
      "text/plain": [
       "True"
      ]
     },
     "execution_count": 25,
     "metadata": {},
     "output_type": "execute_result"
    }
   ],
   "source": [
    "load_dotenv()"
   ]
  },
  {
   "cell_type": "markdown",
   "id": "947d0992",
   "metadata": {},
   "source": [
    "# Data Exploration and Cleanup\n",
    "\n",
    "Using the `yfinance` library, price data was retreived through the Yahoo Finance API. Only necessary columns were kept and null values were dropped.\n",
    "\n",
    "For data exploration, a +/-2 standard deviation for the S&P 500's daily return was calculated.  "
   ]
  },
  {
   "cell_type": "code",
   "execution_count": 26,
   "id": "58d9f08b",
   "metadata": {},
   "outputs": [
    {
     "name": "stdout",
     "output_type": "stream",
     "text": [
      "[*********************100%***********************]  3 of 3 completed\n"
     ]
    }
   ],
   "source": [
    "# Download data from Yahoo API and clean data\n",
    "today = datetime.date.today().isoformat()\n",
    "\n",
    "response_yf = yf.download(\n",
    "    \"^GSPC ^IXIC BTC-USD\", \n",
    "    start=\"2014-09-17\", \n",
    "    end=today\n",
    ")\n",
    "\n",
    "# trimming the data\n",
    "price_df = response_yf['Close']\n",
    "price_df = price_df.rename(\n",
    "    columns={\n",
    "        '^GSPC': 'SP500', \n",
    "        '^IXIC': 'NASDAQ',\n",
    "        'BTC-USD': 'BTC'\n",
    "    }\n",
    ").copy(deep=True)\n",
    "\n",
    "# remove all NA \n",
    "price_df = price_df.dropna()"
   ]
  },
  {
   "cell_type": "code",
   "execution_count": 27,
   "id": "b410c696",
   "metadata": {},
   "outputs": [],
   "source": [
    "# Calculate daily price return for all assets.  Calculate the 2 standard deviation boundary for SP500\n",
    "\n",
    "# calc daily percentage returns\n",
    "pct_change_df = price_df.pct_change()\n",
    "pct_change_df = pct_change_df.dropna()\n",
    "\n",
    "pct_change_std = pct_change_df['SP500'].std()\n",
    "pct_change_ret = pct_change_df['SP500'].mean()\n",
    "\n",
    "# SP500 price return at 2 standard dev boundary\n",
    "outlier_neg2std = pct_change_ret - pct_change_std * 2\n",
    "outlier_pos2std = pct_change_ret + pct_change_std * 2\n",
    "\n",
    "# Extract returns where S&P returns are greater 2 std dev\n",
    "pct_change_below_2std = pct_change_df.loc[\n",
    "    pct_change_df['SP500'] <= outlier_neg2std\n",
    "]\n",
    "# Extract returns where S&P returns are within the 2 std dev\n",
    "pct_change_inside_2std = pct_change_df.loc[\n",
    "    (pct_change_df['SP500'] >= outlier_neg2std) & \n",
    "    (pct_change_df['SP500'] <= outlier_pos2std)\n",
    "]\n",
    "\n",
    "# Create a portfolio between BTC & SP500, NASDAQ\n",
    "combined_pct_change = pd.concat(\n",
    "    [\n",
    "        pct_change_df['BTC'] + pct_change_df['SP500'],\n",
    "        pct_change_df['BTC'] + pct_change_df['NASDAQ']\n",
    "    ],\n",
    "    axis=1\n",
    ")\n",
    "\n",
    "# Extract returns where S&P returns are greater 2 std dev\n",
    "combined_pct_change_below_2std = combined_pct_change.loc[\n",
    "    pct_change_df['SP500'] <= outlier_neg2std\n",
    "]\n",
    "\n",
    "# Extract returns where S&P returns are within the 2 std dev\n",
    "combined_pct_change_inside_2std = combined_pct_change.loc[\n",
    "    (pct_change_df['SP500'] >= outlier_neg2std) & \n",
    "    (pct_change_df['SP500'] <=outlier_pos2std)\n",
    "]\n",
    "\n",
    "combined_pct_change.columns = ['BTC-SP500','BTC-NASDAQ']\n",
    "combined_pct_change_below_2std.columns = ['BTC-SP500','BTC-NASDAQ']\n",
    "combined_pct_change_inside_2std.columns = ['BTC-SP500','BTC-NASDAQ']"
   ]
  },
  {
   "cell_type": "code",
   "execution_count": 28,
   "id": "497b53a0",
   "metadata": {},
   "outputs": [
    {
     "data": {
      "text/plain": [
       "-0.06703439592607463"
      ]
     },
     "execution_count": 28,
     "metadata": {},
     "output_type": "execute_result"
    }
   ],
   "source": [
    "# Verify that portfolio returns are added correctly\n",
    "pct_change_df['BTC'].iloc[0]+pct_change_df['SP500'].iloc[0]"
   ]
  },
  {
   "cell_type": "code",
   "execution_count": 29,
   "id": "559a82f4",
   "metadata": {},
   "outputs": [
    {
     "data": {
      "text/plain": [
       "-0.06703439592607463"
      ]
     },
     "execution_count": 29,
     "metadata": {},
     "output_type": "execute_result"
    }
   ],
   "source": [
    "combined_pct_change['BTC-SP500'].iloc[0] "
   ]
  },
  {
   "cell_type": "markdown",
   "id": "e59bb804",
   "metadata": {},
   "source": [
    "# Correlation Analysis\n",
    "\n",
    "In this section we'll examine the correlation between BTC vs. SP500 and NASDAQ in two different market environments. Correlation in the sell off market and normal market environment."
   ]
  },
  {
   "cell_type": "code",
   "execution_count": 30,
   "id": "78bdea7a",
   "metadata": {},
   "outputs": [],
   "source": [
    "# Calculate correlation amongst all assets for returns that beyond the 2 std dev and within 2 std dev\n",
    "\n",
    "# Correlation matrix\n",
    "corr_below_2std = pct_change_below_2std.corr()\n",
    "corr_inside_2std = pct_change_inside_2std.corr()\n",
    "\n",
    "# Extract corr off the diagonal of the matrix\n",
    "extracted_corr_below_2std = np.extract(1 - np.eye(len(corr_below_2std)), corr_below_2std)\n",
    "extracted_corr_inside_2std  = np.extract(1 - np.eye(len(corr_below_2std)), corr_inside_2std)\n",
    "\n",
    "# Retrieve only correlation btween BTC vs equity and SP500 vs NASDAQ\n",
    "ix=[0,1,3]\n",
    "extracted_corr_below_2std = [extracted_corr_below_2std[i] for i in ix]\n",
    "extracted_corr_inside_2std = [extracted_corr_inside_2std[i] for i in ix]"
   ]
  },
  {
   "cell_type": "markdown",
   "id": "5de3289b",
   "metadata": {},
   "source": [
    "## Charting Section"
   ]
  },
  {
   "cell_type": "markdown",
   "id": "a05bf49c",
   "metadata": {},
   "source": [
    "#### Charting functions"
   ]
  },
  {
   "cell_type": "code",
   "execution_count": 31,
   "id": "093eb5c1",
   "metadata": {},
   "outputs": [],
   "source": [
    "def create_dist_chart_fill_opt(data, xloc1, xloc2, annotate_txt):\n",
    "    \n",
    "    # xloc1 or xloc2 is the number on x-axis where the chart is shaded beyond that location\n",
    "    # if both xloc1 and xloc2 are provided then a shaded area is in between those 2 numbers.\n",
    "    # if both xloc1 and xloc2 are empty then no shading is done\n",
    "    \n",
    "    plt.figure()\n",
    "    ax = sb.distplot(data)\n",
    "    x, y = ax.get_lines()[0].get_data()\n",
    "    line = ax.lines[0].get_data()\n",
    "\n",
    "    if bool(xloc1) & bool(xloc2):\n",
    "        plt.vlines(xloc1, 0, y[np.argmin(abs(x-xloc1))], color='k')\n",
    "        plt.vlines(xloc2, 0, y[np.argmin(abs(x-xloc2))], color='k')\n",
    "        ax.fill_between(line[0], np.zeros(len(line[0])), line[1])\n",
    "        ax.fill_between(\n",
    "            x, y, \n",
    "            where=(x>xloc1) & (x<xloc2), \n",
    "            interpolate=True,\n",
    "            color='#EF9A9A'\n",
    "        )      \n",
    "\n",
    "    elif bool(xloc1) | bool(xloc2):\n",
    "        plt.vlines(xloc1, 0, y[np.argmin(abs(x-xloc1))], color='k')\n",
    "        ax.fill_between(line[0], np.zeros(len(line[0])), line[1])\n",
    "        ax.fill_between(\n",
    "            x, y, \n",
    "            where=(x < xloc1), \n",
    "            interpolate=True, \n",
    "            color='#EF9A9A'\n",
    "        )\n",
    "\n",
    "    else:    \n",
    "        ax = sb.distplot(data)\n",
    "        ax.fill_between(line[0], np.zeros(len(line[0])), line[1])  \n",
    "        \n",
    "    ax.set_title('Distribution of SP500 Daily Price Return')   \n",
    "    ax.text(-0.12, 10,annotate_txt, fontsize=9)  "
   ]
  },
  {
   "cell_type": "code",
   "execution_count": 32,
   "id": "fa0d4f98",
   "metadata": {},
   "outputs": [],
   "source": [
    "def create_bar_chart(data,title):\n",
    "    barplot = data.hvplot.bar(title=title,height=300,width=500)\n",
    "    return barplot"
   ]
  },
  {
   "cell_type": "markdown",
   "id": "605769d7",
   "metadata": {},
   "source": [
    "### Chart density distribution charts\n",
    "These charts highlighted the section of the data distribution that will be used to calculate the correlation for sell off and normal market periods.\n",
    "We highlighted the +/- 2 standard deviation of SP500 price return on the charts.  The data used for the correlation analysis is highlighted by shaded area of the charts. "
   ]
  },
  {
   "cell_type": "code",
   "execution_count": 33,
   "id": "d85111b3",
   "metadata": {},
   "outputs": [
    {
     "name": "stderr",
     "output_type": "stream",
     "text": [
      "/opt/anaconda3/envs/pyvizenv/lib/python3.7/site-packages/seaborn/distributions.py:2619: FutureWarning:\n",
      "\n",
      "`distplot` is a deprecated function and will be removed in a future version. Please adapt your code to use either `displot` (a figure-level function with similar flexibility) or `histplot` (an axes-level function for histograms).\n",
      "\n"
     ]
    },
    {
     "data": {
      "image/png": "[encoded data removed]",
      "text/plain": [
       "<Figure size 432x288 with 1 Axes>"
      ]
     },
     "metadata": {
      "needs_background": "light"
     },
     "output_type": "display_data"
    }
   ],
   "source": [
    "annotext = str(len(pct_change_below_2std)) + \" data points were found\"\n",
    "\n",
    "selloff_dist_chart = create_dist_chart_fill_opt(\n",
    "    pct_change_df['SP500'],\n",
    "    outlier_neg2std,\n",
    "    [],\n",
    "    annotext\n",
    ")"
   ]
  },
  {
   "cell_type": "code",
   "execution_count": 34,
   "id": "98e64415",
   "metadata": {},
   "outputs": [
    {
     "name": "stderr",
     "output_type": "stream",
     "text": [
      "/opt/anaconda3/envs/pyvizenv/lib/python3.7/site-packages/seaborn/distributions.py:2619: FutureWarning:\n",
      "\n",
      "`distplot` is a deprecated function and will be removed in a future version. Please adapt your code to use either `displot` (a figure-level function with similar flexibility) or `histplot` (an axes-level function for histograms).\n",
      "\n"
     ]
    },
    {
     "data": {
      "image/png": "[encoded data removed]",
      "text/plain": [
       "<Figure size 432x288 with 1 Axes>"
      ]
     },
     "metadata": {
      "needs_background": "light"
     },
     "output_type": "display_data"
    }
   ],
   "source": [
    "annotext = str(len(pct_change_inside_2std)) + \" data points were found\"\n",
    "\n",
    "normal_dist_chart = create_dist_chart_fill_opt(\n",
    "    pct_change_df['SP500'],\n",
    "    outlier_neg2std,\n",
    "    outlier_pos2std,\n",
    "    annotext\n",
    ")"
   ]
  },
  {
   "cell_type": "markdown",
   "id": "8ca92d02",
   "metadata": {},
   "source": [
    "### Correlation results\n",
    "The distinct difference between correlations in during sell off market vs. normal market appears to suggest BTC is not a good diversifier to equity.  Equity needs diversification the most when market sells off.  The correlation between BTC and equity spiked ~ 5x during sell off market.  Correlation between SP500 and NASDAQ both remained high in both sell off and normal market environment."
   ]
  },
  {
   "cell_type": "code",
   "execution_count": 35,
   "id": "9435f7d1",
   "metadata": {},
   "outputs": [
    {
     "data": {
      "text/html": [
       "<div>\n",
       "<style scoped>\n",
       "    .dataframe tbody tr th:only-of-type {\n",
       "        vertical-align: middle;\n",
       "    }\n",
       "\n",
       "    .dataframe tbody tr th {\n",
       "        vertical-align: top;\n",
       "    }\n",
       "\n",
       "    .dataframe thead th {\n",
       "        text-align: right;\n",
       "    }\n",
       "</style>\n",
       "<table border=\"1\" class=\"dataframe\">\n",
       "  <thead>\n",
       "    <tr style=\"text-align: right;\">\n",
       "      <th></th>\n",
       "      <th>selloff</th>\n",
       "      <th>normal</th>\n",
       "    </tr>\n",
       "  </thead>\n",
       "  <tbody>\n",
       "    <tr>\n",
       "      <th>BTC vs SP500</th>\n",
       "      <td>0.526344</td>\n",
       "      <td>0.087877</td>\n",
       "    </tr>\n",
       "    <tr>\n",
       "      <th>BTC vs NASDAQ</th>\n",
       "      <td>0.490430</td>\n",
       "      <td>0.118869</td>\n",
       "    </tr>\n",
       "    <tr>\n",
       "      <th>SP500 vs NASDAQ</th>\n",
       "      <td>0.932749</td>\n",
       "      <td>0.911174</td>\n",
       "    </tr>\n",
       "  </tbody>\n",
       "</table>\n",
       "</div>"
      ],
      "text/plain": [
       "                  selloff    normal\n",
       "BTC vs SP500     0.526344  0.087877\n",
       "BTC vs NASDAQ    0.490430  0.118869\n",
       "SP500 vs NASDAQ  0.932749  0.911174"
      ]
     },
     "execution_count": 35,
     "metadata": {},
     "output_type": "execute_result"
    }
   ],
   "source": [
    "corr_btc_equity = pd.concat(\n",
    "    [\n",
    "        pd.DataFrame(extracted_corr_below_2std),\n",
    "        pd.DataFrame(extracted_corr_inside_2std)\n",
    "    ], \n",
    "    axis=1\n",
    ")\n",
    "\n",
    "corr_btc_equity = corr_btc_equity.set_index([\n",
    "    pd.Index([\n",
    "        'BTC vs SP500',\n",
    "        'BTC vs NASDAQ',\n",
    "        'SP500 vs NASDAQ'\n",
    "    ])\n",
    "])\n",
    "\n",
    "corr_btc_equity.columns = ['selloff','normal']\n",
    "corr_btc_equity"
   ]
  },
  {
   "cell_type": "code",
   "execution_count": 36,
   "id": "1e993251",
   "metadata": {},
   "outputs": [
    {
     "data": {},
     "metadata": {},
     "output_type": "display_data"
    },
    {
     "data": {
      "application/vnd.holoviews_exec.v0+json": "",
      "text/html": [
       "<div id='4155'>\n",
       "\n",
       "\n",
       "\n",
       "\n",
       "\n",
       "  <div class=\"bk-root\" id=\"ba755f9f-19b5-4dbe-bffe-72fa78bfdec3\" data-root-id=\"4155\"></div>\n",
       "</div>\n",
       "<script type=\"application/javascript\">(function(root) {\n",
       "  function embed_document(root) {\n",
       "    var docs_json = {\"90313951-cc95-4a0f-aca0-948a95f19523\":{\"defs\":[{\"extends\":null,\"module\":null,\"name\":\"ReactiveHTML1\",\"overrides\":[],\"properties\":[]},{\"extends\":null,\"module\":null,\"name\":\"FlexBox1\",\"overrides\":[],\"properties\":[{\"default\":\"flex-start\",\"kind\":null,\"name\":\"align_content\"},{\"default\":\"flex-start\",\"kind\":null,\"name\":\"align_items\"},{\"default\":\"row\",\"kind\":null,\"name\":\"flex_direction\"},{\"default\":\"wrap\",\"kind\":null,\"name\":\"flex_wrap\"},{\"default\":\"flex-start\",\"kind\":null,\"name\":\"justify_content\"}]},{\"extends\":null,\"module\":null,\"name\":\"TemplateActions1\",\"overrides\":[],\"properties\":[{\"default\":0,\"kind\":null,\"name\":\"open_modal\"},{\"default\":0,\"kind\":null,\"name\":\"close_modal\"}]},{\"extends\":null,\"module\":null,\"name\":\"MaterialTemplateActions1\",\"overrides\":[],\"properties\":[{\"default\":0,\"kind\":null,\"name\":\"open_modal\"},{\"default\":0,\"kind\":null,\"name\":\"close_modal\"}]}],\"roots\":{\"references\":[{\"attributes\":{},\"id\":\"4180\",\"type\":\"ResetTool\"},{\"attributes\":{},\"id\":\"4173\",\"type\":\"BasicTicker\"},{\"attributes\":{},\"id\":\"4170\",\"type\":\"CategoricalTicker\"},{\"attributes\":{\"bottom_units\":\"screen\",\"coordinates\":null,\"fill_alpha\":0.5,\"fill_color\":\"lightgrey\",\"group\":null,\"left_units\":\"screen\",\"level\":\"overlay\",\"line_alpha\":1.0,\"line_color\":\"black\",\"line_dash\":[4,4],\"line_width\":2,\"right_units\":\"screen\",\"syncable\":false,\"top_units\":\"screen\"},\"id\":\"4181\",\"type\":\"BoxAnnotation\"},{\"attributes\":{\"axis_label\":\"\",\"coordinates\":null,\"formatter\":{\"id\":\"4199\"},\"group\":null,\"major_label_policy\":{\"id\":\"4200\"},\"ticker\":{\"id\":\"4170\"}},\"id\":\"4169\",\"type\":\"CategoricalAxis\"},{\"attributes\":{\"coordinates\":null,\"group\":null,\"text\":\"Correlation between BTC vs SP500 and NASDAQ \\nduring Sell Off Market\",\"text_color\":\"black\",\"text_font_size\":\"12pt\"},\"id\":\"4161\",\"type\":\"Title\"},{\"attributes\":{},\"id\":\"4199\",\"type\":\"CategoricalTickFormatter\"},{\"attributes\":{},\"id\":\"4165\",\"type\":\"CategoricalScale\"},{\"attributes\":{\"below\":[{\"id\":\"4169\"}],\"center\":[{\"id\":\"4171\"},{\"id\":\"4175\"}],\"height\":300,\"left\":[{\"id\":\"4172\"}],\"margin\":[5,5,5,5],\"min_border_bottom\":10,\"min_border_left\":10,\"min_border_right\":10,\"min_border_top\":10,\"renderers\":[{\"id\":\"4195\"}],\"sizing_mode\":\"fixed\",\"title\":{\"id\":\"4161\"},\"toolbar\":{\"id\":\"4182\"},\"width\":500,\"x_range\":{\"id\":\"4157\"},\"x_scale\":{\"id\":\"4165\"},\"y_range\":{\"id\":\"4158\"},\"y_scale\":{\"id\":\"4167\"}},\"id\":\"4160\",\"subtype\":\"Figure\",\"type\":\"Plot\"},{\"attributes\":{\"fill_color\":{\"value\":\"#30a2da\"},\"hatch_color\":{\"value\":\"#30a2da\"},\"top\":{\"field\":\"selloff\"},\"width\":{\"value\":0.8},\"x\":{\"field\":\"index\"}},\"id\":\"4192\",\"type\":\"VBar\"},{\"attributes\":{\"overlay\":{\"id\":\"4181\"}},\"id\":\"4179\",\"type\":\"BoxZoomTool\"},{\"attributes\":{},\"id\":\"4190\",\"type\":\"Selection\"},{\"attributes\":{\"axis\":{\"id\":\"4169\"},\"coordinates\":null,\"grid_line_color\":null,\"group\":null,\"ticker\":null},\"id\":\"4171\",\"type\":\"Grid\"},{\"attributes\":{\"axis\":{\"id\":\"4172\"},\"coordinates\":null,\"dimension\":1,\"grid_line_color\":null,\"group\":null,\"ticker\":null},\"id\":\"4175\",\"type\":\"Grid\"},{\"attributes\":{\"margin\":[5,5,5,5],\"name\":\"HSpacer03226\",\"sizing_mode\":\"stretch_width\"},\"id\":\"4156\",\"type\":\"Spacer\"},{\"attributes\":{\"axis_label\":\"\",\"coordinates\":null,\"formatter\":{\"id\":\"4202\"},\"group\":null,\"major_label_policy\":{\"id\":\"4203\"},\"ticker\":{\"id\":\"4173\"}},\"id\":\"4172\",\"type\":\"LinearAxis\"},{\"attributes\":{\"fill_alpha\":{\"value\":0.1},\"fill_color\":{\"value\":\"#30a2da\"},\"hatch_alpha\":{\"value\":0.1},\"hatch_color\":{\"value\":\"#30a2da\"},\"line_alpha\":{\"value\":0.1},\"top\":{\"field\":\"selloff\"},\"width\":{\"value\":0.8},\"x\":{\"field\":\"index\"}},\"id\":\"4193\",\"type\":\"VBar\"},{\"attributes\":{\"children\":[{\"id\":\"4156\"},{\"id\":\"4160\"},{\"id\":\"4224\"}],\"margin\":[0,0,0,0],\"name\":\"Row03222\",\"tags\":[\"embedded\"]},\"id\":\"4155\",\"type\":\"Row\"},{\"attributes\":{\"bottom\":{\"value\":0},\"fill_alpha\":{\"value\":1.0},\"fill_color\":{\"value\":\"#30a2da\"},\"hatch_alpha\":{\"value\":1.0},\"hatch_color\":{\"value\":\"#30a2da\"},\"hatch_scale\":{\"value\":12.0},\"hatch_weight\":{\"value\":1.0},\"line_alpha\":{\"value\":1.0},\"line_cap\":{\"value\":\"butt\"},\"line_color\":{\"value\":\"black\"},\"line_dash\":{\"value\":[]},\"line_dash_offset\":{\"value\":0},\"line_join\":{\"value\":\"bevel\"},\"line_width\":{\"value\":1},\"top\":{\"field\":\"selloff\"},\"width\":{\"value\":0.8},\"x\":{\"field\":\"index\"}},\"id\":\"4197\",\"type\":\"VBar\"},{\"attributes\":{\"coordinates\":null,\"data_source\":{\"id\":\"4189\"},\"glyph\":{\"id\":\"4192\"},\"group\":null,\"hover_glyph\":null,\"muted_glyph\":{\"id\":\"4194\"},\"nonselection_glyph\":{\"id\":\"4193\"},\"selection_glyph\":{\"id\":\"4197\"},\"view\":{\"id\":\"4196\"}},\"id\":\"4195\",\"type\":\"GlyphRenderer\"},{\"attributes\":{},\"id\":\"4178\",\"type\":\"WheelZoomTool\"},{\"attributes\":{\"fill_alpha\":{\"value\":0.2},\"fill_color\":{\"value\":\"#30a2da\"},\"hatch_alpha\":{\"value\":0.2},\"hatch_color\":{\"value\":\"#30a2da\"},\"line_alpha\":{\"value\":0.2},\"top\":{\"field\":\"selloff\"},\"width\":{\"value\":0.8},\"x\":{\"field\":\"index\"}},\"id\":\"4194\",\"type\":\"VBar\"},{\"attributes\":{},\"id\":\"4200\",\"type\":\"AllLabels\"},{\"attributes\":{},\"id\":\"4202\",\"type\":\"BasicTickFormatter\"},{\"attributes\":{},\"id\":\"4211\",\"type\":\"UnionRenderers\"},{\"attributes\":{\"factors\":[\"BTC vs SP500\",\"BTC vs NASDAQ\",\"SP500 vs NASDAQ\"],\"tags\":[[[\"index\",\"index\",null]]]},\"id\":\"4157\",\"type\":\"FactorRange\"},{\"attributes\":{},\"id\":\"4167\",\"type\":\"LinearScale\"},{\"attributes\":{\"data\":{\"index\":[\"BTC vs SP500\",\"BTC vs NASDAQ\",\"SP500 vs NASDAQ\"],\"selloff\":{\"__ndarray__\":\"CLJni87X4D+QL9zCNWPfPz3OqusU2e0/\",\"dtype\":\"float64\",\"order\":\"little\",\"shape\":[3]}},\"selected\":{\"id\":\"4190\"},\"selection_policy\":{\"id\":\"4211\"}},\"id\":\"4189\",\"type\":\"ColumnDataSource\"},{\"attributes\":{},\"id\":\"4176\",\"type\":\"SaveTool\"},{\"attributes\":{\"callback\":null,\"renderers\":[{\"id\":\"4195\"}],\"tags\":[\"hv_created\"],\"tooltips\":[[\"index\",\"@{index}\"],[\"selloff\",\"@{selloff}\"]]},\"id\":\"4159\",\"type\":\"HoverTool\"},{\"attributes\":{\"end\":0.9769811270589481,\"reset_end\":0.9769811270589481,\"reset_start\":0.0,\"tags\":[[[\"selloff\",\"selloff\",null]]]},\"id\":\"4158\",\"type\":\"Range1d\"},{\"attributes\":{},\"id\":\"4177\",\"type\":\"PanTool\"},{\"attributes\":{},\"id\":\"4203\",\"type\":\"AllLabels\"},{\"attributes\":{\"tools\":[{\"id\":\"4159\"},{\"id\":\"4176\"},{\"id\":\"4177\"},{\"id\":\"4178\"},{\"id\":\"4179\"},{\"id\":\"4180\"}]},\"id\":\"4182\",\"type\":\"Toolbar\"},{\"attributes\":{\"source\":{\"id\":\"4189\"}},\"id\":\"4196\",\"type\":\"CDSView\"},{\"attributes\":{\"margin\":[5,5,5,5],\"name\":\"HSpacer03227\",\"sizing_mode\":\"stretch_width\"},\"id\":\"4224\",\"type\":\"Spacer\"}],\"root_ids\":[\"4155\"]},\"title\":\"Bokeh Application\",\"version\":\"2.4.1\"}};\n",
       "    var render_items = [{\"docid\":\"90313951-cc95-4a0f-aca0-948a95f19523\",\"root_ids\":[\"4155\"],\"roots\":{\"4155\":\"ba755f9f-19b5-4dbe-bffe-72fa78bfdec3\"}}];\n",
       "    root.Bokeh.embed.embed_items_notebook(docs_json, render_items);\n",
       "  }\n",
       "  if (root.Bokeh !== undefined && root.Bokeh.Panel !== undefined) {\n",
       "    embed_document(root);\n",
       "  } else {\n",
       "    var attempts = 0;\n",
       "    var timer = setInterval(function(root) {\n",
       "      if (root.Bokeh !== undefined && root.Bokeh.Panel !== undefined) {\n",
       "        clearInterval(timer);\n",
       "        embed_document(root);\n",
       "      } else if (document.readyState == \"complete\") {\n",
       "        attempts++;\n",
       "        if (attempts > 200) {\n",
       "          clearInterval(timer);\n",
       "          console.log(\"Bokeh: ERROR: Unable to run BokehJS code because BokehJS library is missing\");\n",
       "        }\n",
       "      }\n",
       "    }, 25, root)\n",
       "  }\n",
       "})(window);</script>"
      ],
      "text/plain": [
       ":Bars   [index]   (selloff)"
      ]
     },
     "execution_count": 36,
     "metadata": {
      "application/vnd.holoviews_exec.v0+json": {
       "id": "4155"
      }
     },
     "output_type": "execute_result"
    }
   ],
   "source": [
    "selloff_chart = create_bar_chart(\n",
    "    corr_btc_equity['selloff'],\n",
    "    'Correlation between BTC vs SP500 and NASDAQ \\nduring Sell Off Market'\n",
    ")\n",
    "\n",
    "selloff_chart"
   ]
  },
  {
   "cell_type": "code",
   "execution_count": 37,
   "id": "3570bdc2",
   "metadata": {},
   "outputs": [
    {
     "data": {},
     "metadata": {},
     "output_type": "display_data"
    },
    {
     "data": {
      "application/vnd.holoviews_exec.v0+json": "",
      "text/html": [
       "<div id='4306'>\n",
       "\n",
       "\n",
       "\n",
       "\n",
       "\n",
       "  <div class=\"bk-root\" id=\"4e3bc932-903f-40ee-8f76-2b2ea36e7c62\" data-root-id=\"4306\"></div>\n",
       "</div>\n",
       "<script type=\"application/javascript\">(function(root) {\n",
       "  function embed_document(root) {\n",
       "    var docs_json = {\"619988c7-0a1a-48b9-b3aa-7ef060b087d5\":{\"defs\":[{\"extends\":null,\"module\":null,\"name\":\"ReactiveHTML1\",\"overrides\":[],\"properties\":[]},{\"extends\":null,\"module\":null,\"name\":\"FlexBox1\",\"overrides\":[],\"properties\":[{\"default\":\"flex-start\",\"kind\":null,\"name\":\"align_content\"},{\"default\":\"flex-start\",\"kind\":null,\"name\":\"align_items\"},{\"default\":\"row\",\"kind\":null,\"name\":\"flex_direction\"},{\"default\":\"wrap\",\"kind\":null,\"name\":\"flex_wrap\"},{\"default\":\"flex-start\",\"kind\":null,\"name\":\"justify_content\"}]},{\"extends\":null,\"module\":null,\"name\":\"TemplateActions1\",\"overrides\":[],\"properties\":[{\"default\":0,\"kind\":null,\"name\":\"open_modal\"},{\"default\":0,\"kind\":null,\"name\":\"close_modal\"}]},{\"extends\":null,\"module\":null,\"name\":\"MaterialTemplateActions1\",\"overrides\":[],\"properties\":[{\"default\":0,\"kind\":null,\"name\":\"open_modal\"},{\"default\":0,\"kind\":null,\"name\":\"close_modal\"}]}],\"roots\":{\"references\":[{\"attributes\":{\"source\":{\"id\":\"4340\"}},\"id\":\"4347\",\"type\":\"CDSView\"},{\"attributes\":{\"axis_label\":\"\",\"coordinates\":null,\"formatter\":{\"id\":\"4350\"},\"group\":null,\"major_label_policy\":{\"id\":\"4351\"},\"ticker\":{\"id\":\"4321\"}},\"id\":\"4320\",\"type\":\"CategoricalAxis\"},{\"attributes\":{\"margin\":[5,5,5,5],\"name\":\"HSpacer03376\",\"sizing_mode\":\"stretch_width\"},\"id\":\"4375\",\"type\":\"Spacer\"},{\"attributes\":{\"end\":0.9935041394240067,\"reset_end\":0.9935041394240067,\"reset_start\":0.0,\"tags\":[[[\"normal\",\"normal\",null]]]},\"id\":\"4309\",\"type\":\"Range1d\"},{\"attributes\":{\"bottom_units\":\"screen\",\"coordinates\":null,\"fill_alpha\":0.5,\"fill_color\":\"lightgrey\",\"group\":null,\"left_units\":\"screen\",\"level\":\"overlay\",\"line_alpha\":1.0,\"line_color\":\"black\",\"line_dash\":[4,4],\"line_width\":2,\"right_units\":\"screen\",\"syncable\":false,\"top_units\":\"screen\"},\"id\":\"4332\",\"type\":\"BoxAnnotation\"},{\"attributes\":{\"tools\":[{\"id\":\"4310\"},{\"id\":\"4327\"},{\"id\":\"4328\"},{\"id\":\"4329\"},{\"id\":\"4330\"},{\"id\":\"4331\"}]},\"id\":\"4333\",\"type\":\"Toolbar\"},{\"attributes\":{},\"id\":\"4321\",\"type\":\"CategoricalTicker\"},{\"attributes\":{},\"id\":\"4316\",\"type\":\"CategoricalScale\"},{\"attributes\":{},\"id\":\"4341\",\"type\":\"Selection\"},{\"attributes\":{\"axis\":{\"id\":\"4320\"},\"coordinates\":null,\"grid_line_color\":null,\"group\":null,\"ticker\":null},\"id\":\"4322\",\"type\":\"Grid\"},{\"attributes\":{\"callback\":null,\"renderers\":[{\"id\":\"4346\"}],\"tags\":[\"hv_created\"],\"tooltips\":[[\"index\",\"@{index}\"],[\"normal\",\"@{normal}\"]]},\"id\":\"4310\",\"type\":\"HoverTool\"},{\"attributes\":{},\"id\":\"4324\",\"type\":\"BasicTicker\"},{\"attributes\":{},\"id\":\"4362\",\"type\":\"UnionRenderers\"},{\"attributes\":{\"axis_label\":\"\",\"coordinates\":null,\"formatter\":{\"id\":\"4353\"},\"group\":null,\"major_label_policy\":{\"id\":\"4354\"},\"ticker\":{\"id\":\"4324\"}},\"id\":\"4323\",\"type\":\"LinearAxis\"},{\"attributes\":{},\"id\":\"4353\",\"type\":\"BasicTickFormatter\"},{\"attributes\":{\"bottom\":{\"value\":0},\"fill_alpha\":{\"value\":1.0},\"fill_color\":{\"value\":\"#30a2da\"},\"hatch_alpha\":{\"value\":1.0},\"hatch_color\":{\"value\":\"#30a2da\"},\"hatch_scale\":{\"value\":12.0},\"hatch_weight\":{\"value\":1.0},\"line_alpha\":{\"value\":1.0},\"line_cap\":{\"value\":\"butt\"},\"line_color\":{\"value\":\"black\"},\"line_dash\":{\"value\":[]},\"line_dash_offset\":{\"value\":0},\"line_join\":{\"value\":\"bevel\"},\"line_width\":{\"value\":1},\"top\":{\"field\":\"normal\"},\"width\":{\"value\":0.8},\"x\":{\"field\":\"index\"}},\"id\":\"4348\",\"type\":\"VBar\"},{\"attributes\":{\"coordinates\":null,\"data_source\":{\"id\":\"4340\"},\"glyph\":{\"id\":\"4343\"},\"group\":null,\"hover_glyph\":null,\"muted_glyph\":{\"id\":\"4345\"},\"nonselection_glyph\":{\"id\":\"4344\"},\"selection_glyph\":{\"id\":\"4348\"},\"view\":{\"id\":\"4347\"}},\"id\":\"4346\",\"type\":\"GlyphRenderer\"},{\"attributes\":{\"fill_color\":{\"value\":\"#30a2da\"},\"hatch_color\":{\"value\":\"#30a2da\"},\"top\":{\"field\":\"normal\"},\"width\":{\"value\":0.8},\"x\":{\"field\":\"index\"}},\"id\":\"4343\",\"type\":\"VBar\"},{\"attributes\":{\"fill_alpha\":{\"value\":0.1},\"fill_color\":{\"value\":\"#30a2da\"},\"hatch_alpha\":{\"value\":0.1},\"hatch_color\":{\"value\":\"#30a2da\"},\"line_alpha\":{\"value\":0.1},\"top\":{\"field\":\"normal\"},\"width\":{\"value\":0.8},\"x\":{\"field\":\"index\"}},\"id\":\"4344\",\"type\":\"VBar\"},{\"attributes\":{},\"id\":\"4350\",\"type\":\"CategoricalTickFormatter\"},{\"attributes\":{\"fill_alpha\":{\"value\":0.2},\"fill_color\":{\"value\":\"#30a2da\"},\"hatch_alpha\":{\"value\":0.2},\"hatch_color\":{\"value\":\"#30a2da\"},\"line_alpha\":{\"value\":0.2},\"top\":{\"field\":\"normal\"},\"width\":{\"value\":0.8},\"x\":{\"field\":\"index\"}},\"id\":\"4345\",\"type\":\"VBar\"},{\"attributes\":{},\"id\":\"4327\",\"type\":\"SaveTool\"},{\"attributes\":{},\"id\":\"4351\",\"type\":\"AllLabels\"},{\"attributes\":{\"children\":[{\"id\":\"4307\"},{\"id\":\"4311\"},{\"id\":\"4375\"}],\"margin\":[0,0,0,0],\"name\":\"Row03371\",\"tags\":[\"embedded\"]},\"id\":\"4306\",\"type\":\"Row\"},{\"attributes\":{\"margin\":[5,5,5,5],\"name\":\"HSpacer03375\",\"sizing_mode\":\"stretch_width\"},\"id\":\"4307\",\"type\":\"Spacer\"},{\"attributes\":{},\"id\":\"4328\",\"type\":\"PanTool\"},{\"attributes\":{\"data\":{\"index\":[\"BTC vs SP500\",\"BTC vs NASDAQ\",\"SP500 vs NASDAQ\"],\"normal\":{\"__ndarray__\":\"HJWx3SB/tj/26HuJKm6+P/JptUZXKO0/\",\"dtype\":\"float64\",\"order\":\"little\",\"shape\":[3]}},\"selected\":{\"id\":\"4341\"},\"selection_policy\":{\"id\":\"4362\"}},\"id\":\"4340\",\"type\":\"ColumnDataSource\"},{\"attributes\":{},\"id\":\"4329\",\"type\":\"WheelZoomTool\"},{\"attributes\":{\"factors\":[\"BTC vs SP500\",\"BTC vs NASDAQ\",\"SP500 vs NASDAQ\"],\"tags\":[[[\"index\",\"index\",null]]]},\"id\":\"4308\",\"type\":\"FactorRange\"},{\"attributes\":{\"below\":[{\"id\":\"4320\"}],\"center\":[{\"id\":\"4322\"},{\"id\":\"4326\"}],\"height\":300,\"left\":[{\"id\":\"4323\"}],\"margin\":[5,5,5,5],\"min_border_bottom\":10,\"min_border_left\":10,\"min_border_right\":10,\"min_border_top\":10,\"renderers\":[{\"id\":\"4346\"}],\"sizing_mode\":\"fixed\",\"title\":{\"id\":\"4312\"},\"toolbar\":{\"id\":\"4333\"},\"width\":500,\"x_range\":{\"id\":\"4308\"},\"x_scale\":{\"id\":\"4316\"},\"y_range\":{\"id\":\"4309\"},\"y_scale\":{\"id\":\"4318\"}},\"id\":\"4311\",\"subtype\":\"Figure\",\"type\":\"Plot\"},{\"attributes\":{},\"id\":\"4331\",\"type\":\"ResetTool\"},{\"attributes\":{\"coordinates\":null,\"group\":null,\"text\":\"Correlation between BTC vs SP500 and NASDAQ \\nduring Normal Market\",\"text_color\":\"black\",\"text_font_size\":\"12pt\"},\"id\":\"4312\",\"type\":\"Title\"},{\"attributes\":{\"overlay\":{\"id\":\"4332\"}},\"id\":\"4330\",\"type\":\"BoxZoomTool\"},{\"attributes\":{},\"id\":\"4318\",\"type\":\"LinearScale\"},{\"attributes\":{},\"id\":\"4354\",\"type\":\"AllLabels\"},{\"attributes\":{\"axis\":{\"id\":\"4323\"},\"coordinates\":null,\"dimension\":1,\"grid_line_color\":null,\"group\":null,\"ticker\":null},\"id\":\"4326\",\"type\":\"Grid\"}],\"root_ids\":[\"4306\"]},\"title\":\"Bokeh Application\",\"version\":\"2.4.1\"}};\n",
       "    var render_items = [{\"docid\":\"619988c7-0a1a-48b9-b3aa-7ef060b087d5\",\"root_ids\":[\"4306\"],\"roots\":{\"4306\":\"4e3bc932-903f-40ee-8f76-2b2ea36e7c62\"}}];\n",
       "    root.Bokeh.embed.embed_items_notebook(docs_json, render_items);\n",
       "  }\n",
       "  if (root.Bokeh !== undefined && root.Bokeh.Panel !== undefined) {\n",
       "    embed_document(root);\n",
       "  } else {\n",
       "    var attempts = 0;\n",
       "    var timer = setInterval(function(root) {\n",
       "      if (root.Bokeh !== undefined && root.Bokeh.Panel !== undefined) {\n",
       "        clearInterval(timer);\n",
       "        embed_document(root);\n",
       "      } else if (document.readyState == \"complete\") {\n",
       "        attempts++;\n",
       "        if (attempts > 200) {\n",
       "          clearInterval(timer);\n",
       "          console.log(\"Bokeh: ERROR: Unable to run BokehJS code because BokehJS library is missing\");\n",
       "        }\n",
       "      }\n",
       "    }, 25, root)\n",
       "  }\n",
       "})(window);</script>"
      ],
      "text/plain": [
       ":Bars   [index]   (normal)"
      ]
     },
     "execution_count": 37,
     "metadata": {
      "application/vnd.holoviews_exec.v0+json": {
       "id": "4306"
      }
     },
     "output_type": "execute_result"
    }
   ],
   "source": [
    "normal_chart = create_bar_chart(\n",
    "    corr_btc_equity['normal'],\n",
    "    'Correlation between BTC vs SP500 and NASDAQ \\nduring Normal Market'\n",
    ")\n",
    "\n",
    "normal_chart"
   ]
  },
  {
   "cell_type": "code",
   "execution_count": 38,
   "id": "f5dede8c",
   "metadata": {},
   "outputs": [
    {
     "data": {},
     "metadata": {},
     "output_type": "display_data"
    },
    {
     "data": {},
     "metadata": {},
     "output_type": "display_data"
    },
    {
     "data": {
      "application/vnd.holoviews_exec.v0+json": "",
      "text/html": [
       "<div id='4457'>\n",
       "\n",
       "\n",
       "\n",
       "\n",
       "\n",
       "  <div class=\"bk-root\" id=\"d37a641e-797a-42b7-a930-f0e0d5588467\" data-root-id=\"4457\"></div>\n",
       "</div>\n",
       "<script type=\"application/javascript\">(function(root) {\n",
       "  function embed_document(root) {\n",
       "    var docs_json = {\"c36bd3c3-48b6-4b35-b1d5-3b61c45c8563\":{\"defs\":[{\"extends\":null,\"module\":null,\"name\":\"ReactiveHTML1\",\"overrides\":[],\"properties\":[]},{\"extends\":null,\"module\":null,\"name\":\"FlexBox1\",\"overrides\":[],\"properties\":[{\"default\":\"flex-start\",\"kind\":null,\"name\":\"align_content\"},{\"default\":\"flex-start\",\"kind\":null,\"name\":\"align_items\"},{\"default\":\"row\",\"kind\":null,\"name\":\"flex_direction\"},{\"default\":\"wrap\",\"kind\":null,\"name\":\"flex_wrap\"},{\"default\":\"flex-start\",\"kind\":null,\"name\":\"justify_content\"}]},{\"extends\":null,\"module\":null,\"name\":\"TemplateActions1\",\"overrides\":[],\"properties\":[{\"default\":0,\"kind\":null,\"name\":\"open_modal\"},{\"default\":0,\"kind\":null,\"name\":\"close_modal\"}]},{\"extends\":null,\"module\":null,\"name\":\"MaterialTemplateActions1\",\"overrides\":[],\"properties\":[{\"default\":0,\"kind\":null,\"name\":\"open_modal\"},{\"default\":0,\"kind\":null,\"name\":\"close_modal\"}]}],\"roots\":{\"references\":[{\"attributes\":{\"axis_label\":\"\",\"coordinates\":null,\"formatter\":{\"id\":\"4500\"},\"group\":null,\"major_label_policy\":{\"id\":\"4501\"},\"ticker\":{\"id\":\"4471\"}},\"id\":\"4470\",\"type\":\"CategoricalAxis\"},{\"attributes\":{\"coordinates\":null,\"group\":null,\"text\":\"Correlation between BTC vs SP500 and NASDAQ \\nduring Sell Off Market\",\"text_color\":\"black\",\"text_font_size\":\"12pt\"},\"id\":\"4462\",\"type\":\"Title\"},{\"attributes\":{},\"id\":\"4471\",\"type\":\"CategoricalTicker\"},{\"attributes\":{\"fill_alpha\":{\"value\":0.2},\"fill_color\":{\"value\":\"#30a2da\"},\"hatch_alpha\":{\"value\":0.2},\"hatch_color\":{\"value\":\"#30a2da\"},\"line_alpha\":{\"value\":0.2},\"top\":{\"field\":\"normal\"},\"width\":{\"value\":0.8},\"x\":{\"field\":\"index\"}},\"id\":\"4542\",\"type\":\"VBar\"},{\"attributes\":{\"below\":[{\"id\":\"4517\"}],\"center\":[{\"id\":\"4519\"},{\"id\":\"4523\"}],\"height\":300,\"left\":[{\"id\":\"4520\"}],\"margin\":null,\"min_border_bottom\":10,\"min_border_left\":10,\"min_border_right\":10,\"min_border_top\":10,\"renderers\":[{\"id\":\"4543\"}],\"sizing_mode\":\"fixed\",\"title\":{\"id\":\"4509\"},\"toolbar\":{\"id\":\"4530\"},\"toolbar_location\":null,\"width\":500,\"x_range\":{\"id\":\"4458\"},\"x_scale\":{\"id\":\"4513\"},\"y_range\":{\"id\":\"4506\"},\"y_scale\":{\"id\":\"4515\"}},\"id\":\"4508\",\"subtype\":\"Figure\",\"type\":\"Plot\"},{\"attributes\":{},\"id\":\"4515\",\"type\":\"LinearScale\"},{\"attributes\":{\"axis\":{\"id\":\"4470\"},\"coordinates\":null,\"grid_line_color\":null,\"group\":null,\"ticker\":null},\"id\":\"4472\",\"type\":\"Grid\"},{\"attributes\":{\"axis\":{\"id\":\"4520\"},\"coordinates\":null,\"dimension\":1,\"grid_line_color\":null,\"group\":null,\"ticker\":null},\"id\":\"4523\",\"type\":\"Grid\"},{\"attributes\":{},\"id\":\"4513\",\"type\":\"CategoricalScale\"},{\"attributes\":{},\"id\":\"4474\",\"type\":\"BasicTicker\"},{\"attributes\":{\"coordinates\":null,\"group\":null,\"text\":\"Correlation between BTC vs SP500 and NASDAQ \\nduring Normal Market\",\"text_color\":\"black\",\"text_font_size\":\"12pt\"},\"id\":\"4509\",\"type\":\"Title\"},{\"attributes\":{\"axis\":{\"id\":\"4473\"},\"coordinates\":null,\"dimension\":1,\"grid_line_color\":null,\"group\":null,\"ticker\":null},\"id\":\"4476\",\"type\":\"Grid\"},{\"attributes\":{\"client_comm_id\":\"820c3352b4bc423dbe1f26d71474ad43\",\"comm_id\":\"ab367ec3b2054bd1b59fc23ea3696643\",\"plot_id\":\"4457\"},\"id\":\"4878\",\"type\":\"panel.models.comm_manager.CommManager\"},{\"attributes\":{\"source\":{\"id\":\"4490\"}},\"id\":\"4497\",\"type\":\"CDSView\"},{\"attributes\":{\"fill_alpha\":{\"value\":0.2},\"fill_color\":{\"value\":\"#30a2da\"},\"hatch_alpha\":{\"value\":0.2},\"hatch_color\":{\"value\":\"#30a2da\"},\"line_alpha\":{\"value\":0.2},\"top\":{\"field\":\"selloff\"},\"width\":{\"value\":0.8},\"x\":{\"field\":\"index\"}},\"id\":\"4495\",\"type\":\"VBar\"},{\"attributes\":{},\"id\":\"4503\",\"type\":\"BasicTickFormatter\"},{\"attributes\":{\"axis_label\":\"\",\"coordinates\":null,\"formatter\":{\"id\":\"4547\"},\"group\":null,\"major_label_policy\":{\"id\":\"4548\"},\"ticker\":{\"id\":\"4518\"}},\"id\":\"4517\",\"type\":\"CategoricalAxis\"},{\"attributes\":{\"tools\":[{\"id\":\"4460\"},{\"id\":\"4477\"},{\"id\":\"4478\"},{\"id\":\"4479\"},{\"id\":\"4480\"},{\"id\":\"4481\"}]},\"id\":\"4483\",\"type\":\"Toolbar\"},{\"attributes\":{},\"id\":\"4518\",\"type\":\"CategoricalTicker\"},{\"attributes\":{},\"id\":\"4477\",\"type\":\"SaveTool\"},{\"attributes\":{\"axis\":{\"id\":\"4517\"},\"coordinates\":null,\"grid_line_color\":null,\"group\":null,\"ticker\":null},\"id\":\"4519\",\"type\":\"Grid\"},{\"attributes\":{},\"id\":\"4478\",\"type\":\"PanTool\"},{\"attributes\":{},\"id\":\"4521\",\"type\":\"BasicTicker\"},{\"attributes\":{},\"id\":\"4479\",\"type\":\"WheelZoomTool\"},{\"attributes\":{\"axis_label\":\"\",\"coordinates\":null,\"formatter\":{\"id\":\"4550\"},\"group\":null,\"major_label_policy\":{\"id\":\"4551\"},\"ticker\":{\"id\":\"4521\"}},\"id\":\"4520\",\"type\":\"LinearAxis\"},{\"attributes\":{\"overlay\":{\"id\":\"4482\"}},\"id\":\"4480\",\"type\":\"BoxZoomTool\"},{\"attributes\":{},\"id\":\"4570\",\"type\":\"UnionRenderers\"},{\"attributes\":{\"coordinates\":null,\"data_source\":{\"id\":\"4537\"},\"glyph\":{\"id\":\"4540\"},\"group\":null,\"hover_glyph\":null,\"muted_glyph\":{\"id\":\"4542\"},\"nonselection_glyph\":{\"id\":\"4541\"},\"selection_glyph\":{\"id\":\"4545\"},\"view\":{\"id\":\"4544\"}},\"id\":\"4543\",\"type\":\"GlyphRenderer\"},{\"attributes\":{},\"id\":\"4551\",\"type\":\"AllLabels\"},{\"attributes\":{},\"id\":\"4481\",\"type\":\"ResetTool\"},{\"attributes\":{\"tools\":[{\"id\":\"4507\"},{\"id\":\"4524\"},{\"id\":\"4525\"},{\"id\":\"4526\"},{\"id\":\"4527\"},{\"id\":\"4528\"}]},\"id\":\"4530\",\"type\":\"Toolbar\"},{\"attributes\":{},\"id\":\"4524\",\"type\":\"SaveTool\"},{\"attributes\":{},\"id\":\"4466\",\"type\":\"CategoricalScale\"},{\"attributes\":{\"axis_label\":\"\",\"coordinates\":null,\"formatter\":{\"id\":\"4503\"},\"group\":null,\"major_label_policy\":{\"id\":\"4504\"},\"ticker\":{\"id\":\"4474\"}},\"id\":\"4473\",\"type\":\"LinearAxis\"},{\"attributes\":{},\"id\":\"4468\",\"type\":\"LinearScale\"},{\"attributes\":{\"fill_alpha\":{\"value\":0.1},\"fill_color\":{\"value\":\"#30a2da\"},\"hatch_alpha\":{\"value\":0.1},\"hatch_color\":{\"value\":\"#30a2da\"},\"line_alpha\":{\"value\":0.1},\"top\":{\"field\":\"selloff\"},\"width\":{\"value\":0.8},\"x\":{\"field\":\"index\"}},\"id\":\"4494\",\"type\":\"VBar\"},{\"attributes\":{\"toolbars\":[{\"id\":\"4483\"},{\"id\":\"4530\"}],\"tools\":[{\"id\":\"4460\"},{\"id\":\"4477\"},{\"id\":\"4478\"},{\"id\":\"4479\"},{\"id\":\"4480\"},{\"id\":\"4481\"},{\"id\":\"4507\"},{\"id\":\"4524\"},{\"id\":\"4525\"},{\"id\":\"4526\"},{\"id\":\"4527\"},{\"id\":\"4528\"}]},\"id\":\"4575\",\"type\":\"ProxyToolbar\"},{\"attributes\":{},\"id\":\"4525\",\"type\":\"PanTool\"},{\"attributes\":{},\"id\":\"4526\",\"type\":\"WheelZoomTool\"},{\"attributes\":{\"bottom\":{\"value\":0},\"fill_alpha\":{\"value\":1.0},\"fill_color\":{\"value\":\"#30a2da\"},\"hatch_alpha\":{\"value\":1.0},\"hatch_color\":{\"value\":\"#30a2da\"},\"hatch_scale\":{\"value\":12.0},\"hatch_weight\":{\"value\":1.0},\"line_alpha\":{\"value\":1.0},\"line_cap\":{\"value\":\"butt\"},\"line_color\":{\"value\":\"black\"},\"line_dash\":{\"value\":[]},\"line_dash_offset\":{\"value\":0},\"line_join\":{\"value\":\"bevel\"},\"line_width\":{\"value\":1},\"top\":{\"field\":\"selloff\"},\"width\":{\"value\":0.8},\"x\":{\"field\":\"index\"}},\"id\":\"4498\",\"type\":\"VBar\"},{\"attributes\":{\"overlay\":{\"id\":\"4529\"}},\"id\":\"4527\",\"type\":\"BoxZoomTool\"},{\"attributes\":{\"fill_color\":{\"value\":\"#30a2da\"},\"hatch_color\":{\"value\":\"#30a2da\"},\"top\":{\"field\":\"normal\"},\"width\":{\"value\":0.8},\"x\":{\"field\":\"index\"}},\"id\":\"4540\",\"type\":\"VBar\"},{\"attributes\":{\"children\":[{\"id\":\"4577\"}],\"margin\":[0,0,0,0],\"name\":\"Column03453\"},\"id\":\"4457\",\"type\":\"Column\"},{\"attributes\":{},\"id\":\"4559\",\"type\":\"UnionRenderers\"},{\"attributes\":{},\"id\":\"4500\",\"type\":\"CategoricalTickFormatter\"},{\"attributes\":{\"bottom_units\":\"screen\",\"coordinates\":null,\"fill_alpha\":0.5,\"fill_color\":\"lightgrey\",\"group\":null,\"left_units\":\"screen\",\"level\":\"overlay\",\"line_alpha\":1.0,\"line_color\":\"black\",\"line_dash\":[4,4],\"line_width\":2,\"right_units\":\"screen\",\"syncable\":false,\"top_units\":\"screen\"},\"id\":\"4482\",\"type\":\"BoxAnnotation\"},{\"attributes\":{\"data\":{\"index\":[\"BTC vs SP500\",\"BTC vs NASDAQ\",\"SP500 vs NASDAQ\"],\"normal\":{\"__ndarray__\":\"HJWx3SB/tj/26HuJKm6+P/JptUZXKO0/\",\"dtype\":\"float64\",\"order\":\"little\",\"shape\":[3]}},\"selected\":{\"id\":\"4538\"},\"selection_policy\":{\"id\":\"4570\"}},\"id\":\"4537\",\"type\":\"ColumnDataSource\"},{\"attributes\":{},\"id\":\"4528\",\"type\":\"ResetTool\"},{\"attributes\":{\"toolbar\":{\"id\":\"4575\"},\"toolbar_location\":\"above\"},\"id\":\"4576\",\"type\":\"ToolbarBox\"},{\"attributes\":{\"coordinates\":null,\"data_source\":{\"id\":\"4490\"},\"glyph\":{\"id\":\"4493\"},\"group\":null,\"hover_glyph\":null,\"muted_glyph\":{\"id\":\"4495\"},\"nonselection_glyph\":{\"id\":\"4494\"},\"selection_glyph\":{\"id\":\"4498\"},\"view\":{\"id\":\"4497\"}},\"id\":\"4496\",\"type\":\"GlyphRenderer\"},{\"attributes\":{\"below\":[{\"id\":\"4470\"}],\"center\":[{\"id\":\"4472\"},{\"id\":\"4476\"}],\"height\":300,\"left\":[{\"id\":\"4473\"}],\"margin\":null,\"min_border_bottom\":10,\"min_border_left\":10,\"min_border_right\":10,\"min_border_top\":10,\"renderers\":[{\"id\":\"4496\"}],\"sizing_mode\":\"fixed\",\"title\":{\"id\":\"4462\"},\"toolbar\":{\"id\":\"4483\"},\"toolbar_location\":null,\"width\":500,\"x_range\":{\"id\":\"4458\"},\"x_scale\":{\"id\":\"4466\"},\"y_range\":{\"id\":\"4459\"},\"y_scale\":{\"id\":\"4468\"}},\"id\":\"4461\",\"subtype\":\"Figure\",\"type\":\"Plot\"},{\"attributes\":{\"bottom_units\":\"screen\",\"coordinates\":null,\"fill_alpha\":0.5,\"fill_color\":\"lightgrey\",\"group\":null,\"left_units\":\"screen\",\"level\":\"overlay\",\"line_alpha\":1.0,\"line_color\":\"black\",\"line_dash\":[4,4],\"line_width\":2,\"right_units\":\"screen\",\"syncable\":false,\"top_units\":\"screen\"},\"id\":\"4529\",\"type\":\"BoxAnnotation\"},{\"attributes\":{\"data\":{\"index\":[\"BTC vs SP500\",\"BTC vs NASDAQ\",\"SP500 vs NASDAQ\"],\"selloff\":{\"__ndarray__\":\"CLJni87X4D+QL9zCNWPfPz3OqusU2e0/\",\"dtype\":\"float64\",\"order\":\"little\",\"shape\":[3]}},\"selected\":{\"id\":\"4491\"},\"selection_policy\":{\"id\":\"4559\"}},\"id\":\"4490\",\"type\":\"ColumnDataSource\"},{\"attributes\":{},\"id\":\"4501\",\"type\":\"AllLabels\"},{\"attributes\":{\"source\":{\"id\":\"4537\"}},\"id\":\"4544\",\"type\":\"CDSView\"},{\"attributes\":{},\"id\":\"4548\",\"type\":\"AllLabels\"},{\"attributes\":{\"callback\":null,\"renderers\":[{\"id\":\"4496\"}],\"tags\":[\"hv_created\"],\"tooltips\":[[\"index\",\"@{index}\"],[\"selloff\",\"@{selloff}\"]]},\"id\":\"4460\",\"type\":\"HoverTool\"},{\"attributes\":{\"bottom\":{\"value\":0},\"fill_alpha\":{\"value\":1.0},\"fill_color\":{\"value\":\"#30a2da\"},\"hatch_alpha\":{\"value\":1.0},\"hatch_color\":{\"value\":\"#30a2da\"},\"hatch_scale\":{\"value\":12.0},\"hatch_weight\":{\"value\":1.0},\"line_alpha\":{\"value\":1.0},\"line_cap\":{\"value\":\"butt\"},\"line_color\":{\"value\":\"black\"},\"line_dash\":{\"value\":[]},\"line_dash_offset\":{\"value\":0},\"line_join\":{\"value\":\"bevel\"},\"line_width\":{\"value\":1},\"top\":{\"field\":\"normal\"},\"width\":{\"value\":0.8},\"x\":{\"field\":\"index\"}},\"id\":\"4545\",\"type\":\"VBar\"},{\"attributes\":{\"fill_alpha\":{\"value\":0.1},\"fill_color\":{\"value\":\"#30a2da\"},\"hatch_alpha\":{\"value\":0.1},\"hatch_color\":{\"value\":\"#30a2da\"},\"line_alpha\":{\"value\":0.1},\"top\":{\"field\":\"normal\"},\"width\":{\"value\":0.8},\"x\":{\"field\":\"index\"}},\"id\":\"4541\",\"type\":\"VBar\"},{\"attributes\":{\"children\":[{\"id\":\"4576\"},{\"id\":\"4574\"}]},\"id\":\"4577\",\"type\":\"Column\"},{\"attributes\":{\"fill_color\":{\"value\":\"#30a2da\"},\"hatch_color\":{\"value\":\"#30a2da\"},\"top\":{\"field\":\"selloff\"},\"width\":{\"value\":0.8},\"x\":{\"field\":\"index\"}},\"id\":\"4493\",\"type\":\"VBar\"},{\"attributes\":{\"end\":0.9935041394240067,\"reset_end\":0.9935041394240067,\"reset_start\":0.0,\"tags\":[[[\"normal\",\"normal\",null]]]},\"id\":\"4506\",\"type\":\"Range1d\"},{\"attributes\":{},\"id\":\"4547\",\"type\":\"CategoricalTickFormatter\"},{\"attributes\":{},\"id\":\"4491\",\"type\":\"Selection\"},{\"attributes\":{},\"id\":\"4538\",\"type\":\"Selection\"},{\"attributes\":{},\"id\":\"4504\",\"type\":\"AllLabels\"},{\"attributes\":{\"callback\":null,\"renderers\":[{\"id\":\"4543\"}],\"tags\":[\"hv_created\"],\"tooltips\":[[\"index\",\"@{index}\"],[\"normal\",\"@{normal}\"]]},\"id\":\"4507\",\"type\":\"HoverTool\"},{\"attributes\":{\"end\":0.9769811270589481,\"reset_end\":0.9769811270589481,\"reset_start\":0.0,\"tags\":[[[\"selloff\",\"selloff\",null]]]},\"id\":\"4459\",\"type\":\"Range1d\"},{\"attributes\":{},\"id\":\"4550\",\"type\":\"BasicTickFormatter\"},{\"attributes\":{\"children\":[[{\"id\":\"4461\"},0,0],[{\"id\":\"4508\"},0,1]]},\"id\":\"4574\",\"type\":\"GridBox\"},{\"attributes\":{\"factors\":[\"BTC vs SP500\",\"BTC vs NASDAQ\",\"SP500 vs NASDAQ\"],\"tags\":[[[\"index\",\"index\",null]]]},\"id\":\"4458\",\"type\":\"FactorRange\"}],\"root_ids\":[\"4457\",\"4878\"]},\"title\":\"Bokeh Application\",\"version\":\"2.4.1\"}};\n",
       "    var render_items = [{\"docid\":\"c36bd3c3-48b6-4b35-b1d5-3b61c45c8563\",\"root_ids\":[\"4457\"],\"roots\":{\"4457\":\"d37a641e-797a-42b7-a930-f0e0d5588467\"}}];\n",
       "    root.Bokeh.embed.embed_items_notebook(docs_json, render_items);\n",
       "  }\n",
       "  if (root.Bokeh !== undefined && root.Bokeh.Panel !== undefined) {\n",
       "    embed_document(root);\n",
       "  } else {\n",
       "    var attempts = 0;\n",
       "    var timer = setInterval(function(root) {\n",
       "      if (root.Bokeh !== undefined && root.Bokeh.Panel !== undefined) {\n",
       "        clearInterval(timer);\n",
       "        embed_document(root);\n",
       "      } else if (document.readyState == \"complete\") {\n",
       "        attempts++;\n",
       "        if (attempts > 200) {\n",
       "          clearInterval(timer);\n",
       "          console.log(\"Bokeh: ERROR: Unable to run BokehJS code because BokehJS library is missing\");\n",
       "        }\n",
       "      }\n",
       "    }, 25, root)\n",
       "  }\n",
       "})(window);</script>"
      ],
      "text/plain": [
       "Column\n",
       "    [0] HoloViews(Layout)"
      ]
     },
     "execution_count": 38,
     "metadata": {
      "application/vnd.holoviews_exec.v0+json": {
       "id": "4457"
      }
     },
     "output_type": "execute_result"
    }
   ],
   "source": [
    "corr_chart = pn.Column(selloff_chart + normal_chart)\n",
    "corr_chart"
   ]
  },
  {
   "cell_type": "markdown",
   "id": "2d51b65b",
   "metadata": {},
   "source": [
    "# Return and Risk Analysis \n",
    "In this analysis we'd like to examine the risk and return profile of each asset and an equally weighted portfolios of BTC-SP500 and BTC-NASDAQ.\n",
    "The first section of the analysis, we examined the return and the max loss of the assets and portfolios.  We do this by looking at the recent 4 years of return data.  And we use sunburst chart to display the return vs. the max loss for all the assets and portfolios.\n",
    "The second section of the analysis, we used an alternative metric of Sharpe ratio to assess the return for every unit of risk of each assets and portfolios.  We used hvplot to display our results."
   ]
  },
  {
   "cell_type": "code",
   "execution_count": 39,
   "id": "dcf039db",
   "metadata": {},
   "outputs": [],
   "source": [
    "# Manipulate the time series data into data that can be used for sunburst chart\n",
    "\n",
    "# concatenate the BTC, SP, NASD returns with equally wgted portfolios\n",
    "all_assets = pd.concat([pct_change_df, combined_pct_change], axis=1)\n",
    "years = [2019, 2020, 2021, 2022]\n",
    "data_sunburst = pd.DataFrame()\n",
    "years_sunburst = pd.DataFrame()\n",
    "\n",
    "# Loop through the last 4 years\n",
    "for i in years:\n",
    "    \n",
    "    # Calculate the avg ret and min ret for each year\n",
    "    yearly_data = all_assets[all_assets.index.year == i]\n",
    "    yearly_avg = yearly_data.mean()\n",
    "    yearly_min = yearly_data.min()\n",
    "    year_df = pd.DataFrame([i] * len(all_assets.columns))   \n",
    "    data_avg_min = pd.concat([yearly_avg, yearly_min], axis=1)\n",
    "    data_sunburst = data_sunburst.append(data_avg_min)\n",
    "    \n",
    "    # Append each yearly data\n",
    "    years_sunburst = years_sunburst.append(year_df)\n",
    "    \n",
    "data_sunburst.columns = ['avgret', 'minret']\n",
    "data_sunburst['port'] = data_sunburst.index\n",
    "data_sunburst = data_sunburst.reset_index(drop=True)\n",
    "years_sunburst = years_sunburst.reset_index(drop=True) \n",
    "years_sunburst.columns=['year']\n",
    "data_sunburst = pd.concat([data_sunburst,years_sunburst], axis=1)"
   ]
  },
  {
   "cell_type": "code",
   "execution_count": 40,
   "id": "77550b90",
   "metadata": {},
   "outputs": [
    {
     "data": {
      "application/vnd.plotly.v1+json": {
       "config": {
        "plotlyServerURL": "https://plot.ly"
       },
       "data": [
        {
         "branchvalues": "total",
         "customdata": [
          [
           -0.14702574743953378,
           -0.14702574743953378
          ],
          [
           -0.37169538560117077,
           -0.37169538560117077
          ],
          [
           -0.13766122609163733,
           -0.13766122609163733
          ],
          [
           -0.10381165615712483,
           -0.10381165615712483
          ],
          [
           -0.13641903075491646,
           -0.13641903075491646
          ],
          [
           -0.4660421286959826,
           -0.4660421286959826
          ],
          [
           -0.1599362927645065,
           -0.1599362927645065
          ],
          [
           -0.13101944745095173,
           -0.13101944745095173
          ],
          [
           -0.1393534464073456,
           -0.1393534464073456
          ],
          [
           -0.46680806657950735,
           -0.46680806657950735
          ],
          [
           -0.15466685563310334,
           -0.15466685563310334
          ],
          [
           -0.12272647802503345,
           -0.12272647802503345
          ],
          [
           -0.03473605194134943,
           -0.03473605194134943
          ],
          [
           -0.12321331290147408,
           -0.12321331290147408
          ],
          [
           -0.03519202121238085,
           -0.03519202121238085
          ],
          [
           -0.03736623070394007,
           -0.03736623070394007
          ],
          [
           -0.029777820002985896,
           -0.029777820002985896
          ],
          [
           -0.11984055240393443,
           -0.11984055240393443
          ],
          [
           -0.025677883699462,
           -0.025677883699462
          ],
          [
           -0.029518158313449172,
           -0.029518158313449172
          ],
          [
           -0.12410509616233512,
           -0.12410509616233512
          ],
          [
           -0.4064809681664345,
           -0.4064809681664345
          ],
          [
           -0.13462937456720744,
           -0.13462937456720744
          ],
          [
           -0.09638695835683307,
           -0.09638695835683307
          ]
         ],
         "domain": {
          "x": [
           0,
           1
          ],
          "y": [
           0,
           1
          ]
         },
         "hovertemplate": "labels=%{label}<br>avgret=%{value}<br>parent=%{parent}<br>id=%{id}<br>minret=%{color}<extra></extra>",
         "ids": [
          "2019/BTC",
          "2020/BTC",
          "2021/BTC",
          "2022/BTC",
          "2019/BTC-NASDAQ",
          "2020/BTC-NASDAQ",
          "2021/BTC-NASDAQ",
          "2022/BTC-NASDAQ",
          "2019/BTC-SP500",
          "2020/BTC-SP500",
          "2021/BTC-SP500",
          "2022/BTC-SP500",
          "2019/NASDAQ",
          "2020/NASDAQ",
          "2021/NASDAQ",
          "2022/NASDAQ",
          "2019/SP500",
          "2020/SP500",
          "2021/SP500",
          "2022/SP500",
          "2019",
          "2020",
          "2021",
          "2022"
         ],
         "labels": [
          "BTC",
          "BTC",
          "BTC",
          "BTC",
          "BTC-NASDAQ",
          "BTC-NASDAQ",
          "BTC-NASDAQ",
          "BTC-NASDAQ",
          "BTC-SP500",
          "BTC-SP500",
          "BTC-SP500",
          "BTC-SP500",
          "NASDAQ",
          "NASDAQ",
          "NASDAQ",
          "NASDAQ",
          "SP500",
          "SP500",
          "SP500",
          "SP500",
          "2019",
          "2020",
          "2021",
          "2022"
         ],
         "marker": {
          "coloraxis": "coloraxis",
          "colors": [
           -0.14702574743953378,
           -0.37169538560117077,
           -0.13766122609163733,
           -0.10381165615712483,
           -0.13641903075491646,
           -0.4660421286959826,
           -0.1599362927645065,
           -0.13101944745095173,
           -0.1393534464073456,
           -0.46680806657950735,
           -0.15466685563310334,
           -0.12272647802503345,
           -0.03473605194134943,
           -0.12321331290147408,
           -0.03519202121238085,
           -0.03736623070394007,
           -0.029777820002985896,
           -0.11984055240393443,
           -0.025677883699462,
           -0.029518158313449172,
           -0.12410509616233512,
           -0.4064809681664345,
           -0.13462937456720744,
           -0.09638695835683307
          ]
         },
         "name": "",
         "parents": [
          "2019",
          "2020",
          "2021",
          "2022",
          "2019",
          "2020",
          "2021",
          "2022",
          "2019",
          "2020",
          "2021",
          "2022",
          "2019",
          "2020",
          "2021",
          "2022",
          "2019",
          "2020",
          "2021",
          "2022",
          "",
          "",
          "",
          ""
         ],
         "type": "sunburst",
         "values": [
          0.003529104144616806,
          0.006640323632724496,
          0.0030778277863814803,
          -0.0013408681036107416,
          0.004775898651530864,
          0.008324579190616578,
          0.003911501069486135,
          -0.0033574167610480074,
          0.004567151269203426,
          0.007472490330944973,
          0.004057349526694966,
          -0.0023902549198867662,
          0.0012467945069140542,
          0.0016842555578920814,
          0.0008336732831046542,
          -0.002016548657437266,
          0.0010380471245866197,
          0.0008321666982204781,
          0.0009795217403134877,
          -0.0010493868162760244,
          0.01515699569685177,
          0.024953815410398608,
          0.012859873405980724,
          -0.010154475258258806
         ]
        }
       ],
       "layout": {
        "coloraxis": {
         "colorbar": {
          "title": {
           "text": "minret"
          }
         },
         "colorscale": [
          [
           0,
           "rgb(103,0,31)"
          ],
          [
           0.1,
           "rgb(178,24,43)"
          ],
          [
           0.2,
           "rgb(214,96,77)"
          ],
          [
           0.3,
           "rgb(244,165,130)"
          ],
          [
           0.4,
           "rgb(253,219,199)"
          ],
          [
           0.5,
           "rgb(247,247,247)"
          ],
          [
           0.6,
           "rgb(209,229,240)"
          ],
          [
           0.7,
           "rgb(146,197,222)"
          ],
          [
           0.8,
           "rgb(67,147,195)"
          ],
          [
           0.9,
           "rgb(33,102,172)"
          ],
          [
           1,
           "rgb(5,48,97)"
          ]
         ]
        },
        "legend": {
         "tracegroupgap": 0
        },
        "margin": {
         "t": 60
        },
        "template": {
         "data": {
          "bar": [
           {
            "error_x": {
             "color": "#2a3f5f"
            },
            "error_y": {
             "color": "#2a3f5f"
            },
            "marker": {
             "line": {
              "color": "#E5ECF6",
              "width": 0.5
             },
             "pattern": {
              "fillmode": "overlay",
              "size": 10,
              "solidity": 0.2
             }
            },
            "type": "bar"
           }
          ],
          "barpolar": [
           {
            "marker": {
             "line": {
              "color": "#E5ECF6",
              "width": 0.5
             },
             "pattern": {
              "fillmode": "overlay",
              "size": 10,
              "solidity": 0.2
             }
            },
            "type": "barpolar"
           }
          ],
          "carpet": [
           {
            "aaxis": {
             "endlinecolor": "#2a3f5f",
             "gridcolor": "white",
             "linecolor": "white",
             "minorgridcolor": "white",
             "startlinecolor": "#2a3f5f"
            },
            "baxis": {
             "endlinecolor": "#2a3f5f",
             "gridcolor": "white",
             "linecolor": "white",
             "minorgridcolor": "white",
             "startlinecolor": "#2a3f5f"
            },
            "type": "carpet"
           }
          ],
          "choropleth": [
           {
            "colorbar": {
             "outlinewidth": 0,
             "ticks": ""
            },
            "type": "choropleth"
           }
          ],
          "contour": [
           {
            "colorbar": {
             "outlinewidth": 0,
             "ticks": ""
            },
            "colorscale": [
             [
              0,
              "#0d0887"
             ],
             [
              0.1111111111111111,
              "#46039f"
             ],
             [
              0.2222222222222222,
              "#7201a8"
             ],
             [
              0.3333333333333333,
              "#9c179e"
             ],
             [
              0.4444444444444444,
              "#bd3786"
             ],
             [
              0.5555555555555556,
              "#d8576b"
             ],
             [
              0.6666666666666666,
              "#ed7953"
             ],
             [
              0.7777777777777778,
              "#fb9f3a"
             ],
             [
              0.8888888888888888,
              "#fdca26"
             ],
             [
              1,
              "#f0f921"
             ]
            ],
            "type": "contour"
           }
          ],
          "contourcarpet": [
           {
            "colorbar": {
             "outlinewidth": 0,
             "ticks": ""
            },
            "type": "contourcarpet"
           }
          ],
          "heatmap": [
           {
            "colorbar": {
             "outlinewidth": 0,
             "ticks": ""
            },
            "colorscale": [
             [
              0,
              "#0d0887"
             ],
             [
              0.1111111111111111,
              "#46039f"
             ],
             [
              0.2222222222222222,
              "#7201a8"
             ],
             [
              0.3333333333333333,
              "#9c179e"
             ],
             [
              0.4444444444444444,
              "#bd3786"
             ],
             [
              0.5555555555555556,
              "#d8576b"
             ],
             [
              0.6666666666666666,
              "#ed7953"
             ],
             [
              0.7777777777777778,
              "#fb9f3a"
             ],
             [
              0.8888888888888888,
              "#fdca26"
             ],
             [
              1,
              "#f0f921"
             ]
            ],
            "type": "heatmap"
           }
          ],
          "heatmapgl": [
           {
            "colorbar": {
             "outlinewidth": 0,
             "ticks": ""
            },
            "colorscale": [
             [
              0,
              "#0d0887"
             ],
             [
              0.1111111111111111,
              "#46039f"
             ],
             [
              0.2222222222222222,
              "#7201a8"
             ],
             [
              0.3333333333333333,
              "#9c179e"
             ],
             [
              0.4444444444444444,
              "#bd3786"
             ],
             [
              0.5555555555555556,
              "#d8576b"
             ],
             [
              0.6666666666666666,
              "#ed7953"
             ],
             [
              0.7777777777777778,
              "#fb9f3a"
             ],
             [
              0.8888888888888888,
              "#fdca26"
             ],
             [
              1,
              "#f0f921"
             ]
            ],
            "type": "heatmapgl"
           }
          ],
          "histogram": [
           {
            "marker": {
             "pattern": {
              "fillmode": "overlay",
              "size": 10,
              "solidity": 0.2
             }
            },
            "type": "histogram"
           }
          ],
          "histogram2d": [
           {
            "colorbar": {
             "outlinewidth": 0,
             "ticks": ""
            },
            "colorscale": [
             [
              0,
              "#0d0887"
             ],
             [
              0.1111111111111111,
              "#46039f"
             ],
             [
              0.2222222222222222,
              "#7201a8"
             ],
             [
              0.3333333333333333,
              "#9c179e"
             ],
             [
              0.4444444444444444,
              "#bd3786"
             ],
             [
              0.5555555555555556,
              "#d8576b"
             ],
             [
              0.6666666666666666,
              "#ed7953"
             ],
             [
              0.7777777777777778,
              "#fb9f3a"
             ],
             [
              0.8888888888888888,
              "#fdca26"
             ],
             [
              1,
              "#f0f921"
             ]
            ],
            "type": "histogram2d"
           }
          ],
          "histogram2dcontour": [
           {
            "colorbar": {
             "outlinewidth": 0,
             "ticks": ""
            },
            "colorscale": [
             [
              0,
              "#0d0887"
             ],
             [
              0.1111111111111111,
              "#46039f"
             ],
             [
              0.2222222222222222,
              "#7201a8"
             ],
             [
              0.3333333333333333,
              "#9c179e"
             ],
             [
              0.4444444444444444,
              "#bd3786"
             ],
             [
              0.5555555555555556,
              "#d8576b"
             ],
             [
              0.6666666666666666,
              "#ed7953"
             ],
             [
              0.7777777777777778,
              "#fb9f3a"
             ],
             [
              0.8888888888888888,
              "#fdca26"
             ],
             [
              1,
              "#f0f921"
             ]
            ],
            "type": "histogram2dcontour"
           }
          ],
          "mesh3d": [
           {
            "colorbar": {
             "outlinewidth": 0,
             "ticks": ""
            },
            "type": "mesh3d"
           }
          ],
          "parcoords": [
           {
            "line": {
             "colorbar": {
              "outlinewidth": 0,
              "ticks": ""
             }
            },
            "type": "parcoords"
           }
          ],
          "pie": [
           {
            "automargin": true,
            "type": "pie"
           }
          ],
          "scatter": [
           {
            "marker": {
             "colorbar": {
              "outlinewidth": 0,
              "ticks": ""
             }
            },
            "type": "scatter"
           }
          ],
          "scatter3d": [
           {
            "line": {
             "colorbar": {
              "outlinewidth": 0,
              "ticks": ""
             }
            },
            "marker": {
             "colorbar": {
              "outlinewidth": 0,
              "ticks": ""
             }
            },
            "type": "scatter3d"
           }
          ],
          "scattercarpet": [
           {
            "marker": {
             "colorbar": {
              "outlinewidth": 0,
              "ticks": ""
             }
            },
            "type": "scattercarpet"
           }
          ],
          "scattergeo": [
           {
            "marker": {
             "colorbar": {
              "outlinewidth": 0,
              "ticks": ""
             }
            },
            "type": "scattergeo"
           }
          ],
          "scattergl": [
           {
            "marker": {
             "colorbar": {
              "outlinewidth": 0,
              "ticks": ""
             }
            },
            "type": "scattergl"
           }
          ],
          "scattermapbox": [
           {
            "marker": {
             "colorbar": {
              "outlinewidth": 0,
              "ticks": ""
             }
            },
            "type": "scattermapbox"
           }
          ],
          "scatterpolar": [
           {
            "marker": {
             "colorbar": {
              "outlinewidth": 0,
              "ticks": ""
             }
            },
            "type": "scatterpolar"
           }
          ],
          "scatterpolargl": [
           {
            "marker": {
             "colorbar": {
              "outlinewidth": 0,
              "ticks": ""
             }
            },
            "type": "scatterpolargl"
           }
          ],
          "scatterternary": [
           {
            "marker": {
             "colorbar": {
              "outlinewidth": 0,
              "ticks": ""
             }
            },
            "type": "scatterternary"
           }
          ],
          "surface": [
           {
            "colorbar": {
             "outlinewidth": 0,
             "ticks": ""
            },
            "colorscale": [
             [
              0,
              "#0d0887"
             ],
             [
              0.1111111111111111,
              "#46039f"
             ],
             [
              0.2222222222222222,
              "#7201a8"
             ],
             [
              0.3333333333333333,
              "#9c179e"
             ],
             [
              0.4444444444444444,
              "#bd3786"
             ],
             [
              0.5555555555555556,
              "#d8576b"
             ],
             [
              0.6666666666666666,
              "#ed7953"
             ],
             [
              0.7777777777777778,
              "#fb9f3a"
             ],
             [
              0.8888888888888888,
              "#fdca26"
             ],
             [
              1,
              "#f0f921"
             ]
            ],
            "type": "surface"
           }
          ],
          "table": [
           {
            "cells": {
             "fill": {
              "color": "#EBF0F8"
             },
             "line": {
              "color": "white"
             }
            },
            "header": {
             "fill": {
              "color": "#C8D4E3"
             },
             "line": {
              "color": "white"
             }
            },
            "type": "table"
           }
          ]
         },
         "layout": {
          "annotationdefaults": {
           "arrowcolor": "#2a3f5f",
           "arrowhead": 0,
           "arrowwidth": 1
          },
          "autotypenumbers": "strict",
          "coloraxis": {
           "colorbar": {
            "outlinewidth": 0,
            "ticks": ""
           }
          },
          "colorscale": {
           "diverging": [
            [
             0,
             "#8e0152"
            ],
            [
             0.1,
             "#c51b7d"
            ],
            [
             0.2,
             "#de77ae"
            ],
            [
             0.3,
             "#f1b6da"
            ],
            [
             0.4,
             "#fde0ef"
            ],
            [
             0.5,
             "#f7f7f7"
            ],
            [
             0.6,
             "#e6f5d0"
            ],
            [
             0.7,
             "#b8e186"
            ],
            [
             0.8,
             "#7fbc41"
            ],
            [
             0.9,
             "#4d9221"
            ],
            [
             1,
             "#276419"
            ]
           ],
           "sequential": [
            [
             0,
             "#0d0887"
            ],
            [
             0.1111111111111111,
             "#46039f"
            ],
            [
             0.2222222222222222,
             "#7201a8"
            ],
            [
             0.3333333333333333,
             "#9c179e"
            ],
            [
             0.4444444444444444,
             "#bd3786"
            ],
            [
             0.5555555555555556,
             "#d8576b"
            ],
            [
             0.6666666666666666,
             "#ed7953"
            ],
            [
             0.7777777777777778,
             "#fb9f3a"
            ],
            [
             0.8888888888888888,
             "#fdca26"
            ],
            [
             1,
             "#f0f921"
            ]
           ],
           "sequentialminus": [
            [
             0,
             "#0d0887"
            ],
            [
             0.1111111111111111,
             "#46039f"
            ],
            [
             0.2222222222222222,
             "#7201a8"
            ],
            [
             0.3333333333333333,
             "#9c179e"
            ],
            [
             0.4444444444444444,
             "#bd3786"
            ],
            [
             0.5555555555555556,
             "#d8576b"
            ],
            [
             0.6666666666666666,
             "#ed7953"
            ],
            [
             0.7777777777777778,
             "#fb9f3a"
            ],
            [
             0.8888888888888888,
             "#fdca26"
            ],
            [
             1,
             "#f0f921"
            ]
           ]
          },
          "colorway": [
           "#636efa",
           "#EF553B",
           "#00cc96",
           "#ab63fa",
           "#FFA15A",
           "#19d3f3",
           "#FF6692",
           "#B6E880",
           "#FF97FF",
           "#FECB52"
          ],
          "font": {
           "color": "#2a3f5f"
          },
          "geo": {
           "bgcolor": "white",
           "lakecolor": "white",
           "landcolor": "#E5ECF6",
           "showlakes": true,
           "showland": true,
           "subunitcolor": "white"
          },
          "hoverlabel": {
           "align": "left"
          },
          "hovermode": "closest",
          "mapbox": {
           "style": "light"
          },
          "paper_bgcolor": "white",
          "plot_bgcolor": "#E5ECF6",
          "polar": {
           "angularaxis": {
            "gridcolor": "white",
            "linecolor": "white",
            "ticks": ""
           },
           "bgcolor": "#E5ECF6",
           "radialaxis": {
            "gridcolor": "white",
            "linecolor": "white",
            "ticks": ""
           }
          },
          "scene": {
           "xaxis": {
            "backgroundcolor": "#E5ECF6",
            "gridcolor": "white",
            "gridwidth": 2,
            "linecolor": "white",
            "showbackground": true,
            "ticks": "",
            "zerolinecolor": "white"
           },
           "yaxis": {
            "backgroundcolor": "#E5ECF6",
            "gridcolor": "white",
            "gridwidth": 2,
            "linecolor": "white",
            "showbackground": true,
            "ticks": "",
            "zerolinecolor": "white"
           },
           "zaxis": {
            "backgroundcolor": "#E5ECF6",
            "gridcolor": "white",
            "gridwidth": 2,
            "linecolor": "white",
            "showbackground": true,
            "ticks": "",
            "zerolinecolor": "white"
           }
          },
          "shapedefaults": {
           "line": {
            "color": "#2a3f5f"
           }
          },
          "ternary": {
           "aaxis": {
            "gridcolor": "white",
            "linecolor": "white",
            "ticks": ""
           },
           "baxis": {
            "gridcolor": "white",
            "linecolor": "white",
            "ticks": ""
           },
           "bgcolor": "#E5ECF6",
           "caxis": {
            "gridcolor": "white",
            "linecolor": "white",
            "ticks": ""
           }
          },
          "title": {
           "x": 0.05
          },
          "xaxis": {
           "automargin": true,
           "gridcolor": "white",
           "linecolor": "white",
           "ticks": "",
           "title": {
            "standoff": 15
           },
           "zerolinecolor": "white",
           "zerolinewidth": 2
          },
          "yaxis": {
           "automargin": true,
           "gridcolor": "white",
           "linecolor": "white",
           "ticks": "",
           "title": {
            "standoff": 15
           },
           "zerolinecolor": "white",
           "zerolinewidth": 2
          }
         }
        }
       }
      }
     },
     "metadata": {},
     "output_type": "display_data"
    }
   ],
   "source": [
    "# Create sunburst chart\n",
    "retmxloss_chart = px.sunburst(\n",
    "    data_sunburst, \n",
    "    path=['year', 'port'], \n",
    "    values='avgret',\n",
    "    color='minret', \n",
    "    color_continuous_scale='RdBu',\n",
    "    hover_data=['minret'],\n",
    ")\n",
    "\n",
    "retmxloss_chart.show()"
   ]
  },
  {
   "cell_type": "markdown",
   "id": "cc025f2f",
   "metadata": {},
   "source": [
    "### Sharpe results\n",
    "Sharpe for BTC and the equally weighted outperformed both SP500 and NASDAQ.\n",
    "Dispite high volatility of BTC and the portfolios, their return compensated for every unit of risk superior to SP500 and NASDAQ"
   ]
  },
  {
   "cell_type": "code",
   "execution_count": 41,
   "id": "5949e57e",
   "metadata": {},
   "outputs": [],
   "source": [
    "# annualized return, risk and sharpe for individual assets for whole history\n",
    "all_pct_change = pd.concat([pct_change_df, combined_pct_change], axis=1)\n",
    "annual_returns = all_pct_change.mean() * 252\n",
    "annual_std = all_pct_change.std() * np.sqrt(252)\n",
    "annual_sharpe = annual_returns / annual_std"
   ]
  },
  {
   "cell_type": "code",
   "execution_count": 42,
   "id": "44f1af53",
   "metadata": {},
   "outputs": [
    {
     "data": {},
     "metadata": {},
     "output_type": "display_data"
    },
    {
     "data": {
      "application/vnd.holoviews_exec.v0+json": "",
      "text/html": [
       "<div id='4979'>\n",
       "\n",
       "\n",
       "\n",
       "\n",
       "\n",
       "  <div class=\"bk-root\" id=\"893e6b20-dc3d-4cf6-bd86-5ff5b364c003\" data-root-id=\"4979\"></div>\n",
       "</div>\n",
       "<script type=\"application/javascript\">(function(root) {\n",
       "  function embed_document(root) {\n",
       "    var docs_json = {\"1e01e47b-a041-4358-9ed6-3e0950ed72bb\":{\"defs\":[{\"extends\":null,\"module\":null,\"name\":\"ReactiveHTML1\",\"overrides\":[],\"properties\":[]},{\"extends\":null,\"module\":null,\"name\":\"FlexBox1\",\"overrides\":[],\"properties\":[{\"default\":\"flex-start\",\"kind\":null,\"name\":\"align_content\"},{\"default\":\"flex-start\",\"kind\":null,\"name\":\"align_items\"},{\"default\":\"row\",\"kind\":null,\"name\":\"flex_direction\"},{\"default\":\"wrap\",\"kind\":null,\"name\":\"flex_wrap\"},{\"default\":\"flex-start\",\"kind\":null,\"name\":\"justify_content\"}]},{\"extends\":null,\"module\":null,\"name\":\"TemplateActions1\",\"overrides\":[],\"properties\":[{\"default\":0,\"kind\":null,\"name\":\"open_modal\"},{\"default\":0,\"kind\":null,\"name\":\"close_modal\"}]},{\"extends\":null,\"module\":null,\"name\":\"MaterialTemplateActions1\",\"overrides\":[],\"properties\":[{\"default\":0,\"kind\":null,\"name\":\"open_modal\"},{\"default\":0,\"kind\":null,\"name\":\"close_modal\"}]}],\"roots\":{\"references\":[{\"attributes\":{\"margin\":[5,5,5,5],\"name\":\"HSpacer03755\",\"sizing_mode\":\"stretch_width\"},\"id\":\"4980\",\"type\":\"Spacer\"},{\"attributes\":{},\"id\":\"5000\",\"type\":\"SaveTool\"},{\"attributes\":{\"children\":[{\"id\":\"4980\"},{\"id\":\"4984\"},{\"id\":\"5048\"}],\"margin\":[0,0,0,0],\"name\":\"Row03751\",\"tags\":[\"embedded\"]},\"id\":\"4979\",\"type\":\"Row\"},{\"attributes\":{\"below\":[{\"id\":\"4993\"}],\"center\":[{\"id\":\"4995\"},{\"id\":\"4999\"}],\"height\":300,\"left\":[{\"id\":\"4996\"}],\"margin\":[5,5,5,5],\"min_border_bottom\":10,\"min_border_left\":10,\"min_border_right\":10,\"min_border_top\":10,\"renderers\":[{\"id\":\"5019\"}],\"sizing_mode\":\"fixed\",\"title\":{\"id\":\"4985\"},\"toolbar\":{\"id\":\"5006\"},\"width\":500,\"x_range\":{\"id\":\"4981\"},\"x_scale\":{\"id\":\"4989\"},\"y_range\":{\"id\":\"4982\"},\"y_scale\":{\"id\":\"4991\"}},\"id\":\"4984\",\"subtype\":\"Figure\",\"type\":\"Plot\"},{\"attributes\":{},\"id\":\"5001\",\"type\":\"PanTool\"},{\"attributes\":{},\"id\":\"5024\",\"type\":\"AllLabels\"},{\"attributes\":{},\"id\":\"5004\",\"type\":\"ResetTool\"},{\"attributes\":{\"coordinates\":null,\"group\":null,\"text\":\"Annualized Sharpe Ratio for each assets and portfolios\",\"text_color\":\"black\",\"text_font_size\":\"12pt\"},\"id\":\"4985\",\"type\":\"Title\"},{\"attributes\":{\"axis_label\":\"\",\"coordinates\":null,\"formatter\":{\"id\":\"5023\"},\"group\":null,\"major_label_policy\":{\"id\":\"5024\"},\"ticker\":{\"id\":\"4994\"}},\"id\":\"4993\",\"type\":\"CategoricalAxis\"},{\"attributes\":{\"fill_alpha\":{\"value\":0.2},\"fill_color\":{\"value\":\"#30a2da\"},\"hatch_alpha\":{\"value\":0.2},\"hatch_color\":{\"value\":\"#30a2da\"},\"line_alpha\":{\"value\":0.2},\"top\":{\"field\":\"A_0\"},\"width\":{\"value\":0.8},\"x\":{\"field\":\"index\"}},\"id\":\"5018\",\"type\":\"VBar\"},{\"attributes\":{},\"id\":\"5002\",\"type\":\"WheelZoomTool\"},{\"attributes\":{},\"id\":\"4989\",\"type\":\"CategoricalScale\"},{\"attributes\":{},\"id\":\"5026\",\"type\":\"BasicTickFormatter\"},{\"attributes\":{\"overlay\":{\"id\":\"5005\"}},\"id\":\"5003\",\"type\":\"BoxZoomTool\"},{\"attributes\":{},\"id\":\"5027\",\"type\":\"AllLabels\"},{\"attributes\":{},\"id\":\"4991\",\"type\":\"LinearScale\"},{\"attributes\":{\"factors\":[\"BTC\",\"SP500\",\"NASDAQ\",\"BTC-SP500\",\"BTC-NASDAQ\"],\"tags\":[[[\"index\",\"index\",null]]]},\"id\":\"4981\",\"type\":\"FactorRange\"},{\"attributes\":{\"axis\":{\"id\":\"4996\"},\"coordinates\":null,\"dimension\":1,\"grid_line_color\":null,\"group\":null,\"ticker\":null},\"id\":\"4999\",\"type\":\"Grid\"},{\"attributes\":{},\"id\":\"5014\",\"type\":\"Selection\"},{\"attributes\":{\"data\":{\"A_0\":{\"__ndarray__\":\"Mm+EGlvY8j/vnh+bhmflP8n8EVcBSOk/wDgOG9Ue9D9soXtvH6b0Pw==\",\"dtype\":\"float64\",\"order\":\"little\",\"shape\":[5]},\"index\":[\"BTC\",\"SP500\",\"NASDAQ\",\"BTC-SP500\",\"BTC-NASDAQ\"]},\"selected\":{\"id\":\"5014\"},\"selection_policy\":{\"id\":\"5035\"}},\"id\":\"5013\",\"type\":\"ColumnDataSource\"},{\"attributes\":{\"bottom\":{\"value\":0},\"fill_alpha\":{\"value\":1.0},\"fill_color\":{\"value\":\"#30a2da\"},\"hatch_alpha\":{\"value\":1.0},\"hatch_color\":{\"value\":\"#30a2da\"},\"hatch_scale\":{\"value\":12.0},\"hatch_weight\":{\"value\":1.0},\"line_alpha\":{\"value\":1.0},\"line_cap\":{\"value\":\"butt\"},\"line_color\":{\"value\":\"black\"},\"line_dash\":{\"value\":[]},\"line_dash_offset\":{\"value\":0},\"line_join\":{\"value\":\"bevel\"},\"line_width\":{\"value\":1},\"top\":{\"field\":\"A_0\"},\"width\":{\"value\":0.8},\"x\":{\"field\":\"index\"}},\"id\":\"5021\",\"type\":\"VBar\"},{\"attributes\":{\"callback\":null,\"renderers\":[{\"id\":\"5019\"}],\"tags\":[\"hv_created\"],\"tooltips\":[[\"index\",\"@{index}\"],[\"0\",\"@{A_0}\"]]},\"id\":\"4983\",\"type\":\"HoverTool\"},{\"attributes\":{},\"id\":\"4994\",\"type\":\"CategoricalTicker\"},{\"attributes\":{\"bottom_units\":\"screen\",\"coordinates\":null,\"fill_alpha\":0.5,\"fill_color\":\"lightgrey\",\"group\":null,\"left_units\":\"screen\",\"level\":\"overlay\",\"line_alpha\":1.0,\"line_color\":\"black\",\"line_dash\":[4,4],\"line_width\":2,\"right_units\":\"screen\",\"syncable\":false,\"top_units\":\"screen\"},\"id\":\"5005\",\"type\":\"BoxAnnotation\"},{\"attributes\":{\"axis\":{\"id\":\"4993\"},\"coordinates\":null,\"grid_line_color\":null,\"group\":null,\"ticker\":null},\"id\":\"4995\",\"type\":\"Grid\"},{\"attributes\":{\"tools\":[{\"id\":\"4983\"},{\"id\":\"5000\"},{\"id\":\"5001\"},{\"id\":\"5002\"},{\"id\":\"5003\"},{\"id\":\"5004\"}]},\"id\":\"5006\",\"type\":\"Toolbar\"},{\"attributes\":{},\"id\":\"4997\",\"type\":\"BasicTicker\"},{\"attributes\":{\"axis_label\":\"\",\"coordinates\":null,\"formatter\":{\"id\":\"5026\"},\"group\":null,\"major_label_policy\":{\"id\":\"5027\"},\"ticker\":{\"id\":\"4997\"}},\"id\":\"4996\",\"type\":\"LinearAxis\"},{\"attributes\":{},\"id\":\"5023\",\"type\":\"CategoricalTickFormatter\"},{\"attributes\":{\"end\":1.3527243125254254,\"reset_end\":1.3527243125254254,\"reset_start\":0.0,\"tags\":[[[\"0\",\"0\",null]]]},\"id\":\"4982\",\"type\":\"Range1d\"},{\"attributes\":{\"coordinates\":null,\"data_source\":{\"id\":\"5013\"},\"glyph\":{\"id\":\"5016\"},\"group\":null,\"hover_glyph\":null,\"muted_glyph\":{\"id\":\"5018\"},\"nonselection_glyph\":{\"id\":\"5017\"},\"selection_glyph\":{\"id\":\"5021\"},\"view\":{\"id\":\"5020\"}},\"id\":\"5019\",\"type\":\"GlyphRenderer\"},{\"attributes\":{\"source\":{\"id\":\"5013\"}},\"id\":\"5020\",\"type\":\"CDSView\"},{\"attributes\":{\"margin\":[5,5,5,5],\"name\":\"HSpacer03756\",\"sizing_mode\":\"stretch_width\"},\"id\":\"5048\",\"type\":\"Spacer\"},{\"attributes\":{\"fill_alpha\":{\"value\":0.1},\"fill_color\":{\"value\":\"#30a2da\"},\"hatch_alpha\":{\"value\":0.1},\"hatch_color\":{\"value\":\"#30a2da\"},\"line_alpha\":{\"value\":0.1},\"top\":{\"field\":\"A_0\"},\"width\":{\"value\":0.8},\"x\":{\"field\":\"index\"}},\"id\":\"5017\",\"type\":\"VBar\"},{\"attributes\":{},\"id\":\"5035\",\"type\":\"UnionRenderers\"},{\"attributes\":{\"fill_color\":{\"value\":\"#30a2da\"},\"hatch_color\":{\"value\":\"#30a2da\"},\"top\":{\"field\":\"A_0\"},\"width\":{\"value\":0.8},\"x\":{\"field\":\"index\"}},\"id\":\"5016\",\"type\":\"VBar\"}],\"root_ids\":[\"4979\"]},\"title\":\"Bokeh Application\",\"version\":\"2.4.1\"}};\n",
       "    var render_items = [{\"docid\":\"1e01e47b-a041-4358-9ed6-3e0950ed72bb\",\"root_ids\":[\"4979\"],\"roots\":{\"4979\":\"893e6b20-dc3d-4cf6-bd86-5ff5b364c003\"}}];\n",
       "    root.Bokeh.embed.embed_items_notebook(docs_json, render_items);\n",
       "  }\n",
       "  if (root.Bokeh !== undefined && root.Bokeh.Panel !== undefined) {\n",
       "    embed_document(root);\n",
       "  } else {\n",
       "    var attempts = 0;\n",
       "    var timer = setInterval(function(root) {\n",
       "      if (root.Bokeh !== undefined && root.Bokeh.Panel !== undefined) {\n",
       "        clearInterval(timer);\n",
       "        embed_document(root);\n",
       "      } else if (document.readyState == \"complete\") {\n",
       "        attempts++;\n",
       "        if (attempts > 200) {\n",
       "          clearInterval(timer);\n",
       "          console.log(\"Bokeh: ERROR: Unable to run BokehJS code because BokehJS library is missing\");\n",
       "        }\n",
       "      }\n",
       "    }, 25, root)\n",
       "  }\n",
       "})(window);</script>"
      ],
      "text/plain": [
       ":Bars   [index]   (0)"
      ]
     },
     "execution_count": 42,
     "metadata": {
      "application/vnd.holoviews_exec.v0+json": {
       "id": "4979"
      }
     },
     "output_type": "execute_result"
    }
   ],
   "source": [
    "# Create bar chart to disply the annualized sharpe ratios\n",
    "sharpe_bar_chart = create_bar_chart(\n",
    "    annual_sharpe,\n",
    "    'Annualized Sharpe Ratio for each assets and portfolios'\n",
    ")\n",
    "\n",
    "sharpe_bar_chart"
   ]
  },
  {
   "cell_type": "code",
   "execution_count": 43,
   "id": "658a322b",
   "metadata": {},
   "outputs": [
    {
     "data": {},
     "metadata": {},
     "output_type": "display_data"
    },
    {
     "data": {},
     "metadata": {},
     "output_type": "display_data"
    },
    {
     "data": {
      "application/vnd.holoviews_exec.v0+json": "",
      "text/html": [
       "<div id='5130'>\n",
       "\n",
       "\n",
       "\n",
       "\n",
       "\n",
       "  <div class=\"bk-root\" id=\"102b873c-0a95-46ad-acbe-0457497d3ef1\" data-root-id=\"5130\"></div>\n",
       "</div>\n",
       "<script type=\"application/javascript\">(function(root) {\n",
       "  function embed_document(root) {\n",
       "    var docs_json = {\"4715b18e-6535-49c8-8c6a-7c0900702f38\":{\"defs\":[{\"extends\":null,\"module\":null,\"name\":\"ReactiveHTML1\",\"overrides\":[],\"properties\":[]},{\"extends\":null,\"module\":null,\"name\":\"FlexBox1\",\"overrides\":[],\"properties\":[{\"default\":\"flex-start\",\"kind\":null,\"name\":\"align_content\"},{\"default\":\"flex-start\",\"kind\":null,\"name\":\"align_items\"},{\"default\":\"row\",\"kind\":null,\"name\":\"flex_direction\"},{\"default\":\"wrap\",\"kind\":null,\"name\":\"flex_wrap\"},{\"default\":\"flex-start\",\"kind\":null,\"name\":\"justify_content\"}]},{\"extends\":null,\"module\":null,\"name\":\"TemplateActions1\",\"overrides\":[],\"properties\":[{\"default\":0,\"kind\":null,\"name\":\"open_modal\"},{\"default\":0,\"kind\":null,\"name\":\"close_modal\"}]},{\"extends\":null,\"module\":null,\"name\":\"MaterialTemplateActions1\",\"overrides\":[],\"properties\":[{\"default\":0,\"kind\":null,\"name\":\"open_modal\"},{\"default\":0,\"kind\":null,\"name\":\"close_modal\"}]}],\"roots\":{\"references\":[{\"attributes\":{},\"id\":\"5147\",\"type\":\"BasicTicker\"},{\"attributes\":{},\"id\":\"5296\",\"type\":\"AllLabels\"},{\"attributes\":{\"client_comm_id\":\"2bc377f68130443baf5b1f151981eada\",\"comm_id\":\"1e370e8784d049f299dda69b9b709102\",\"plot_id\":\"5130\"},\"id\":\"5745\",\"type\":\"panel.models.comm_manager.CommManager\"},{\"attributes\":{\"bottom_units\":\"screen\",\"coordinates\":null,\"fill_alpha\":0.5,\"fill_color\":\"lightgrey\",\"group\":null,\"left_units\":\"screen\",\"level\":\"overlay\",\"line_alpha\":1.0,\"line_color\":\"black\",\"line_dash\":[4,4],\"line_width\":2,\"right_units\":\"screen\",\"syncable\":false,\"top_units\":\"screen\"},\"id\":\"5274\",\"type\":\"BoxAnnotation\"},{\"attributes\":{},\"id\":\"5245\",\"type\":\"CategoricalTickFormatter\"},{\"attributes\":{\"axis\":{\"id\":\"5146\"},\"coordinates\":null,\"dimension\":1,\"grid_line_color\":null,\"group\":null,\"ticker\":null},\"id\":\"5149\",\"type\":\"Grid\"},{\"attributes\":{\"below\":[{\"id\":\"5215\"}],\"center\":[{\"id\":\"5217\"},{\"id\":\"5221\"}],\"height\":300,\"left\":[{\"id\":\"5218\"}],\"margin\":null,\"min_border_bottom\":10,\"min_border_left\":10,\"min_border_right\":10,\"min_border_top\":10,\"renderers\":[{\"id\":\"5241\"}],\"sizing_mode\":\"fixed\",\"title\":{\"id\":\"5207\"},\"toolbar\":{\"id\":\"5228\"},\"toolbar_location\":null,\"width\":500,\"x_range\":{\"id\":\"5131\"},\"x_scale\":{\"id\":\"5211\"},\"y_range\":{\"id\":\"5204\"},\"y_scale\":{\"id\":\"5213\"}},\"id\":\"5206\",\"subtype\":\"Figure\",\"type\":\"Plot\"},{\"attributes\":{\"axis_label\":\"\",\"coordinates\":null,\"formatter\":{\"id\":\"5176\"},\"group\":null,\"major_label_policy\":{\"id\":\"5177\"},\"ticker\":{\"id\":\"5147\"}},\"id\":\"5146\",\"type\":\"LinearAxis\"},{\"attributes\":{},\"id\":\"5315\",\"type\":\"UnionRenderers\"},{\"attributes\":{\"bottom\":{\"value\":0},\"fill_alpha\":{\"value\":1.0},\"fill_color\":{\"value\":\"#30a2da\"},\"hatch_alpha\":{\"value\":1.0},\"hatch_color\":{\"value\":\"#30a2da\"},\"hatch_scale\":{\"value\":12.0},\"hatch_weight\":{\"value\":1.0},\"line_alpha\":{\"value\":1.0},\"line_cap\":{\"value\":\"butt\"},\"line_color\":{\"value\":\"black\"},\"line_dash\":{\"value\":[]},\"line_dash_offset\":{\"value\":0},\"line_join\":{\"value\":\"bevel\"},\"line_width\":{\"value\":1},\"top\":{\"field\":\"selloff\"},\"width\":{\"value\":0.8},\"x\":{\"field\":\"index\"}},\"id\":\"5243\",\"type\":\"VBar\"},{\"attributes\":{\"callback\":null,\"renderers\":[{\"id\":\"5288\"}],\"tags\":[\"hv_created\"],\"tooltips\":[[\"index\",\"@{index}\"],[\"normal\",\"@{normal}\"]]},\"id\":\"5252\",\"type\":\"HoverTool\"},{\"attributes\":{},\"id\":\"5144\",\"type\":\"CategoricalTicker\"},{\"attributes\":{},\"id\":\"5248\",\"type\":\"BasicTickFormatter\"},{\"attributes\":{\"children\":[{\"id\":\"5505\"},{\"id\":\"5506\"}],\"margin\":[0,0,0,0],\"name\":\"Row03830\"},\"id\":\"5504\",\"type\":\"Row\"},{\"attributes\":{\"coordinates\":null,\"data_source\":{\"id\":\"5235\"},\"glyph\":{\"id\":\"5238\"},\"group\":null,\"hover_glyph\":null,\"muted_glyph\":{\"id\":\"5240\"},\"nonselection_glyph\":{\"id\":\"5239\"},\"selection_glyph\":{\"id\":\"5243\"},\"view\":{\"id\":\"5242\"}},\"id\":\"5241\",\"type\":\"GlyphRenderer\"},{\"attributes\":{\"coordinates\":null,\"data_source\":{\"id\":\"5163\"},\"glyph\":{\"id\":\"5166\"},\"group\":null,\"hover_glyph\":null,\"muted_glyph\":{\"id\":\"5168\"},\"nonselection_glyph\":{\"id\":\"5167\"},\"selection_glyph\":{\"id\":\"5171\"},\"view\":{\"id\":\"5170\"}},\"id\":\"5169\",\"type\":\"GlyphRenderer\"},{\"attributes\":{\"coordinates\":null,\"group\":null,\"text\":\"Correlation between BTC vs SP500 and NASDAQ \\nduring Sell Off Market\",\"text_color\":\"black\",\"text_font_size\":\"12pt\"},\"id\":\"5207\",\"type\":\"Title\"},{\"attributes\":{\"bottom\":{\"value\":0},\"fill_alpha\":{\"value\":1.0},\"fill_color\":{\"value\":\"#30a2da\"},\"hatch_alpha\":{\"value\":1.0},\"hatch_color\":{\"value\":\"#30a2da\"},\"hatch_scale\":{\"value\":12.0},\"hatch_weight\":{\"value\":1.0},\"line_alpha\":{\"value\":1.0},\"line_cap\":{\"value\":\"butt\"},\"line_color\":{\"value\":\"black\"},\"line_dash\":{\"value\":[]},\"line_dash_offset\":{\"value\":0},\"line_join\":{\"value\":\"bevel\"},\"line_width\":{\"value\":1},\"top\":{\"field\":\"normal\"},\"width\":{\"value\":0.8},\"x\":{\"field\":\"index\"}},\"id\":\"5290\",\"type\":\"VBar\"},{\"attributes\":{},\"id\":\"5249\",\"type\":\"AllLabels\"},{\"attributes\":{},\"id\":\"5176\",\"type\":\"BasicTickFormatter\"},{\"attributes\":{\"tools\":[{\"id\":\"5133\"},{\"id\":\"5150\"},{\"id\":\"5151\"},{\"id\":\"5152\"},{\"id\":\"5153\"},{\"id\":\"5154\"}]},\"id\":\"5156\",\"type\":\"Toolbar\"},{\"attributes\":{\"margin\":[5,5,5,5],\"name\":\"Str03828\",\"text\":\"&lt;pre&gt; &lt;/pre&gt;\"},\"id\":\"5506\",\"type\":\"panel.models.markup.HTML\"},{\"attributes\":{},\"id\":\"5150\",\"type\":\"SaveTool\"},{\"attributes\":{\"below\":[{\"id\":\"5262\"}],\"center\":[{\"id\":\"5264\"},{\"id\":\"5268\"}],\"height\":300,\"left\":[{\"id\":\"5265\"}],\"margin\":null,\"min_border_bottom\":10,\"min_border_left\":10,\"min_border_right\":10,\"min_border_top\":10,\"renderers\":[{\"id\":\"5288\"}],\"sizing_mode\":\"fixed\",\"title\":{\"id\":\"5254\"},\"toolbar\":{\"id\":\"5275\"},\"toolbar_location\":null,\"width\":500,\"x_range\":{\"id\":\"5131\"},\"x_scale\":{\"id\":\"5258\"},\"y_range\":{\"id\":\"5251\"},\"y_scale\":{\"id\":\"5260\"}},\"id\":\"5253\",\"subtype\":\"Figure\",\"type\":\"Plot\"},{\"attributes\":{},\"id\":\"5283\",\"type\":\"Selection\"},{\"attributes\":{\"child\":{\"id\":\"5200\"},\"name\":\"Returns vs. Max Loss\",\"title\":\"Returns vs. Max Loss\"},\"id\":\"5201\",\"type\":\"Panel\"},{\"attributes\":{},\"id\":\"5151\",\"type\":\"PanTool\"},{\"attributes\":{\"end\":0.9769811270589481,\"reset_end\":0.9769811270589481,\"reset_start\":0.0,\"tags\":[[[\"selloff\",\"selloff\",null]]]},\"id\":\"5204\",\"type\":\"Range1d\"},{\"attributes\":{},\"id\":\"5295\",\"type\":\"BasicTickFormatter\"},{\"attributes\":{},\"id\":\"5292\",\"type\":\"CategoricalTickFormatter\"},{\"attributes\":{\"source\":{\"id\":\"5163\"}},\"id\":\"5170\",\"type\":\"CDSView\"},{\"attributes\":{\"fill_color\":{\"value\":\"#30a2da\"},\"hatch_color\":{\"value\":\"#30a2da\"},\"top\":{\"field\":\"A_0\"},\"width\":{\"value\":0.8},\"x\":{\"field\":\"index\"}},\"id\":\"5166\",\"type\":\"VBar\"},{\"attributes\":{},\"id\":\"5152\",\"type\":\"WheelZoomTool\"},{\"attributes\":{\"axis\":{\"id\":\"5218\"},\"coordinates\":null,\"dimension\":1,\"grid_line_color\":null,\"group\":null,\"ticker\":null},\"id\":\"5221\",\"type\":\"Grid\"},{\"attributes\":{\"bottom\":{\"value\":0},\"fill_alpha\":{\"value\":1.0},\"fill_color\":{\"value\":\"#30a2da\"},\"hatch_alpha\":{\"value\":1.0},\"hatch_color\":{\"value\":\"#30a2da\"},\"hatch_scale\":{\"value\":12.0},\"hatch_weight\":{\"value\":1.0},\"line_alpha\":{\"value\":1.0},\"line_cap\":{\"value\":\"butt\"},\"line_color\":{\"value\":\"black\"},\"line_dash\":{\"value\":[]},\"line_dash_offset\":{\"value\":0},\"line_join\":{\"value\":\"bevel\"},\"line_width\":{\"value\":1},\"top\":{\"field\":\"A_0\"},\"width\":{\"value\":0.8},\"x\":{\"field\":\"index\"}},\"id\":\"5171\",\"type\":\"VBar\"},{\"attributes\":{\"callback\":null,\"renderers\":[{\"id\":\"5241\"}],\"tags\":[\"hv_created\"],\"tooltips\":[[\"index\",\"@{index}\"],[\"selloff\",\"@{selloff}\"]]},\"id\":\"5205\",\"type\":\"HoverTool\"},{\"attributes\":{\"overlay\":{\"id\":\"5155\"}},\"id\":\"5153\",\"type\":\"BoxZoomTool\"},{\"attributes\":{\"toolbars\":[{\"id\":\"5228\"},{\"id\":\"5275\"}],\"tools\":[{\"id\":\"5205\"},{\"id\":\"5222\"},{\"id\":\"5223\"},{\"id\":\"5224\"},{\"id\":\"5225\"},{\"id\":\"5226\"},{\"id\":\"5252\"},{\"id\":\"5269\"},{\"id\":\"5270\"},{\"id\":\"5271\"},{\"id\":\"5272\"},{\"id\":\"5273\"}]},\"id\":\"5320\",\"type\":\"ProxyToolbar\"},{\"attributes\":{},\"id\":\"5213\",\"type\":\"LinearScale\"},{\"attributes\":{},\"id\":\"5293\",\"type\":\"AllLabels\"},{\"attributes\":{},\"id\":\"5139\",\"type\":\"CategoricalScale\"},{\"attributes\":{\"end\":0.9935041394240067,\"reset_end\":0.9935041394240067,\"reset_start\":0.0,\"tags\":[[[\"normal\",\"normal\",null]]]},\"id\":\"5251\",\"type\":\"Range1d\"},{\"attributes\":{},\"id\":\"5236\",\"type\":\"Selection\"},{\"attributes\":{},\"id\":\"5304\",\"type\":\"UnionRenderers\"},{\"attributes\":{},\"id\":\"5164\",\"type\":\"Selection\"},{\"attributes\":{\"source\":{\"id\":\"5235\"}},\"id\":\"5242\",\"type\":\"CDSView\"},{\"attributes\":{},\"id\":\"5154\",\"type\":\"ResetTool\"},{\"attributes\":{\"coordinates\":null,\"group\":null,\"text\":\"Correlation between BTC vs SP500 and NASDAQ \\nduring Normal Market\",\"text_color\":\"black\",\"text_font_size\":\"12pt\"},\"id\":\"5254\",\"type\":\"Title\"},{\"attributes\":{},\"id\":\"5260\",\"type\":\"LinearScale\"},{\"attributes\":{\"axis\":{\"id\":\"5265\"},\"coordinates\":null,\"dimension\":1,\"grid_line_color\":null,\"group\":null,\"ticker\":null},\"id\":\"5268\",\"type\":\"Grid\"},{\"attributes\":{\"toolbar\":{\"id\":\"5320\"},\"toolbar_location\":\"above\"},\"id\":\"5321\",\"type\":\"ToolbarBox\"},{\"attributes\":{\"source\":{\"id\":\"5282\"}},\"id\":\"5289\",\"type\":\"CDSView\"},{\"attributes\":{\"children\":[{\"id\":\"5321\"},{\"id\":\"5319\"}]},\"id\":\"5322\",\"type\":\"Column\"},{\"attributes\":{},\"id\":\"5173\",\"type\":\"CategoricalTickFormatter\"},{\"attributes\":{\"margin\":[5,5,5,5],\"name\":\"Str03826\",\"text\":\"&lt;pre&gt; &lt;/pre&gt;\"},\"id\":\"5505\",\"type\":\"panel.models.markup.HTML\"},{\"attributes\":{},\"id\":\"5211\",\"type\":\"CategoricalScale\"},{\"attributes\":{},\"id\":\"5515\",\"type\":\"UnionRenderers\"},{\"attributes\":{\"axis_label\":\"\",\"coordinates\":null,\"formatter\":{\"id\":\"5245\"},\"group\":null,\"major_label_policy\":{\"id\":\"5246\"},\"ticker\":{\"id\":\"5216\"}},\"id\":\"5215\",\"type\":\"CategoricalAxis\"},{\"attributes\":{},\"id\":\"5258\",\"type\":\"CategoricalScale\"},{\"attributes\":{},\"id\":\"5216\",\"type\":\"CategoricalTicker\"},{\"attributes\":{\"children\":[{\"id\":\"5322\"}],\"margin\":[0,0,0,0],\"name\":\"Column03453\"},\"id\":\"5202\",\"type\":\"Column\"},{\"attributes\":{\"child\":{\"id\":\"5504\"},\"name\":\"Row03830\",\"title\":\"Return distribution\"},\"id\":\"5507\",\"type\":\"Panel\"},{\"attributes\":{\"axis_label\":\"\",\"coordinates\":null,\"formatter\":{\"id\":\"5292\"},\"group\":null,\"major_label_policy\":{\"id\":\"5293\"},\"ticker\":{\"id\":\"5263\"}},\"id\":\"5262\",\"type\":\"CategoricalAxis\"},{\"attributes\":{\"axis\":{\"id\":\"5215\"},\"coordinates\":null,\"grid_line_color\":null,\"group\":null,\"ticker\":null},\"id\":\"5217\",\"type\":\"Grid\"},{\"attributes\":{},\"id\":\"5263\",\"type\":\"CategoricalTicker\"},{\"attributes\":{\"axis\":{\"id\":\"5143\"},\"coordinates\":null,\"grid_line_color\":null,\"group\":null,\"ticker\":null},\"id\":\"5145\",\"type\":\"Grid\"},{\"attributes\":{\"coordinates\":null,\"group\":null,\"text\":\"Annualized Sharpe Ratio for each assets and portfolios\",\"text_color\":\"black\",\"text_font_size\":\"12pt\"},\"id\":\"5135\",\"type\":\"Title\"},{\"attributes\":{},\"id\":\"5219\",\"type\":\"BasicTicker\"},{\"attributes\":{\"fill_alpha\":{\"value\":0.1},\"fill_color\":{\"value\":\"#30a2da\"},\"hatch_alpha\":{\"value\":0.1},\"hatch_color\":{\"value\":\"#30a2da\"},\"line_alpha\":{\"value\":0.1},\"top\":{\"field\":\"A_0\"},\"width\":{\"value\":0.8},\"x\":{\"field\":\"index\"}},\"id\":\"5167\",\"type\":\"VBar\"},{\"attributes\":{\"axis\":{\"id\":\"5262\"},\"coordinates\":null,\"grid_line_color\":null,\"group\":null,\"ticker\":null},\"id\":\"5264\",\"type\":\"Grid\"},{\"attributes\":{\"axis_label\":\"\",\"coordinates\":null,\"formatter\":{\"id\":\"5248\"},\"group\":null,\"major_label_policy\":{\"id\":\"5249\"},\"ticker\":{\"id\":\"5219\"}},\"id\":\"5218\",\"type\":\"LinearAxis\"},{\"attributes\":{\"axis_label\":\"\",\"coordinates\":null,\"formatter\":{\"id\":\"5173\"},\"group\":null,\"major_label_policy\":{\"id\":\"5174\"},\"ticker\":{\"id\":\"5144\"}},\"id\":\"5143\",\"type\":\"CategoricalAxis\"},{\"attributes\":{},\"id\":\"5516\",\"type\":\"Selection\"},{\"attributes\":{},\"id\":\"5174\",\"type\":\"AllLabels\"},{\"attributes\":{},\"id\":\"5266\",\"type\":\"BasicTicker\"},{\"attributes\":{\"fill_color\":{\"value\":\"#30a2da\"},\"hatch_color\":{\"value\":\"#30a2da\"},\"top\":{\"field\":\"selloff\"},\"width\":{\"value\":0.8},\"x\":{\"field\":\"index\"}},\"id\":\"5238\",\"type\":\"VBar\"},{\"attributes\":{\"axis_label\":\"\",\"coordinates\":null,\"formatter\":{\"id\":\"5295\"},\"group\":null,\"major_label_policy\":{\"id\":\"5296\"},\"ticker\":{\"id\":\"5266\"}},\"id\":\"5265\",\"type\":\"LinearAxis\"},{\"attributes\":{\"end\":1.3527243125254254,\"reset_end\":1.3527243125254254,\"reset_start\":0.0,\"tags\":[[[\"0\",\"0\",null]]]},\"id\":\"5132\",\"type\":\"Range1d\"},{\"attributes\":{\"fill_alpha\":{\"value\":0.1},\"fill_color\":{\"value\":\"#30a2da\"},\"hatch_alpha\":{\"value\":0.1},\"hatch_color\":{\"value\":\"#30a2da\"},\"line_alpha\":{\"value\":0.1},\"top\":{\"field\":\"selloff\"},\"width\":{\"value\":0.8},\"x\":{\"field\":\"index\"}},\"id\":\"5239\",\"type\":\"VBar\"},{\"attributes\":{\"coordinates\":null,\"data_source\":{\"id\":\"5282\"},\"glyph\":{\"id\":\"5285\"},\"group\":null,\"hover_glyph\":null,\"muted_glyph\":{\"id\":\"5287\"},\"nonselection_glyph\":{\"id\":\"5286\"},\"selection_glyph\":{\"id\":\"5290\"},\"view\":{\"id\":\"5289\"}},\"id\":\"5288\",\"type\":\"GlyphRenderer\"},{\"attributes\":{\"child\":{\"id\":\"5134\"},\"name\":\"BTC - Equity Diversifier\",\"title\":\"BTC - Equity Diversifier\"},\"id\":\"5198\",\"type\":\"Panel\"},{\"attributes\":{\"fill_color\":{\"value\":\"#30a2da\"},\"hatch_color\":{\"value\":\"#30a2da\"},\"top\":{\"field\":\"normal\"},\"width\":{\"value\":0.8},\"x\":{\"field\":\"index\"}},\"id\":\"5285\",\"type\":\"VBar\"},{\"attributes\":{},\"id\":\"5273\",\"type\":\"ResetTool\"},{\"attributes\":{\"fill_alpha\":{\"value\":0.2},\"fill_color\":{\"value\":\"#30a2da\"},\"hatch_alpha\":{\"value\":0.2},\"hatch_color\":{\"value\":\"#30a2da\"},\"line_alpha\":{\"value\":0.2},\"top\":{\"field\":\"selloff\"},\"width\":{\"value\":0.8},\"x\":{\"field\":\"index\"}},\"id\":\"5240\",\"type\":\"VBar\"},{\"attributes\":{\"child\":{\"id\":\"5202\"},\"name\":\"Column03453\",\"title\":\"Correlation in diff Markets\"},\"id\":\"5503\",\"type\":\"Panel\"},{\"attributes\":{\"fill_alpha\":{\"value\":0.2},\"fill_color\":{\"value\":\"#30a2da\"},\"hatch_alpha\":{\"value\":0.2},\"hatch_color\":{\"value\":\"#30a2da\"},\"line_alpha\":{\"value\":0.2},\"top\":{\"field\":\"A_0\"},\"width\":{\"value\":0.8},\"x\":{\"field\":\"index\"}},\"id\":\"5168\",\"type\":\"VBar\"},{\"attributes\":{\"children\":[[{\"id\":\"5206\"},0,0],[{\"id\":\"5253\"},0,1]]},\"id\":\"5319\",\"type\":\"GridBox\"},{\"attributes\":{\"tools\":[{\"id\":\"5205\"},{\"id\":\"5222\"},{\"id\":\"5223\"},{\"id\":\"5224\"},{\"id\":\"5225\"},{\"id\":\"5226\"}]},\"id\":\"5228\",\"type\":\"Toolbar\"},{\"attributes\":{\"bottom_units\":\"screen\",\"coordinates\":null,\"fill_alpha\":0.5,\"fill_color\":\"lightgrey\",\"group\":null,\"left_units\":\"screen\",\"level\":\"overlay\",\"line_alpha\":1.0,\"line_color\":\"black\",\"line_dash\":[4,4],\"line_width\":2,\"right_units\":\"screen\",\"syncable\":false,\"top_units\":\"screen\"},\"id\":\"5155\",\"type\":\"BoxAnnotation\"},{\"attributes\":{},\"id\":\"5141\",\"type\":\"LinearScale\"},{\"attributes\":{\"data\":{\"index\":[\"BTC vs SP500\",\"BTC vs NASDAQ\",\"SP500 vs NASDAQ\"],\"normal\":{\"__ndarray__\":\"HJWx3SB/tj/26HuJKm6+P/JptUZXKO0/\",\"dtype\":\"float64\",\"order\":\"little\",\"shape\":[3]}},\"selected\":{\"id\":\"5283\"},\"selection_policy\":{\"id\":\"5315\"}},\"id\":\"5282\",\"type\":\"ColumnDataSource\"},{\"attributes\":{},\"id\":\"5177\",\"type\":\"AllLabels\"},{\"attributes\":{\"callback\":null,\"renderers\":[{\"id\":\"5169\"}],\"tags\":[\"hv_created\"],\"tooltips\":[[\"index\",\"@{index}\"],[\"0\",\"@{A_0}\"]]},\"id\":\"5133\",\"type\":\"HoverTool\"},{\"attributes\":{},\"id\":\"5222\",\"type\":\"SaveTool\"},{\"attributes\":{\"tools\":[{\"id\":\"5252\"},{\"id\":\"5269\"},{\"id\":\"5270\"},{\"id\":\"5271\"},{\"id\":\"5272\"},{\"id\":\"5273\"}]},\"id\":\"5275\",\"type\":\"Toolbar\"},{\"attributes\":{},\"id\":\"5223\",\"type\":\"PanTool\"},{\"attributes\":{},\"id\":\"5269\",\"type\":\"SaveTool\"},{\"attributes\":{\"below\":[{\"id\":\"5143\"}],\"center\":[{\"id\":\"5145\"},{\"id\":\"5149\"}],\"height\":300,\"left\":[{\"id\":\"5146\"}],\"margin\":[5,5,5,5],\"min_border_bottom\":10,\"min_border_left\":10,\"min_border_right\":10,\"min_border_top\":10,\"renderers\":[{\"id\":\"5169\"}],\"sizing_mode\":\"fixed\",\"title\":{\"id\":\"5135\"},\"toolbar\":{\"id\":\"5156\"},\"width\":500,\"x_range\":{\"id\":\"5131\"},\"x_scale\":{\"id\":\"5139\"},\"y_range\":{\"id\":\"5132\"},\"y_scale\":{\"id\":\"5141\"}},\"id\":\"5134\",\"subtype\":\"Figure\",\"type\":\"Plot\"},{\"attributes\":{\"data\":[{\"branchvalues\":\"total\",\"domain\":{\"x\":[0.0,1.0],\"y\":[0.0,1.0]},\"hovertemplate\":\"labels=%{label}<br>avgret=%{value}<br>parent=%{parent}<br>id=%{id}<br>minret=%{color}<extra></extra>\",\"marker\":{\"coloraxis\":\"coloraxis\"},\"name\":\"\",\"type\":\"sunburst\"}],\"data_sources\":[{\"id\":\"5199\"}],\"layout\":{\"coloraxis\":{\"colorbar\":{\"title\":{\"text\":\"minret\"}},\"colorscale\":[[0.0,\"rgb(103,0,31)\"],[0.1,\"rgb(178,24,43)\"],[0.2,\"rgb(214,96,77)\"],[0.3,\"rgb(244,165,130)\"],[0.4,\"rgb(253,219,199)\"],[0.5,\"rgb(247,247,247)\"],[0.6,\"rgb(209,229,240)\"],[0.7,\"rgb(146,197,222)\"],[0.8,\"rgb(67,147,195)\"],[0.9,\"rgb(33,102,172)\"],[1.0,\"rgb(5,48,97)\"]]},\"legend\":{\"tracegroupgap\":0},\"margin\":{\"t\":60},\"template\":{\"data\":{\"bar\":[{\"error_x\":{\"color\":\"#2a3f5f\"},\"error_y\":{\"color\":\"#2a3f5f\"},\"marker\":{\"line\":{\"color\":\"#E5ECF6\",\"width\":0.5},\"pattern\":{\"fillmode\":\"overlay\",\"size\":10,\"solidity\":0.2}},\"type\":\"bar\"}],\"barpolar\":[{\"marker\":{\"line\":{\"color\":\"#E5ECF6\",\"width\":0.5},\"pattern\":{\"fillmode\":\"overlay\",\"size\":10,\"solidity\":0.2}},\"type\":\"barpolar\"}],\"carpet\":[{\"aaxis\":{\"endlinecolor\":\"#2a3f5f\",\"gridcolor\":\"white\",\"linecolor\":\"white\",\"minorgridcolor\":\"white\",\"startlinecolor\":\"#2a3f5f\"},\"baxis\":{\"endlinecolor\":\"#2a3f5f\",\"gridcolor\":\"white\",\"linecolor\":\"white\",\"minorgridcolor\":\"white\",\"startlinecolor\":\"#2a3f5f\"},\"type\":\"carpet\"}],\"choropleth\":[{\"colorbar\":{\"outlinewidth\":0,\"ticks\":\"\"},\"type\":\"choropleth\"}],\"contour\":[{\"colorbar\":{\"outlinewidth\":0,\"ticks\":\"\"},\"colorscale\":[[0.0,\"#0d0887\"],[0.1111111111111111,\"#46039f\"],[0.2222222222222222,\"#7201a8\"],[0.3333333333333333,\"#9c179e\"],[0.4444444444444444,\"#bd3786\"],[0.5555555555555556,\"#d8576b\"],[0.6666666666666666,\"#ed7953\"],[0.7777777777777778,\"#fb9f3a\"],[0.8888888888888888,\"#fdca26\"],[1.0,\"#f0f921\"]],\"type\":\"contour\"}],\"contourcarpet\":[{\"colorbar\":{\"outlinewidth\":0,\"ticks\":\"\"},\"type\":\"contourcarpet\"}],\"heatmap\":[{\"colorbar\":{\"outlinewidth\":0,\"ticks\":\"\"},\"colorscale\":[[0.0,\"#0d0887\"],[0.1111111111111111,\"#46039f\"],[0.2222222222222222,\"#7201a8\"],[0.3333333333333333,\"#9c179e\"],[0.4444444444444444,\"#bd3786\"],[0.5555555555555556,\"#d8576b\"],[0.6666666666666666,\"#ed7953\"],[0.7777777777777778,\"#fb9f3a\"],[0.8888888888888888,\"#fdca26\"],[1.0,\"#f0f921\"]],\"type\":\"heatmap\"}],\"heatmapgl\":[{\"colorbar\":{\"outlinewidth\":0,\"ticks\":\"\"},\"colorscale\":[[0.0,\"#0d0887\"],[0.1111111111111111,\"#46039f\"],[0.2222222222222222,\"#7201a8\"],[0.3333333333333333,\"#9c179e\"],[0.4444444444444444,\"#bd3786\"],[0.5555555555555556,\"#d8576b\"],[0.6666666666666666,\"#ed7953\"],[0.7777777777777778,\"#fb9f3a\"],[0.8888888888888888,\"#fdca26\"],[1.0,\"#f0f921\"]],\"type\":\"heatmapgl\"}],\"histogram\":[{\"marker\":{\"pattern\":{\"fillmode\":\"overlay\",\"size\":10,\"solidity\":0.2}},\"type\":\"histogram\"}],\"histogram2d\":[{\"colorbar\":{\"outlinewidth\":0,\"ticks\":\"\"},\"colorscale\":[[0.0,\"#0d0887\"],[0.1111111111111111,\"#46039f\"],[0.2222222222222222,\"#7201a8\"],[0.3333333333333333,\"#9c179e\"],[0.4444444444444444,\"#bd3786\"],[0.5555555555555556,\"#d8576b\"],[0.6666666666666666,\"#ed7953\"],[0.7777777777777778,\"#fb9f3a\"],[0.8888888888888888,\"#fdca26\"],[1.0,\"#f0f921\"]],\"type\":\"histogram2d\"}],\"histogram2dcontour\":[{\"colorbar\":{\"outlinewidth\":0,\"ticks\":\"\"},\"colorscale\":[[0.0,\"#0d0887\"],[0.1111111111111111,\"#46039f\"],[0.2222222222222222,\"#7201a8\"],[0.3333333333333333,\"#9c179e\"],[0.4444444444444444,\"#bd3786\"],[0.5555555555555556,\"#d8576b\"],[0.6666666666666666,\"#ed7953\"],[0.7777777777777778,\"#fb9f3a\"],[0.8888888888888888,\"#fdca26\"],[1.0,\"#f0f921\"]],\"type\":\"histogram2dcontour\"}],\"mesh3d\":[{\"colorbar\":{\"outlinewidth\":0,\"ticks\":\"\"},\"type\":\"mesh3d\"}],\"parcoords\":[{\"line\":{\"colorbar\":{\"outlinewidth\":0,\"ticks\":\"\"}},\"type\":\"parcoords\"}],\"pie\":[{\"automargin\":true,\"type\":\"pie\"}],\"scatter\":[{\"marker\":{\"colorbar\":{\"outlinewidth\":0,\"ticks\":\"\"}},\"type\":\"scatter\"}],\"scatter3d\":[{\"line\":{\"colorbar\":{\"outlinewidth\":0,\"ticks\":\"\"}},\"marker\":{\"colorbar\":{\"outlinewidth\":0,\"ticks\":\"\"}},\"type\":\"scatter3d\"}],\"scattercarpet\":[{\"marker\":{\"colorbar\":{\"outlinewidth\":0,\"ticks\":\"\"}},\"type\":\"scattercarpet\"}],\"scattergeo\":[{\"marker\":{\"colorbar\":{\"outlinewidth\":0,\"ticks\":\"\"}},\"type\":\"scattergeo\"}],\"scattergl\":[{\"marker\":{\"colorbar\":{\"outlinewidth\":0,\"ticks\":\"\"}},\"type\":\"scattergl\"}],\"scattermapbox\":[{\"marker\":{\"colorbar\":{\"outlinewidth\":0,\"ticks\":\"\"}},\"type\":\"scattermapbox\"}],\"scatterpolar\":[{\"marker\":{\"colorbar\":{\"outlinewidth\":0,\"ticks\":\"\"}},\"type\":\"scatterpolar\"}],\"scatterpolargl\":[{\"marker\":{\"colorbar\":{\"outlinewidth\":0,\"ticks\":\"\"}},\"type\":\"scatterpolargl\"}],\"scatterternary\":[{\"marker\":{\"colorbar\":{\"outlinewidth\":0,\"ticks\":\"\"}},\"type\":\"scatterternary\"}],\"surface\":[{\"colorbar\":{\"outlinewidth\":0,\"ticks\":\"\"},\"colorscale\":[[0.0,\"#0d0887\"],[0.1111111111111111,\"#46039f\"],[0.2222222222222222,\"#7201a8\"],[0.3333333333333333,\"#9c179e\"],[0.4444444444444444,\"#bd3786\"],[0.5555555555555556,\"#d8576b\"],[0.6666666666666666,\"#ed7953\"],[0.7777777777777778,\"#fb9f3a\"],[0.8888888888888888,\"#fdca26\"],[1.0,\"#f0f921\"]],\"type\":\"surface\"}],\"table\":[{\"cells\":{\"fill\":{\"color\":\"#EBF0F8\"},\"line\":{\"color\":\"white\"}},\"header\":{\"fill\":{\"color\":\"#C8D4E3\"},\"line\":{\"color\":\"white\"}},\"type\":\"table\"}]},\"layout\":{\"annotationdefaults\":{\"arrowcolor\":\"#2a3f5f\",\"arrowhead\":0,\"arrowwidth\":1},\"autotypenumbers\":\"strict\",\"coloraxis\":{\"colorbar\":{\"outlinewidth\":0,\"ticks\":\"\"}},\"colorscale\":{\"diverging\":[[0,\"#8e0152\"],[0.1,\"#c51b7d\"],[0.2,\"#de77ae\"],[0.3,\"#f1b6da\"],[0.4,\"#fde0ef\"],[0.5,\"#f7f7f7\"],[0.6,\"#e6f5d0\"],[0.7,\"#b8e186\"],[0.8,\"#7fbc41\"],[0.9,\"#4d9221\"],[1,\"#276419\"]],\"sequential\":[[0.0,\"#0d0887\"],[0.1111111111111111,\"#46039f\"],[0.2222222222222222,\"#7201a8\"],[0.3333333333333333,\"#9c179e\"],[0.4444444444444444,\"#bd3786\"],[0.5555555555555556,\"#d8576b\"],[0.6666666666666666,\"#ed7953\"],[0.7777777777777778,\"#fb9f3a\"],[0.8888888888888888,\"#fdca26\"],[1.0,\"#f0f921\"]],\"sequentialminus\":[[0.0,\"#0d0887\"],[0.1111111111111111,\"#46039f\"],[0.2222222222222222,\"#7201a8\"],[0.3333333333333333,\"#9c179e\"],[0.4444444444444444,\"#bd3786\"],[0.5555555555555556,\"#d8576b\"],[0.6666666666666666,\"#ed7953\"],[0.7777777777777778,\"#fb9f3a\"],[0.8888888888888888,\"#fdca26\"],[1.0,\"#f0f921\"]]},\"colorway\":[\"#636efa\",\"#EF553B\",\"#00cc96\",\"#ab63fa\",\"#FFA15A\",\"#19d3f3\",\"#FF6692\",\"#B6E880\",\"#FF97FF\",\"#FECB52\"],\"font\":{\"color\":\"#2a3f5f\"},\"geo\":{\"bgcolor\":\"white\",\"lakecolor\":\"white\",\"landcolor\":\"#E5ECF6\",\"showlakes\":true,\"showland\":true,\"subunitcolor\":\"white\"},\"hoverlabel\":{\"align\":\"left\"},\"hovermode\":\"closest\",\"mapbox\":{\"style\":\"light\"},\"paper_bgcolor\":\"white\",\"plot_bgcolor\":\"#E5ECF6\",\"polar\":{\"angularaxis\":{\"gridcolor\":\"white\",\"linecolor\":\"white\",\"ticks\":\"\"},\"bgcolor\":\"#E5ECF6\",\"radialaxis\":{\"gridcolor\":\"white\",\"linecolor\":\"white\",\"ticks\":\"\"}},\"scene\":{\"xaxis\":{\"backgroundcolor\":\"#E5ECF6\",\"gridcolor\":\"white\",\"gridwidth\":2,\"linecolor\":\"white\",\"showbackground\":true,\"ticks\":\"\",\"zerolinecolor\":\"white\"},\"yaxis\":{\"backgroundcolor\":\"#E5ECF6\",\"gridcolor\":\"white\",\"gridwidth\":2,\"linecolor\":\"white\",\"showbackground\":true,\"ticks\":\"\",\"zerolinecolor\":\"white\"},\"zaxis\":{\"backgroundcolor\":\"#E5ECF6\",\"gridcolor\":\"white\",\"gridwidth\":2,\"linecolor\":\"white\",\"showbackground\":true,\"ticks\":\"\",\"zerolinecolor\":\"white\"}},\"shapedefaults\":{\"line\":{\"color\":\"#2a3f5f\"}},\"ternary\":{\"aaxis\":{\"gridcolor\":\"white\",\"linecolor\":\"white\",\"ticks\":\"\"},\"baxis\":{\"gridcolor\":\"white\",\"linecolor\":\"white\",\"ticks\":\"\"},\"bgcolor\":\"#E5ECF6\",\"caxis\":{\"gridcolor\":\"white\",\"linecolor\":\"white\",\"ticks\":\"\"}},\"title\":{\"x\":0.05},\"xaxis\":{\"automargin\":true,\"gridcolor\":\"white\",\"linecolor\":\"white\",\"ticks\":\"\",\"title\":{\"standoff\":15},\"zerolinecolor\":\"white\",\"zerolinewidth\":2},\"yaxis\":{\"automargin\":true,\"gridcolor\":\"white\",\"linecolor\":\"white\",\"ticks\":\"\",\"title\":{\"standoff\":15},\"zerolinecolor\":\"white\",\"zerolinewidth\":2}}}},\"margin\":[5,5,5,5],\"name\":\"Returns vs. Max Loss\",\"viewport_update_throttle\":200,\"visibility\":false},\"id\":\"5200\",\"type\":\"panel.models.plotly.PlotlyPlot\"},{\"attributes\":{},\"id\":\"5246\",\"type\":\"AllLabels\"},{\"attributes\":{},\"id\":\"5224\",\"type\":\"WheelZoomTool\"},{\"attributes\":{},\"id\":\"5270\",\"type\":\"PanTool\"},{\"attributes\":{\"overlay\":{\"id\":\"5227\"}},\"id\":\"5225\",\"type\":\"BoxZoomTool\"},{\"attributes\":{},\"id\":\"5271\",\"type\":\"WheelZoomTool\"},{\"attributes\":{\"args\":{\"model\":{\"id\":\"5200\"}},\"code\":\"try { model.visibility = (cb_obj.active == 1); } catch { }\",\"tags\":[\"plotly_tab_fix5200\"]},\"id\":\"5680\",\"type\":\"CustomJS\"},{\"attributes\":{\"data\":{\"A_0\":{\"__ndarray__\":\"Mm+EGlvY8j/vnh+bhmflP8n8EVcBSOk/wDgOG9Ue9D9soXtvH6b0Pw==\",\"dtype\":\"float64\",\"order\":\"little\",\"shape\":[5]},\"index\":[\"BTC\",\"SP500\",\"NASDAQ\",\"BTC-SP500\",\"BTC-NASDAQ\"]},\"selected\":{\"id\":\"5164\"},\"selection_policy\":{\"id\":\"5185\"}},\"id\":\"5163\",\"type\":\"ColumnDataSource\"},{\"attributes\":{\"fill_alpha\":{\"value\":0.2},\"fill_color\":{\"value\":\"#30a2da\"},\"hatch_alpha\":{\"value\":0.2},\"hatch_color\":{\"value\":\"#30a2da\"},\"line_alpha\":{\"value\":0.2},\"top\":{\"field\":\"normal\"},\"width\":{\"value\":0.8},\"x\":{\"field\":\"index\"}},\"id\":\"5287\",\"type\":\"VBar\"},{\"attributes\":{},\"id\":\"5185\",\"type\":\"UnionRenderers\"},{\"attributes\":{\"data\":{\"customdata\":[{\"__ndarray__\":\"yBx2XL3Rwr/IHHZcvdHCv/bKTnHbyde/9spOcdvJ17/80/4P4p7Bv/zT/g/insG/V3EjlGaTur9XcSOUZpO6vzB70sUtdsG/MHvSxS12wb+QrVNdotPdv5CtU12i092/EPtu3cp4xL8Q+27dynjEv9SN+Mg+xcC/1I34yD7FwL+gxHNvVdbBv6DEc29V1sG/TPPd8C7g3b9M893wLuDdvxQTXJ8fzMO/FBNcnx/Mw78ghXihAGu/vyCFeKEAa7+/8BYpfuzIob/wFil+7MihvzD5V13oir+/MPlXXeiKv7+g519IsASiv6DnX0iwBKK/EEmypaoho78QSbKlqiGjvz9qPKwTfp6/P2o8rBN+nr+YOU/V3q2+v5g5T9Xerb6/APTgmk1Lmr8A9OCaTUuav0CuYBICOp6/QK5gEgI6nr8Av0gBWsW/vwC/SAFaxb+/AykuwMgD2r8DKS7AyAPav3NtbAyJO8G/c21sDIk7wb+PTOfR0Ky4v49M59HQrLi/\",\"dtype\":\"float64\",\"order\":\"little\",\"shape\":[24,2]}],\"ids\":[[\"2019/BTC\",\"2020/BTC\",\"2021/BTC\",\"2022/BTC\",\"2019/BTC-NASDAQ\",\"2020/BTC-NASDAQ\",\"2021/BTC-NASDAQ\",\"2022/BTC-NASDAQ\",\"2019/BTC-SP500\",\"2020/BTC-SP500\",\"2021/BTC-SP500\",\"2022/BTC-SP500\",\"2019/NASDAQ\",\"2020/NASDAQ\",\"2021/NASDAQ\",\"2022/NASDAQ\",\"2019/SP500\",\"2020/SP500\",\"2021/SP500\",\"2022/SP500\",\"2019\",\"2020\",\"2021\",\"2022\"]],\"labels\":[[\"BTC\",\"BTC\",\"BTC\",\"BTC\",\"BTC-NASDAQ\",\"BTC-NASDAQ\",\"BTC-NASDAQ\",\"BTC-NASDAQ\",\"BTC-SP500\",\"BTC-SP500\",\"BTC-SP500\",\"BTC-SP500\",\"NASDAQ\",\"NASDAQ\",\"NASDAQ\",\"NASDAQ\",\"SP500\",\"SP500\",\"SP500\",\"SP500\",\"2019\",\"2020\",\"2021\",\"2022\"]],\"marker.colors\":[{\"__ndarray__\":\"yBx2XL3Rwr/2yk5x28nXv/zT/g/insG/V3EjlGaTur8we9LFLXbBv5CtU12i092/EPtu3cp4xL/UjfjIPsXAv6DEc29V1sG/TPPd8C7g3b8UE1yfH8zDvyCFeKEAa7+/8BYpfuzIob8w+Vdd6Iq/v6DnX0iwBKK/EEmypaoho78/ajysE36ev5g5T9Xerb6/APTgmk1Lmr9ArmASAjqevwC/SAFaxb+/AykuwMgD2r9zbWwMiTvBv49M59HQrLi/\",\"dtype\":\"float64\",\"order\":\"little\",\"shape\":[24]}],\"parents\":[[\"2019\",\"2020\",\"2021\",\"2022\",\"2019\",\"2020\",\"2021\",\"2022\",\"2019\",\"2020\",\"2021\",\"2022\",\"2019\",\"2020\",\"2021\",\"2022\",\"2019\",\"2020\",\"2021\",\"2022\",\"\",\"\",\"\",\"\"]],\"values\":[{\"__ndarray__\":\"129UXBHpbD+KBWZN4jJ7P2Nk7TWsNmk/R/nOKQL4Vb+nAUeI5I9zP4FmAxt6DIE/DlW/koEFcD+H/gFmA4Frvz3RZFUBtXI/ahV1WXmbfj9P12h4cJ5wPxJ1uFa6lGO/3SZzaG9tVD/cHYOiR5hbP98WRb5bUUs/5IEaUQKFYL9DZeqc4gFRPw1/eGC4REs/fpTIdWkMUD/c8KGDcjFRv+y2loahCo8/1G9kNH6NmT9F06z9RlaKP6RaI5ney4S/\",\"dtype\":\"float64\",\"order\":\"little\",\"shape\":[24]}]},\"selected\":{\"id\":\"5516\"},\"selection_policy\":{\"id\":\"5515\"}},\"id\":\"5199\",\"type\":\"ColumnDataSource\"},{\"attributes\":{\"overlay\":{\"id\":\"5274\"}},\"id\":\"5272\",\"type\":\"BoxZoomTool\"},{\"attributes\":{\"fill_alpha\":{\"value\":0.1},\"fill_color\":{\"value\":\"#30a2da\"},\"hatch_alpha\":{\"value\":0.1},\"hatch_color\":{\"value\":\"#30a2da\"},\"line_alpha\":{\"value\":0.1},\"top\":{\"field\":\"normal\"},\"width\":{\"value\":0.8},\"x\":{\"field\":\"index\"}},\"id\":\"5286\",\"type\":\"VBar\"},{\"attributes\":{\"factors\":[\"BTC\",\"SP500\",\"NASDAQ\",\"BTC-SP500\",\"BTC-NASDAQ\",\"BTC vs SP500\",\"BTC vs NASDAQ\",\"SP500 vs NASDAQ\"],\"tags\":[[[\"index\",\"index\",null]]]},\"id\":\"5131\",\"type\":\"FactorRange\"},{\"attributes\":{},\"id\":\"5226\",\"type\":\"ResetTool\"},{\"attributes\":{\"bottom_units\":\"screen\",\"coordinates\":null,\"fill_alpha\":0.5,\"fill_color\":\"lightgrey\",\"group\":null,\"left_units\":\"screen\",\"level\":\"overlay\",\"line_alpha\":1.0,\"line_color\":\"black\",\"line_dash\":[4,4],\"line_width\":2,\"right_units\":\"screen\",\"syncable\":false,\"top_units\":\"screen\"},\"id\":\"5227\",\"type\":\"BoxAnnotation\"},{\"attributes\":{\"data\":{\"index\":[\"BTC vs SP500\",\"BTC vs NASDAQ\",\"SP500 vs NASDAQ\"],\"selloff\":{\"__ndarray__\":\"CLJni87X4D+QL9zCNWPfPz3OqusU2e0/\",\"dtype\":\"float64\",\"order\":\"little\",\"shape\":[3]}},\"selected\":{\"id\":\"5236\"},\"selection_policy\":{\"id\":\"5304\"}},\"id\":\"5235\",\"type\":\"ColumnDataSource\"},{\"attributes\":{\"js_property_callbacks\":{\"change:active\":[{\"id\":\"5680\"}]},\"margin\":[0,0,0,0],\"tabs\":[{\"id\":\"5198\"},{\"id\":\"5201\"},{\"id\":\"5503\"},{\"id\":\"5507\"}]},\"id\":\"5130\",\"type\":\"Tabs\"}],\"root_ids\":[\"5130\",\"5745\"]},\"title\":\"Bokeh Application\",\"version\":\"2.4.1\"}};\n",
       "    var render_items = [{\"docid\":\"4715b18e-6535-49c8-8c6a-7c0900702f38\",\"root_ids\":[\"5130\"],\"roots\":{\"5130\":\"102b873c-0a95-46ad-acbe-0457497d3ef1\"}}];\n",
       "    root.Bokeh.embed.embed_items_notebook(docs_json, render_items);\n",
       "  }\n",
       "  if (root.Bokeh !== undefined && root.Bokeh.Panel !== undefined) {\n",
       "    embed_document(root);\n",
       "  } else {\n",
       "    var attempts = 0;\n",
       "    var timer = setInterval(function(root) {\n",
       "      if (root.Bokeh !== undefined && root.Bokeh.Panel !== undefined) {\n",
       "        clearInterval(timer);\n",
       "        embed_document(root);\n",
       "      } else if (document.readyState == \"complete\") {\n",
       "        attempts++;\n",
       "        if (attempts > 200) {\n",
       "          clearInterval(timer);\n",
       "          console.log(\"Bokeh: ERROR: Unable to run BokehJS code because BokehJS library is missing\");\n",
       "        }\n",
       "      }\n",
       "    }, 25, root)\n",
       "  }\n",
       "})(window);</script>"
      ],
      "text/plain": [
       "Tabs\n",
       "    [0] HoloViews(Bars, name='BTC - Equity D...)\n",
       "    [1] Plotly(Figure, name='Returns vs. Max Loss')\n",
       "    [2] Column\n",
       "        [0] HoloViews(Layout)\n",
       "    [3] Row\n",
       "        [0] Str(None)\n",
       "        [1] Str(None)"
      ]
     },
     "execution_count": 43,
     "metadata": {
      "application/vnd.holoviews_exec.v0+json": {
       "id": "5130"
      }
     },
     "output_type": "execute_result"
    }
   ],
   "source": [
    "tabs = pn.Tabs(\n",
    "    (\"BTC - Equity Diversifier\", sharpe_bar_chart),\n",
    "    (\"Returns vs. Max Loss\", retmxloss_chart),\n",
    "    (\"Correlation in diff Markets\",corr_chart),\n",
    "    (\"Return distribution\", pn.Row(selloff_dist_chart,normal_dist_chart)))\n",
    "tabs"
   ]
  }
 ],
 "metadata": {
  "kernelspec": {
   "display_name": "Python 3 (ipykernel)",
   "language": "python",
   "name": "python3"
  },
  "language_info": {
   "codemirror_mode": {
    "name": "ipython",
    "version": 3
   },
   "file_extension": ".py",
   "mimetype": "text/x-python",
   "name": "python",
   "nbconvert_exporter": "python",
   "pygments_lexer": "ipython3",
   "version": "3.7.11"
  }
 },
 "nbformat": 4,
 "nbformat_minor": 5
}
