{
 "cells": [
  {
   "cell_type": "markdown",
   "id": "ec5665d9",
   "metadata": {},
   "source": [
    "# BTC as a Diversifier to US Equity\n",
    "\n",
    "This exercise will explore the potential diversification benefits of Bitcoin to an all-US equity portfolio. This will be done by examing two core metrics: correlation and sharpe ratio. \n",
    "\n",
    "Correlation is compared during market sell-off periods as well as normal market periods. The purpose for this comparison is to find out if Bitcoin is a good diversifier to US equities when it's needed the most, which is when market sells off.  \n",
    "\n",
    "For sharpe ratio, we compare sharpe ratio amongst BTC, SP500, NASDAQ, equally portfolios of BTC-SP500 and BTC-NASDAQ. The result of sharpe ratio will help determine the diversification benefit of BTC to equity."
   ]
  },
  {
   "cell_type": "code",
   "execution_count": 49,
   "id": "5c29c4b2",
   "metadata": {},
   "outputs": [],
   "source": [
    "# Initial imports\n",
    "import pandas as pd\n",
    "from dotenv import load_dotenv\n",
    "import numpy as np\n",
    "import datetime\n",
    "import yfinance as yf\n",
    "import hvplot.pandas\n",
    "import matplotlib.pyplot as plt\n",
    "import plotly.express as px\n",
    "import seaborn as sb\n",
    "import panel as pn\n",
    "#import tabulate"
   ]
  },
  {
   "cell_type": "code",
   "execution_count": 50,
   "id": "b26e479e",
   "metadata": {},
   "outputs": [
    {
     "data": {
      "text/plain": [
       "True"
      ]
     },
     "execution_count": 50,
     "metadata": {},
     "output_type": "execute_result"
    }
   ],
   "source": [
    "load_dotenv()"
   ]
  },
  {
   "cell_type": "markdown",
   "id": "947d0992",
   "metadata": {},
   "source": [
    "# Data Exploration and Cleanup\n",
    "\n",
    "For data download, we use Yahoo API for price history.  Only necessary columns were kept and NA were droped.\n",
    "\n",
    "For data manipulation, a +/-2 standard deviation for SP500 daily price return was calculated.  \n",
    "\n",
    "A sell off market environment is defined as any daily price returns all each asset that fall below the -2 standard deviation of SP500 daily price return.  \n",
    "\n",
    "A normal market environment is defined as any daily price returns all each asset that fall within the -2 standard deviation and +2 standard deviation of SP500 daily price return.\n",
    "\n",
    "Data is filtered with sell off and normal market conditions"
   ]
  },
  {
   "cell_type": "code",
   "execution_count": 51,
   "id": "58d9f08b",
   "metadata": {},
   "outputs": [
    {
     "name": "stdout",
     "output_type": "stream",
     "text": [
      "[*********************100%***********************]  3 of 3 completed\n"
     ]
    }
   ],
   "source": [
    "# Download data from Yahoo API and clean data\n",
    "today = datetime.date.today().isoformat()\n",
    "\n",
    "response_yf = yf.download(\n",
    "    \"^GSPC ^IXIC BTC-USD\", \n",
    "    start=\"2014-09-17\", \n",
    "    end=today\n",
    ")\n",
    "\n",
    "# trimming the data\n",
    "price_df = response_yf['Close']\n",
    "price_df = price_df.rename(\n",
    "    columns={\n",
    "        '^GSPC': 'SP500', \n",
    "        '^IXIC': 'NASDAQ',\n",
    "        'BTC-USD': 'BTC'\n",
    "    }\n",
    ").copy(deep=True)\n",
    "\n",
    "# remove all NA \n",
    "price_df = price_df.dropna()"
   ]
  },
  {
   "cell_type": "code",
   "execution_count": 52,
   "id": "b410c696",
   "metadata": {},
   "outputs": [],
   "source": [
    "# Calculate daily price return for all assets.  Calculate the 2 standard deviation boundary for SP500\n",
    "\n",
    "# calc daily percentage returns\n",
    "pct_change_df = price_df.pct_change()\n",
    "pct_change_df = pct_change_df.dropna()\n",
    "\n",
    "pct_change_std = pct_change_df['SP500'].std()\n",
    "pct_change_ret = pct_change_df['SP500'].mean()\n",
    "\n",
    "# SP500 price return at 2 standard dev boundary\n",
    "outlier_neg2std = pct_change_ret - pct_change_std * 2\n",
    "outlier_pos2std = pct_change_ret + pct_change_std * 2\n",
    "\n",
    "# Extract returns where S&P returns are greater 2 std dev\n",
    "pct_change_outside_2std = pct_change_df.loc[\n",
    "    pct_change_df['SP500'] <= outlier_neg2std\n",
    "]\n",
    "# Extract returns where S&P returns are within the 2 std dev\n",
    "pct_change_inside_2std = pct_change_df.loc[\n",
    "    (pct_change_df['SP500'] >= outlier_neg2std) & \n",
    "    (pct_change_df['SP500'] <= outlier_pos2std)\n",
    "]\n",
    "\n",
    "# Create a portfolio between BTC & SP500, NASDAQ\n",
    "combined_pct_change = pd.concat(\n",
    "    [\n",
    "        pct_change_df['BTC'] + pct_change_df['SP500'],\n",
    "        pct_change_df['BTC'] + pct_change_df['NASDAQ']\n",
    "    ],\n",
    "    axis=1\n",
    ")\n",
    "\n",
    "# Extract returns where S&P returns are greater 2 std dev\n",
    "combined_pct_change_outside_2std = combined_pct_change.loc[\n",
    "    pct_change_df['SP500'] <= outlier_neg2std\n",
    "]\n",
    "\n",
    "# Extract returns where S&P returns are within the 2 std dev\n",
    "combined_pct_change_inside_2std = combined_pct_change.loc[\n",
    "    (pct_change_df['SP500'] >= outlier_neg2std) & \n",
    "    (pct_change_df['SP500'] <=outlier_pos2std)\n",
    "]\n",
    "\n",
    "combined_pct_change.columns = ['BTC-SP500','BTC-NASDAQ']\n",
    "combined_pct_change_outside_2std.columns = ['BTC-SP500','BTC-NASDAQ']\n",
    "combined_pct_change_inside_2std.columns = ['BTC-SP500','BTC-NASDAQ']"
   ]
  },
  {
   "cell_type": "code",
   "execution_count": 53,
   "id": "497b53a0",
   "metadata": {},
   "outputs": [
    {
     "data": {
      "text/plain": [
       "-0.06703439592607463"
      ]
     },
     "execution_count": 53,
     "metadata": {},
     "output_type": "execute_result"
    }
   ],
   "source": [
    "# Verify that portfolio returns are added correctly\n",
    "pct_change_df['BTC'].iloc[0]+pct_change_df['SP500'].iloc[0]"
   ]
  },
  {
   "cell_type": "code",
   "execution_count": 54,
   "id": "559a82f4",
   "metadata": {},
   "outputs": [
    {
     "data": {
      "text/plain": [
       "-0.06703439592607463"
      ]
     },
     "execution_count": 54,
     "metadata": {},
     "output_type": "execute_result"
    }
   ],
   "source": [
    "combined_pct_change['BTC-SP500'].iloc[0] "
   ]
  },
  {
   "cell_type": "markdown",
   "id": "e59bb804",
   "metadata": {},
   "source": [
    "# Correlation Analysis\n",
    "\n",
    "In this section we'll examine the correlation between BTC vs. SP500 and NASDAQ in two different market environments. Correlation in the sell off market and normal market environment."
   ]
  },
  {
   "cell_type": "code",
   "execution_count": 55,
   "id": "78bdea7a",
   "metadata": {},
   "outputs": [],
   "source": [
    "# Calculate correlation amongst all assets for returns that beyond the 2 std dev and within 2 std dev\n",
    "\n",
    "# Correlation matrix\n",
    "corr_outside_2std = pct_change_outside_2std.corr()\n",
    "corr_inside_2std = pct_change_within.corr()\n",
    "\n",
    "# Extract corr off the diagonal of the matrix\n",
    "corr_2std = np.extract(1 - np.eye(len(corr_outside_2std)), corr_outside_2std)\n",
    "corr_within  = np.extract(1 - np.eye(len(corr_outside_2std)), corr_inside_2std)\n",
    "\n",
    "# Retrieve only correlation btween BTC vs equity and SP500 vs NASDAQ\n",
    "ix=[0,1,3]\n",
    "corr_2std = [corr_2std[i] for i in ix]\n",
    "corr_within = [corr_within[i] for i in ix]"
   ]
  },
  {
   "cell_type": "markdown",
   "id": "5de3289b",
   "metadata": {},
   "source": [
    "## Charting Section"
   ]
  },
  {
   "cell_type": "markdown",
   "id": "a05bf49c",
   "metadata": {},
   "source": [
    "#### Charting functions"
   ]
  },
  {
   "cell_type": "code",
   "execution_count": 56,
   "id": "093eb5c1",
   "metadata": {},
   "outputs": [],
   "source": [
    "def create_dist_chart_fill_opt(data, xloc1, xloc2, annotate_txt):\n",
    "    \n",
    "    # xloc1 or xloc2 is the number on x-axis where the chart is shaded beyond that location\n",
    "    # if both xloc1 and xloc2 are provided then a shaded area is in between those 2 numbers.\n",
    "    # if both xloc1 and xloc2 are empty then no shading is done\n",
    "    \n",
    "    plt.figure()\n",
    "    ax = sb.distplot(data)\n",
    "    x, y = ax.get_lines()[0].get_data()\n",
    "    line = ax.lines[0].get_data()\n",
    "\n",
    "    if bool(xloc1) & bool(xloc2):\n",
    "        plt.vlines(xloc1, 0, y[np.argmin(abs(x-xloc1))], color='k')\n",
    "        plt.vlines(xloc2, 0, y[np.argmin(abs(x-xloc2))], color='k')\n",
    "        ax.fill_between(line[0], np.zeros(len(line[0])), line[1])\n",
    "        ax.fill_between(\n",
    "            x, y, \n",
    "            where=(x>xloc1) & (x<xloc2), \n",
    "            interpolate=True,\n",
    "            color='#EF9A9A'\n",
    "        )      \n",
    "\n",
    "    elif bool(xloc1) | bool(xloc2):\n",
    "        plt.vlines(xloc1, 0, y[np.argmin(abs(x-xloc1))], color='k')\n",
    "        ax.fill_between(line[0], np.zeros(len(line[0])), line[1])\n",
    "        ax.fill_between(\n",
    "            x, y, \n",
    "            where=(x < xloc1), \n",
    "            interpolate=True, \n",
    "            color='#EF9A9A'\n",
    "        )\n",
    "\n",
    "    else:    \n",
    "        ax = sb.distplot(data)\n",
    "        ax.fill_between(line[0], np.zeros(len(line[0])), line[1])  \n",
    "        \n",
    "    ax.set_title('Distribution of SP500 Daily Price Return')   \n",
    "    ax.text(-0.12, 10,annotate_txt, fontsize=9)  "
   ]
  },
  {
   "cell_type": "code",
   "execution_count": 57,
   "id": "fa0d4f98",
   "metadata": {},
   "outputs": [],
   "source": [
    "def create_bar_chart(data,title):\n",
    "    barplot = data.hvplot.bar(title=title,height=300,width=500)\n",
    "    return barplot"
   ]
  },
  {
   "cell_type": "markdown",
   "id": "605769d7",
   "metadata": {},
   "source": [
    "### Chart density distribution charts\n",
    "These charts highlighted the section of the data distribution that will be used to calculate the correlation for sell off and normal market periods.\n",
    "We highlighted the +/- 2 standard deviation of SP500 price return on the charts.  The data used for the correlation analysis is highlighted by shaded area of the charts. "
   ]
  },
  {
   "cell_type": "code",
   "execution_count": 58,
   "id": "d85111b3",
   "metadata": {},
   "outputs": [
    {
     "name": "stderr",
     "output_type": "stream",
     "text": [
      "/opt/anaconda3/envs/pyvizenv/lib/python3.7/site-packages/seaborn/distributions.py:2619: FutureWarning:\n",
      "\n",
      "`distplot` is a deprecated function and will be removed in a future version. Please adapt your code to use either `displot` (a figure-level function with similar flexibility) or `histplot` (an axes-level function for histograms).\n",
      "\n"
     ]
    },
    {
     "data": {
      "image/png": "[encoded data removed]",
      "text/plain": [
       "<Figure size 432x288 with 1 Axes>"
      ]
     },
     "metadata": {
      "needs_background": "light"
     },
     "output_type": "display_data"
    }
   ],
   "source": [
    "annotext = str(len(pct_change_outside_2std)) + \" data points were found\"\n",
    "\n",
    "selloff_dist_chart = create_dist_chart_fill_opt(\n",
    "    pct_change_df['SP500'],\n",
    "    outlier_neg2std,\n",
    "    [],\n",
    "    annotext\n",
    ")"
   ]
  },
  {
   "cell_type": "code",
   "execution_count": 59,
   "id": "98e64415",
   "metadata": {},
   "outputs": [
    {
     "name": "stderr",
     "output_type": "stream",
     "text": [
      "/opt/anaconda3/envs/pyvizenv/lib/python3.7/site-packages/seaborn/distributions.py:2619: FutureWarning:\n",
      "\n",
      "`distplot` is a deprecated function and will be removed in a future version. Please adapt your code to use either `displot` (a figure-level function with similar flexibility) or `histplot` (an axes-level function for histograms).\n",
      "\n"
     ]
    },
    {
     "data": {
      "image/png": "[encoded data removed]",
      "text/plain": [
       "<Figure size 432x288 with 1 Axes>"
      ]
     },
     "metadata": {
      "needs_background": "light"
     },
     "output_type": "display_data"
    }
   ],
   "source": [
    "annotext = str(len(pct_change_within)) + \" data points were found\"\n",
    "\n",
    "normal_dist_chart = create_dist_chart_fill_opt(\n",
    "    pct_change_df['SP500'],\n",
    "    outlier_neg2std,\n",
    "    outlier_pos2std,\n",
    "    annotext\n",
    ")"
   ]
  },
  {
   "cell_type": "markdown",
   "id": "8ca92d02",
   "metadata": {},
   "source": [
    "### Correlation results\n",
    "The distinct difference between correlations in during sell off market vs. normal market appears to suggest BTC is not a good diversifier to equity.  Equity needs diversification the most when market sells off.  The correlation between BTC and equity spiked ~ 5x during sell off market.  Correlation between SP500 and NASDAQ both remained high in both sell off and normal market environment."
   ]
  },
  {
   "cell_type": "code",
   "execution_count": 60,
   "id": "9435f7d1",
   "metadata": {},
   "outputs": [
    {
     "data": {
      "text/html": [
       "<div>\n",
       "<style scoped>\n",
       "    .dataframe tbody tr th:only-of-type {\n",
       "        vertical-align: middle;\n",
       "    }\n",
       "\n",
       "    .dataframe tbody tr th {\n",
       "        vertical-align: top;\n",
       "    }\n",
       "\n",
       "    .dataframe thead th {\n",
       "        text-align: right;\n",
       "    }\n",
       "</style>\n",
       "<table border=\"1\" class=\"dataframe\">\n",
       "  <thead>\n",
       "    <tr style=\"text-align: right;\">\n",
       "      <th></th>\n",
       "      <th>selloff</th>\n",
       "      <th>normal</th>\n",
       "    </tr>\n",
       "  </thead>\n",
       "  <tbody>\n",
       "    <tr>\n",
       "      <th>BTC vs SP500</th>\n",
       "      <td>0.526344</td>\n",
       "      <td>0.087877</td>\n",
       "    </tr>\n",
       "    <tr>\n",
       "      <th>BTC vs NASDAQ</th>\n",
       "      <td>0.490430</td>\n",
       "      <td>0.118869</td>\n",
       "    </tr>\n",
       "    <tr>\n",
       "      <th>SP500 vs NASDAQ</th>\n",
       "      <td>0.932749</td>\n",
       "      <td>0.911174</td>\n",
       "    </tr>\n",
       "  </tbody>\n",
       "</table>\n",
       "</div>"
      ],
      "text/plain": [
       "                  selloff    normal\n",
       "BTC vs SP500     0.526344  0.087877\n",
       "BTC vs NASDAQ    0.490430  0.118869\n",
       "SP500 vs NASDAQ  0.932749  0.911174"
      ]
     },
     "execution_count": 60,
     "metadata": {},
     "output_type": "execute_result"
    }
   ],
   "source": [
    "corr_btc_equity = pd.concat(\n",
    "    [\n",
    "        pd.DataFrame(corr_2std),\n",
    "        pd.DataFrame(corr_within)\n",
    "    ], \n",
    "    axis=1\n",
    ")\n",
    "\n",
    "corr_btc_equity = corr_btc_equity.set_index([\n",
    "    pd.Index([\n",
    "        'BTC vs SP500',\n",
    "        'BTC vs NASDAQ',\n",
    "        'SP500 vs NASDAQ'\n",
    "    ])\n",
    "])\n",
    "\n",
    "corr_btc_equity.columns = ['selloff','normal']\n",
    "corr_btc_equity"
   ]
  },
  {
   "cell_type": "code",
   "execution_count": 61,
   "id": "1e993251",
   "metadata": {},
   "outputs": [
    {
     "data": {},
     "metadata": {},
     "output_type": "display_data"
    },
    {
     "data": {
      "application/vnd.holoviews_exec.v0+json": "",
      "text/html": [
       "<div id='3428'>\n",
       "\n",
       "\n",
       "\n",
       "\n",
       "\n",
       "  <div class=\"bk-root\" id=\"079dc033-e5f2-4a39-8fe6-d382dfcca6c7\" data-root-id=\"3428\"></div>\n",
       "</div>\n",
       "<script type=\"application/javascript\">(function(root) {\n",
       "  function embed_document(root) {\n",
       "    var docs_json = {\"db37ca0a-d7d3-45f4-a7c1-3797743e3a70\":{\"defs\":[{\"extends\":null,\"module\":null,\"name\":\"ReactiveHTML1\",\"overrides\":[],\"properties\":[]},{\"extends\":null,\"module\":null,\"name\":\"FlexBox1\",\"overrides\":[],\"properties\":[{\"default\":\"flex-start\",\"kind\":null,\"name\":\"align_content\"},{\"default\":\"flex-start\",\"kind\":null,\"name\":\"align_items\"},{\"default\":\"row\",\"kind\":null,\"name\":\"flex_direction\"},{\"default\":\"wrap\",\"kind\":null,\"name\":\"flex_wrap\"},{\"default\":\"flex-start\",\"kind\":null,\"name\":\"justify_content\"}]},{\"extends\":null,\"module\":null,\"name\":\"TemplateActions1\",\"overrides\":[],\"properties\":[{\"default\":0,\"kind\":null,\"name\":\"open_modal\"},{\"default\":0,\"kind\":null,\"name\":\"close_modal\"}]},{\"extends\":null,\"module\":null,\"name\":\"MaterialTemplateActions1\",\"overrides\":[],\"properties\":[{\"default\":0,\"kind\":null,\"name\":\"open_modal\"},{\"default\":0,\"kind\":null,\"name\":\"close_modal\"}]}],\"roots\":{\"references\":[{\"attributes\":{\"margin\":[5,5,5,5],\"name\":\"HSpacer03293\",\"sizing_mode\":\"stretch_width\"},\"id\":\"3497\",\"type\":\"Spacer\"},{\"attributes\":{\"source\":{\"id\":\"3462\"}},\"id\":\"3469\",\"type\":\"CDSView\"},{\"attributes\":{\"factors\":[\"BTC vs SP500\",\"BTC vs NASDAQ\",\"SP500 vs NASDAQ\"],\"tags\":[[[\"index\",\"index\",null]]]},\"id\":\"3430\",\"type\":\"FactorRange\"},{\"attributes\":{},\"id\":\"3449\",\"type\":\"SaveTool\"},{\"attributes\":{},\"id\":\"3484\",\"type\":\"UnionRenderers\"},{\"attributes\":{\"end\":0.9769811270589481,\"reset_end\":0.9769811270589481,\"reset_start\":0.0,\"tags\":[[[\"selloff\",\"selloff\",null]]]},\"id\":\"3431\",\"type\":\"Range1d\"},{\"attributes\":{},\"id\":\"3450\",\"type\":\"PanTool\"},{\"attributes\":{\"below\":[{\"id\":\"3442\"}],\"center\":[{\"id\":\"3444\"},{\"id\":\"3448\"}],\"height\":300,\"left\":[{\"id\":\"3445\"}],\"margin\":[5,5,5,5],\"min_border_bottom\":10,\"min_border_left\":10,\"min_border_right\":10,\"min_border_top\":10,\"renderers\":[{\"id\":\"3468\"}],\"sizing_mode\":\"fixed\",\"title\":{\"id\":\"3434\"},\"toolbar\":{\"id\":\"3455\"},\"width\":500,\"x_range\":{\"id\":\"3430\"},\"x_scale\":{\"id\":\"3438\"},\"y_range\":{\"id\":\"3431\"},\"y_scale\":{\"id\":\"3440\"}},\"id\":\"3433\",\"subtype\":\"Figure\",\"type\":\"Plot\"},{\"attributes\":{},\"id\":\"3451\",\"type\":\"WheelZoomTool\"},{\"attributes\":{\"tools\":[{\"id\":\"3432\"},{\"id\":\"3449\"},{\"id\":\"3450\"},{\"id\":\"3451\"},{\"id\":\"3452\"},{\"id\":\"3453\"}]},\"id\":\"3455\",\"type\":\"Toolbar\"},{\"attributes\":{\"overlay\":{\"id\":\"3454\"}},\"id\":\"3452\",\"type\":\"BoxZoomTool\"},{\"attributes\":{},\"id\":\"3438\",\"type\":\"CategoricalScale\"},{\"attributes\":{\"coordinates\":null,\"data_source\":{\"id\":\"3462\"},\"glyph\":{\"id\":\"3465\"},\"group\":null,\"hover_glyph\":null,\"muted_glyph\":{\"id\":\"3467\"},\"nonselection_glyph\":{\"id\":\"3466\"},\"selection_glyph\":{\"id\":\"3470\"},\"view\":{\"id\":\"3469\"}},\"id\":\"3468\",\"type\":\"GlyphRenderer\"},{\"attributes\":{},\"id\":\"3443\",\"type\":\"CategoricalTicker\"},{\"attributes\":{},\"id\":\"3463\",\"type\":\"Selection\"},{\"attributes\":{},\"id\":\"3453\",\"type\":\"ResetTool\"},{\"attributes\":{\"coordinates\":null,\"group\":null,\"text\":\"Correlation between BTC vs SP500 and NASDAQ \\nduring Sell Off Market\",\"text_color\":\"black\",\"text_font_size\":\"12pt\"},\"id\":\"3434\",\"type\":\"Title\"},{\"attributes\":{\"bottom\":{\"value\":0},\"fill_alpha\":{\"value\":1.0},\"fill_color\":{\"value\":\"#30a2da\"},\"hatch_alpha\":{\"value\":1.0},\"hatch_color\":{\"value\":\"#30a2da\"},\"hatch_scale\":{\"value\":12.0},\"hatch_weight\":{\"value\":1.0},\"line_alpha\":{\"value\":1.0},\"line_cap\":{\"value\":\"butt\"},\"line_color\":{\"value\":\"black\"},\"line_dash\":{\"value\":[]},\"line_dash_offset\":{\"value\":0},\"line_join\":{\"value\":\"bevel\"},\"line_width\":{\"value\":1},\"top\":{\"field\":\"selloff\"},\"width\":{\"value\":0.8},\"x\":{\"field\":\"index\"}},\"id\":\"3470\",\"type\":\"VBar\"},{\"attributes\":{\"callback\":null,\"renderers\":[{\"id\":\"3468\"}],\"tags\":[\"hv_created\"],\"tooltips\":[[\"index\",\"@{index}\"],[\"selloff\",\"@{selloff}\"]]},\"id\":\"3432\",\"type\":\"HoverTool\"},{\"attributes\":{\"axis\":{\"id\":\"3445\"},\"coordinates\":null,\"dimension\":1,\"grid_line_color\":null,\"group\":null,\"ticker\":null},\"id\":\"3448\",\"type\":\"Grid\"},{\"attributes\":{\"bottom_units\":\"screen\",\"coordinates\":null,\"fill_alpha\":0.5,\"fill_color\":\"lightgrey\",\"group\":null,\"left_units\":\"screen\",\"level\":\"overlay\",\"line_alpha\":1.0,\"line_color\":\"black\",\"line_dash\":[4,4],\"line_width\":2,\"right_units\":\"screen\",\"syncable\":false,\"top_units\":\"screen\"},\"id\":\"3454\",\"type\":\"BoxAnnotation\"},{\"attributes\":{\"margin\":[5,5,5,5],\"name\":\"HSpacer03292\",\"sizing_mode\":\"stretch_width\"},\"id\":\"3429\",\"type\":\"Spacer\"},{\"attributes\":{},\"id\":\"3440\",\"type\":\"LinearScale\"},{\"attributes\":{\"axis_label\":\"\",\"coordinates\":null,\"formatter\":{\"id\":\"3472\"},\"group\":null,\"major_label_policy\":{\"id\":\"3473\"},\"ticker\":{\"id\":\"3443\"}},\"id\":\"3442\",\"type\":\"CategoricalAxis\"},{\"attributes\":{\"fill_alpha\":{\"value\":0.2},\"fill_color\":{\"value\":\"#30a2da\"},\"hatch_alpha\":{\"value\":0.2},\"hatch_color\":{\"value\":\"#30a2da\"},\"line_alpha\":{\"value\":0.2},\"top\":{\"field\":\"selloff\"},\"width\":{\"value\":0.8},\"x\":{\"field\":\"index\"}},\"id\":\"3467\",\"type\":\"VBar\"},{\"attributes\":{},\"id\":\"3476\",\"type\":\"AllLabels\"},{\"attributes\":{},\"id\":\"3475\",\"type\":\"BasicTickFormatter\"},{\"attributes\":{\"axis\":{\"id\":\"3442\"},\"coordinates\":null,\"grid_line_color\":null,\"group\":null,\"ticker\":null},\"id\":\"3444\",\"type\":\"Grid\"},{\"attributes\":{\"fill_alpha\":{\"value\":0.1},\"fill_color\":{\"value\":\"#30a2da\"},\"hatch_alpha\":{\"value\":0.1},\"hatch_color\":{\"value\":\"#30a2da\"},\"line_alpha\":{\"value\":0.1},\"top\":{\"field\":\"selloff\"},\"width\":{\"value\":0.8},\"x\":{\"field\":\"index\"}},\"id\":\"3466\",\"type\":\"VBar\"},{\"attributes\":{},\"id\":\"3472\",\"type\":\"CategoricalTickFormatter\"},{\"attributes\":{},\"id\":\"3446\",\"type\":\"BasicTicker\"},{\"attributes\":{\"axis_label\":\"\",\"coordinates\":null,\"formatter\":{\"id\":\"3475\"},\"group\":null,\"major_label_policy\":{\"id\":\"3476\"},\"ticker\":{\"id\":\"3446\"}},\"id\":\"3445\",\"type\":\"LinearAxis\"},{\"attributes\":{\"data\":{\"index\":[\"BTC vs SP500\",\"BTC vs NASDAQ\",\"SP500 vs NASDAQ\"],\"selloff\":{\"__ndarray__\":\"CLJni87X4D+QL9zCNWPfPz3OqusU2e0/\",\"dtype\":\"float64\",\"order\":\"little\",\"shape\":[3]}},\"selected\":{\"id\":\"3463\"},\"selection_policy\":{\"id\":\"3484\"}},\"id\":\"3462\",\"type\":\"ColumnDataSource\"},{\"attributes\":{\"fill_color\":{\"value\":\"#30a2da\"},\"hatch_color\":{\"value\":\"#30a2da\"},\"top\":{\"field\":\"selloff\"},\"width\":{\"value\":0.8},\"x\":{\"field\":\"index\"}},\"id\":\"3465\",\"type\":\"VBar\"},{\"attributes\":{},\"id\":\"3473\",\"type\":\"AllLabels\"},{\"attributes\":{\"children\":[{\"id\":\"3429\"},{\"id\":\"3433\"},{\"id\":\"3497\"}],\"margin\":[0,0,0,0],\"name\":\"Row03288\",\"tags\":[\"embedded\"]},\"id\":\"3428\",\"type\":\"Row\"}],\"root_ids\":[\"3428\"]},\"title\":\"Bokeh Application\",\"version\":\"2.4.1\"}};\n",
       "    var render_items = [{\"docid\":\"db37ca0a-d7d3-45f4-a7c1-3797743e3a70\",\"root_ids\":[\"3428\"],\"roots\":{\"3428\":\"079dc033-e5f2-4a39-8fe6-d382dfcca6c7\"}}];\n",
       "    root.Bokeh.embed.embed_items_notebook(docs_json, render_items);\n",
       "  }\n",
       "  if (root.Bokeh !== undefined && root.Bokeh.Panel !== undefined) {\n",
       "    embed_document(root);\n",
       "  } else {\n",
       "    var attempts = 0;\n",
       "    var timer = setInterval(function(root) {\n",
       "      if (root.Bokeh !== undefined && root.Bokeh.Panel !== undefined) {\n",
       "        clearInterval(timer);\n",
       "        embed_document(root);\n",
       "      } else if (document.readyState == \"complete\") {\n",
       "        attempts++;\n",
       "        if (attempts > 200) {\n",
       "          clearInterval(timer);\n",
       "          console.log(\"Bokeh: ERROR: Unable to run BokehJS code because BokehJS library is missing\");\n",
       "        }\n",
       "      }\n",
       "    }, 25, root)\n",
       "  }\n",
       "})(window);</script>"
      ],
      "text/plain": [
       ":Bars   [index]   (selloff)"
      ]
     },
     "execution_count": 61,
     "metadata": {
      "application/vnd.holoviews_exec.v0+json": {
       "id": "3428"
      }
     },
     "output_type": "execute_result"
    }
   ],
   "source": [
    "selloff_chart = create_bar_chart(\n",
    "    corr_btc_equity['selloff'],\n",
    "    'Correlation between BTC vs SP500 and NASDAQ \\nduring Sell Off Market'\n",
    ")\n",
    "\n",
    "selloff_chart"
   ]
  },
  {
   "cell_type": "code",
   "execution_count": 62,
   "id": "3570bdc2",
   "metadata": {},
   "outputs": [
    {
     "data": {},
     "metadata": {},
     "output_type": "display_data"
    },
    {
     "data": {
      "application/vnd.holoviews_exec.v0+json": "",
      "text/html": [
       "<div id='3579'>\n",
       "\n",
       "\n",
       "\n",
       "\n",
       "\n",
       "  <div class=\"bk-root\" id=\"d23e78a2-32b3-4a61-ab97-e6432bf34331\" data-root-id=\"3579\"></div>\n",
       "</div>\n",
       "<script type=\"application/javascript\">(function(root) {\n",
       "  function embed_document(root) {\n",
       "    var docs_json = {\"815488fe-032e-4192-97ff-38c04c8027ca\":{\"defs\":[{\"extends\":null,\"module\":null,\"name\":\"ReactiveHTML1\",\"overrides\":[],\"properties\":[]},{\"extends\":null,\"module\":null,\"name\":\"FlexBox1\",\"overrides\":[],\"properties\":[{\"default\":\"flex-start\",\"kind\":null,\"name\":\"align_content\"},{\"default\":\"flex-start\",\"kind\":null,\"name\":\"align_items\"},{\"default\":\"row\",\"kind\":null,\"name\":\"flex_direction\"},{\"default\":\"wrap\",\"kind\":null,\"name\":\"flex_wrap\"},{\"default\":\"flex-start\",\"kind\":null,\"name\":\"justify_content\"}]},{\"extends\":null,\"module\":null,\"name\":\"TemplateActions1\",\"overrides\":[],\"properties\":[{\"default\":0,\"kind\":null,\"name\":\"open_modal\"},{\"default\":0,\"kind\":null,\"name\":\"close_modal\"}]},{\"extends\":null,\"module\":null,\"name\":\"MaterialTemplateActions1\",\"overrides\":[],\"properties\":[{\"default\":0,\"kind\":null,\"name\":\"open_modal\"},{\"default\":0,\"kind\":null,\"name\":\"close_modal\"}]}],\"roots\":{\"references\":[{\"attributes\":{\"below\":[{\"id\":\"3593\"}],\"center\":[{\"id\":\"3595\"},{\"id\":\"3599\"}],\"height\":300,\"left\":[{\"id\":\"3596\"}],\"margin\":[5,5,5,5],\"min_border_bottom\":10,\"min_border_left\":10,\"min_border_right\":10,\"min_border_top\":10,\"renderers\":[{\"id\":\"3619\"}],\"sizing_mode\":\"fixed\",\"title\":{\"id\":\"3585\"},\"toolbar\":{\"id\":\"3606\"},\"width\":500,\"x_range\":{\"id\":\"3581\"},\"x_scale\":{\"id\":\"3589\"},\"y_range\":{\"id\":\"3582\"},\"y_scale\":{\"id\":\"3591\"}},\"id\":\"3584\",\"subtype\":\"Figure\",\"type\":\"Plot\"},{\"attributes\":{},\"id\":\"3602\",\"type\":\"WheelZoomTool\"},{\"attributes\":{\"coordinates\":null,\"group\":null,\"text\":\"Correlation between BTC vs SP500 and NASDAQ \\nduring Normal Market\",\"text_color\":\"black\",\"text_font_size\":\"12pt\"},\"id\":\"3585\",\"type\":\"Title\"},{\"attributes\":{\"coordinates\":null,\"data_source\":{\"id\":\"3613\"},\"glyph\":{\"id\":\"3616\"},\"group\":null,\"hover_glyph\":null,\"muted_glyph\":{\"id\":\"3618\"},\"nonselection_glyph\":{\"id\":\"3617\"},\"selection_glyph\":{\"id\":\"3621\"},\"view\":{\"id\":\"3620\"}},\"id\":\"3619\",\"type\":\"GlyphRenderer\"},{\"attributes\":{\"tools\":[{\"id\":\"3583\"},{\"id\":\"3600\"},{\"id\":\"3601\"},{\"id\":\"3602\"},{\"id\":\"3603\"},{\"id\":\"3604\"}]},\"id\":\"3606\",\"type\":\"Toolbar\"},{\"attributes\":{},\"id\":\"3591\",\"type\":\"LinearScale\"},{\"attributes\":{\"overlay\":{\"id\":\"3605\"}},\"id\":\"3603\",\"type\":\"BoxZoomTool\"},{\"attributes\":{},\"id\":\"3614\",\"type\":\"Selection\"},{\"attributes\":{\"axis\":{\"id\":\"3596\"},\"coordinates\":null,\"dimension\":1,\"grid_line_color\":null,\"group\":null,\"ticker\":null},\"id\":\"3599\",\"type\":\"Grid\"},{\"attributes\":{\"fill_color\":{\"value\":\"#30a2da\"},\"hatch_color\":{\"value\":\"#30a2da\"},\"top\":{\"field\":\"normal\"},\"width\":{\"value\":0.8},\"x\":{\"field\":\"index\"}},\"id\":\"3616\",\"type\":\"VBar\"},{\"attributes\":{},\"id\":\"3604\",\"type\":\"ResetTool\"},{\"attributes\":{\"margin\":[5,5,5,5],\"name\":\"HSpacer03441\",\"sizing_mode\":\"stretch_width\"},\"id\":\"3580\",\"type\":\"Spacer\"},{\"attributes\":{},\"id\":\"3627\",\"type\":\"AllLabels\"},{\"attributes\":{},\"id\":\"3589\",\"type\":\"CategoricalScale\"},{\"attributes\":{},\"id\":\"3626\",\"type\":\"BasicTickFormatter\"},{\"attributes\":{},\"id\":\"3624\",\"type\":\"AllLabels\"},{\"attributes\":{\"bottom_units\":\"screen\",\"coordinates\":null,\"fill_alpha\":0.5,\"fill_color\":\"lightgrey\",\"group\":null,\"left_units\":\"screen\",\"level\":\"overlay\",\"line_alpha\":1.0,\"line_color\":\"black\",\"line_dash\":[4,4],\"line_width\":2,\"right_units\":\"screen\",\"syncable\":false,\"top_units\":\"screen\"},\"id\":\"3605\",\"type\":\"BoxAnnotation\"},{\"attributes\":{\"axis_label\":\"\",\"coordinates\":null,\"formatter\":{\"id\":\"3623\"},\"group\":null,\"major_label_policy\":{\"id\":\"3624\"},\"ticker\":{\"id\":\"3594\"}},\"id\":\"3593\",\"type\":\"CategoricalAxis\"},{\"attributes\":{\"children\":[{\"id\":\"3580\"},{\"id\":\"3584\"},{\"id\":\"3648\"}],\"margin\":[0,0,0,0],\"name\":\"Row03437\",\"tags\":[\"embedded\"]},\"id\":\"3579\",\"type\":\"Row\"},{\"attributes\":{},\"id\":\"3594\",\"type\":\"CategoricalTicker\"},{\"attributes\":{\"axis\":{\"id\":\"3593\"},\"coordinates\":null,\"grid_line_color\":null,\"group\":null,\"ticker\":null},\"id\":\"3595\",\"type\":\"Grid\"},{\"attributes\":{},\"id\":\"3623\",\"type\":\"CategoricalTickFormatter\"},{\"attributes\":{\"margin\":[5,5,5,5],\"name\":\"HSpacer03442\",\"sizing_mode\":\"stretch_width\"},\"id\":\"3648\",\"type\":\"Spacer\"},{\"attributes\":{\"end\":0.9935041394240067,\"reset_end\":0.9935041394240067,\"reset_start\":0.0,\"tags\":[[[\"normal\",\"normal\",null]]]},\"id\":\"3582\",\"type\":\"Range1d\"},{\"attributes\":{},\"id\":\"3597\",\"type\":\"BasicTicker\"},{\"attributes\":{\"axis_label\":\"\",\"coordinates\":null,\"formatter\":{\"id\":\"3626\"},\"group\":null,\"major_label_policy\":{\"id\":\"3627\"},\"ticker\":{\"id\":\"3597\"}},\"id\":\"3596\",\"type\":\"LinearAxis\"},{\"attributes\":{\"bottom\":{\"value\":0},\"fill_alpha\":{\"value\":1.0},\"fill_color\":{\"value\":\"#30a2da\"},\"hatch_alpha\":{\"value\":1.0},\"hatch_color\":{\"value\":\"#30a2da\"},\"hatch_scale\":{\"value\":12.0},\"hatch_weight\":{\"value\":1.0},\"line_alpha\":{\"value\":1.0},\"line_cap\":{\"value\":\"butt\"},\"line_color\":{\"value\":\"black\"},\"line_dash\":{\"value\":[]},\"line_dash_offset\":{\"value\":0},\"line_join\":{\"value\":\"bevel\"},\"line_width\":{\"value\":1},\"top\":{\"field\":\"normal\"},\"width\":{\"value\":0.8},\"x\":{\"field\":\"index\"}},\"id\":\"3621\",\"type\":\"VBar\"},{\"attributes\":{\"data\":{\"index\":[\"BTC vs SP500\",\"BTC vs NASDAQ\",\"SP500 vs NASDAQ\"],\"normal\":{\"__ndarray__\":\"HJWx3SB/tj/26HuJKm6+P/JptUZXKO0/\",\"dtype\":\"float64\",\"order\":\"little\",\"shape\":[3]}},\"selected\":{\"id\":\"3614\"},\"selection_policy\":{\"id\":\"3635\"}},\"id\":\"3613\",\"type\":\"ColumnDataSource\"},{\"attributes\":{\"source\":{\"id\":\"3613\"}},\"id\":\"3620\",\"type\":\"CDSView\"},{\"attributes\":{\"factors\":[\"BTC vs SP500\",\"BTC vs NASDAQ\",\"SP500 vs NASDAQ\"],\"tags\":[[[\"index\",\"index\",null]]]},\"id\":\"3581\",\"type\":\"FactorRange\"},{\"attributes\":{\"fill_alpha\":{\"value\":0.1},\"fill_color\":{\"value\":\"#30a2da\"},\"hatch_alpha\":{\"value\":0.1},\"hatch_color\":{\"value\":\"#30a2da\"},\"line_alpha\":{\"value\":0.1},\"top\":{\"field\":\"normal\"},\"width\":{\"value\":0.8},\"x\":{\"field\":\"index\"}},\"id\":\"3617\",\"type\":\"VBar\"},{\"attributes\":{\"fill_alpha\":{\"value\":0.2},\"fill_color\":{\"value\":\"#30a2da\"},\"hatch_alpha\":{\"value\":0.2},\"hatch_color\":{\"value\":\"#30a2da\"},\"line_alpha\":{\"value\":0.2},\"top\":{\"field\":\"normal\"},\"width\":{\"value\":0.8},\"x\":{\"field\":\"index\"}},\"id\":\"3618\",\"type\":\"VBar\"},{\"attributes\":{\"callback\":null,\"renderers\":[{\"id\":\"3619\"}],\"tags\":[\"hv_created\"],\"tooltips\":[[\"index\",\"@{index}\"],[\"normal\",\"@{normal}\"]]},\"id\":\"3583\",\"type\":\"HoverTool\"},{\"attributes\":{},\"id\":\"3600\",\"type\":\"SaveTool\"},{\"attributes\":{},\"id\":\"3635\",\"type\":\"UnionRenderers\"},{\"attributes\":{},\"id\":\"3601\",\"type\":\"PanTool\"}],\"root_ids\":[\"3579\"]},\"title\":\"Bokeh Application\",\"version\":\"2.4.1\"}};\n",
       "    var render_items = [{\"docid\":\"815488fe-032e-4192-97ff-38c04c8027ca\",\"root_ids\":[\"3579\"],\"roots\":{\"3579\":\"d23e78a2-32b3-4a61-ab97-e6432bf34331\"}}];\n",
       "    root.Bokeh.embed.embed_items_notebook(docs_json, render_items);\n",
       "  }\n",
       "  if (root.Bokeh !== undefined && root.Bokeh.Panel !== undefined) {\n",
       "    embed_document(root);\n",
       "  } else {\n",
       "    var attempts = 0;\n",
       "    var timer = setInterval(function(root) {\n",
       "      if (root.Bokeh !== undefined && root.Bokeh.Panel !== undefined) {\n",
       "        clearInterval(timer);\n",
       "        embed_document(root);\n",
       "      } else if (document.readyState == \"complete\") {\n",
       "        attempts++;\n",
       "        if (attempts > 200) {\n",
       "          clearInterval(timer);\n",
       "          console.log(\"Bokeh: ERROR: Unable to run BokehJS code because BokehJS library is missing\");\n",
       "        }\n",
       "      }\n",
       "    }, 25, root)\n",
       "  }\n",
       "})(window);</script>"
      ],
      "text/plain": [
       ":Bars   [index]   (normal)"
      ]
     },
     "execution_count": 62,
     "metadata": {
      "application/vnd.holoviews_exec.v0+json": {
       "id": "3579"
      }
     },
     "output_type": "execute_result"
    }
   ],
   "source": [
    "normal_chart = create_bar_chart(\n",
    "    corr_btc_equity['normal'],\n",
    "    'Correlation between BTC vs SP500 and NASDAQ \\nduring Normal Market'\n",
    ")\n",
    "\n",
    "normal_chart"
   ]
  },
  {
   "cell_type": "code",
   "execution_count": 63,
   "id": "f5dede8c",
   "metadata": {},
   "outputs": [
    {
     "data": {},
     "metadata": {},
     "output_type": "display_data"
    },
    {
     "data": {},
     "metadata": {},
     "output_type": "display_data"
    },
    {
     "data": {
      "application/vnd.holoviews_exec.v0+json": "",
      "text/html": [
       "<div id='3730'>\n",
       "\n",
       "\n",
       "\n",
       "\n",
       "\n",
       "  <div class=\"bk-root\" id=\"ae4abe2c-bfeb-4c48-9a50-366d0f2d464d\" data-root-id=\"3730\"></div>\n",
       "</div>\n",
       "<script type=\"application/javascript\">(function(root) {\n",
       "  function embed_document(root) {\n",
       "    var docs_json = {\"9d20e7fc-0e0a-422f-8d16-4b3337d070bb\":{\"defs\":[{\"extends\":null,\"module\":null,\"name\":\"ReactiveHTML1\",\"overrides\":[],\"properties\":[]},{\"extends\":null,\"module\":null,\"name\":\"FlexBox1\",\"overrides\":[],\"properties\":[{\"default\":\"flex-start\",\"kind\":null,\"name\":\"align_content\"},{\"default\":\"flex-start\",\"kind\":null,\"name\":\"align_items\"},{\"default\":\"row\",\"kind\":null,\"name\":\"flex_direction\"},{\"default\":\"wrap\",\"kind\":null,\"name\":\"flex_wrap\"},{\"default\":\"flex-start\",\"kind\":null,\"name\":\"justify_content\"}]},{\"extends\":null,\"module\":null,\"name\":\"TemplateActions1\",\"overrides\":[],\"properties\":[{\"default\":0,\"kind\":null,\"name\":\"open_modal\"},{\"default\":0,\"kind\":null,\"name\":\"close_modal\"}]},{\"extends\":null,\"module\":null,\"name\":\"MaterialTemplateActions1\",\"overrides\":[],\"properties\":[{\"default\":0,\"kind\":null,\"name\":\"open_modal\"},{\"default\":0,\"kind\":null,\"name\":\"close_modal\"}]}],\"roots\":{\"references\":[{\"attributes\":{\"axis\":{\"id\":\"3746\"},\"coordinates\":null,\"dimension\":1,\"grid_line_color\":null,\"group\":null,\"ticker\":null},\"id\":\"3749\",\"type\":\"Grid\"},{\"attributes\":{\"coordinates\":null,\"group\":null,\"text\":\"Correlation between BTC vs SP500 and NASDAQ \\nduring Normal Market\",\"text_color\":\"black\",\"text_font_size\":\"12pt\"},\"id\":\"3782\",\"type\":\"Title\"},{\"attributes\":{\"client_comm_id\":\"992d9df4603540208e125b5889b08990\",\"comm_id\":\"89986502f8794fcf8677d12e74626650\",\"plot_id\":\"3730\"},\"id\":\"4151\",\"type\":\"panel.models.comm_manager.CommManager\"},{\"attributes\":{\"fill_alpha\":{\"value\":0.1},\"fill_color\":{\"value\":\"#30a2da\"},\"hatch_alpha\":{\"value\":0.1},\"hatch_color\":{\"value\":\"#30a2da\"},\"line_alpha\":{\"value\":0.1},\"top\":{\"field\":\"selloff\"},\"width\":{\"value\":0.8},\"x\":{\"field\":\"index\"}},\"id\":\"3767\",\"type\":\"VBar\"},{\"attributes\":{\"axis\":{\"id\":\"3793\"},\"coordinates\":null,\"dimension\":1,\"grid_line_color\":null,\"group\":null,\"ticker\":null},\"id\":\"3796\",\"type\":\"Grid\"},{\"attributes\":{\"source\":{\"id\":\"3763\"}},\"id\":\"3770\",\"type\":\"CDSView\"},{\"attributes\":{\"factors\":[\"BTC vs SP500\",\"BTC vs NASDAQ\",\"SP500 vs NASDAQ\"],\"tags\":[[[\"index\",\"index\",null]]]},\"id\":\"3731\",\"type\":\"FactorRange\"},{\"attributes\":{},\"id\":\"3788\",\"type\":\"LinearScale\"},{\"attributes\":{},\"id\":\"3750\",\"type\":\"SaveTool\"},{\"attributes\":{\"axis_label\":\"\",\"coordinates\":null,\"formatter\":{\"id\":\"3820\"},\"group\":null,\"major_label_policy\":{\"id\":\"3821\"},\"ticker\":{\"id\":\"3791\"}},\"id\":\"3790\",\"type\":\"CategoricalAxis\"},{\"attributes\":{},\"id\":\"3791\",\"type\":\"CategoricalTicker\"},{\"attributes\":{},\"id\":\"3751\",\"type\":\"PanTool\"},{\"attributes\":{},\"id\":\"3764\",\"type\":\"Selection\"},{\"attributes\":{\"axis\":{\"id\":\"3790\"},\"coordinates\":null,\"grid_line_color\":null,\"group\":null,\"ticker\":null},\"id\":\"3792\",\"type\":\"Grid\"},{\"attributes\":{},\"id\":\"3752\",\"type\":\"WheelZoomTool\"},{\"attributes\":{\"tools\":[{\"id\":\"3733\"},{\"id\":\"3750\"},{\"id\":\"3751\"},{\"id\":\"3752\"},{\"id\":\"3753\"},{\"id\":\"3754\"}]},\"id\":\"3756\",\"type\":\"Toolbar\"},{\"attributes\":{},\"id\":\"3794\",\"type\":\"BasicTicker\"},{\"attributes\":{\"overlay\":{\"id\":\"3755\"}},\"id\":\"3753\",\"type\":\"BoxZoomTool\"},{\"attributes\":{\"axis_label\":\"\",\"coordinates\":null,\"formatter\":{\"id\":\"3823\"},\"group\":null,\"major_label_policy\":{\"id\":\"3824\"},\"ticker\":{\"id\":\"3794\"}},\"id\":\"3793\",\"type\":\"LinearAxis\"},{\"attributes\":{\"below\":[{\"id\":\"3743\"}],\"center\":[{\"id\":\"3745\"},{\"id\":\"3749\"}],\"height\":300,\"left\":[{\"id\":\"3746\"}],\"margin\":null,\"min_border_bottom\":10,\"min_border_left\":10,\"min_border_right\":10,\"min_border_top\":10,\"renderers\":[{\"id\":\"3769\"}],\"sizing_mode\":\"fixed\",\"title\":{\"id\":\"3735\"},\"toolbar\":{\"id\":\"3756\"},\"toolbar_location\":null,\"width\":500,\"x_range\":{\"id\":\"3731\"},\"x_scale\":{\"id\":\"3739\"},\"y_range\":{\"id\":\"3732\"},\"y_scale\":{\"id\":\"3741\"}},\"id\":\"3734\",\"subtype\":\"Figure\",\"type\":\"Plot\"},{\"attributes\":{\"data\":{\"index\":[\"BTC vs SP500\",\"BTC vs NASDAQ\",\"SP500 vs NASDAQ\"],\"selloff\":{\"__ndarray__\":\"CLJni87X4D+QL9zCNWPfPz3OqusU2e0/\",\"dtype\":\"float64\",\"order\":\"little\",\"shape\":[3]}},\"selected\":{\"id\":\"3764\"},\"selection_policy\":{\"id\":\"3832\"}},\"id\":\"3763\",\"type\":\"ColumnDataSource\"},{\"attributes\":{\"source\":{\"id\":\"3810\"}},\"id\":\"3817\",\"type\":\"CDSView\"},{\"attributes\":{},\"id\":\"3754\",\"type\":\"ResetTool\"},{\"attributes\":{},\"id\":\"3747\",\"type\":\"BasicTicker\"},{\"attributes\":{\"children\":[{\"id\":\"3849\"},{\"id\":\"3847\"}]},\"id\":\"3850\",\"type\":\"Column\"},{\"attributes\":{\"bottom_units\":\"screen\",\"coordinates\":null,\"fill_alpha\":0.5,\"fill_color\":\"lightgrey\",\"group\":null,\"left_units\":\"screen\",\"level\":\"overlay\",\"line_alpha\":1.0,\"line_color\":\"black\",\"line_dash\":[4,4],\"line_width\":2,\"right_units\":\"screen\",\"syncable\":false,\"top_units\":\"screen\"},\"id\":\"3755\",\"type\":\"BoxAnnotation\"},{\"attributes\":{\"fill_alpha\":{\"value\":0.2},\"fill_color\":{\"value\":\"#30a2da\"},\"hatch_alpha\":{\"value\":0.2},\"hatch_color\":{\"value\":\"#30a2da\"},\"line_alpha\":{\"value\":0.2},\"top\":{\"field\":\"selloff\"},\"width\":{\"value\":0.8},\"x\":{\"field\":\"index\"}},\"id\":\"3768\",\"type\":\"VBar\"},{\"attributes\":{},\"id\":\"3776\",\"type\":\"BasicTickFormatter\"},{\"attributes\":{},\"id\":\"3773\",\"type\":\"CategoricalTickFormatter\"},{\"attributes\":{},\"id\":\"3823\",\"type\":\"BasicTickFormatter\"},{\"attributes\":{},\"id\":\"3797\",\"type\":\"SaveTool\"},{\"attributes\":{\"callback\":null,\"renderers\":[{\"id\":\"3769\"}],\"tags\":[\"hv_created\"],\"tooltips\":[[\"index\",\"@{index}\"],[\"selloff\",\"@{selloff}\"]]},\"id\":\"3733\",\"type\":\"HoverTool\"},{\"attributes\":{},\"id\":\"3798\",\"type\":\"PanTool\"},{\"attributes\":{},\"id\":\"3799\",\"type\":\"WheelZoomTool\"},{\"attributes\":{\"fill_alpha\":{\"value\":0.1},\"fill_color\":{\"value\":\"#30a2da\"},\"hatch_alpha\":{\"value\":0.1},\"hatch_color\":{\"value\":\"#30a2da\"},\"line_alpha\":{\"value\":0.1},\"top\":{\"field\":\"normal\"},\"width\":{\"value\":0.8},\"x\":{\"field\":\"index\"}},\"id\":\"3814\",\"type\":\"VBar\"},{\"attributes\":{},\"id\":\"3824\",\"type\":\"AllLabels\"},{\"attributes\":{\"tools\":[{\"id\":\"3780\"},{\"id\":\"3797\"},{\"id\":\"3798\"},{\"id\":\"3799\"},{\"id\":\"3800\"},{\"id\":\"3801\"}]},\"id\":\"3803\",\"type\":\"Toolbar\"},{\"attributes\":{\"overlay\":{\"id\":\"3802\"}},\"id\":\"3800\",\"type\":\"BoxZoomTool\"},{\"attributes\":{\"bottom\":{\"value\":0},\"fill_alpha\":{\"value\":1.0},\"fill_color\":{\"value\":\"#30a2da\"},\"hatch_alpha\":{\"value\":1.0},\"hatch_color\":{\"value\":\"#30a2da\"},\"hatch_scale\":{\"value\":12.0},\"hatch_weight\":{\"value\":1.0},\"line_alpha\":{\"value\":1.0},\"line_cap\":{\"value\":\"butt\"},\"line_color\":{\"value\":\"black\"},\"line_dash\":{\"value\":[]},\"line_dash_offset\":{\"value\":0},\"line_join\":{\"value\":\"bevel\"},\"line_width\":{\"value\":1},\"top\":{\"field\":\"selloff\"},\"width\":{\"value\":0.8},\"x\":{\"field\":\"index\"}},\"id\":\"3771\",\"type\":\"VBar\"},{\"attributes\":{\"fill_color\":{\"value\":\"#30a2da\"},\"hatch_color\":{\"value\":\"#30a2da\"},\"top\":{\"field\":\"normal\"},\"width\":{\"value\":0.8},\"x\":{\"field\":\"index\"}},\"id\":\"3813\",\"type\":\"VBar\"},{\"attributes\":{},\"id\":\"3801\",\"type\":\"ResetTool\"},{\"attributes\":{\"coordinates\":null,\"data_source\":{\"id\":\"3763\"},\"glyph\":{\"id\":\"3766\"},\"group\":null,\"hover_glyph\":null,\"muted_glyph\":{\"id\":\"3768\"},\"nonselection_glyph\":{\"id\":\"3767\"},\"selection_glyph\":{\"id\":\"3771\"},\"view\":{\"id\":\"3770\"}},\"id\":\"3769\",\"type\":\"GlyphRenderer\"},{\"attributes\":{\"children\":[{\"id\":\"3850\"}],\"margin\":[0,0,0,0],\"name\":\"Column03519\"},\"id\":\"3730\",\"type\":\"Column\"},{\"attributes\":{\"bottom_units\":\"screen\",\"coordinates\":null,\"fill_alpha\":0.5,\"fill_color\":\"lightgrey\",\"group\":null,\"left_units\":\"screen\",\"level\":\"overlay\",\"line_alpha\":1.0,\"line_color\":\"black\",\"line_dash\":[4,4],\"line_width\":2,\"right_units\":\"screen\",\"syncable\":false,\"top_units\":\"screen\"},\"id\":\"3802\",\"type\":\"BoxAnnotation\"},{\"attributes\":{},\"id\":\"3821\",\"type\":\"AllLabels\"},{\"attributes\":{},\"id\":\"3811\",\"type\":\"Selection\"},{\"attributes\":{},\"id\":\"3741\",\"type\":\"LinearScale\"},{\"attributes\":{\"bottom\":{\"value\":0},\"fill_alpha\":{\"value\":1.0},\"fill_color\":{\"value\":\"#30a2da\"},\"hatch_alpha\":{\"value\":1.0},\"hatch_color\":{\"value\":\"#30a2da\"},\"hatch_scale\":{\"value\":12.0},\"hatch_weight\":{\"value\":1.0},\"line_alpha\":{\"value\":1.0},\"line_cap\":{\"value\":\"butt\"},\"line_color\":{\"value\":\"black\"},\"line_dash\":{\"value\":[]},\"line_dash_offset\":{\"value\":0},\"line_join\":{\"value\":\"bevel\"},\"line_width\":{\"value\":1},\"top\":{\"field\":\"normal\"},\"width\":{\"value\":0.8},\"x\":{\"field\":\"index\"}},\"id\":\"3818\",\"type\":\"VBar\"},{\"attributes\":{\"coordinates\":null,\"data_source\":{\"id\":\"3810\"},\"glyph\":{\"id\":\"3813\"},\"group\":null,\"hover_glyph\":null,\"muted_glyph\":{\"id\":\"3815\"},\"nonselection_glyph\":{\"id\":\"3814\"},\"selection_glyph\":{\"id\":\"3818\"},\"view\":{\"id\":\"3817\"}},\"id\":\"3816\",\"type\":\"GlyphRenderer\"},{\"attributes\":{\"end\":0.9769811270589481,\"reset_end\":0.9769811270589481,\"reset_start\":0.0,\"tags\":[[[\"selloff\",\"selloff\",null]]]},\"id\":\"3732\",\"type\":\"Range1d\"},{\"attributes\":{},\"id\":\"3843\",\"type\":\"UnionRenderers\"},{\"attributes\":{\"data\":{\"index\":[\"BTC vs SP500\",\"BTC vs NASDAQ\",\"SP500 vs NASDAQ\"],\"normal\":{\"__ndarray__\":\"HJWx3SB/tj/26HuJKm6+P/JptUZXKO0/\",\"dtype\":\"float64\",\"order\":\"little\",\"shape\":[3]}},\"selected\":{\"id\":\"3811\"},\"selection_policy\":{\"id\":\"3843\"}},\"id\":\"3810\",\"type\":\"ColumnDataSource\"},{\"attributes\":{\"coordinates\":null,\"group\":null,\"text\":\"Correlation between BTC vs SP500 and NASDAQ \\nduring Sell Off Market\",\"text_color\":\"black\",\"text_font_size\":\"12pt\"},\"id\":\"3735\",\"type\":\"Title\"},{\"attributes\":{},\"id\":\"3774\",\"type\":\"AllLabels\"},{\"attributes\":{},\"id\":\"3820\",\"type\":\"CategoricalTickFormatter\"},{\"attributes\":{\"children\":[[{\"id\":\"3734\"},0,0],[{\"id\":\"3781\"},0,1]]},\"id\":\"3847\",\"type\":\"GridBox\"},{\"attributes\":{},\"id\":\"3832\",\"type\":\"UnionRenderers\"},{\"attributes\":{\"below\":[{\"id\":\"3790\"}],\"center\":[{\"id\":\"3792\"},{\"id\":\"3796\"}],\"height\":300,\"left\":[{\"id\":\"3793\"}],\"margin\":null,\"min_border_bottom\":10,\"min_border_left\":10,\"min_border_right\":10,\"min_border_top\":10,\"renderers\":[{\"id\":\"3816\"}],\"sizing_mode\":\"fixed\",\"title\":{\"id\":\"3782\"},\"toolbar\":{\"id\":\"3803\"},\"toolbar_location\":null,\"width\":500,\"x_range\":{\"id\":\"3731\"},\"x_scale\":{\"id\":\"3786\"},\"y_range\":{\"id\":\"3779\"},\"y_scale\":{\"id\":\"3788\"}},\"id\":\"3781\",\"subtype\":\"Figure\",\"type\":\"Plot\"},{\"attributes\":{\"fill_color\":{\"value\":\"#30a2da\"},\"hatch_color\":{\"value\":\"#30a2da\"},\"top\":{\"field\":\"selloff\"},\"width\":{\"value\":0.8},\"x\":{\"field\":\"index\"}},\"id\":\"3766\",\"type\":\"VBar\"},{\"attributes\":{\"toolbar\":{\"id\":\"3848\"},\"toolbar_location\":\"above\"},\"id\":\"3849\",\"type\":\"ToolbarBox\"},{\"attributes\":{\"fill_alpha\":{\"value\":0.2},\"fill_color\":{\"value\":\"#30a2da\"},\"hatch_alpha\":{\"value\":0.2},\"hatch_color\":{\"value\":\"#30a2da\"},\"line_alpha\":{\"value\":0.2},\"top\":{\"field\":\"normal\"},\"width\":{\"value\":0.8},\"x\":{\"field\":\"index\"}},\"id\":\"3815\",\"type\":\"VBar\"},{\"attributes\":{},\"id\":\"3777\",\"type\":\"AllLabels\"},{\"attributes\":{\"callback\":null,\"renderers\":[{\"id\":\"3816\"}],\"tags\":[\"hv_created\"],\"tooltips\":[[\"index\",\"@{index}\"],[\"normal\",\"@{normal}\"]]},\"id\":\"3780\",\"type\":\"HoverTool\"},{\"attributes\":{},\"id\":\"3739\",\"type\":\"CategoricalScale\"},{\"attributes\":{\"axis_label\":\"\",\"coordinates\":null,\"formatter\":{\"id\":\"3773\"},\"group\":null,\"major_label_policy\":{\"id\":\"3774\"},\"ticker\":{\"id\":\"3744\"}},\"id\":\"3743\",\"type\":\"CategoricalAxis\"},{\"attributes\":{\"end\":0.9935041394240067,\"reset_end\":0.9935041394240067,\"reset_start\":0.0,\"tags\":[[[\"normal\",\"normal\",null]]]},\"id\":\"3779\",\"type\":\"Range1d\"},{\"attributes\":{},\"id\":\"3744\",\"type\":\"CategoricalTicker\"},{\"attributes\":{},\"id\":\"3786\",\"type\":\"CategoricalScale\"},{\"attributes\":{\"axis\":{\"id\":\"3743\"},\"coordinates\":null,\"grid_line_color\":null,\"group\":null,\"ticker\":null},\"id\":\"3745\",\"type\":\"Grid\"},{\"attributes\":{\"toolbars\":[{\"id\":\"3756\"},{\"id\":\"3803\"}],\"tools\":[{\"id\":\"3733\"},{\"id\":\"3750\"},{\"id\":\"3751\"},{\"id\":\"3752\"},{\"id\":\"3753\"},{\"id\":\"3754\"},{\"id\":\"3780\"},{\"id\":\"3797\"},{\"id\":\"3798\"},{\"id\":\"3799\"},{\"id\":\"3800\"},{\"id\":\"3801\"}]},\"id\":\"3848\",\"type\":\"ProxyToolbar\"},{\"attributes\":{\"axis_label\":\"\",\"coordinates\":null,\"formatter\":{\"id\":\"3776\"},\"group\":null,\"major_label_policy\":{\"id\":\"3777\"},\"ticker\":{\"id\":\"3747\"}},\"id\":\"3746\",\"type\":\"LinearAxis\"}],\"root_ids\":[\"3730\",\"4151\"]},\"title\":\"Bokeh Application\",\"version\":\"2.4.1\"}};\n",
       "    var render_items = [{\"docid\":\"9d20e7fc-0e0a-422f-8d16-4b3337d070bb\",\"root_ids\":[\"3730\"],\"roots\":{\"3730\":\"ae4abe2c-bfeb-4c48-9a50-366d0f2d464d\"}}];\n",
       "    root.Bokeh.embed.embed_items_notebook(docs_json, render_items);\n",
       "  }\n",
       "  if (root.Bokeh !== undefined && root.Bokeh.Panel !== undefined) {\n",
       "    embed_document(root);\n",
       "  } else {\n",
       "    var attempts = 0;\n",
       "    var timer = setInterval(function(root) {\n",
       "      if (root.Bokeh !== undefined && root.Bokeh.Panel !== undefined) {\n",
       "        clearInterval(timer);\n",
       "        embed_document(root);\n",
       "      } else if (document.readyState == \"complete\") {\n",
       "        attempts++;\n",
       "        if (attempts > 200) {\n",
       "          clearInterval(timer);\n",
       "          console.log(\"Bokeh: ERROR: Unable to run BokehJS code because BokehJS library is missing\");\n",
       "        }\n",
       "      }\n",
       "    }, 25, root)\n",
       "  }\n",
       "})(window);</script>"
      ],
      "text/plain": [
       "Column\n",
       "    [0] HoloViews(Layout)"
      ]
     },
     "execution_count": 63,
     "metadata": {
      "application/vnd.holoviews_exec.v0+json": {
       "id": "3730"
      }
     },
     "output_type": "execute_result"
    }
   ],
   "source": [
    "corr_chart = pn.Column(selloff_chart + normal_chart)\n",
    "corr_chart"
   ]
  },
  {
   "cell_type": "markdown",
   "id": "2d51b65b",
   "metadata": {},
   "source": [
    "# Return and Risk Analysis \n",
    "In this analysis we'd like to examine the risk and return profile of each asset and an equally weighted portfolios of BTC-SP500 and BTC-NASDAQ.\n",
    "The first section of the analysis, we examined the return and the max loss of the assets and portfolios.  We do this by looking at the recent 4 years of return data.  And we use sunburst chart to display the return vs. the max loss for all the assets and portfolios.\n",
    "The second section of the analysis, we used an alternative metric of Sharpe ratio to assess the return for every unit of risk of each assets and portfolios.  We used hvplot to display our results."
   ]
  },
  {
   "cell_type": "code",
   "execution_count": 64,
   "id": "dcf039db",
   "metadata": {},
   "outputs": [],
   "source": [
    "# Manipulate the time series data into data that can be used for sunburst chart\n",
    "\n",
    "# concatenate the BTC, SP, NASD returns with equally wgted portfolios\n",
    "all_assets = pd.concat([pct_change_df, combined_pct_change], axis=1)\n",
    "years = [2019, 2020, 2021, 2022]\n",
    "data_sunburst = pd.DataFrame()\n",
    "years_sunburst = pd.DataFrame()\n",
    "\n",
    "# Loop through the last 4 years\n",
    "for i in years:\n",
    "    \n",
    "    # Calculate the avg ret and min ret for each year\n",
    "    yearly_data = all_assets[all_assets.index.year == i]\n",
    "    yearly_avg = yearly_data.mean()\n",
    "    yearly_min = yearly_data.min()\n",
    "    year_df = pd.DataFrame([i] * len(all_assets.columns))   \n",
    "    data_avg_min = pd.concat([yearly_avg, yearly_min], axis=1)\n",
    "    data_sunburst = data_sunburst.append(data_avg_min)\n",
    "    \n",
    "    # Append each yearly data\n",
    "    years_sunburst = years_sunburst.append(year_df)\n",
    "    \n",
    "data_sunburst.columns = ['avgret', 'minret']\n",
    "data_sunburst['port'] = data_sunburst.index\n",
    "data_sunburst = data_sunburst.reset_index(drop=True)\n",
    "years_sunburst = years_sunburst.reset_index(drop=True) \n",
    "years_sunburst.columns=['year']\n",
    "data_sunburst = pd.concat([data_sunburst,years_sunburst], axis=1)"
   ]
  },
  {
   "cell_type": "code",
   "execution_count": 65,
   "id": "77550b90",
   "metadata": {},
   "outputs": [
    {
     "data": {
      "application/vnd.plotly.v1+json": {
       "config": {
        "plotlyServerURL": "https://plot.ly"
       },
       "data": [
        {
         "branchvalues": "total",
         "customdata": [
          [
           -0.14702574743953378,
           -0.14702574743953378
          ],
          [
           -0.37169538560117077,
           -0.37169538560117077
          ],
          [
           -0.13766122609163733,
           -0.13766122609163733
          ],
          [
           -0.10381165615712483,
           -0.10381165615712483
          ],
          [
           -0.13641903075491646,
           -0.13641903075491646
          ],
          [
           -0.4660421286959826,
           -0.4660421286959826
          ],
          [
           -0.1599362927645065,
           -0.1599362927645065
          ],
          [
           -0.13101944745095173,
           -0.13101944745095173
          ],
          [
           -0.1393534464073456,
           -0.1393534464073456
          ],
          [
           -0.46680806657950735,
           -0.46680806657950735
          ],
          [
           -0.15466685563310334,
           -0.15466685563310334
          ],
          [
           -0.12272647802503345,
           -0.12272647802503345
          ],
          [
           -0.03473605194134943,
           -0.03473605194134943
          ],
          [
           -0.12321331290147408,
           -0.12321331290147408
          ],
          [
           -0.03519202121238085,
           -0.03519202121238085
          ],
          [
           -0.03736623070394007,
           -0.03736623070394007
          ],
          [
           -0.029777820002985896,
           -0.029777820002985896
          ],
          [
           -0.11984055240393443,
           -0.11984055240393443
          ],
          [
           -0.025677883699462,
           -0.025677883699462
          ],
          [
           -0.029518158313449172,
           -0.029518158313449172
          ],
          [
           -0.12410509616233512,
           -0.12410509616233512
          ],
          [
           -0.4064809681664345,
           -0.4064809681664345
          ],
          [
           -0.13462937456720744,
           -0.13462937456720744
          ],
          [
           -0.09638695835683307,
           -0.09638695835683307
          ]
         ],
         "domain": {
          "x": [
           0,
           1
          ],
          "y": [
           0,
           1
          ]
         },
         "hovertemplate": "labels=%{label}<br>avgret=%{value}<br>parent=%{parent}<br>id=%{id}<br>minret=%{color}<extra></extra>",
         "ids": [
          "2019/BTC",
          "2020/BTC",
          "2021/BTC",
          "2022/BTC",
          "2019/BTC-NASDAQ",
          "2020/BTC-NASDAQ",
          "2021/BTC-NASDAQ",
          "2022/BTC-NASDAQ",
          "2019/BTC-SP500",
          "2020/BTC-SP500",
          "2021/BTC-SP500",
          "2022/BTC-SP500",
          "2019/NASDAQ",
          "2020/NASDAQ",
          "2021/NASDAQ",
          "2022/NASDAQ",
          "2019/SP500",
          "2020/SP500",
          "2021/SP500",
          "2022/SP500",
          "2019",
          "2020",
          "2021",
          "2022"
         ],
         "labels": [
          "BTC",
          "BTC",
          "BTC",
          "BTC",
          "BTC-NASDAQ",
          "BTC-NASDAQ",
          "BTC-NASDAQ",
          "BTC-NASDAQ",
          "BTC-SP500",
          "BTC-SP500",
          "BTC-SP500",
          "BTC-SP500",
          "NASDAQ",
          "NASDAQ",
          "NASDAQ",
          "NASDAQ",
          "SP500",
          "SP500",
          "SP500",
          "SP500",
          "2019",
          "2020",
          "2021",
          "2022"
         ],
         "marker": {
          "coloraxis": "coloraxis",
          "colors": [
           -0.14702574743953378,
           -0.37169538560117077,
           -0.13766122609163733,
           -0.10381165615712483,
           -0.13641903075491646,
           -0.4660421286959826,
           -0.1599362927645065,
           -0.13101944745095173,
           -0.1393534464073456,
           -0.46680806657950735,
           -0.15466685563310334,
           -0.12272647802503345,
           -0.03473605194134943,
           -0.12321331290147408,
           -0.03519202121238085,
           -0.03736623070394007,
           -0.029777820002985896,
           -0.11984055240393443,
           -0.025677883699462,
           -0.029518158313449172,
           -0.12410509616233512,
           -0.4064809681664345,
           -0.13462937456720744,
           -0.09638695835683307
          ]
         },
         "name": "",
         "parents": [
          "2019",
          "2020",
          "2021",
          "2022",
          "2019",
          "2020",
          "2021",
          "2022",
          "2019",
          "2020",
          "2021",
          "2022",
          "2019",
          "2020",
          "2021",
          "2022",
          "2019",
          "2020",
          "2021",
          "2022",
          "",
          "",
          "",
          ""
         ],
         "type": "sunburst",
         "values": [
          0.003529104144616806,
          0.006640323632724496,
          0.0030778277863814803,
          -0.0013408681036107416,
          0.004775898651530864,
          0.008324579190616578,
          0.003911501069486135,
          -0.0033574167610480074,
          0.004567151269203426,
          0.007472490330944973,
          0.004057349526694966,
          -0.0023902549198867662,
          0.0012467945069140542,
          0.0016842555578920814,
          0.0008336732831046542,
          -0.002016548657437266,
          0.0010380471245866197,
          0.0008321666982204781,
          0.0009795217403134877,
          -0.0010493868162760244,
          0.01515699569685177,
          0.024953815410398608,
          0.012859873405980724,
          -0.010154475258258806
         ]
        }
       ],
       "layout": {
        "coloraxis": {
         "colorbar": {
          "title": {
           "text": "minret"
          }
         },
         "colorscale": [
          [
           0,
           "rgb(103,0,31)"
          ],
          [
           0.1,
           "rgb(178,24,43)"
          ],
          [
           0.2,
           "rgb(214,96,77)"
          ],
          [
           0.3,
           "rgb(244,165,130)"
          ],
          [
           0.4,
           "rgb(253,219,199)"
          ],
          [
           0.5,
           "rgb(247,247,247)"
          ],
          [
           0.6,
           "rgb(209,229,240)"
          ],
          [
           0.7,
           "rgb(146,197,222)"
          ],
          [
           0.8,
           "rgb(67,147,195)"
          ],
          [
           0.9,
           "rgb(33,102,172)"
          ],
          [
           1,
           "rgb(5,48,97)"
          ]
         ]
        },
        "legend": {
         "tracegroupgap": 0
        },
        "margin": {
         "t": 60
        },
        "template": {
         "data": {
          "bar": [
           {
            "error_x": {
             "color": "#2a3f5f"
            },
            "error_y": {
             "color": "#2a3f5f"
            },
            "marker": {
             "line": {
              "color": "#E5ECF6",
              "width": 0.5
             },
             "pattern": {
              "fillmode": "overlay",
              "size": 10,
              "solidity": 0.2
             }
            },
            "type": "bar"
           }
          ],
          "barpolar": [
           {
            "marker": {
             "line": {
              "color": "#E5ECF6",
              "width": 0.5
             },
             "pattern": {
              "fillmode": "overlay",
              "size": 10,
              "solidity": 0.2
             }
            },
            "type": "barpolar"
           }
          ],
          "carpet": [
           {
            "aaxis": {
             "endlinecolor": "#2a3f5f",
             "gridcolor": "white",
             "linecolor": "white",
             "minorgridcolor": "white",
             "startlinecolor": "#2a3f5f"
            },
            "baxis": {
             "endlinecolor": "#2a3f5f",
             "gridcolor": "white",
             "linecolor": "white",
             "minorgridcolor": "white",
             "startlinecolor": "#2a3f5f"
            },
            "type": "carpet"
           }
          ],
          "choropleth": [
           {
            "colorbar": {
             "outlinewidth": 0,
             "ticks": ""
            },
            "type": "choropleth"
           }
          ],
          "contour": [
           {
            "colorbar": {
             "outlinewidth": 0,
             "ticks": ""
            },
            "colorscale": [
             [
              0,
              "#0d0887"
             ],
             [
              0.1111111111111111,
              "#46039f"
             ],
             [
              0.2222222222222222,
              "#7201a8"
             ],
             [
              0.3333333333333333,
              "#9c179e"
             ],
             [
              0.4444444444444444,
              "#bd3786"
             ],
             [
              0.5555555555555556,
              "#d8576b"
             ],
             [
              0.6666666666666666,
              "#ed7953"
             ],
             [
              0.7777777777777778,
              "#fb9f3a"
             ],
             [
              0.8888888888888888,
              "#fdca26"
             ],
             [
              1,
              "#f0f921"
             ]
            ],
            "type": "contour"
           }
          ],
          "contourcarpet": [
           {
            "colorbar": {
             "outlinewidth": 0,
             "ticks": ""
            },
            "type": "contourcarpet"
           }
          ],
          "heatmap": [
           {
            "colorbar": {
             "outlinewidth": 0,
             "ticks": ""
            },
            "colorscale": [
             [
              0,
              "#0d0887"
             ],
             [
              0.1111111111111111,
              "#46039f"
             ],
             [
              0.2222222222222222,
              "#7201a8"
             ],
             [
              0.3333333333333333,
              "#9c179e"
             ],
             [
              0.4444444444444444,
              "#bd3786"
             ],
             [
              0.5555555555555556,
              "#d8576b"
             ],
             [
              0.6666666666666666,
              "#ed7953"
             ],
             [
              0.7777777777777778,
              "#fb9f3a"
             ],
             [
              0.8888888888888888,
              "#fdca26"
             ],
             [
              1,
              "#f0f921"
             ]
            ],
            "type": "heatmap"
           }
          ],
          "heatmapgl": [
           {
            "colorbar": {
             "outlinewidth": 0,
             "ticks": ""
            },
            "colorscale": [
             [
              0,
              "#0d0887"
             ],
             [
              0.1111111111111111,
              "#46039f"
             ],
             [
              0.2222222222222222,
              "#7201a8"
             ],
             [
              0.3333333333333333,
              "#9c179e"
             ],
             [
              0.4444444444444444,
              "#bd3786"
             ],
             [
              0.5555555555555556,
              "#d8576b"
             ],
             [
              0.6666666666666666,
              "#ed7953"
             ],
             [
              0.7777777777777778,
              "#fb9f3a"
             ],
             [
              0.8888888888888888,
              "#fdca26"
             ],
             [
              1,
              "#f0f921"
             ]
            ],
            "type": "heatmapgl"
           }
          ],
          "histogram": [
           {
            "marker": {
             "pattern": {
              "fillmode": "overlay",
              "size": 10,
              "solidity": 0.2
             }
            },
            "type": "histogram"
           }
          ],
          "histogram2d": [
           {
            "colorbar": {
             "outlinewidth": 0,
             "ticks": ""
            },
            "colorscale": [
             [
              0,
              "#0d0887"
             ],
             [
              0.1111111111111111,
              "#46039f"
             ],
             [
              0.2222222222222222,
              "#7201a8"
             ],
             [
              0.3333333333333333,
              "#9c179e"
             ],
             [
              0.4444444444444444,
              "#bd3786"
             ],
             [
              0.5555555555555556,
              "#d8576b"
             ],
             [
              0.6666666666666666,
              "#ed7953"
             ],
             [
              0.7777777777777778,
              "#fb9f3a"
             ],
             [
              0.8888888888888888,
              "#fdca26"
             ],
             [
              1,
              "#f0f921"
             ]
            ],
            "type": "histogram2d"
           }
          ],
          "histogram2dcontour": [
           {
            "colorbar": {
             "outlinewidth": 0,
             "ticks": ""
            },
            "colorscale": [
             [
              0,
              "#0d0887"
             ],
             [
              0.1111111111111111,
              "#46039f"
             ],
             [
              0.2222222222222222,
              "#7201a8"
             ],
             [
              0.3333333333333333,
              "#9c179e"
             ],
             [
              0.4444444444444444,
              "#bd3786"
             ],
             [
              0.5555555555555556,
              "#d8576b"
             ],
             [
              0.6666666666666666,
              "#ed7953"
             ],
             [
              0.7777777777777778,
              "#fb9f3a"
             ],
             [
              0.8888888888888888,
              "#fdca26"
             ],
             [
              1,
              "#f0f921"
             ]
            ],
            "type": "histogram2dcontour"
           }
          ],
          "mesh3d": [
           {
            "colorbar": {
             "outlinewidth": 0,
             "ticks": ""
            },
            "type": "mesh3d"
           }
          ],
          "parcoords": [
           {
            "line": {
             "colorbar": {
              "outlinewidth": 0,
              "ticks": ""
             }
            },
            "type": "parcoords"
           }
          ],
          "pie": [
           {
            "automargin": true,
            "type": "pie"
           }
          ],
          "scatter": [
           {
            "marker": {
             "colorbar": {
              "outlinewidth": 0,
              "ticks": ""
             }
            },
            "type": "scatter"
           }
          ],
          "scatter3d": [
           {
            "line": {
             "colorbar": {
              "outlinewidth": 0,
              "ticks": ""
             }
            },
            "marker": {
             "colorbar": {
              "outlinewidth": 0,
              "ticks": ""
             }
            },
            "type": "scatter3d"
           }
          ],
          "scattercarpet": [
           {
            "marker": {
             "colorbar": {
              "outlinewidth": 0,
              "ticks": ""
             }
            },
            "type": "scattercarpet"
           }
          ],
          "scattergeo": [
           {
            "marker": {
             "colorbar": {
              "outlinewidth": 0,
              "ticks": ""
             }
            },
            "type": "scattergeo"
           }
          ],
          "scattergl": [
           {
            "marker": {
             "colorbar": {
              "outlinewidth": 0,
              "ticks": ""
             }
            },
            "type": "scattergl"
           }
          ],
          "scattermapbox": [
           {
            "marker": {
             "colorbar": {
              "outlinewidth": 0,
              "ticks": ""
             }
            },
            "type": "scattermapbox"
           }
          ],
          "scatterpolar": [
           {
            "marker": {
             "colorbar": {
              "outlinewidth": 0,
              "ticks": ""
             }
            },
            "type": "scatterpolar"
           }
          ],
          "scatterpolargl": [
           {
            "marker": {
             "colorbar": {
              "outlinewidth": 0,
              "ticks": ""
             }
            },
            "type": "scatterpolargl"
           }
          ],
          "scatterternary": [
           {
            "marker": {
             "colorbar": {
              "outlinewidth": 0,
              "ticks": ""
             }
            },
            "type": "scatterternary"
           }
          ],
          "surface": [
           {
            "colorbar": {
             "outlinewidth": 0,
             "ticks": ""
            },
            "colorscale": [
             [
              0,
              "#0d0887"
             ],
             [
              0.1111111111111111,
              "#46039f"
             ],
             [
              0.2222222222222222,
              "#7201a8"
             ],
             [
              0.3333333333333333,
              "#9c179e"
             ],
             [
              0.4444444444444444,
              "#bd3786"
             ],
             [
              0.5555555555555556,
              "#d8576b"
             ],
             [
              0.6666666666666666,
              "#ed7953"
             ],
             [
              0.7777777777777778,
              "#fb9f3a"
             ],
             [
              0.8888888888888888,
              "#fdca26"
             ],
             [
              1,
              "#f0f921"
             ]
            ],
            "type": "surface"
           }
          ],
          "table": [
           {
            "cells": {
             "fill": {
              "color": "#EBF0F8"
             },
             "line": {
              "color": "white"
             }
            },
            "header": {
             "fill": {
              "color": "#C8D4E3"
             },
             "line": {
              "color": "white"
             }
            },
            "type": "table"
           }
          ]
         },
         "layout": {
          "annotationdefaults": {
           "arrowcolor": "#2a3f5f",
           "arrowhead": 0,
           "arrowwidth": 1
          },
          "autotypenumbers": "strict",
          "coloraxis": {
           "colorbar": {
            "outlinewidth": 0,
            "ticks": ""
           }
          },
          "colorscale": {
           "diverging": [
            [
             0,
             "#8e0152"
            ],
            [
             0.1,
             "#c51b7d"
            ],
            [
             0.2,
             "#de77ae"
            ],
            [
             0.3,
             "#f1b6da"
            ],
            [
             0.4,
             "#fde0ef"
            ],
            [
             0.5,
             "#f7f7f7"
            ],
            [
             0.6,
             "#e6f5d0"
            ],
            [
             0.7,
             "#b8e186"
            ],
            [
             0.8,
             "#7fbc41"
            ],
            [
             0.9,
             "#4d9221"
            ],
            [
             1,
             "#276419"
            ]
           ],
           "sequential": [
            [
             0,
             "#0d0887"
            ],
            [
             0.1111111111111111,
             "#46039f"
            ],
            [
             0.2222222222222222,
             "#7201a8"
            ],
            [
             0.3333333333333333,
             "#9c179e"
            ],
            [
             0.4444444444444444,
             "#bd3786"
            ],
            [
             0.5555555555555556,
             "#d8576b"
            ],
            [
             0.6666666666666666,
             "#ed7953"
            ],
            [
             0.7777777777777778,
             "#fb9f3a"
            ],
            [
             0.8888888888888888,
             "#fdca26"
            ],
            [
             1,
             "#f0f921"
            ]
           ],
           "sequentialminus": [
            [
             0,
             "#0d0887"
            ],
            [
             0.1111111111111111,
             "#46039f"
            ],
            [
             0.2222222222222222,
             "#7201a8"
            ],
            [
             0.3333333333333333,
             "#9c179e"
            ],
            [
             0.4444444444444444,
             "#bd3786"
            ],
            [
             0.5555555555555556,
             "#d8576b"
            ],
            [
             0.6666666666666666,
             "#ed7953"
            ],
            [
             0.7777777777777778,
             "#fb9f3a"
            ],
            [
             0.8888888888888888,
             "#fdca26"
            ],
            [
             1,
             "#f0f921"
            ]
           ]
          },
          "colorway": [
           "#636efa",
           "#EF553B",
           "#00cc96",
           "#ab63fa",
           "#FFA15A",
           "#19d3f3",
           "#FF6692",
           "#B6E880",
           "#FF97FF",
           "#FECB52"
          ],
          "font": {
           "color": "#2a3f5f"
          },
          "geo": {
           "bgcolor": "white",
           "lakecolor": "white",
           "landcolor": "#E5ECF6",
           "showlakes": true,
           "showland": true,
           "subunitcolor": "white"
          },
          "hoverlabel": {
           "align": "left"
          },
          "hovermode": "closest",
          "mapbox": {
           "style": "light"
          },
          "paper_bgcolor": "white",
          "plot_bgcolor": "#E5ECF6",
          "polar": {
           "angularaxis": {
            "gridcolor": "white",
            "linecolor": "white",
            "ticks": ""
           },
           "bgcolor": "#E5ECF6",
           "radialaxis": {
            "gridcolor": "white",
            "linecolor": "white",
            "ticks": ""
           }
          },
          "scene": {
           "xaxis": {
            "backgroundcolor": "#E5ECF6",
            "gridcolor": "white",
            "gridwidth": 2,
            "linecolor": "white",
            "showbackground": true,
            "ticks": "",
            "zerolinecolor": "white"
           },
           "yaxis": {
            "backgroundcolor": "#E5ECF6",
            "gridcolor": "white",
            "gridwidth": 2,
            "linecolor": "white",
            "showbackground": true,
            "ticks": "",
            "zerolinecolor": "white"
           },
           "zaxis": {
            "backgroundcolor": "#E5ECF6",
            "gridcolor": "white",
            "gridwidth": 2,
            "linecolor": "white",
            "showbackground": true,
            "ticks": "",
            "zerolinecolor": "white"
           }
          },
          "shapedefaults": {
           "line": {
            "color": "#2a3f5f"
           }
          },
          "ternary": {
           "aaxis": {
            "gridcolor": "white",
            "linecolor": "white",
            "ticks": ""
           },
           "baxis": {
            "gridcolor": "white",
            "linecolor": "white",
            "ticks": ""
           },
           "bgcolor": "#E5ECF6",
           "caxis": {
            "gridcolor": "white",
            "linecolor": "white",
            "ticks": ""
           }
          },
          "title": {
           "x": 0.05
          },
          "xaxis": {
           "automargin": true,
           "gridcolor": "white",
           "linecolor": "white",
           "ticks": "",
           "title": {
            "standoff": 15
           },
           "zerolinecolor": "white",
           "zerolinewidth": 2
          },
          "yaxis": {
           "automargin": true,
           "gridcolor": "white",
           "linecolor": "white",
           "ticks": "",
           "title": {
            "standoff": 15
           },
           "zerolinecolor": "white",
           "zerolinewidth": 2
          }
         }
        }
       }
      }
     },
     "metadata": {},
     "output_type": "display_data"
    }
   ],
   "source": [
    "# Create sunburst chart\n",
    "retmxloss_chart = px.sunburst(\n",
    "    data_sunburst, \n",
    "    path=['year', 'port'], \n",
    "    values='avgret',\n",
    "    color='minret', \n",
    "    color_continuous_scale='RdBu',\n",
    "    hover_data=['minret'],\n",
    ")\n",
    "\n",
    "retmxloss_chart.show()"
   ]
  },
  {
   "cell_type": "markdown",
   "id": "cc025f2f",
   "metadata": {},
   "source": [
    "### Sharpe results\n",
    "Sharpe for BTC and the equally weighted outperformed both SP500 and NASDAQ.\n",
    "Dispite high volatility of BTC and the portfolios, their return compensated for every unit of risk superior to SP500 and NASDAQ"
   ]
  },
  {
   "cell_type": "code",
   "execution_count": 66,
   "id": "5949e57e",
   "metadata": {},
   "outputs": [],
   "source": [
    "# annualized return, risk and sharpe for individual assets for whole history\n",
    "all_pct_change = pd.concat([pct_change_df, combined_pct_change], axis=1)\n",
    "ann_ret = all_pct_change.mean() * 252\n",
    "ann_std = all_pct_change.std() * np.sqrt(252)\n",
    "ann_sharpe = ann_ret / ann_std"
   ]
  },
  {
   "cell_type": "code",
   "execution_count": 67,
   "id": "44f1af53",
   "metadata": {},
   "outputs": [
    {
     "data": {},
     "metadata": {},
     "output_type": "display_data"
    },
    {
     "data": {
      "application/vnd.holoviews_exec.v0+json": "",
      "text/html": [
       "<div id='4252'>\n",
       "\n",
       "\n",
       "\n",
       "\n",
       "\n",
       "  <div class=\"bk-root\" id=\"dc075b6a-47d5-491e-ae83-73efa9b90280\" data-root-id=\"4252\"></div>\n",
       "</div>\n",
       "<script type=\"application/javascript\">(function(root) {\n",
       "  function embed_document(root) {\n",
       "    var docs_json = {\"699b121b-240e-4d16-ba45-3fa3f2f6d7d0\":{\"defs\":[{\"extends\":null,\"module\":null,\"name\":\"ReactiveHTML1\",\"overrides\":[],\"properties\":[]},{\"extends\":null,\"module\":null,\"name\":\"FlexBox1\",\"overrides\":[],\"properties\":[{\"default\":\"flex-start\",\"kind\":null,\"name\":\"align_content\"},{\"default\":\"flex-start\",\"kind\":null,\"name\":\"align_items\"},{\"default\":\"row\",\"kind\":null,\"name\":\"flex_direction\"},{\"default\":\"wrap\",\"kind\":null,\"name\":\"flex_wrap\"},{\"default\":\"flex-start\",\"kind\":null,\"name\":\"justify_content\"}]},{\"extends\":null,\"module\":null,\"name\":\"TemplateActions1\",\"overrides\":[],\"properties\":[{\"default\":0,\"kind\":null,\"name\":\"open_modal\"},{\"default\":0,\"kind\":null,\"name\":\"close_modal\"}]},{\"extends\":null,\"module\":null,\"name\":\"MaterialTemplateActions1\",\"overrides\":[],\"properties\":[{\"default\":0,\"kind\":null,\"name\":\"open_modal\"},{\"default\":0,\"kind\":null,\"name\":\"close_modal\"}]}],\"roots\":{\"references\":[{\"attributes\":{},\"id\":\"4299\",\"type\":\"BasicTickFormatter\"},{\"attributes\":{\"fill_color\":{\"value\":\"#30a2da\"},\"hatch_color\":{\"value\":\"#30a2da\"},\"top\":{\"field\":\"A_0\"},\"width\":{\"value\":0.8},\"x\":{\"field\":\"index\"}},\"id\":\"4289\",\"type\":\"VBar\"},{\"attributes\":{},\"id\":\"4262\",\"type\":\"CategoricalScale\"},{\"attributes\":{\"coordinates\":null,\"data_source\":{\"id\":\"4286\"},\"glyph\":{\"id\":\"4289\"},\"group\":null,\"hover_glyph\":null,\"muted_glyph\":{\"id\":\"4291\"},\"nonselection_glyph\":{\"id\":\"4290\"},\"selection_glyph\":{\"id\":\"4294\"},\"view\":{\"id\":\"4293\"}},\"id\":\"4292\",\"type\":\"GlyphRenderer\"},{\"attributes\":{},\"id\":\"4297\",\"type\":\"AllLabels\"},{\"attributes\":{},\"id\":\"4273\",\"type\":\"SaveTool\"},{\"attributes\":{},\"id\":\"4274\",\"type\":\"PanTool\"},{\"attributes\":{},\"id\":\"4275\",\"type\":\"WheelZoomTool\"},{\"attributes\":{\"tools\":[{\"id\":\"4256\"},{\"id\":\"4273\"},{\"id\":\"4274\"},{\"id\":\"4275\"},{\"id\":\"4276\"},{\"id\":\"4277\"}]},\"id\":\"4279\",\"type\":\"Toolbar\"},{\"attributes\":{\"overlay\":{\"id\":\"4278\"}},\"id\":\"4276\",\"type\":\"BoxZoomTool\"},{\"attributes\":{\"coordinates\":null,\"group\":null,\"text\":\"Annualized Sharpe Ratio for each assets and portfolios\",\"text_color\":\"black\",\"text_font_size\":\"12pt\"},\"id\":\"4258\",\"type\":\"Title\"},{\"attributes\":{\"end\":1.3527243125254254,\"reset_end\":1.3527243125254254,\"reset_start\":0.0,\"tags\":[[[\"0\",\"0\",null]]]},\"id\":\"4255\",\"type\":\"Range1d\"},{\"attributes\":{\"below\":[{\"id\":\"4266\"}],\"center\":[{\"id\":\"4268\"},{\"id\":\"4272\"}],\"height\":300,\"left\":[{\"id\":\"4269\"}],\"margin\":[5,5,5,5],\"min_border_bottom\":10,\"min_border_left\":10,\"min_border_right\":10,\"min_border_top\":10,\"renderers\":[{\"id\":\"4292\"}],\"sizing_mode\":\"fixed\",\"title\":{\"id\":\"4258\"},\"toolbar\":{\"id\":\"4279\"},\"width\":500,\"x_range\":{\"id\":\"4254\"},\"x_scale\":{\"id\":\"4262\"},\"y_range\":{\"id\":\"4255\"},\"y_scale\":{\"id\":\"4264\"}},\"id\":\"4257\",\"subtype\":\"Figure\",\"type\":\"Plot\"},{\"attributes\":{},\"id\":\"4277\",\"type\":\"ResetTool\"},{\"attributes\":{},\"id\":\"4300\",\"type\":\"AllLabels\"},{\"attributes\":{},\"id\":\"4267\",\"type\":\"CategoricalTicker\"},{\"attributes\":{\"axis\":{\"id\":\"4269\"},\"coordinates\":null,\"dimension\":1,\"grid_line_color\":null,\"group\":null,\"ticker\":null},\"id\":\"4272\",\"type\":\"Grid\"},{\"attributes\":{\"bottom_units\":\"screen\",\"coordinates\":null,\"fill_alpha\":0.5,\"fill_color\":\"lightgrey\",\"group\":null,\"left_units\":\"screen\",\"level\":\"overlay\",\"line_alpha\":1.0,\"line_color\":\"black\",\"line_dash\":[4,4],\"line_width\":2,\"right_units\":\"screen\",\"syncable\":false,\"top_units\":\"screen\"},\"id\":\"4278\",\"type\":\"BoxAnnotation\"},{\"attributes\":{\"margin\":[5,5,5,5],\"name\":\"HSpacer03821\",\"sizing_mode\":\"stretch_width\"},\"id\":\"4253\",\"type\":\"Spacer\"},{\"attributes\":{\"fill_alpha\":{\"value\":0.1},\"fill_color\":{\"value\":\"#30a2da\"},\"hatch_alpha\":{\"value\":0.1},\"hatch_color\":{\"value\":\"#30a2da\"},\"line_alpha\":{\"value\":0.1},\"top\":{\"field\":\"A_0\"},\"width\":{\"value\":0.8},\"x\":{\"field\":\"index\"}},\"id\":\"4290\",\"type\":\"VBar\"},{\"attributes\":{\"factors\":[\"BTC\",\"SP500\",\"NASDAQ\",\"BTC-SP500\",\"BTC-NASDAQ\"],\"tags\":[[[\"index\",\"index\",null]]]},\"id\":\"4254\",\"type\":\"FactorRange\"},{\"attributes\":{\"axis\":{\"id\":\"4266\"},\"coordinates\":null,\"grid_line_color\":null,\"group\":null,\"ticker\":null},\"id\":\"4268\",\"type\":\"Grid\"},{\"attributes\":{\"bottom\":{\"value\":0},\"fill_alpha\":{\"value\":1.0},\"fill_color\":{\"value\":\"#30a2da\"},\"hatch_alpha\":{\"value\":1.0},\"hatch_color\":{\"value\":\"#30a2da\"},\"hatch_scale\":{\"value\":12.0},\"hatch_weight\":{\"value\":1.0},\"line_alpha\":{\"value\":1.0},\"line_cap\":{\"value\":\"butt\"},\"line_color\":{\"value\":\"black\"},\"line_dash\":{\"value\":[]},\"line_dash_offset\":{\"value\":0},\"line_join\":{\"value\":\"bevel\"},\"line_width\":{\"value\":1},\"top\":{\"field\":\"A_0\"},\"width\":{\"value\":0.8},\"x\":{\"field\":\"index\"}},\"id\":\"4294\",\"type\":\"VBar\"},{\"attributes\":{\"children\":[{\"id\":\"4253\"},{\"id\":\"4257\"},{\"id\":\"4321\"}],\"margin\":[0,0,0,0],\"name\":\"Row03817\",\"tags\":[\"embedded\"]},\"id\":\"4252\",\"type\":\"Row\"},{\"attributes\":{\"axis_label\":\"\",\"coordinates\":null,\"formatter\":{\"id\":\"4296\"},\"group\":null,\"major_label_policy\":{\"id\":\"4297\"},\"ticker\":{\"id\":\"4267\"}},\"id\":\"4266\",\"type\":\"CategoricalAxis\"},{\"attributes\":{\"source\":{\"id\":\"4286\"}},\"id\":\"4293\",\"type\":\"CDSView\"},{\"attributes\":{},\"id\":\"4308\",\"type\":\"UnionRenderers\"},{\"attributes\":{},\"id\":\"4287\",\"type\":\"Selection\"},{\"attributes\":{},\"id\":\"4270\",\"type\":\"BasicTicker\"},{\"attributes\":{},\"id\":\"4264\",\"type\":\"LinearScale\"},{\"attributes\":{\"axis_label\":\"\",\"coordinates\":null,\"formatter\":{\"id\":\"4299\"},\"group\":null,\"major_label_policy\":{\"id\":\"4300\"},\"ticker\":{\"id\":\"4270\"}},\"id\":\"4269\",\"type\":\"LinearAxis\"},{\"attributes\":{\"callback\":null,\"renderers\":[{\"id\":\"4292\"}],\"tags\":[\"hv_created\"],\"tooltips\":[[\"index\",\"@{index}\"],[\"0\",\"@{A_0}\"]]},\"id\":\"4256\",\"type\":\"HoverTool\"},{\"attributes\":{},\"id\":\"4296\",\"type\":\"CategoricalTickFormatter\"},{\"attributes\":{\"data\":{\"A_0\":{\"__ndarray__\":\"Mm+EGlvY8j/vnh+bhmflP8n8EVcBSOk/wDgOG9Ue9D9soXtvH6b0Pw==\",\"dtype\":\"float64\",\"order\":\"little\",\"shape\":[5]},\"index\":[\"BTC\",\"SP500\",\"NASDAQ\",\"BTC-SP500\",\"BTC-NASDAQ\"]},\"selected\":{\"id\":\"4287\"},\"selection_policy\":{\"id\":\"4308\"}},\"id\":\"4286\",\"type\":\"ColumnDataSource\"},{\"attributes\":{\"fill_alpha\":{\"value\":0.2},\"fill_color\":{\"value\":\"#30a2da\"},\"hatch_alpha\":{\"value\":0.2},\"hatch_color\":{\"value\":\"#30a2da\"},\"line_alpha\":{\"value\":0.2},\"top\":{\"field\":\"A_0\"},\"width\":{\"value\":0.8},\"x\":{\"field\":\"index\"}},\"id\":\"4291\",\"type\":\"VBar\"},{\"attributes\":{\"margin\":[5,5,5,5],\"name\":\"HSpacer03822\",\"sizing_mode\":\"stretch_width\"},\"id\":\"4321\",\"type\":\"Spacer\"}],\"root_ids\":[\"4252\"]},\"title\":\"Bokeh Application\",\"version\":\"2.4.1\"}};\n",
       "    var render_items = [{\"docid\":\"699b121b-240e-4d16-ba45-3fa3f2f6d7d0\",\"root_ids\":[\"4252\"],\"roots\":{\"4252\":\"dc075b6a-47d5-491e-ae83-73efa9b90280\"}}];\n",
       "    root.Bokeh.embed.embed_items_notebook(docs_json, render_items);\n",
       "  }\n",
       "  if (root.Bokeh !== undefined && root.Bokeh.Panel !== undefined) {\n",
       "    embed_document(root);\n",
       "  } else {\n",
       "    var attempts = 0;\n",
       "    var timer = setInterval(function(root) {\n",
       "      if (root.Bokeh !== undefined && root.Bokeh.Panel !== undefined) {\n",
       "        clearInterval(timer);\n",
       "        embed_document(root);\n",
       "      } else if (document.readyState == \"complete\") {\n",
       "        attempts++;\n",
       "        if (attempts > 200) {\n",
       "          clearInterval(timer);\n",
       "          console.log(\"Bokeh: ERROR: Unable to run BokehJS code because BokehJS library is missing\");\n",
       "        }\n",
       "      }\n",
       "    }, 25, root)\n",
       "  }\n",
       "})(window);</script>"
      ],
      "text/plain": [
       ":Bars   [index]   (0)"
      ]
     },
     "execution_count": 67,
     "metadata": {
      "application/vnd.holoviews_exec.v0+json": {
       "id": "4252"
      }
     },
     "output_type": "execute_result"
    }
   ],
   "source": [
    "# Create bar chart to disply the annualized sharpe ratios\n",
    "sharpe_bar_chart = create_bar_chart(ann_sharpe,'Annualized Sharpe Ratio for each assets and portfolios')\n",
    "sharpe_bar_chart"
   ]
  },
  {
   "cell_type": "code",
   "execution_count": 69,
   "id": "658a322b",
   "metadata": {},
   "outputs": [
    {
     "data": {},
     "metadata": {},
     "output_type": "display_data"
    },
    {
     "data": {},
     "metadata": {},
     "output_type": "display_data"
    },
    {
     "data": {
      "application/vnd.holoviews_exec.v0+json": "",
      "text/html": [
       "<div id='5179'>\n",
       "\n",
       "\n",
       "\n",
       "\n",
       "\n",
       "  <div class=\"bk-root\" id=\"0b22603d-c763-4231-b3d5-b1ccf033eeb8\" data-root-id=\"5179\"></div>\n",
       "</div>\n",
       "<script type=\"application/javascript\">(function(root) {\n",
       "  function embed_document(root) {\n",
       "    var docs_json = {\"54ca0d19-4b75-4b98-804f-3d16fae37cc4\":{\"defs\":[{\"extends\":null,\"module\":null,\"name\":\"ReactiveHTML1\",\"overrides\":[],\"properties\":[]},{\"extends\":null,\"module\":null,\"name\":\"FlexBox1\",\"overrides\":[],\"properties\":[{\"default\":\"flex-start\",\"kind\":null,\"name\":\"align_content\"},{\"default\":\"flex-start\",\"kind\":null,\"name\":\"align_items\"},{\"default\":\"row\",\"kind\":null,\"name\":\"flex_direction\"},{\"default\":\"wrap\",\"kind\":null,\"name\":\"flex_wrap\"},{\"default\":\"flex-start\",\"kind\":null,\"name\":\"justify_content\"}]},{\"extends\":null,\"module\":null,\"name\":\"TemplateActions1\",\"overrides\":[],\"properties\":[{\"default\":0,\"kind\":null,\"name\":\"open_modal\"},{\"default\":0,\"kind\":null,\"name\":\"close_modal\"}]},{\"extends\":null,\"module\":null,\"name\":\"MaterialTemplateActions1\",\"overrides\":[],\"properties\":[{\"default\":0,\"kind\":null,\"name\":\"open_modal\"},{\"default\":0,\"kind\":null,\"name\":\"close_modal\"}]}],\"roots\":{\"references\":[{\"attributes\":{\"data\":[{\"branchvalues\":\"total\",\"domain\":{\"x\":[0.0,1.0],\"y\":[0.0,1.0]},\"hovertemplate\":\"labels=%{label}<br>avgret=%{value}<br>parent=%{parent}<br>id=%{id}<br>minret=%{color}<extra></extra>\",\"marker\":{\"coloraxis\":\"coloraxis\"},\"name\":\"\",\"type\":\"sunburst\"}],\"data_sources\":[{\"id\":\"5248\"}],\"layout\":{\"coloraxis\":{\"colorbar\":{\"title\":{\"text\":\"minret\"}},\"colorscale\":[[0.0,\"rgb(103,0,31)\"],[0.1,\"rgb(178,24,43)\"],[0.2,\"rgb(214,96,77)\"],[0.3,\"rgb(244,165,130)\"],[0.4,\"rgb(253,219,199)\"],[0.5,\"rgb(247,247,247)\"],[0.6,\"rgb(209,229,240)\"],[0.7,\"rgb(146,197,222)\"],[0.8,\"rgb(67,147,195)\"],[0.9,\"rgb(33,102,172)\"],[1.0,\"rgb(5,48,97)\"]]},\"legend\":{\"tracegroupgap\":0},\"margin\":{\"t\":60},\"template\":{\"data\":{\"bar\":[{\"error_x\":{\"color\":\"#2a3f5f\"},\"error_y\":{\"color\":\"#2a3f5f\"},\"marker\":{\"line\":{\"color\":\"#E5ECF6\",\"width\":0.5},\"pattern\":{\"fillmode\":\"overlay\",\"size\":10,\"solidity\":0.2}},\"type\":\"bar\"}],\"barpolar\":[{\"marker\":{\"line\":{\"color\":\"#E5ECF6\",\"width\":0.5},\"pattern\":{\"fillmode\":\"overlay\",\"size\":10,\"solidity\":0.2}},\"type\":\"barpolar\"}],\"carpet\":[{\"aaxis\":{\"endlinecolor\":\"#2a3f5f\",\"gridcolor\":\"white\",\"linecolor\":\"white\",\"minorgridcolor\":\"white\",\"startlinecolor\":\"#2a3f5f\"},\"baxis\":{\"endlinecolor\":\"#2a3f5f\",\"gridcolor\":\"white\",\"linecolor\":\"white\",\"minorgridcolor\":\"white\",\"startlinecolor\":\"#2a3f5f\"},\"type\":\"carpet\"}],\"choropleth\":[{\"colorbar\":{\"outlinewidth\":0,\"ticks\":\"\"},\"type\":\"choropleth\"}],\"contour\":[{\"colorbar\":{\"outlinewidth\":0,\"ticks\":\"\"},\"colorscale\":[[0.0,\"#0d0887\"],[0.1111111111111111,\"#46039f\"],[0.2222222222222222,\"#7201a8\"],[0.3333333333333333,\"#9c179e\"],[0.4444444444444444,\"#bd3786\"],[0.5555555555555556,\"#d8576b\"],[0.6666666666666666,\"#ed7953\"],[0.7777777777777778,\"#fb9f3a\"],[0.8888888888888888,\"#fdca26\"],[1.0,\"#f0f921\"]],\"type\":\"contour\"}],\"contourcarpet\":[{\"colorbar\":{\"outlinewidth\":0,\"ticks\":\"\"},\"type\":\"contourcarpet\"}],\"heatmap\":[{\"colorbar\":{\"outlinewidth\":0,\"ticks\":\"\"},\"colorscale\":[[0.0,\"#0d0887\"],[0.1111111111111111,\"#46039f\"],[0.2222222222222222,\"#7201a8\"],[0.3333333333333333,\"#9c179e\"],[0.4444444444444444,\"#bd3786\"],[0.5555555555555556,\"#d8576b\"],[0.6666666666666666,\"#ed7953\"],[0.7777777777777778,\"#fb9f3a\"],[0.8888888888888888,\"#fdca26\"],[1.0,\"#f0f921\"]],\"type\":\"heatmap\"}],\"heatmapgl\":[{\"colorbar\":{\"outlinewidth\":0,\"ticks\":\"\"},\"colorscale\":[[0.0,\"#0d0887\"],[0.1111111111111111,\"#46039f\"],[0.2222222222222222,\"#7201a8\"],[0.3333333333333333,\"#9c179e\"],[0.4444444444444444,\"#bd3786\"],[0.5555555555555556,\"#d8576b\"],[0.6666666666666666,\"#ed7953\"],[0.7777777777777778,\"#fb9f3a\"],[0.8888888888888888,\"#fdca26\"],[1.0,\"#f0f921\"]],\"type\":\"heatmapgl\"}],\"histogram\":[{\"marker\":{\"pattern\":{\"fillmode\":\"overlay\",\"size\":10,\"solidity\":0.2}},\"type\":\"histogram\"}],\"histogram2d\":[{\"colorbar\":{\"outlinewidth\":0,\"ticks\":\"\"},\"colorscale\":[[0.0,\"#0d0887\"],[0.1111111111111111,\"#46039f\"],[0.2222222222222222,\"#7201a8\"],[0.3333333333333333,\"#9c179e\"],[0.4444444444444444,\"#bd3786\"],[0.5555555555555556,\"#d8576b\"],[0.6666666666666666,\"#ed7953\"],[0.7777777777777778,\"#fb9f3a\"],[0.8888888888888888,\"#fdca26\"],[1.0,\"#f0f921\"]],\"type\":\"histogram2d\"}],\"histogram2dcontour\":[{\"colorbar\":{\"outlinewidth\":0,\"ticks\":\"\"},\"colorscale\":[[0.0,\"#0d0887\"],[0.1111111111111111,\"#46039f\"],[0.2222222222222222,\"#7201a8\"],[0.3333333333333333,\"#9c179e\"],[0.4444444444444444,\"#bd3786\"],[0.5555555555555556,\"#d8576b\"],[0.6666666666666666,\"#ed7953\"],[0.7777777777777778,\"#fb9f3a\"],[0.8888888888888888,\"#fdca26\"],[1.0,\"#f0f921\"]],\"type\":\"histogram2dcontour\"}],\"mesh3d\":[{\"colorbar\":{\"outlinewidth\":0,\"ticks\":\"\"},\"type\":\"mesh3d\"}],\"parcoords\":[{\"line\":{\"colorbar\":{\"outlinewidth\":0,\"ticks\":\"\"}},\"type\":\"parcoords\"}],\"pie\":[{\"automargin\":true,\"type\":\"pie\"}],\"scatter\":[{\"marker\":{\"colorbar\":{\"outlinewidth\":0,\"ticks\":\"\"}},\"type\":\"scatter\"}],\"scatter3d\":[{\"line\":{\"colorbar\":{\"outlinewidth\":0,\"ticks\":\"\"}},\"marker\":{\"colorbar\":{\"outlinewidth\":0,\"ticks\":\"\"}},\"type\":\"scatter3d\"}],\"scattercarpet\":[{\"marker\":{\"colorbar\":{\"outlinewidth\":0,\"ticks\":\"\"}},\"type\":\"scattercarpet\"}],\"scattergeo\":[{\"marker\":{\"colorbar\":{\"outlinewidth\":0,\"ticks\":\"\"}},\"type\":\"scattergeo\"}],\"scattergl\":[{\"marker\":{\"colorbar\":{\"outlinewidth\":0,\"ticks\":\"\"}},\"type\":\"scattergl\"}],\"scattermapbox\":[{\"marker\":{\"colorbar\":{\"outlinewidth\":0,\"ticks\":\"\"}},\"type\":\"scattermapbox\"}],\"scatterpolar\":[{\"marker\":{\"colorbar\":{\"outlinewidth\":0,\"ticks\":\"\"}},\"type\":\"scatterpolar\"}],\"scatterpolargl\":[{\"marker\":{\"colorbar\":{\"outlinewidth\":0,\"ticks\":\"\"}},\"type\":\"scatterpolargl\"}],\"scatterternary\":[{\"marker\":{\"colorbar\":{\"outlinewidth\":0,\"ticks\":\"\"}},\"type\":\"scatterternary\"}],\"surface\":[{\"colorbar\":{\"outlinewidth\":0,\"ticks\":\"\"},\"colorscale\":[[0.0,\"#0d0887\"],[0.1111111111111111,\"#46039f\"],[0.2222222222222222,\"#7201a8\"],[0.3333333333333333,\"#9c179e\"],[0.4444444444444444,\"#bd3786\"],[0.5555555555555556,\"#d8576b\"],[0.6666666666666666,\"#ed7953\"],[0.7777777777777778,\"#fb9f3a\"],[0.8888888888888888,\"#fdca26\"],[1.0,\"#f0f921\"]],\"type\":\"surface\"}],\"table\":[{\"cells\":{\"fill\":{\"color\":\"#EBF0F8\"},\"line\":{\"color\":\"white\"}},\"header\":{\"fill\":{\"color\":\"#C8D4E3\"},\"line\":{\"color\":\"white\"}},\"type\":\"table\"}]},\"layout\":{\"annotationdefaults\":{\"arrowcolor\":\"#2a3f5f\",\"arrowhead\":0,\"arrowwidth\":1},\"autotypenumbers\":\"strict\",\"coloraxis\":{\"colorbar\":{\"outlinewidth\":0,\"ticks\":\"\"}},\"colorscale\":{\"diverging\":[[0,\"#8e0152\"],[0.1,\"#c51b7d\"],[0.2,\"#de77ae\"],[0.3,\"#f1b6da\"],[0.4,\"#fde0ef\"],[0.5,\"#f7f7f7\"],[0.6,\"#e6f5d0\"],[0.7,\"#b8e186\"],[0.8,\"#7fbc41\"],[0.9,\"#4d9221\"],[1,\"#276419\"]],\"sequential\":[[0.0,\"#0d0887\"],[0.1111111111111111,\"#46039f\"],[0.2222222222222222,\"#7201a8\"],[0.3333333333333333,\"#9c179e\"],[0.4444444444444444,\"#bd3786\"],[0.5555555555555556,\"#d8576b\"],[0.6666666666666666,\"#ed7953\"],[0.7777777777777778,\"#fb9f3a\"],[0.8888888888888888,\"#fdca26\"],[1.0,\"#f0f921\"]],\"sequentialminus\":[[0.0,\"#0d0887\"],[0.1111111111111111,\"#46039f\"],[0.2222222222222222,\"#7201a8\"],[0.3333333333333333,\"#9c179e\"],[0.4444444444444444,\"#bd3786\"],[0.5555555555555556,\"#d8576b\"],[0.6666666666666666,\"#ed7953\"],[0.7777777777777778,\"#fb9f3a\"],[0.8888888888888888,\"#fdca26\"],[1.0,\"#f0f921\"]]},\"colorway\":[\"#636efa\",\"#EF553B\",\"#00cc96\",\"#ab63fa\",\"#FFA15A\",\"#19d3f3\",\"#FF6692\",\"#B6E880\",\"#FF97FF\",\"#FECB52\"],\"font\":{\"color\":\"#2a3f5f\"},\"geo\":{\"bgcolor\":\"white\",\"lakecolor\":\"white\",\"landcolor\":\"#E5ECF6\",\"showlakes\":true,\"showland\":true,\"subunitcolor\":\"white\"},\"hoverlabel\":{\"align\":\"left\"},\"hovermode\":\"closest\",\"mapbox\":{\"style\":\"light\"},\"paper_bgcolor\":\"white\",\"plot_bgcolor\":\"#E5ECF6\",\"polar\":{\"angularaxis\":{\"gridcolor\":\"white\",\"linecolor\":\"white\",\"ticks\":\"\"},\"bgcolor\":\"#E5ECF6\",\"radialaxis\":{\"gridcolor\":\"white\",\"linecolor\":\"white\",\"ticks\":\"\"}},\"scene\":{\"xaxis\":{\"backgroundcolor\":\"#E5ECF6\",\"gridcolor\":\"white\",\"gridwidth\":2,\"linecolor\":\"white\",\"showbackground\":true,\"ticks\":\"\",\"zerolinecolor\":\"white\"},\"yaxis\":{\"backgroundcolor\":\"#E5ECF6\",\"gridcolor\":\"white\",\"gridwidth\":2,\"linecolor\":\"white\",\"showbackground\":true,\"ticks\":\"\",\"zerolinecolor\":\"white\"},\"zaxis\":{\"backgroundcolor\":\"#E5ECF6\",\"gridcolor\":\"white\",\"gridwidth\":2,\"linecolor\":\"white\",\"showbackground\":true,\"ticks\":\"\",\"zerolinecolor\":\"white\"}},\"shapedefaults\":{\"line\":{\"color\":\"#2a3f5f\"}},\"ternary\":{\"aaxis\":{\"gridcolor\":\"white\",\"linecolor\":\"white\",\"ticks\":\"\"},\"baxis\":{\"gridcolor\":\"white\",\"linecolor\":\"white\",\"ticks\":\"\"},\"bgcolor\":\"#E5ECF6\",\"caxis\":{\"gridcolor\":\"white\",\"linecolor\":\"white\",\"ticks\":\"\"}},\"title\":{\"x\":0.05},\"xaxis\":{\"automargin\":true,\"gridcolor\":\"white\",\"linecolor\":\"white\",\"ticks\":\"\",\"title\":{\"standoff\":15},\"zerolinecolor\":\"white\",\"zerolinewidth\":2},\"yaxis\":{\"automargin\":true,\"gridcolor\":\"white\",\"linecolor\":\"white\",\"ticks\":\"\",\"title\":{\"standoff\":15},\"zerolinecolor\":\"white\",\"zerolinewidth\":2}}}},\"margin\":[5,5,5,5],\"name\":\"Returns vs. Max Loss\",\"viewport_update_throttle\":200,\"visibility\":false},\"id\":\"5249\",\"type\":\"panel.models.plotly.PlotlyPlot\"},{\"attributes\":{\"axis\":{\"id\":\"5195\"},\"coordinates\":null,\"dimension\":1,\"grid_line_color\":null,\"group\":null,\"ticker\":null},\"id\":\"5198\",\"type\":\"Grid\"},{\"attributes\":{},\"id\":\"5273\",\"type\":\"WheelZoomTool\"},{\"attributes\":{\"coordinates\":null,\"data_source\":{\"id\":\"5284\"},\"glyph\":{\"id\":\"5287\"},\"group\":null,\"hover_glyph\":null,\"muted_glyph\":{\"id\":\"5289\"},\"nonselection_glyph\":{\"id\":\"5288\"},\"selection_glyph\":{\"id\":\"5292\"},\"view\":{\"id\":\"5291\"}},\"id\":\"5290\",\"type\":\"GlyphRenderer\"},{\"attributes\":{\"overlay\":{\"id\":\"5276\"}},\"id\":\"5274\",\"type\":\"BoxZoomTool\"},{\"attributes\":{\"js_property_callbacks\":{\"change:active\":[{\"id\":\"5729\"}]},\"margin\":[0,0,0,0],\"tabs\":[{\"id\":\"5247\"},{\"id\":\"5250\"},{\"id\":\"5552\"},{\"id\":\"5556\"}]},\"id\":\"5179\",\"type\":\"Tabs\"},{\"attributes\":{\"axis\":{\"id\":\"5192\"},\"coordinates\":null,\"grid_line_color\":null,\"group\":null,\"ticker\":null},\"id\":\"5194\",\"type\":\"Grid\"},{\"attributes\":{\"tools\":[{\"id\":\"5182\"},{\"id\":\"5199\"},{\"id\":\"5200\"},{\"id\":\"5201\"},{\"id\":\"5202\"},{\"id\":\"5203\"}]},\"id\":\"5205\",\"type\":\"Toolbar\"},{\"attributes\":{},\"id\":\"5364\",\"type\":\"UnionRenderers\"},{\"attributes\":{},\"id\":\"5196\",\"type\":\"BasicTicker\"},{\"attributes\":{\"client_comm_id\":\"542dca76b3db4ddca438c957a4be20e6\",\"comm_id\":\"0be5b1833a7643e3b1732eab227c1c09\",\"plot_id\":\"5179\"},\"id\":\"5794\",\"type\":\"panel.models.comm_manager.CommManager\"},{\"attributes\":{},\"id\":\"5318\",\"type\":\"SaveTool\"},{\"attributes\":{\"axis_label\":\"\",\"coordinates\":null,\"formatter\":{\"id\":\"5225\"},\"group\":null,\"major_label_policy\":{\"id\":\"5226\"},\"ticker\":{\"id\":\"5196\"}},\"id\":\"5195\",\"type\":\"LinearAxis\"},{\"attributes\":{},\"id\":\"5275\",\"type\":\"ResetTool\"},{\"attributes\":{\"below\":[{\"id\":\"5264\"}],\"center\":[{\"id\":\"5266\"},{\"id\":\"5270\"}],\"height\":300,\"left\":[{\"id\":\"5267\"}],\"margin\":null,\"min_border_bottom\":10,\"min_border_left\":10,\"min_border_right\":10,\"min_border_top\":10,\"renderers\":[{\"id\":\"5290\"}],\"sizing_mode\":\"fixed\",\"title\":{\"id\":\"5256\"},\"toolbar\":{\"id\":\"5277\"},\"toolbar_location\":null,\"width\":500,\"x_range\":{\"id\":\"5180\"},\"x_scale\":{\"id\":\"5260\"},\"y_range\":{\"id\":\"5253\"},\"y_scale\":{\"id\":\"5262\"}},\"id\":\"5255\",\"subtype\":\"Figure\",\"type\":\"Plot\"},{\"attributes\":{},\"id\":\"5297\",\"type\":\"BasicTickFormatter\"},{\"attributes\":{},\"id\":\"5319\",\"type\":\"PanTool\"},{\"attributes\":{\"child\":{\"id\":\"5251\"},\"name\":\"Column03519\",\"title\":\"Correlation in diff Markets\"},\"id\":\"5552\",\"type\":\"Panel\"},{\"attributes\":{},\"id\":\"5225\",\"type\":\"BasicTickFormatter\"},{\"attributes\":{\"bottom_units\":\"screen\",\"coordinates\":null,\"fill_alpha\":0.5,\"fill_color\":\"lightgrey\",\"group\":null,\"left_units\":\"screen\",\"level\":\"overlay\",\"line_alpha\":1.0,\"line_color\":\"black\",\"line_dash\":[4,4],\"line_width\":2,\"right_units\":\"screen\",\"syncable\":false,\"top_units\":\"screen\"},\"id\":\"5276\",\"type\":\"BoxAnnotation\"},{\"attributes\":{},\"id\":\"5272\",\"type\":\"PanTool\"},{\"attributes\":{},\"id\":\"5320\",\"type\":\"WheelZoomTool\"},{\"attributes\":{\"tools\":[{\"id\":\"5301\"},{\"id\":\"5318\"},{\"id\":\"5319\"},{\"id\":\"5320\"},{\"id\":\"5321\"},{\"id\":\"5322\"}]},\"id\":\"5324\",\"type\":\"Toolbar\"},{\"attributes\":{\"overlay\":{\"id\":\"5323\"}},\"id\":\"5321\",\"type\":\"BoxZoomTool\"},{\"attributes\":{\"margin\":[5,5,5,5],\"name\":\"Str04198\",\"text\":\"&lt;pre&gt; &lt;/pre&gt;\"},\"id\":\"5554\",\"type\":\"panel.models.markup.HTML\"},{\"attributes\":{\"source\":{\"id\":\"5331\"}},\"id\":\"5338\",\"type\":\"CDSView\"},{\"attributes\":{},\"id\":\"5199\",\"type\":\"SaveTool\"},{\"attributes\":{\"fill_color\":{\"value\":\"#30a2da\"},\"hatch_color\":{\"value\":\"#30a2da\"},\"top\":{\"field\":\"normal\"},\"width\":{\"value\":0.8},\"x\":{\"field\":\"index\"}},\"id\":\"5334\",\"type\":\"VBar\"},{\"attributes\":{\"toolbars\":[{\"id\":\"5277\"},{\"id\":\"5324\"}],\"tools\":[{\"id\":\"5254\"},{\"id\":\"5271\"},{\"id\":\"5272\"},{\"id\":\"5273\"},{\"id\":\"5274\"},{\"id\":\"5275\"},{\"id\":\"5301\"},{\"id\":\"5318\"},{\"id\":\"5319\"},{\"id\":\"5320\"},{\"id\":\"5321\"},{\"id\":\"5322\"}]},\"id\":\"5369\",\"type\":\"ProxyToolbar\"},{\"attributes\":{\"fill_alpha\":{\"value\":0.1},\"fill_color\":{\"value\":\"#30a2da\"},\"hatch_alpha\":{\"value\":0.1},\"hatch_color\":{\"value\":\"#30a2da\"},\"line_alpha\":{\"value\":0.1},\"top\":{\"field\":\"normal\"},\"width\":{\"value\":0.8},\"x\":{\"field\":\"index\"}},\"id\":\"5335\",\"type\":\"VBar\"},{\"attributes\":{},\"id\":\"5322\",\"type\":\"ResetTool\"},{\"attributes\":{\"data\":{\"A_0\":{\"__ndarray__\":\"Mm+EGlvY8j/vnh+bhmflP8n8EVcBSOk/wDgOG9Ue9D9soXtvH6b0Pw==\",\"dtype\":\"float64\",\"order\":\"little\",\"shape\":[5]},\"index\":[\"BTC\",\"SP500\",\"NASDAQ\",\"BTC-SP500\",\"BTC-NASDAQ\"]},\"selected\":{\"id\":\"5213\"},\"selection_policy\":{\"id\":\"5234\"}},\"id\":\"5212\",\"type\":\"ColumnDataSource\"},{\"attributes\":{},\"id\":\"5200\",\"type\":\"PanTool\"},{\"attributes\":{},\"id\":\"5332\",\"type\":\"Selection\"},{\"attributes\":{},\"id\":\"5294\",\"type\":\"CategoricalTickFormatter\"},{\"attributes\":{\"bottom_units\":\"screen\",\"coordinates\":null,\"fill_alpha\":0.5,\"fill_color\":\"lightgrey\",\"group\":null,\"left_units\":\"screen\",\"level\":\"overlay\",\"line_alpha\":1.0,\"line_color\":\"black\",\"line_dash\":[4,4],\"line_width\":2,\"right_units\":\"screen\",\"syncable\":false,\"top_units\":\"screen\"},\"id\":\"5323\",\"type\":\"BoxAnnotation\"},{\"attributes\":{},\"id\":\"5201\",\"type\":\"WheelZoomTool\"},{\"attributes\":{\"bottom\":{\"value\":0},\"fill_alpha\":{\"value\":1.0},\"fill_color\":{\"value\":\"#30a2da\"},\"hatch_alpha\":{\"value\":1.0},\"hatch_color\":{\"value\":\"#30a2da\"},\"hatch_scale\":{\"value\":12.0},\"hatch_weight\":{\"value\":1.0},\"line_alpha\":{\"value\":1.0},\"line_cap\":{\"value\":\"butt\"},\"line_color\":{\"value\":\"black\"},\"line_dash\":{\"value\":[]},\"line_dash_offset\":{\"value\":0},\"line_join\":{\"value\":\"bevel\"},\"line_width\":{\"value\":1},\"top\":{\"field\":\"A_0\"},\"width\":{\"value\":0.8},\"x\":{\"field\":\"index\"}},\"id\":\"5220\",\"type\":\"VBar\"},{\"attributes\":{\"coordinates\":null,\"data_source\":{\"id\":\"5331\"},\"glyph\":{\"id\":\"5334\"},\"group\":null,\"hover_glyph\":null,\"muted_glyph\":{\"id\":\"5336\"},\"nonselection_glyph\":{\"id\":\"5335\"},\"selection_glyph\":{\"id\":\"5339\"},\"view\":{\"id\":\"5338\"}},\"id\":\"5337\",\"type\":\"GlyphRenderer\"},{\"attributes\":{},\"id\":\"5285\",\"type\":\"Selection\"},{\"attributes\":{\"overlay\":{\"id\":\"5204\"}},\"id\":\"5202\",\"type\":\"BoxZoomTool\"},{\"attributes\":{\"toolbar\":{\"id\":\"5369\"},\"toolbar_location\":\"above\"},\"id\":\"5370\",\"type\":\"ToolbarBox\"},{\"attributes\":{\"end\":0.9769811270589481,\"reset_end\":0.9769811270589481,\"reset_start\":0.0,\"tags\":[[[\"selloff\",\"selloff\",null]]]},\"id\":\"5253\",\"type\":\"Range1d\"},{\"attributes\":{\"bottom\":{\"value\":0},\"fill_alpha\":{\"value\":1.0},\"fill_color\":{\"value\":\"#30a2da\"},\"hatch_alpha\":{\"value\":1.0},\"hatch_color\":{\"value\":\"#30a2da\"},\"hatch_scale\":{\"value\":12.0},\"hatch_weight\":{\"value\":1.0},\"line_alpha\":{\"value\":1.0},\"line_cap\":{\"value\":\"butt\"},\"line_color\":{\"value\":\"black\"},\"line_dash\":{\"value\":[]},\"line_dash_offset\":{\"value\":0},\"line_join\":{\"value\":\"bevel\"},\"line_width\":{\"value\":1},\"top\":{\"field\":\"selloff\"},\"width\":{\"value\":0.8},\"x\":{\"field\":\"index\"}},\"id\":\"5292\",\"type\":\"VBar\"},{\"attributes\":{\"coordinates\":null,\"data_source\":{\"id\":\"5212\"},\"glyph\":{\"id\":\"5215\"},\"group\":null,\"hover_glyph\":null,\"muted_glyph\":{\"id\":\"5217\"},\"nonselection_glyph\":{\"id\":\"5216\"},\"selection_glyph\":{\"id\":\"5220\"},\"view\":{\"id\":\"5219\"}},\"id\":\"5218\",\"type\":\"GlyphRenderer\"},{\"attributes\":{\"source\":{\"id\":\"5212\"}},\"id\":\"5219\",\"type\":\"CDSView\"},{\"attributes\":{},\"id\":\"5342\",\"type\":\"AllLabels\"},{\"attributes\":{},\"id\":\"5203\",\"type\":\"ResetTool\"},{\"attributes\":{\"fill_alpha\":{\"value\":0.2},\"fill_color\":{\"value\":\"#30a2da\"},\"hatch_alpha\":{\"value\":0.2},\"hatch_color\":{\"value\":\"#30a2da\"},\"line_alpha\":{\"value\":0.2},\"top\":{\"field\":\"selloff\"},\"width\":{\"value\":0.8},\"x\":{\"field\":\"index\"}},\"id\":\"5289\",\"type\":\"VBar\"},{\"attributes\":{},\"id\":\"5295\",\"type\":\"AllLabels\"},{\"attributes\":{},\"id\":\"5344\",\"type\":\"BasicTickFormatter\"},{\"attributes\":{},\"id\":\"5341\",\"type\":\"CategoricalTickFormatter\"},{\"attributes\":{\"bottom_units\":\"screen\",\"coordinates\":null,\"fill_alpha\":0.5,\"fill_color\":\"lightgrey\",\"group\":null,\"left_units\":\"screen\",\"level\":\"overlay\",\"line_alpha\":1.0,\"line_color\":\"black\",\"line_dash\":[4,4],\"line_width\":2,\"right_units\":\"screen\",\"syncable\":false,\"top_units\":\"screen\"},\"id\":\"5204\",\"type\":\"BoxAnnotation\"},{\"attributes\":{\"data\":{\"index\":[\"BTC vs SP500\",\"BTC vs NASDAQ\",\"SP500 vs NASDAQ\"],\"normal\":{\"__ndarray__\":\"HJWx3SB/tj/26HuJKm6+P/JptUZXKO0/\",\"dtype\":\"float64\",\"order\":\"little\",\"shape\":[3]}},\"selected\":{\"id\":\"5332\"},\"selection_policy\":{\"id\":\"5364\"}},\"id\":\"5331\",\"type\":\"ColumnDataSource\"},{\"attributes\":{\"bottom\":{\"value\":0},\"fill_alpha\":{\"value\":1.0},\"fill_color\":{\"value\":\"#30a2da\"},\"hatch_alpha\":{\"value\":1.0},\"hatch_color\":{\"value\":\"#30a2da\"},\"hatch_scale\":{\"value\":12.0},\"hatch_weight\":{\"value\":1.0},\"line_alpha\":{\"value\":1.0},\"line_cap\":{\"value\":\"butt\"},\"line_color\":{\"value\":\"black\"},\"line_dash\":{\"value\":[]},\"line_dash_offset\":{\"value\":0},\"line_join\":{\"value\":\"bevel\"},\"line_width\":{\"value\":1},\"top\":{\"field\":\"normal\"},\"width\":{\"value\":0.8},\"x\":{\"field\":\"index\"}},\"id\":\"5339\",\"type\":\"VBar\"},{\"attributes\":{},\"id\":\"5262\",\"type\":\"LinearScale\"},{\"attributes\":{\"fill_alpha\":{\"value\":0.2},\"fill_color\":{\"value\":\"#30a2da\"},\"hatch_alpha\":{\"value\":0.2},\"hatch_color\":{\"value\":\"#30a2da\"},\"line_alpha\":{\"value\":0.2},\"top\":{\"field\":\"A_0\"},\"width\":{\"value\":0.8},\"x\":{\"field\":\"index\"}},\"id\":\"5217\",\"type\":\"VBar\"},{\"attributes\":{\"below\":[{\"id\":\"5311\"}],\"center\":[{\"id\":\"5313\"},{\"id\":\"5317\"}],\"height\":300,\"left\":[{\"id\":\"5314\"}],\"margin\":null,\"min_border_bottom\":10,\"min_border_left\":10,\"min_border_right\":10,\"min_border_top\":10,\"renderers\":[{\"id\":\"5337\"}],\"sizing_mode\":\"fixed\",\"title\":{\"id\":\"5303\"},\"toolbar\":{\"id\":\"5324\"},\"toolbar_location\":null,\"width\":500,\"x_range\":{\"id\":\"5180\"},\"x_scale\":{\"id\":\"5307\"},\"y_range\":{\"id\":\"5300\"},\"y_scale\":{\"id\":\"5309\"}},\"id\":\"5302\",\"subtype\":\"Figure\",\"type\":\"Plot\"},{\"attributes\":{\"callback\":null,\"renderers\":[{\"id\":\"5290\"}],\"tags\":[\"hv_created\"],\"tooltips\":[[\"index\",\"@{index}\"],[\"selloff\",\"@{selloff}\"]]},\"id\":\"5254\",\"type\":\"HoverTool\"},{\"attributes\":{},\"id\":\"5345\",\"type\":\"AllLabels\"},{\"attributes\":{\"fill_alpha\":{\"value\":0.2},\"fill_color\":{\"value\":\"#30a2da\"},\"hatch_alpha\":{\"value\":0.2},\"hatch_color\":{\"value\":\"#30a2da\"},\"line_alpha\":{\"value\":0.2},\"top\":{\"field\":\"normal\"},\"width\":{\"value\":0.8},\"x\":{\"field\":\"index\"}},\"id\":\"5336\",\"type\":\"VBar\"},{\"attributes\":{},\"id\":\"5298\",\"type\":\"AllLabels\"},{\"attributes\":{\"fill_alpha\":{\"value\":0.1},\"fill_color\":{\"value\":\"#30a2da\"},\"hatch_alpha\":{\"value\":0.1},\"hatch_color\":{\"value\":\"#30a2da\"},\"line_alpha\":{\"value\":0.1},\"top\":{\"field\":\"A_0\"},\"width\":{\"value\":0.8},\"x\":{\"field\":\"index\"}},\"id\":\"5216\",\"type\":\"VBar\"},{\"attributes\":{},\"id\":\"5353\",\"type\":\"UnionRenderers\"},{\"attributes\":{\"children\":[{\"id\":\"5554\"},{\"id\":\"5555\"}],\"margin\":[0,0,0,0],\"name\":\"Row04202\"},\"id\":\"5553\",\"type\":\"Row\"},{\"attributes\":{\"callback\":null,\"renderers\":[{\"id\":\"5218\"}],\"tags\":[\"hv_created\"],\"tooltips\":[[\"index\",\"@{index}\"],[\"0\",\"@{A_0}\"]]},\"id\":\"5182\",\"type\":\"HoverTool\"},{\"attributes\":{\"child\":{\"id\":\"5553\"},\"name\":\"Row04202\",\"title\":\"Return distribution\"},\"id\":\"5556\",\"type\":\"Panel\"},{\"attributes\":{},\"id\":\"5222\",\"type\":\"CategoricalTickFormatter\"},{\"attributes\":{\"fill_alpha\":{\"value\":0.1},\"fill_color\":{\"value\":\"#30a2da\"},\"hatch_alpha\":{\"value\":0.1},\"hatch_color\":{\"value\":\"#30a2da\"},\"line_alpha\":{\"value\":0.1},\"top\":{\"field\":\"selloff\"},\"width\":{\"value\":0.8},\"x\":{\"field\":\"index\"}},\"id\":\"5288\",\"type\":\"VBar\"},{\"attributes\":{\"child\":{\"id\":\"5249\"},\"name\":\"Returns vs. Max Loss\",\"title\":\"Returns vs. Max Loss\"},\"id\":\"5250\",\"type\":\"Panel\"},{\"attributes\":{},\"id\":\"5190\",\"type\":\"LinearScale\"},{\"attributes\":{\"callback\":null,\"renderers\":[{\"id\":\"5337\"}],\"tags\":[\"hv_created\"],\"tooltips\":[[\"index\",\"@{index}\"],[\"normal\",\"@{normal}\"]]},\"id\":\"5301\",\"type\":\"HoverTool\"},{\"attributes\":{\"children\":[{\"id\":\"5370\"},{\"id\":\"5368\"}]},\"id\":\"5371\",\"type\":\"Column\"},{\"attributes\":{},\"id\":\"5260\",\"type\":\"CategoricalScale\"},{\"attributes\":{\"coordinates\":null,\"group\":null,\"text\":\"Correlation between BTC vs SP500 and NASDAQ \\nduring Sell Off Market\",\"text_color\":\"black\",\"text_font_size\":\"12pt\"},\"id\":\"5256\",\"type\":\"Title\"},{\"attributes\":{},\"id\":\"5564\",\"type\":\"UnionRenderers\"},{\"attributes\":{\"axis_label\":\"\",\"coordinates\":null,\"formatter\":{\"id\":\"5294\"},\"group\":null,\"major_label_policy\":{\"id\":\"5295\"},\"ticker\":{\"id\":\"5265\"}},\"id\":\"5264\",\"type\":\"CategoricalAxis\"},{\"attributes\":{\"axis\":{\"id\":\"5267\"},\"coordinates\":null,\"dimension\":1,\"grid_line_color\":null,\"group\":null,\"ticker\":null},\"id\":\"5270\",\"type\":\"Grid\"},{\"attributes\":{\"end\":0.9935041394240067,\"reset_end\":0.9935041394240067,\"reset_start\":0.0,\"tags\":[[[\"normal\",\"normal\",null]]]},\"id\":\"5300\",\"type\":\"Range1d\"},{\"attributes\":{\"margin\":[5,5,5,5],\"name\":\"Str04200\",\"text\":\"&lt;pre&gt; &lt;/pre&gt;\"},\"id\":\"5555\",\"type\":\"panel.models.markup.HTML\"},{\"attributes\":{},\"id\":\"5234\",\"type\":\"UnionRenderers\"},{\"attributes\":{\"coordinates\":null,\"group\":null,\"text\":\"Correlation between BTC vs SP500 and NASDAQ \\nduring Normal Market\",\"text_color\":\"black\",\"text_font_size\":\"12pt\"},\"id\":\"5303\",\"type\":\"Title\"},{\"attributes\":{},\"id\":\"5309\",\"type\":\"LinearScale\"},{\"attributes\":{},\"id\":\"5265\",\"type\":\"CategoricalTicker\"},{\"attributes\":{\"data\":{\"index\":[\"BTC vs SP500\",\"BTC vs NASDAQ\",\"SP500 vs NASDAQ\"],\"selloff\":{\"__ndarray__\":\"CLJni87X4D+QL9zCNWPfPz3OqusU2e0/\",\"dtype\":\"float64\",\"order\":\"little\",\"shape\":[3]}},\"selected\":{\"id\":\"5285\"},\"selection_policy\":{\"id\":\"5353\"}},\"id\":\"5284\",\"type\":\"ColumnDataSource\"},{\"attributes\":{\"child\":{\"id\":\"5183\"},\"name\":\"BTC - Equity Diversifier\",\"title\":\"BTC - Equity Diversifier\"},\"id\":\"5247\",\"type\":\"Panel\"},{\"attributes\":{\"tools\":[{\"id\":\"5254\"},{\"id\":\"5271\"},{\"id\":\"5272\"},{\"id\":\"5273\"},{\"id\":\"5274\"},{\"id\":\"5275\"}]},\"id\":\"5277\",\"type\":\"Toolbar\"},{\"attributes\":{\"axis\":{\"id\":\"5314\"},\"coordinates\":null,\"dimension\":1,\"grid_line_color\":null,\"group\":null,\"ticker\":null},\"id\":\"5317\",\"type\":\"Grid\"},{\"attributes\":{},\"id\":\"5565\",\"type\":\"Selection\"},{\"attributes\":{\"axis\":{\"id\":\"5264\"},\"coordinates\":null,\"grid_line_color\":null,\"group\":null,\"ticker\":null},\"id\":\"5266\",\"type\":\"Grid\"},{\"attributes\":{\"end\":1.3527243125254254,\"reset_end\":1.3527243125254254,\"reset_start\":0.0,\"tags\":[[[\"0\",\"0\",null]]]},\"id\":\"5181\",\"type\":\"Range1d\"},{\"attributes\":{},\"id\":\"5223\",\"type\":\"AllLabels\"},{\"attributes\":{\"children\":[{\"id\":\"5371\"}],\"margin\":[0,0,0,0],\"name\":\"Column03519\"},\"id\":\"5251\",\"type\":\"Column\"},{\"attributes\":{},\"id\":\"5268\",\"type\":\"BasicTicker\"},{\"attributes\":{},\"id\":\"5213\",\"type\":\"Selection\"},{\"attributes\":{\"axis_label\":\"\",\"coordinates\":null,\"formatter\":{\"id\":\"5297\"},\"group\":null,\"major_label_policy\":{\"id\":\"5298\"},\"ticker\":{\"id\":\"5268\"}},\"id\":\"5267\",\"type\":\"LinearAxis\"},{\"attributes\":{\"coordinates\":null,\"group\":null,\"text\":\"Annualized Sharpe Ratio for each assets and portfolios\",\"text_color\":\"black\",\"text_font_size\":\"12pt\"},\"id\":\"5184\",\"type\":\"Title\"},{\"attributes\":{\"data\":{\"customdata\":[{\"__ndarray__\":\"yBx2XL3Rwr/IHHZcvdHCv/bKTnHbyde/9spOcdvJ17/80/4P4p7Bv/zT/g/insG/V3EjlGaTur9XcSOUZpO6vzB70sUtdsG/MHvSxS12wb+QrVNdotPdv5CtU12i092/EPtu3cp4xL8Q+27dynjEv9SN+Mg+xcC/1I34yD7FwL+gxHNvVdbBv6DEc29V1sG/TPPd8C7g3b9M893wLuDdvxQTXJ8fzMO/FBNcnx/Mw78ghXihAGu/vyCFeKEAa7+/8BYpfuzIob/wFil+7MihvzD5V13oir+/MPlXXeiKv7+g519IsASiv6DnX0iwBKK/EEmypaoho78QSbKlqiGjvz9qPKwTfp6/P2o8rBN+nr+YOU/V3q2+v5g5T9Xerb6/APTgmk1Lmr8A9OCaTUuav0CuYBICOp6/QK5gEgI6nr8Av0gBWsW/vwC/SAFaxb+/AykuwMgD2r8DKS7AyAPav3NtbAyJO8G/c21sDIk7wb+PTOfR0Ky4v49M59HQrLi/\",\"dtype\":\"float64\",\"order\":\"little\",\"shape\":[24,2]}],\"ids\":[[\"2019/BTC\",\"2020/BTC\",\"2021/BTC\",\"2022/BTC\",\"2019/BTC-NASDAQ\",\"2020/BTC-NASDAQ\",\"2021/BTC-NASDAQ\",\"2022/BTC-NASDAQ\",\"2019/BTC-SP500\",\"2020/BTC-SP500\",\"2021/BTC-SP500\",\"2022/BTC-SP500\",\"2019/NASDAQ\",\"2020/NASDAQ\",\"2021/NASDAQ\",\"2022/NASDAQ\",\"2019/SP500\",\"2020/SP500\",\"2021/SP500\",\"2022/SP500\",\"2019\",\"2020\",\"2021\",\"2022\"]],\"labels\":[[\"BTC\",\"BTC\",\"BTC\",\"BTC\",\"BTC-NASDAQ\",\"BTC-NASDAQ\",\"BTC-NASDAQ\",\"BTC-NASDAQ\",\"BTC-SP500\",\"BTC-SP500\",\"BTC-SP500\",\"BTC-SP500\",\"NASDAQ\",\"NASDAQ\",\"NASDAQ\",\"NASDAQ\",\"SP500\",\"SP500\",\"SP500\",\"SP500\",\"2019\",\"2020\",\"2021\",\"2022\"]],\"marker.colors\":[{\"__ndarray__\":\"yBx2XL3Rwr/2yk5x28nXv/zT/g/insG/V3EjlGaTur8we9LFLXbBv5CtU12i092/EPtu3cp4xL/UjfjIPsXAv6DEc29V1sG/TPPd8C7g3b8UE1yfH8zDvyCFeKEAa7+/8BYpfuzIob8w+Vdd6Iq/v6DnX0iwBKK/EEmypaoho78/ajysE36ev5g5T9Xerb6/APTgmk1Lmr9ArmASAjqevwC/SAFaxb+/AykuwMgD2r9zbWwMiTvBv49M59HQrLi/\",\"dtype\":\"float64\",\"order\":\"little\",\"shape\":[24]}],\"parents\":[[\"2019\",\"2020\",\"2021\",\"2022\",\"2019\",\"2020\",\"2021\",\"2022\",\"2019\",\"2020\",\"2021\",\"2022\",\"2019\",\"2020\",\"2021\",\"2022\",\"2019\",\"2020\",\"2021\",\"2022\",\"\",\"\",\"\",\"\"]],\"values\":[{\"__ndarray__\":\"129UXBHpbD+KBWZN4jJ7P2Nk7TWsNmk/R/nOKQL4Vb+nAUeI5I9zP4FmAxt6DIE/DlW/koEFcD+H/gFmA4Frvz3RZFUBtXI/ahV1WXmbfj9P12h4cJ5wPxJ1uFa6lGO/3SZzaG9tVD/cHYOiR5hbP98WRb5bUUs/5IEaUQKFYL9DZeqc4gFRPw1/eGC4REs/fpTIdWkMUD/c8KGDcjFRv+y2loahCo8/1G9kNH6NmT9F06z9RlaKP6RaI5ney4S/\",\"dtype\":\"float64\",\"order\":\"little\",\"shape\":[24]}]},\"selected\":{\"id\":\"5565\"},\"selection_policy\":{\"id\":\"5564\"}},\"id\":\"5248\",\"type\":\"ColumnDataSource\"},{\"attributes\":{},\"id\":\"5226\",\"type\":\"AllLabels\"},{\"attributes\":{\"fill_color\":{\"value\":\"#30a2da\"},\"hatch_color\":{\"value\":\"#30a2da\"},\"top\":{\"field\":\"selloff\"},\"width\":{\"value\":0.8},\"x\":{\"field\":\"index\"}},\"id\":\"5287\",\"type\":\"VBar\"},{\"attributes\":{\"factors\":[\"BTC\",\"SP500\",\"NASDAQ\",\"BTC-SP500\",\"BTC-NASDAQ\",\"BTC vs SP500\",\"BTC vs NASDAQ\",\"SP500 vs NASDAQ\"],\"tags\":[[[\"index\",\"index\",null]]]},\"id\":\"5180\",\"type\":\"FactorRange\"},{\"attributes\":{},\"id\":\"5307\",\"type\":\"CategoricalScale\"},{\"attributes\":{\"children\":[[{\"id\":\"5255\"},0,0],[{\"id\":\"5302\"},0,1]]},\"id\":\"5368\",\"type\":\"GridBox\"},{\"attributes\":{\"axis_label\":\"\",\"coordinates\":null,\"formatter\":{\"id\":\"5341\"},\"group\":null,\"major_label_policy\":{\"id\":\"5342\"},\"ticker\":{\"id\":\"5312\"}},\"id\":\"5311\",\"type\":\"CategoricalAxis\"},{\"attributes\":{\"below\":[{\"id\":\"5192\"}],\"center\":[{\"id\":\"5194\"},{\"id\":\"5198\"}],\"height\":300,\"left\":[{\"id\":\"5195\"}],\"margin\":[5,5,5,5],\"min_border_bottom\":10,\"min_border_left\":10,\"min_border_right\":10,\"min_border_top\":10,\"renderers\":[{\"id\":\"5218\"}],\"sizing_mode\":\"fixed\",\"title\":{\"id\":\"5184\"},\"toolbar\":{\"id\":\"5205\"},\"width\":500,\"x_range\":{\"id\":\"5180\"},\"x_scale\":{\"id\":\"5188\"},\"y_range\":{\"id\":\"5181\"},\"y_scale\":{\"id\":\"5190\"}},\"id\":\"5183\",\"subtype\":\"Figure\",\"type\":\"Plot\"},{\"attributes\":{},\"id\":\"5312\",\"type\":\"CategoricalTicker\"},{\"attributes\":{\"args\":{\"model\":{\"id\":\"5249\"}},\"code\":\"try { model.visibility = (cb_obj.active == 1); } catch { }\",\"tags\":[\"plotly_tab_fix5249\"]},\"id\":\"5729\",\"type\":\"CustomJS\"},{\"attributes\":{},\"id\":\"5188\",\"type\":\"CategoricalScale\"},{\"attributes\":{\"axis\":{\"id\":\"5311\"},\"coordinates\":null,\"grid_line_color\":null,\"group\":null,\"ticker\":null},\"id\":\"5313\",\"type\":\"Grid\"},{\"attributes\":{\"source\":{\"id\":\"5284\"}},\"id\":\"5291\",\"type\":\"CDSView\"},{\"attributes\":{\"fill_color\":{\"value\":\"#30a2da\"},\"hatch_color\":{\"value\":\"#30a2da\"},\"top\":{\"field\":\"A_0\"},\"width\":{\"value\":0.8},\"x\":{\"field\":\"index\"}},\"id\":\"5215\",\"type\":\"VBar\"},{\"attributes\":{},\"id\":\"5271\",\"type\":\"SaveTool\"},{\"attributes\":{\"axis_label\":\"\",\"coordinates\":null,\"formatter\":{\"id\":\"5222\"},\"group\":null,\"major_label_policy\":{\"id\":\"5223\"},\"ticker\":{\"id\":\"5193\"}},\"id\":\"5192\",\"type\":\"CategoricalAxis\"},{\"attributes\":{},\"id\":\"5315\",\"type\":\"BasicTicker\"},{\"attributes\":{\"axis_label\":\"\",\"coordinates\":null,\"formatter\":{\"id\":\"5344\"},\"group\":null,\"major_label_policy\":{\"id\":\"5345\"},\"ticker\":{\"id\":\"5315\"}},\"id\":\"5314\",\"type\":\"LinearAxis\"},{\"attributes\":{},\"id\":\"5193\",\"type\":\"CategoricalTicker\"}],\"root_ids\":[\"5179\",\"5794\"]},\"title\":\"Bokeh Application\",\"version\":\"2.4.1\"}};\n",
       "    var render_items = [{\"docid\":\"54ca0d19-4b75-4b98-804f-3d16fae37cc4\",\"root_ids\":[\"5179\"],\"roots\":{\"5179\":\"0b22603d-c763-4231-b3d5-b1ccf033eeb8\"}}];\n",
       "    root.Bokeh.embed.embed_items_notebook(docs_json, render_items);\n",
       "  }\n",
       "  if (root.Bokeh !== undefined && root.Bokeh.Panel !== undefined) {\n",
       "    embed_document(root);\n",
       "  } else {\n",
       "    var attempts = 0;\n",
       "    var timer = setInterval(function(root) {\n",
       "      if (root.Bokeh !== undefined && root.Bokeh.Panel !== undefined) {\n",
       "        clearInterval(timer);\n",
       "        embed_document(root);\n",
       "      } else if (document.readyState == \"complete\") {\n",
       "        attempts++;\n",
       "        if (attempts > 200) {\n",
       "          clearInterval(timer);\n",
       "          console.log(\"Bokeh: ERROR: Unable to run BokehJS code because BokehJS library is missing\");\n",
       "        }\n",
       "      }\n",
       "    }, 25, root)\n",
       "  }\n",
       "})(window);</script>"
      ],
      "text/plain": [
       "Tabs\n",
       "    [0] HoloViews(Bars, name='BTC - Equity D...)\n",
       "    [1] Plotly(Figure, name='Returns vs. Max Loss')\n",
       "    [2] Column\n",
       "        [0] HoloViews(Layout)\n",
       "    [3] Row\n",
       "        [0] Str(None)\n",
       "        [1] Str(None)"
      ]
     },
     "execution_count": 69,
     "metadata": {
      "application/vnd.holoviews_exec.v0+json": {
       "id": "5179"
      }
     },
     "output_type": "execute_result"
    }
   ],
   "source": [
    "tabs = pn.Tabs(\n",
    "    (\"BTC - Equity Diversifier\", sharpe_bar_chart),\n",
    "    (\"Returns vs. Max Loss\", retmxloss_chart),\n",
    "    (\"Correlation in diff Markets\",corr_chart),\n",
    "    (\"Return distribution\", pn.Row(selloff_dist_chart,normal_dist_chart)))\n",
    "tabs"
   ]
  },
  {
   "cell_type": "code",
   "execution_count": null,
   "id": "98ae5921",
   "metadata": {},
   "outputs": [],
   "source": []
  }
 ],
 "metadata": {
  "kernelspec": {
   "display_name": "Python 3 (ipykernel)",
   "language": "python",
   "name": "python3"
  },
  "language_info": {
   "codemirror_mode": {
    "name": "ipython",
    "version": 3
   },
   "file_extension": ".py",
   "mimetype": "text/x-python",
   "name": "python",
   "nbconvert_exporter": "python",
   "pygments_lexer": "ipython3",
   "version": "3.7.11"
  }
 },
 "nbformat": 4,
 "nbformat_minor": 5
}
