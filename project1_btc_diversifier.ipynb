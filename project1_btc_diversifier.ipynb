{
 "cells": [
  {
   "cell_type": "markdown",
   "id": "ec5665d9",
   "metadata": {},
   "source": [
    "# Bitcoin as a Diversifier to US Equity\n",
    "\n",
    "## Introduction\n",
    "\n",
    "This exercise will explore the potential diversification benefits of Bitcoin to an all-US equity portfolio. This will be done by examing two core metrics: correlation and Sharpe ratio. \n",
    "\n",
    "Correlations are drawn during market sell-off periods as well as normal market periods. The purpose for this comparison is to find out if Bitcoin is a good diversifier to US equities when it's needed the most, which is when the US equity market sells off.  \n",
    "\n",
    "The Sharpe ratios of Bitcoin, the S&P 500, the NASDAQ, and equally balanced portfolios of BTC-SP500 and BTC-NASDAQ are compared. The Sharpe ratio will help determine the diversification benefit of Bitcoin to US equity.\n",
    "\n",
    "## Assumptions\n",
    "\n",
    "A sell-off market environment is defined as any daily returns that fall below the -2 standard deviation of SP500 daily price return.  \n",
    "\n",
    "A normal market environment is defined as any daily returns that fall within the -2 standard deviation and +2 standard deviation of SP500 daily price return.\n",
    "\n",
    "Data is filtered with sell off and normal market conditions"
   ]
  },
  {
   "cell_type": "code",
   "execution_count": 76,
   "id": "5c29c4b2",
   "metadata": {},
   "outputs": [],
   "source": [
    "# Initial imports\n",
    "import pandas as pd\n",
    "from dotenv import load_dotenv\n",
    "import numpy as np\n",
    "import datetime\n",
    "import yfinance as yf\n",
    "import hvplot.pandas\n",
    "import matplotlib.pyplot as plt\n",
    "import plotly.express as px\n",
    "import seaborn as sb\n",
    "import panel as pn\n",
    "#import tabulate"
   ]
  },
  {
   "cell_type": "code",
   "execution_count": 77,
   "id": "b26e479e",
   "metadata": {},
   "outputs": [
    {
     "data": {
      "text/plain": [
       "True"
      ]
     },
     "execution_count": 77,
     "metadata": {},
     "output_type": "execute_result"
    }
   ],
   "source": [
    "load_dotenv()"
   ]
  },
  {
   "cell_type": "markdown",
   "id": "947d0992",
   "metadata": {},
   "source": [
    "# Data Exploration and Cleanup\n",
    "\n",
    "Using the `yfinance` library, price data was retreived through the Yahoo Finance API. Only necessary columns were kept and null values were dropped.\n",
    "\n",
    "For data exploration, a +/-2 standard deviation for the S&P 500's daily return was calculated.  "
   ]
  },
  {
   "cell_type": "code",
   "execution_count": 78,
   "id": "58d9f08b",
   "metadata": {},
   "outputs": [
    {
     "name": "stdout",
     "output_type": "stream",
     "text": [
      "[*********************100%***********************]  3 of 3 completed\n"
     ]
    }
   ],
   "source": [
    "# Download data from Yahoo API and clean data\n",
    "today = datetime.date.today().isoformat()\n",
    "\n",
    "response_yf = yf.download(\n",
    "    \"^GSPC ^IXIC BTC-USD\", \n",
    "    start=\"2014-09-17\", \n",
    "    end=today\n",
    ")\n",
    "\n",
    "# trimming the data\n",
    "price_df = response_yf['Close']\n",
    "price_df = price_df.rename(\n",
    "    columns={\n",
    "        '^GSPC': 'SP500', \n",
    "        '^IXIC': 'NASDAQ',\n",
    "        'BTC-USD': 'BTC'\n",
    "    }\n",
    ").copy(deep=True)\n",
    "\n",
    "# remove all NA \n",
    "price_df = price_df.dropna()"
   ]
  },
  {
   "cell_type": "code",
   "execution_count": 79,
   "id": "b410c696",
   "metadata": {},
   "outputs": [],
   "source": [
    "# Calculate daily price return for all assets.  Calculate the 2 standard deviation boundary for SP500\n",
    "\n",
    "# calc daily percentage returns\n",
    "pct_change_df = price_df.pct_change()\n",
    "pct_change_df = pct_change_df.dropna()\n",
    "\n",
    "pct_change_std = pct_change_df['SP500'].std()\n",
    "pct_change_ret = pct_change_df['SP500'].mean()\n",
    "\n",
    "# SP500 price return at 2 standard dev boundary\n",
    "outlier_neg2std = pct_change_ret - pct_change_std * 2\n",
    "outlier_pos2std = pct_change_ret + pct_change_std * 2\n",
    "\n",
    "# Extract returns where S&P returns are greater 2 std dev\n",
    "pct_change_below_2std = pct_change_df.loc[\n",
    "    pct_change_df['SP500'] <= outlier_neg2std\n",
    "]\n",
    "# Extract returns where S&P returns are within the 2 std dev\n",
    "pct_change_inside_2std = pct_change_df.loc[\n",
    "    (pct_change_df['SP500'] >= outlier_neg2std) & \n",
    "    (pct_change_df['SP500'] <= outlier_pos2std)\n",
    "]\n",
    "\n",
    "# Create a portfolio between BTC & SP500, NASDAQ\n",
    "combined_pct_change = pd.concat(\n",
    "    [\n",
    "        pct_change_df['BTC'] + pct_change_df['SP500'],\n",
    "        pct_change_df['BTC'] + pct_change_df['NASDAQ']\n",
    "    ],\n",
    "    axis=1\n",
    ")\n",
    "\n",
    "# Extract returns where S&P returns are greater 2 std dev\n",
    "combined_pct_change_below_2std = combined_pct_change.loc[\n",
    "    pct_change_df['SP500'] <= outlier_neg2std\n",
    "]\n",
    "\n",
    "# Extract returns where S&P returns are within the 2 std dev\n",
    "combined_pct_change_inside_2std = combined_pct_change.loc[\n",
    "    (pct_change_df['SP500'] >= outlier_neg2std) & \n",
    "    (pct_change_df['SP500'] <=outlier_pos2std)\n",
    "]\n",
    "\n",
    "combined_pct_change.columns = ['BTC-SP500','BTC-NASDAQ']\n",
    "combined_pct_change_below_2std.columns = ['BTC-SP500','BTC-NASDAQ']\n",
    "combined_pct_change_inside_2std.columns = ['BTC-SP500','BTC-NASDAQ']"
   ]
  },
  {
   "cell_type": "code",
   "execution_count": 80,
   "id": "497b53a0",
   "metadata": {},
   "outputs": [
    {
     "data": {
      "text/plain": [
       "-0.06703439592607463"
      ]
     },
     "execution_count": 80,
     "metadata": {},
     "output_type": "execute_result"
    }
   ],
   "source": [
    "# Verify that portfolio returns are added correctly\n",
    "pct_change_df['BTC'].iloc[0]+pct_change_df['SP500'].iloc[0]"
   ]
  },
  {
   "cell_type": "code",
   "execution_count": 81,
   "id": "559a82f4",
   "metadata": {},
   "outputs": [
    {
     "data": {
      "text/plain": [
       "-0.06703439592607463"
      ]
     },
     "execution_count": 81,
     "metadata": {},
     "output_type": "execute_result"
    }
   ],
   "source": [
    "combined_pct_change['BTC-SP500'].iloc[0] "
   ]
  },
  {
   "cell_type": "markdown",
   "id": "e59bb804",
   "metadata": {},
   "source": [
    "# Correlation Analysis\n",
    "\n",
    "This section examines the correlation between Bitcoin and the S&P 500 and NASDAQ in sell-off and normal market environments."
   ]
  },
  {
   "cell_type": "code",
   "execution_count": 82,
   "id": "78bdea7a",
   "metadata": {},
   "outputs": [],
   "source": [
    "# Calculate correlation amongst all assets for returns that beyond the 2 std dev and within 2 std dev\n",
    "\n",
    "# Correlation matrix\n",
    "corr_below_2std = pct_change_below_2std.corr()\n",
    "corr_inside_2std = pct_change_inside_2std.corr()\n",
    "\n",
    "# Extract corr off the diagonal of the matrices\n",
    "extracted_corr_below_2std = np.extract(\n",
    "    1 - np.eye(len(corr_below_2std)), \n",
    "    corr_below_2std\n",
    ")\n",
    "extracted_corr_inside_2std  = np.extract(\n",
    "    1 - np.eye(len(corr_below_2std)), \n",
    "    corr_inside_2std\n",
    ")\n",
    "\n",
    "# Retrieve only correlation btween BTC vs equity and SP500 vs NASDAQ\n",
    "ix=[0,1,3]\n",
    "extracted_corr_below_2std = [extracted_corr_below_2std[i] for i in ix]\n",
    "extracted_corr_inside_2std = [extracted_corr_inside_2std[i] for i in ix]"
   ]
  },
  {
   "cell_type": "markdown",
   "id": "5de3289b",
   "metadata": {},
   "source": [
    "## Charting Section"
   ]
  },
  {
   "cell_type": "markdown",
   "id": "a05bf49c",
   "metadata": {},
   "source": [
    "#### Charting functions"
   ]
  },
  {
   "cell_type": "code",
   "execution_count": 83,
   "id": "093eb5c1",
   "metadata": {},
   "outputs": [],
   "source": [
    "def create_dist_chart_fill_opt(data, xloc1, xloc2, annotate_txt):\n",
    "    \n",
    "    # xloc1 or xloc2 is the number on x-axis where the chart is shaded beyond that location\n",
    "    # if both xloc1 and xloc2 are provided then a shaded area is in between those 2 numbers.\n",
    "    # if both xloc1 and xloc2 are empty then no shading is done\n",
    "    \n",
    "    plt.figure(figsize=(12,5))\n",
    "    ax = sb.distplot(data)\n",
    "    x, y = ax.get_lines()[0].get_data()\n",
    "    line = ax.lines[0].get_data()\n",
    "\n",
    "    if bool(xloc1) & bool(xloc2):\n",
    "        plt.vlines(xloc1, 0, y[np.argmin(abs(x-xloc1))], color='k')\n",
    "        plt.vlines(xloc2, 0, y[np.argmin(abs(x-xloc2))], color='k')\n",
    "        ax.fill_between(line[0], np.zeros(len(line[0])), line[1])\n",
    "        ax.fill_between(\n",
    "            x, y, \n",
    "            where=(x>xloc1) & (x<xloc2), \n",
    "            interpolate=True,\n",
    "            color='#EF9A9A'\n",
    "        )      \n",
    "\n",
    "    elif bool(xloc1) | bool(xloc2):\n",
    "        plt.vlines(xloc1, 0, y[np.argmin(abs(x-xloc1))], color='k')\n",
    "        ax.fill_between(line[0], np.zeros(len(line[0])), line[1])\n",
    "        ax.fill_between(\n",
    "            x, y, \n",
    "            where=(x < xloc1), \n",
    "            interpolate=True, \n",
    "            color='#EF9A9A'\n",
    "        )\n",
    "\n",
    "    else:    \n",
    "        ax = sb.distplot(data)\n",
    "        ax.fill_between(line[0], np.zeros(len(line[0])), line[1])  \n",
    "        \n",
    "    ax.set_title('Distribution of SP500 Daily Price Return')   \n",
    "    ax.text(-0.12, 10,annotate_txt, fontsize=9)  "
   ]
  },
  {
   "cell_type": "code",
   "execution_count": 84,
   "id": "fa0d4f98",
   "metadata": {},
   "outputs": [],
   "source": [
    "def create_bar_chart(data,title):\n",
    "    barplot = data.hvplot.bar(title=title,height=300,width=500)\n",
    "    return barplot"
   ]
  },
  {
   "cell_type": "markdown",
   "id": "605769d7",
   "metadata": {},
   "source": [
    "### Chart density distribution charts\n",
    "\n",
    "These charts highlight the section of the data distribution that will be used to calculate the correlation for sell-off and normal market environments.\n",
    "\n",
    "The -2 standard deviation of the S&P 500's returns is highlighted on the chart."
   ]
  },
  {
   "cell_type": "code",
   "execution_count": 85,
   "id": "d85111b3",
   "metadata": {},
   "outputs": [
    {
     "name": "stderr",
     "output_type": "stream",
     "text": [
      "/opt/anaconda3/envs/pyvizenv/lib/python3.7/site-packages/seaborn/distributions.py:2619: FutureWarning:\n",
      "\n",
      "`distplot` is a deprecated function and will be removed in a future version. Please adapt your code to use either `displot` (a figure-level function with similar flexibility) or `histplot` (an axes-level function for histograms).\n",
      "\n"
     ]
    },
    {
     "data": {
      "image/png": "[encoded data removed]",
      "text/plain": [
       "<Figure size 864x360 with 1 Axes>"
      ]
     },
     "metadata": {},
     "output_type": "display_data"
    }
   ],
   "source": [
    "annotext = str(len(pct_change_below_2std)) + \" data points were found\"\n",
    "\n",
    "selloff_dist_chart = create_dist_chart_fill_opt(\n",
    "    pct_change_df['SP500'],\n",
    "    outlier_neg2std,\n",
    "    [],\n",
    "    annotext\n",
    ")"
   ]
  },
  {
   "cell_type": "markdown",
   "id": "4071b9c5",
   "metadata": {},
   "source": [
    "This chart highlights the normal trading activity inside of +/-2 standard deviations."
   ]
  },
  {
   "cell_type": "code",
   "execution_count": 86,
   "id": "98e64415",
   "metadata": {},
   "outputs": [
    {
     "name": "stderr",
     "output_type": "stream",
     "text": [
      "/opt/anaconda3/envs/pyvizenv/lib/python3.7/site-packages/seaborn/distributions.py:2619: FutureWarning:\n",
      "\n",
      "`distplot` is a deprecated function and will be removed in a future version. Please adapt your code to use either `displot` (a figure-level function with similar flexibility) or `histplot` (an axes-level function for histograms).\n",
      "\n"
     ]
    },
    {
     "data": {
      "image/png": "[encoded data removed]",
      "text/plain": [
       "<Figure size 864x360 with 1 Axes>"
      ]
     },
     "metadata": {},
     "output_type": "display_data"
    }
   ],
   "source": [
    "annotext = str(len(pct_change_inside_2std)) + \" data points were found\"\n",
    "\n",
    "normal_dist_chart = create_dist_chart_fill_opt(\n",
    "    pct_change_df['SP500'],\n",
    "    outlier_neg2std,\n",
    "    outlier_pos2std,\n",
    "    annotext\n",
    ")"
   ]
  },
  {
   "cell_type": "markdown",
   "id": "8ca92d02",
   "metadata": {},
   "source": [
    "### Correlation results\n",
    "The distinct difference between correlations during sell-off and normal markets appears to suggest that Bitcoin is not a good diversifier to US equity. US Equity needs diversification the most during a market sell-off. \n",
    "\n",
    "The correlation between Bitcoin and equity spiked ~5x during market sell-offs. The correlation between the S&P 500 and NASDAQ remained high in both sell-off and normal market environments."
   ]
  },
  {
   "cell_type": "code",
   "execution_count": 87,
   "id": "9435f7d1",
   "metadata": {},
   "outputs": [
    {
     "data": {
      "text/html": [
       "<div>\n",
       "<style scoped>\n",
       "    .dataframe tbody tr th:only-of-type {\n",
       "        vertical-align: middle;\n",
       "    }\n",
       "\n",
       "    .dataframe tbody tr th {\n",
       "        vertical-align: top;\n",
       "    }\n",
       "\n",
       "    .dataframe thead th {\n",
       "        text-align: right;\n",
       "    }\n",
       "</style>\n",
       "<table border=\"1\" class=\"dataframe\">\n",
       "  <thead>\n",
       "    <tr style=\"text-align: right;\">\n",
       "      <th></th>\n",
       "      <th>selloff</th>\n",
       "      <th>normal</th>\n",
       "    </tr>\n",
       "  </thead>\n",
       "  <tbody>\n",
       "    <tr>\n",
       "      <th>BTC vs SP500</th>\n",
       "      <td>0.526344</td>\n",
       "      <td>0.087877</td>\n",
       "    </tr>\n",
       "    <tr>\n",
       "      <th>BTC vs NASDAQ</th>\n",
       "      <td>0.490430</td>\n",
       "      <td>0.118869</td>\n",
       "    </tr>\n",
       "    <tr>\n",
       "      <th>SP500 vs NASDAQ</th>\n",
       "      <td>0.932749</td>\n",
       "      <td>0.911174</td>\n",
       "    </tr>\n",
       "  </tbody>\n",
       "</table>\n",
       "</div>"
      ],
      "text/plain": [
       "                  selloff    normal\n",
       "BTC vs SP500     0.526344  0.087877\n",
       "BTC vs NASDAQ    0.490430  0.118869\n",
       "SP500 vs NASDAQ  0.932749  0.911174"
      ]
     },
     "execution_count": 87,
     "metadata": {},
     "output_type": "execute_result"
    }
   ],
   "source": [
    "corr_btc_equity = pd.concat(\n",
    "    [\n",
    "        pd.DataFrame(extracted_corr_below_2std),\n",
    "        pd.DataFrame(extracted_corr_inside_2std)\n",
    "    ], \n",
    "    axis=1\n",
    ")\n",
    "\n",
    "corr_btc_equity = corr_btc_equity.set_index([\n",
    "    pd.Index([\n",
    "        'BTC vs SP500',\n",
    "        'BTC vs NASDAQ',\n",
    "        'SP500 vs NASDAQ'\n",
    "    ])\n",
    "])\n",
    "\n",
    "corr_btc_equity.columns = ['selloff','normal']\n",
    "corr_btc_equity"
   ]
  },
  {
   "cell_type": "code",
   "execution_count": 88,
   "id": "f5dede8c",
   "metadata": {},
   "outputs": [
    {
     "data": {},
     "metadata": {},
     "output_type": "display_data"
    },
    {
     "data": {},
     "metadata": {},
     "output_type": "display_data"
    },
    {
     "data": {
      "application/vnd.holoviews_exec.v0+json": "",
      "text/html": [
       "<div id='3647'>\n",
       "\n",
       "\n",
       "\n",
       "\n",
       "\n",
       "  <div class=\"bk-root\" id=\"94e0bb05-98fb-4166-a154-3c0020eb03b9\" data-root-id=\"3647\"></div>\n",
       "</div>\n",
       "<script type=\"application/javascript\">(function(root) {\n",
       "  function embed_document(root) {\n",
       "    var docs_json = {\"f19c716a-62dc-40b9-b9a5-6c3178d9ce20\":{\"defs\":[{\"extends\":null,\"module\":null,\"name\":\"ReactiveHTML1\",\"overrides\":[],\"properties\":[]},{\"extends\":null,\"module\":null,\"name\":\"FlexBox1\",\"overrides\":[],\"properties\":[{\"default\":\"flex-start\",\"kind\":null,\"name\":\"align_content\"},{\"default\":\"flex-start\",\"kind\":null,\"name\":\"align_items\"},{\"default\":\"row\",\"kind\":null,\"name\":\"flex_direction\"},{\"default\":\"wrap\",\"kind\":null,\"name\":\"flex_wrap\"},{\"default\":\"flex-start\",\"kind\":null,\"name\":\"justify_content\"}]},{\"extends\":null,\"module\":null,\"name\":\"TemplateActions1\",\"overrides\":[],\"properties\":[{\"default\":0,\"kind\":null,\"name\":\"open_modal\"},{\"default\":0,\"kind\":null,\"name\":\"close_modal\"}]},{\"extends\":null,\"module\":null,\"name\":\"MaterialTemplateActions1\",\"overrides\":[],\"properties\":[{\"default\":0,\"kind\":null,\"name\":\"open_modal\"},{\"default\":0,\"kind\":null,\"name\":\"close_modal\"}]}],\"roots\":{\"references\":[{\"attributes\":{},\"id\":\"3681\",\"type\":\"Selection\"},{\"attributes\":{\"toolbar\":{\"id\":\"3765\"},\"toolbar_location\":\"above\"},\"id\":\"3766\",\"type\":\"ToolbarBox\"},{\"attributes\":{},\"id\":\"3693\",\"type\":\"BasicTickFormatter\"},{\"attributes\":{\"data\":{\"index\":[\"BTC vs SP500\",\"BTC vs NASDAQ\",\"SP500 vs NASDAQ\"],\"selloff\":{\"__ndarray__\":\"CLJni87X4D+QL9zCNWPfPz3OqusU2e0/\",\"dtype\":\"float64\",\"order\":\"little\",\"shape\":[3]}},\"selected\":{\"id\":\"3681\"},\"selection_policy\":{\"id\":\"3749\"}},\"id\":\"3680\",\"type\":\"ColumnDataSource\"},{\"attributes\":{},\"id\":\"3705\",\"type\":\"LinearScale\"},{\"attributes\":{\"axis\":{\"id\":\"3710\"},\"coordinates\":null,\"dimension\":1,\"grid_line_color\":null,\"group\":null,\"ticker\":null},\"id\":\"3713\",\"type\":\"Grid\"},{\"attributes\":{\"fill_alpha\":{\"value\":0.1},\"fill_color\":{\"value\":\"#30a2da\"},\"hatch_alpha\":{\"value\":0.1},\"hatch_color\":{\"value\":\"#30a2da\"},\"line_alpha\":{\"value\":0.1},\"top\":{\"field\":\"selloff\"},\"width\":{\"value\":0.8},\"x\":{\"field\":\"index\"}},\"id\":\"3684\",\"type\":\"VBar\"},{\"attributes\":{\"below\":[{\"id\":\"3660\"}],\"center\":[{\"id\":\"3662\"},{\"id\":\"3666\"}],\"height\":300,\"left\":[{\"id\":\"3663\"}],\"margin\":null,\"min_border_bottom\":10,\"min_border_left\":10,\"min_border_right\":10,\"min_border_top\":10,\"renderers\":[{\"id\":\"3686\"}],\"sizing_mode\":\"fixed\",\"title\":{\"id\":\"3652\"},\"toolbar\":{\"id\":\"3673\"},\"toolbar_location\":null,\"width\":500,\"x_range\":{\"id\":\"3648\"},\"x_scale\":{\"id\":\"3656\"},\"y_range\":{\"id\":\"3649\"},\"y_scale\":{\"id\":\"3658\"}},\"id\":\"3651\",\"subtype\":\"Figure\",\"type\":\"Plot\"},{\"attributes\":{},\"id\":\"3703\",\"type\":\"CategoricalScale\"},{\"attributes\":{\"coordinates\":null,\"group\":null,\"text\":\"Correlation between BTC vs SP500 and NASDAQ \\nduring Normal Market\",\"text_color\":\"black\",\"text_font_size\":\"12pt\"},\"id\":\"3699\",\"type\":\"Title\"},{\"attributes\":{},\"id\":\"3741\",\"type\":\"AllLabels\"},{\"attributes\":{\"children\":[{\"id\":\"3767\"}],\"margin\":[0,0,0,0],\"name\":\"Column03445\"},\"id\":\"3647\",\"type\":\"Column\"},{\"attributes\":{},\"id\":\"3661\",\"type\":\"CategoricalTicker\"},{\"attributes\":{},\"id\":\"3664\",\"type\":\"BasicTicker\"},{\"attributes\":{\"axis_label\":\"\",\"coordinates\":null,\"formatter\":{\"id\":\"3737\"},\"group\":null,\"major_label_policy\":{\"id\":\"3738\"},\"ticker\":{\"id\":\"3708\"}},\"id\":\"3707\",\"type\":\"CategoricalAxis\"},{\"attributes\":{},\"id\":\"3658\",\"type\":\"LinearScale\"},{\"attributes\":{},\"id\":\"3708\",\"type\":\"CategoricalTicker\"},{\"attributes\":{\"axis\":{\"id\":\"3660\"},\"coordinates\":null,\"grid_line_color\":null,\"group\":null,\"ticker\":null},\"id\":\"3662\",\"type\":\"Grid\"},{\"attributes\":{\"axis\":{\"id\":\"3707\"},\"coordinates\":null,\"grid_line_color\":null,\"group\":null,\"ticker\":null},\"id\":\"3709\",\"type\":\"Grid\"},{\"attributes\":{\"coordinates\":null,\"group\":null,\"text\":\"Correlation between BTC vs SP500 and NASDAQ \\nduring Sell Off Market\",\"text_color\":\"black\",\"text_font_size\":\"12pt\"},\"id\":\"3652\",\"type\":\"Title\"},{\"attributes\":{},\"id\":\"3711\",\"type\":\"BasicTicker\"},{\"attributes\":{\"children\":[[{\"id\":\"3651\"},0,0],[{\"id\":\"3698\"},0,1]]},\"id\":\"3764\",\"type\":\"GridBox\"},{\"attributes\":{\"axis_label\":\"\",\"coordinates\":null,\"formatter\":{\"id\":\"3740\"},\"group\":null,\"major_label_policy\":{\"id\":\"3741\"},\"ticker\":{\"id\":\"3711\"}},\"id\":\"3710\",\"type\":\"LinearAxis\"},{\"attributes\":{\"fill_alpha\":{\"value\":0.1},\"fill_color\":{\"value\":\"#30a2da\"},\"hatch_alpha\":{\"value\":0.1},\"hatch_color\":{\"value\":\"#30a2da\"},\"line_alpha\":{\"value\":0.1},\"top\":{\"field\":\"normal\"},\"width\":{\"value\":0.8},\"x\":{\"field\":\"index\"}},\"id\":\"3731\",\"type\":\"VBar\"},{\"attributes\":{\"tools\":[{\"id\":\"3650\"},{\"id\":\"3667\"},{\"id\":\"3668\"},{\"id\":\"3669\"},{\"id\":\"3670\"},{\"id\":\"3671\"}]},\"id\":\"3673\",\"type\":\"Toolbar\"},{\"attributes\":{},\"id\":\"3690\",\"type\":\"CategoricalTickFormatter\"},{\"attributes\":{\"axis\":{\"id\":\"3663\"},\"coordinates\":null,\"dimension\":1,\"grid_line_color\":null,\"group\":null,\"ticker\":null},\"id\":\"3666\",\"type\":\"Grid\"},{\"attributes\":{\"coordinates\":null,\"data_source\":{\"id\":\"3680\"},\"glyph\":{\"id\":\"3683\"},\"group\":null,\"hover_glyph\":null,\"muted_glyph\":{\"id\":\"3685\"},\"nonselection_glyph\":{\"id\":\"3684\"},\"selection_glyph\":{\"id\":\"3688\"},\"view\":{\"id\":\"3687\"}},\"id\":\"3686\",\"type\":\"GlyphRenderer\"},{\"attributes\":{\"coordinates\":null,\"data_source\":{\"id\":\"3727\"},\"glyph\":{\"id\":\"3730\"},\"group\":null,\"hover_glyph\":null,\"muted_glyph\":{\"id\":\"3732\"},\"nonselection_glyph\":{\"id\":\"3731\"},\"selection_glyph\":{\"id\":\"3735\"},\"view\":{\"id\":\"3734\"}},\"id\":\"3733\",\"type\":\"GlyphRenderer\"},{\"attributes\":{},\"id\":\"3714\",\"type\":\"SaveTool\"},{\"attributes\":{\"fill_alpha\":{\"value\":0.2},\"fill_color\":{\"value\":\"#30a2da\"},\"hatch_alpha\":{\"value\":0.2},\"hatch_color\":{\"value\":\"#30a2da\"},\"line_alpha\":{\"value\":0.2},\"top\":{\"field\":\"selloff\"},\"width\":{\"value\":0.8},\"x\":{\"field\":\"index\"}},\"id\":\"3685\",\"type\":\"VBar\"},{\"attributes\":{},\"id\":\"3760\",\"type\":\"UnionRenderers\"},{\"attributes\":{},\"id\":\"3667\",\"type\":\"SaveTool\"},{\"attributes\":{},\"id\":\"3715\",\"type\":\"PanTool\"},{\"attributes\":{},\"id\":\"3668\",\"type\":\"PanTool\"},{\"attributes\":{},\"id\":\"3716\",\"type\":\"WheelZoomTool\"},{\"attributes\":{\"tools\":[{\"id\":\"3697\"},{\"id\":\"3714\"},{\"id\":\"3715\"},{\"id\":\"3716\"},{\"id\":\"3717\"},{\"id\":\"3718\"}]},\"id\":\"3720\",\"type\":\"Toolbar\"},{\"attributes\":{},\"id\":\"3728\",\"type\":\"Selection\"},{\"attributes\":{},\"id\":\"3669\",\"type\":\"WheelZoomTool\"},{\"attributes\":{\"overlay\":{\"id\":\"3719\"}},\"id\":\"3717\",\"type\":\"BoxZoomTool\"},{\"attributes\":{\"overlay\":{\"id\":\"3672\"}},\"id\":\"3670\",\"type\":\"BoxZoomTool\"},{\"attributes\":{\"source\":{\"id\":\"3727\"}},\"id\":\"3734\",\"type\":\"CDSView\"},{\"attributes\":{\"factors\":[\"BTC vs SP500\",\"BTC vs NASDAQ\",\"SP500 vs NASDAQ\"],\"tags\":[[[\"index\",\"index\",null]]]},\"id\":\"3648\",\"type\":\"FactorRange\"},{\"attributes\":{},\"id\":\"3718\",\"type\":\"ResetTool\"},{\"attributes\":{\"callback\":null,\"renderers\":[{\"id\":\"3686\"}],\"tags\":[\"hv_created\"],\"tooltips\":[[\"index\",\"@{index}\"],[\"selloff\",\"@{selloff}\"]]},\"id\":\"3650\",\"type\":\"HoverTool\"},{\"attributes\":{},\"id\":\"3671\",\"type\":\"ResetTool\"},{\"attributes\":{\"bottom_units\":\"screen\",\"coordinates\":null,\"fill_alpha\":0.5,\"fill_color\":\"lightgrey\",\"group\":null,\"left_units\":\"screen\",\"level\":\"overlay\",\"line_alpha\":1.0,\"line_color\":\"black\",\"line_dash\":[4,4],\"line_width\":2,\"right_units\":\"screen\",\"syncable\":false,\"top_units\":\"screen\"},\"id\":\"3719\",\"type\":\"BoxAnnotation\"},{\"attributes\":{\"end\":0.9769811270589481,\"reset_end\":0.9769811270589481,\"reset_start\":0.0,\"tags\":[[[\"selloff\",\"selloff\",null]]]},\"id\":\"3649\",\"type\":\"Range1d\"},{\"attributes\":{\"bottom_units\":\"screen\",\"coordinates\":null,\"fill_alpha\":0.5,\"fill_color\":\"lightgrey\",\"group\":null,\"left_units\":\"screen\",\"level\":\"overlay\",\"line_alpha\":1.0,\"line_color\":\"black\",\"line_dash\":[4,4],\"line_width\":2,\"right_units\":\"screen\",\"syncable\":false,\"top_units\":\"screen\"},\"id\":\"3672\",\"type\":\"BoxAnnotation\"},{\"attributes\":{},\"id\":\"3656\",\"type\":\"CategoricalScale\"},{\"attributes\":{},\"id\":\"3738\",\"type\":\"AllLabels\"},{\"attributes\":{\"source\":{\"id\":\"3680\"}},\"id\":\"3687\",\"type\":\"CDSView\"},{\"attributes\":{\"fill_color\":{\"value\":\"#30a2da\"},\"hatch_color\":{\"value\":\"#30a2da\"},\"top\":{\"field\":\"selloff\"},\"width\":{\"value\":0.8},\"x\":{\"field\":\"index\"}},\"id\":\"3683\",\"type\":\"VBar\"},{\"attributes\":{\"data\":{\"index\":[\"BTC vs SP500\",\"BTC vs NASDAQ\",\"SP500 vs NASDAQ\"],\"normal\":{\"__ndarray__\":\"HJWx3SB/tj/26HuJKm6+P/JptUZXKO0/\",\"dtype\":\"float64\",\"order\":\"little\",\"shape\":[3]}},\"selected\":{\"id\":\"3728\"},\"selection_policy\":{\"id\":\"3760\"}},\"id\":\"3727\",\"type\":\"ColumnDataSource\"},{\"attributes\":{\"axis_label\":\"\",\"coordinates\":null,\"formatter\":{\"id\":\"3690\"},\"group\":null,\"major_label_policy\":{\"id\":\"3691\"},\"ticker\":{\"id\":\"3661\"}},\"id\":\"3660\",\"type\":\"CategoricalAxis\"},{\"attributes\":{},\"id\":\"3694\",\"type\":\"AllLabels\"},{\"attributes\":{\"bottom\":{\"value\":0},\"fill_alpha\":{\"value\":1.0},\"fill_color\":{\"value\":\"#30a2da\"},\"hatch_alpha\":{\"value\":1.0},\"hatch_color\":{\"value\":\"#30a2da\"},\"hatch_scale\":{\"value\":12.0},\"hatch_weight\":{\"value\":1.0},\"line_alpha\":{\"value\":1.0},\"line_cap\":{\"value\":\"butt\"},\"line_color\":{\"value\":\"black\"},\"line_dash\":{\"value\":[]},\"line_dash_offset\":{\"value\":0},\"line_join\":{\"value\":\"bevel\"},\"line_width\":{\"value\":1},\"top\":{\"field\":\"normal\"},\"width\":{\"value\":0.8},\"x\":{\"field\":\"index\"}},\"id\":\"3735\",\"type\":\"VBar\"},{\"attributes\":{\"callback\":null,\"renderers\":[{\"id\":\"3733\"}],\"tags\":[\"hv_created\"],\"tooltips\":[[\"index\",\"@{index}\"],[\"normal\",\"@{normal}\"]]},\"id\":\"3697\",\"type\":\"HoverTool\"},{\"attributes\":{},\"id\":\"3691\",\"type\":\"AllLabels\"},{\"attributes\":{\"client_comm_id\":\"4e943e42126942659d956ee6349e1b84\",\"comm_id\":\"fd8ea325c8524e929b8f57392db67e16\",\"plot_id\":\"3647\"},\"id\":\"4068\",\"type\":\"panel.models.comm_manager.CommManager\"},{\"attributes\":{},\"id\":\"3749\",\"type\":\"UnionRenderers\"},{\"attributes\":{\"below\":[{\"id\":\"3707\"}],\"center\":[{\"id\":\"3709\"},{\"id\":\"3713\"}],\"height\":300,\"left\":[{\"id\":\"3710\"}],\"margin\":null,\"min_border_bottom\":10,\"min_border_left\":10,\"min_border_right\":10,\"min_border_top\":10,\"renderers\":[{\"id\":\"3733\"}],\"sizing_mode\":\"fixed\",\"title\":{\"id\":\"3699\"},\"toolbar\":{\"id\":\"3720\"},\"toolbar_location\":null,\"width\":500,\"x_range\":{\"id\":\"3648\"},\"x_scale\":{\"id\":\"3703\"},\"y_range\":{\"id\":\"3696\"},\"y_scale\":{\"id\":\"3705\"}},\"id\":\"3698\",\"subtype\":\"Figure\",\"type\":\"Plot\"},{\"attributes\":{},\"id\":\"3737\",\"type\":\"CategoricalTickFormatter\"},{\"attributes\":{\"toolbars\":[{\"id\":\"3673\"},{\"id\":\"3720\"}],\"tools\":[{\"id\":\"3650\"},{\"id\":\"3667\"},{\"id\":\"3668\"},{\"id\":\"3669\"},{\"id\":\"3670\"},{\"id\":\"3671\"},{\"id\":\"3697\"},{\"id\":\"3714\"},{\"id\":\"3715\"},{\"id\":\"3716\"},{\"id\":\"3717\"},{\"id\":\"3718\"}]},\"id\":\"3765\",\"type\":\"ProxyToolbar\"},{\"attributes\":{\"fill_alpha\":{\"value\":0.2},\"fill_color\":{\"value\":\"#30a2da\"},\"hatch_alpha\":{\"value\":0.2},\"hatch_color\":{\"value\":\"#30a2da\"},\"line_alpha\":{\"value\":0.2},\"top\":{\"field\":\"normal\"},\"width\":{\"value\":0.8},\"x\":{\"field\":\"index\"}},\"id\":\"3732\",\"type\":\"VBar\"},{\"attributes\":{\"axis_label\":\"\",\"coordinates\":null,\"formatter\":{\"id\":\"3693\"},\"group\":null,\"major_label_policy\":{\"id\":\"3694\"},\"ticker\":{\"id\":\"3664\"}},\"id\":\"3663\",\"type\":\"LinearAxis\"},{\"attributes\":{\"bottom\":{\"value\":0},\"fill_alpha\":{\"value\":1.0},\"fill_color\":{\"value\":\"#30a2da\"},\"hatch_alpha\":{\"value\":1.0},\"hatch_color\":{\"value\":\"#30a2da\"},\"hatch_scale\":{\"value\":12.0},\"hatch_weight\":{\"value\":1.0},\"line_alpha\":{\"value\":1.0},\"line_cap\":{\"value\":\"butt\"},\"line_color\":{\"value\":\"black\"},\"line_dash\":{\"value\":[]},\"line_dash_offset\":{\"value\":0},\"line_join\":{\"value\":\"bevel\"},\"line_width\":{\"value\":1},\"top\":{\"field\":\"selloff\"},\"width\":{\"value\":0.8},\"x\":{\"field\":\"index\"}},\"id\":\"3688\",\"type\":\"VBar\"},{\"attributes\":{},\"id\":\"3740\",\"type\":\"BasicTickFormatter\"},{\"attributes\":{\"children\":[{\"id\":\"3766\"},{\"id\":\"3764\"}]},\"id\":\"3767\",\"type\":\"Column\"},{\"attributes\":{\"fill_color\":{\"value\":\"#30a2da\"},\"hatch_color\":{\"value\":\"#30a2da\"},\"top\":{\"field\":\"normal\"},\"width\":{\"value\":0.8},\"x\":{\"field\":\"index\"}},\"id\":\"3730\",\"type\":\"VBar\"},{\"attributes\":{\"end\":0.9935041394240067,\"reset_end\":0.9935041394240067,\"reset_start\":0.0,\"tags\":[[[\"normal\",\"normal\",null]]]},\"id\":\"3696\",\"type\":\"Range1d\"}],\"root_ids\":[\"3647\",\"4068\"]},\"title\":\"Bokeh Application\",\"version\":\"2.4.1\"}};\n",
       "    var render_items = [{\"docid\":\"f19c716a-62dc-40b9-b9a5-6c3178d9ce20\",\"root_ids\":[\"3647\"],\"roots\":{\"3647\":\"94e0bb05-98fb-4166-a154-3c0020eb03b9\"}}];\n",
       "    root.Bokeh.embed.embed_items_notebook(docs_json, render_items);\n",
       "  }\n",
       "  if (root.Bokeh !== undefined && root.Bokeh.Panel !== undefined) {\n",
       "    embed_document(root);\n",
       "  } else {\n",
       "    var attempts = 0;\n",
       "    var timer = setInterval(function(root) {\n",
       "      if (root.Bokeh !== undefined && root.Bokeh.Panel !== undefined) {\n",
       "        clearInterval(timer);\n",
       "        embed_document(root);\n",
       "      } else if (document.readyState == \"complete\") {\n",
       "        attempts++;\n",
       "        if (attempts > 200) {\n",
       "          clearInterval(timer);\n",
       "          console.log(\"Bokeh: ERROR: Unable to run BokehJS code because BokehJS library is missing\");\n",
       "        }\n",
       "      }\n",
       "    }, 25, root)\n",
       "  }\n",
       "})(window);</script>"
      ],
      "text/plain": [
       "Column\n",
       "    [0] HoloViews(Layout)"
      ]
     },
     "execution_count": 88,
     "metadata": {
      "application/vnd.holoviews_exec.v0+json": {
       "id": "3647"
      }
     },
     "output_type": "execute_result"
    }
   ],
   "source": [
    "selloff_chart = create_bar_chart(\n",
    "    corr_btc_equity['selloff'],\n",
    "    'Correlation between BTC vs SP500 and NASDAQ \\nduring Sell Off Market'\n",
    ")\n",
    "\n",
    "normal_chart = create_bar_chart(\n",
    "    corr_btc_equity['normal'],\n",
    "    'Correlation between BTC vs SP500 and NASDAQ \\nduring Normal Market'\n",
    ")\n",
    "\n",
    "corr_chart = pn.Column(selloff_chart + normal_chart)\n",
    "corr_chart"
   ]
  },
  {
   "cell_type": "code",
   "execution_count": 89,
   "id": "3213279d",
   "metadata": {},
   "outputs": [
    {
     "data": {
      "text/plain": [
       "Text(0.5, 1.0, 'Correlation in a Normal Market Environment')"
      ]
     },
     "execution_count": 89,
     "metadata": {},
     "output_type": "execute_result"
    },
    {
     "data": {
      "image/png": "[encoded data removed]",
      "text/plain": [
       "<Figure size 1224x432 with 4 Axes>"
      ]
     },
     "metadata": {},
     "output_type": "display_data"
    }
   ],
   "source": [
    "fig, ax = plt.subplots(1,2,figsize=(17,6))\n",
    "\n",
    "selloff_mkt_heatmap = sb.heatmap(\n",
    "    corr_below_2std, \n",
    "    vmin=0, \n",
    "    vmax=1,\n",
    "    ax=ax[0],\n",
    "    cmap='viridis'\n",
    ")\n",
    "normal_mkt_heatmap = sb.heatmap(\n",
    "    corr_inside_2std, \n",
    "    vmin=0, \n",
    "    vmax=1,\n",
    "    ax=ax[1],\n",
    "    cmap='viridis'\n",
    ")\n",
    "\n",
    "selloff_mkt_heatmap.set_title(\n",
    "    \"Correlation in a Sell-off Market Environment\"\n",
    ")\n",
    "normal_mkt_heatmap.set_title(\n",
    "    \"Correlation in a Normal Market Environment\"\n",
    ")"
   ]
  },
  {
   "cell_type": "markdown",
   "id": "2d51b65b",
   "metadata": {},
   "source": [
    "# Risk and Return Analysis \n",
    "This analysis examines the risk and return profile of each asset as well as equally weighted portfolios of BTC-SP500 and BTC-NASDAQ.\n",
    "\n",
    "The first section of the analysis examined the return and the maximum loss of the assets and portfolios.\n",
    "\n",
    "The second section of the analysis uses an alternative metric of Sharpe ratio to assess the return for every unit of risk of each assets and portfolio.\n",
    "\n",
    "Below are the visualized results of these analyses."
   ]
  },
  {
   "cell_type": "code",
   "execution_count": 90,
   "id": "dcf039db",
   "metadata": {},
   "outputs": [],
   "source": [
    "# Manipulate the time series data into data that can be used for sunburst chart\n",
    "\n",
    "# concatenate the BTC, SP, NASD returns with equally wgted portfolios\n",
    "all_assets = pd.concat([pct_change_df, combined_pct_change], axis=1)\n",
    "years = [2019, 2020, 2021, 2022]\n",
    "data_sunburst = pd.DataFrame()\n",
    "years_sunburst = pd.DataFrame()\n",
    "\n",
    "# Loop through the last 4 years\n",
    "for i in years:\n",
    "    \n",
    "    # Calculate the avg ret and min ret for each year\n",
    "    yearly_data = all_assets[all_assets.index.year == i]\n",
    "    yearly_avg = yearly_data.mean()\n",
    "    yearly_min = yearly_data.min()\n",
    "    year_df = pd.DataFrame([i] * len(all_assets.columns))   \n",
    "    data_avg_min = pd.concat([yearly_avg, yearly_min], axis=1)\n",
    "    data_sunburst = data_sunburst.append(data_avg_min)\n",
    "    \n",
    "    # Append each yearly data\n",
    "    years_sunburst = years_sunburst.append(year_df)\n",
    "    \n",
    "data_sunburst.columns = ['avgret', 'minret']\n",
    "data_sunburst['port'] = data_sunburst.index\n",
    "data_sunburst = data_sunburst.reset_index(drop=True)\n",
    "years_sunburst = years_sunburst.reset_index(drop=True) \n",
    "years_sunburst.columns=['year']\n",
    "data_sunburst = pd.concat([data_sunburst,years_sunburst], axis=1)"
   ]
  },
  {
   "cell_type": "code",
   "execution_count": 91,
   "id": "77550b90",
   "metadata": {},
   "outputs": [
    {
     "data": {
      "application/vnd.plotly.v1+json": {
       "config": {
        "plotlyServerURL": "https://plot.ly"
       },
       "data": [
        {
         "branchvalues": "total",
         "customdata": [
          [
           -0.14702574743953378,
           -0.14702574743953378
          ],
          [
           -0.37169538560117077,
           -0.37169538560117077
          ],
          [
           -0.13766122609163733,
           -0.13766122609163733
          ],
          [
           -0.10381165615712483,
           -0.10381165615712483
          ],
          [
           -0.13641903075491646,
           -0.13641903075491646
          ],
          [
           -0.4660421286959826,
           -0.4660421286959826
          ],
          [
           -0.1599362927645065,
           -0.1599362927645065
          ],
          [
           -0.13101944745095173,
           -0.13101944745095173
          ],
          [
           -0.1393534464073456,
           -0.1393534464073456
          ],
          [
           -0.46680806657950735,
           -0.46680806657950735
          ],
          [
           -0.15466685563310334,
           -0.15466685563310334
          ],
          [
           -0.12272647802503345,
           -0.12272647802503345
          ],
          [
           -0.03473605194134943,
           -0.03473605194134943
          ],
          [
           -0.12321331290147408,
           -0.12321331290147408
          ],
          [
           -0.03519202121238085,
           -0.03519202121238085
          ],
          [
           -0.03736623070394007,
           -0.03736623070394007
          ],
          [
           -0.029777820002985896,
           -0.029777820002985896
          ],
          [
           -0.11984055240393443,
           -0.11984055240393443
          ],
          [
           -0.025677883699462,
           -0.025677883699462
          ],
          [
           -0.029518158313449172,
           -0.029518158313449172
          ],
          [
           -0.12410509616233512,
           -0.12410509616233512
          ],
          [
           -0.4064809681664345,
           -0.4064809681664345
          ],
          [
           -0.13462937456720744,
           -0.13462937456720744
          ],
          [
           -0.09638695835683307,
           -0.09638695835683307
          ]
         ],
         "domain": {
          "x": [
           0,
           1
          ],
          "y": [
           0,
           1
          ]
         },
         "hovertemplate": "labels=%{label}<br>avgret=%{value}<br>parent=%{parent}<br>id=%{id}<br>minret=%{color}<extra></extra>",
         "ids": [
          "2019/BTC",
          "2020/BTC",
          "2021/BTC",
          "2022/BTC",
          "2019/BTC-NASDAQ",
          "2020/BTC-NASDAQ",
          "2021/BTC-NASDAQ",
          "2022/BTC-NASDAQ",
          "2019/BTC-SP500",
          "2020/BTC-SP500",
          "2021/BTC-SP500",
          "2022/BTC-SP500",
          "2019/NASDAQ",
          "2020/NASDAQ",
          "2021/NASDAQ",
          "2022/NASDAQ",
          "2019/SP500",
          "2020/SP500",
          "2021/SP500",
          "2022/SP500",
          "2019",
          "2020",
          "2021",
          "2022"
         ],
         "labels": [
          "BTC",
          "BTC",
          "BTC",
          "BTC",
          "BTC-NASDAQ",
          "BTC-NASDAQ",
          "BTC-NASDAQ",
          "BTC-NASDAQ",
          "BTC-SP500",
          "BTC-SP500",
          "BTC-SP500",
          "BTC-SP500",
          "NASDAQ",
          "NASDAQ",
          "NASDAQ",
          "NASDAQ",
          "SP500",
          "SP500",
          "SP500",
          "SP500",
          "2019",
          "2020",
          "2021",
          "2022"
         ],
         "marker": {
          "coloraxis": "coloraxis",
          "colors": [
           -0.14702574743953378,
           -0.37169538560117077,
           -0.13766122609163733,
           -0.10381165615712483,
           -0.13641903075491646,
           -0.4660421286959826,
           -0.1599362927645065,
           -0.13101944745095173,
           -0.1393534464073456,
           -0.46680806657950735,
           -0.15466685563310334,
           -0.12272647802503345,
           -0.03473605194134943,
           -0.12321331290147408,
           -0.03519202121238085,
           -0.03736623070394007,
           -0.029777820002985896,
           -0.11984055240393443,
           -0.025677883699462,
           -0.029518158313449172,
           -0.12410509616233512,
           -0.4064809681664345,
           -0.13462937456720744,
           -0.09638695835683307
          ]
         },
         "name": "",
         "parents": [
          "2019",
          "2020",
          "2021",
          "2022",
          "2019",
          "2020",
          "2021",
          "2022",
          "2019",
          "2020",
          "2021",
          "2022",
          "2019",
          "2020",
          "2021",
          "2022",
          "2019",
          "2020",
          "2021",
          "2022",
          "",
          "",
          "",
          ""
         ],
         "type": "sunburst",
         "values": [
          0.003529104144616806,
          0.006640323632724496,
          0.0030778277863814803,
          -0.0013408681036107416,
          0.004775898651530864,
          0.008324579190616578,
          0.003911501069486135,
          -0.0033574167610480074,
          0.004567151269203426,
          0.007472490330944973,
          0.004057349526694966,
          -0.0023902549198867662,
          0.0012467945069140542,
          0.0016842555578920814,
          0.0008336732831046542,
          -0.002016548657437266,
          0.0010380471245866197,
          0.0008321666982204781,
          0.0009795217403134877,
          -0.0010493868162760244,
          0.01515699569685177,
          0.024953815410398608,
          0.012859873405980724,
          -0.010154475258258806
         ]
        }
       ],
       "layout": {
        "coloraxis": {
         "colorbar": {
          "title": {
           "text": "minret"
          }
         },
         "colorscale": [
          [
           0,
           "rgb(103,0,31)"
          ],
          [
           0.1,
           "rgb(178,24,43)"
          ],
          [
           0.2,
           "rgb(214,96,77)"
          ],
          [
           0.3,
           "rgb(244,165,130)"
          ],
          [
           0.4,
           "rgb(253,219,199)"
          ],
          [
           0.5,
           "rgb(247,247,247)"
          ],
          [
           0.6,
           "rgb(209,229,240)"
          ],
          [
           0.7,
           "rgb(146,197,222)"
          ],
          [
           0.8,
           "rgb(67,147,195)"
          ],
          [
           0.9,
           "rgb(33,102,172)"
          ],
          [
           1,
           "rgb(5,48,97)"
          ]
         ]
        },
        "legend": {
         "tracegroupgap": 0
        },
        "margin": {
         "t": 60
        },
        "template": {
         "data": {
          "bar": [
           {
            "error_x": {
             "color": "#2a3f5f"
            },
            "error_y": {
             "color": "#2a3f5f"
            },
            "marker": {
             "line": {
              "color": "#E5ECF6",
              "width": 0.5
             },
             "pattern": {
              "fillmode": "overlay",
              "size": 10,
              "solidity": 0.2
             }
            },
            "type": "bar"
           }
          ],
          "barpolar": [
           {
            "marker": {
             "line": {
              "color": "#E5ECF6",
              "width": 0.5
             },
             "pattern": {
              "fillmode": "overlay",
              "size": 10,
              "solidity": 0.2
             }
            },
            "type": "barpolar"
           }
          ],
          "carpet": [
           {
            "aaxis": {
             "endlinecolor": "#2a3f5f",
             "gridcolor": "white",
             "linecolor": "white",
             "minorgridcolor": "white",
             "startlinecolor": "#2a3f5f"
            },
            "baxis": {
             "endlinecolor": "#2a3f5f",
             "gridcolor": "white",
             "linecolor": "white",
             "minorgridcolor": "white",
             "startlinecolor": "#2a3f5f"
            },
            "type": "carpet"
           }
          ],
          "choropleth": [
           {
            "colorbar": {
             "outlinewidth": 0,
             "ticks": ""
            },
            "type": "choropleth"
           }
          ],
          "contour": [
           {
            "colorbar": {
             "outlinewidth": 0,
             "ticks": ""
            },
            "colorscale": [
             [
              0,
              "#0d0887"
             ],
             [
              0.1111111111111111,
              "#46039f"
             ],
             [
              0.2222222222222222,
              "#7201a8"
             ],
             [
              0.3333333333333333,
              "#9c179e"
             ],
             [
              0.4444444444444444,
              "#bd3786"
             ],
             [
              0.5555555555555556,
              "#d8576b"
             ],
             [
              0.6666666666666666,
              "#ed7953"
             ],
             [
              0.7777777777777778,
              "#fb9f3a"
             ],
             [
              0.8888888888888888,
              "#fdca26"
             ],
             [
              1,
              "#f0f921"
             ]
            ],
            "type": "contour"
           }
          ],
          "contourcarpet": [
           {
            "colorbar": {
             "outlinewidth": 0,
             "ticks": ""
            },
            "type": "contourcarpet"
           }
          ],
          "heatmap": [
           {
            "colorbar": {
             "outlinewidth": 0,
             "ticks": ""
            },
            "colorscale": [
             [
              0,
              "#0d0887"
             ],
             [
              0.1111111111111111,
              "#46039f"
             ],
             [
              0.2222222222222222,
              "#7201a8"
             ],
             [
              0.3333333333333333,
              "#9c179e"
             ],
             [
              0.4444444444444444,
              "#bd3786"
             ],
             [
              0.5555555555555556,
              "#d8576b"
             ],
             [
              0.6666666666666666,
              "#ed7953"
             ],
             [
              0.7777777777777778,
              "#fb9f3a"
             ],
             [
              0.8888888888888888,
              "#fdca26"
             ],
             [
              1,
              "#f0f921"
             ]
            ],
            "type": "heatmap"
           }
          ],
          "heatmapgl": [
           {
            "colorbar": {
             "outlinewidth": 0,
             "ticks": ""
            },
            "colorscale": [
             [
              0,
              "#0d0887"
             ],
             [
              0.1111111111111111,
              "#46039f"
             ],
             [
              0.2222222222222222,
              "#7201a8"
             ],
             [
              0.3333333333333333,
              "#9c179e"
             ],
             [
              0.4444444444444444,
              "#bd3786"
             ],
             [
              0.5555555555555556,
              "#d8576b"
             ],
             [
              0.6666666666666666,
              "#ed7953"
             ],
             [
              0.7777777777777778,
              "#fb9f3a"
             ],
             [
              0.8888888888888888,
              "#fdca26"
             ],
             [
              1,
              "#f0f921"
             ]
            ],
            "type": "heatmapgl"
           }
          ],
          "histogram": [
           {
            "marker": {
             "pattern": {
              "fillmode": "overlay",
              "size": 10,
              "solidity": 0.2
             }
            },
            "type": "histogram"
           }
          ],
          "histogram2d": [
           {
            "colorbar": {
             "outlinewidth": 0,
             "ticks": ""
            },
            "colorscale": [
             [
              0,
              "#0d0887"
             ],
             [
              0.1111111111111111,
              "#46039f"
             ],
             [
              0.2222222222222222,
              "#7201a8"
             ],
             [
              0.3333333333333333,
              "#9c179e"
             ],
             [
              0.4444444444444444,
              "#bd3786"
             ],
             [
              0.5555555555555556,
              "#d8576b"
             ],
             [
              0.6666666666666666,
              "#ed7953"
             ],
             [
              0.7777777777777778,
              "#fb9f3a"
             ],
             [
              0.8888888888888888,
              "#fdca26"
             ],
             [
              1,
              "#f0f921"
             ]
            ],
            "type": "histogram2d"
           }
          ],
          "histogram2dcontour": [
           {
            "colorbar": {
             "outlinewidth": 0,
             "ticks": ""
            },
            "colorscale": [
             [
              0,
              "#0d0887"
             ],
             [
              0.1111111111111111,
              "#46039f"
             ],
             [
              0.2222222222222222,
              "#7201a8"
             ],
             [
              0.3333333333333333,
              "#9c179e"
             ],
             [
              0.4444444444444444,
              "#bd3786"
             ],
             [
              0.5555555555555556,
              "#d8576b"
             ],
             [
              0.6666666666666666,
              "#ed7953"
             ],
             [
              0.7777777777777778,
              "#fb9f3a"
             ],
             [
              0.8888888888888888,
              "#fdca26"
             ],
             [
              1,
              "#f0f921"
             ]
            ],
            "type": "histogram2dcontour"
           }
          ],
          "mesh3d": [
           {
            "colorbar": {
             "outlinewidth": 0,
             "ticks": ""
            },
            "type": "mesh3d"
           }
          ],
          "parcoords": [
           {
            "line": {
             "colorbar": {
              "outlinewidth": 0,
              "ticks": ""
             }
            },
            "type": "parcoords"
           }
          ],
          "pie": [
           {
            "automargin": true,
            "type": "pie"
           }
          ],
          "scatter": [
           {
            "marker": {
             "colorbar": {
              "outlinewidth": 0,
              "ticks": ""
             }
            },
            "type": "scatter"
           }
          ],
          "scatter3d": [
           {
            "line": {
             "colorbar": {
              "outlinewidth": 0,
              "ticks": ""
             }
            },
            "marker": {
             "colorbar": {
              "outlinewidth": 0,
              "ticks": ""
             }
            },
            "type": "scatter3d"
           }
          ],
          "scattercarpet": [
           {
            "marker": {
             "colorbar": {
              "outlinewidth": 0,
              "ticks": ""
             }
            },
            "type": "scattercarpet"
           }
          ],
          "scattergeo": [
           {
            "marker": {
             "colorbar": {
              "outlinewidth": 0,
              "ticks": ""
             }
            },
            "type": "scattergeo"
           }
          ],
          "scattergl": [
           {
            "marker": {
             "colorbar": {
              "outlinewidth": 0,
              "ticks": ""
             }
            },
            "type": "scattergl"
           }
          ],
          "scattermapbox": [
           {
            "marker": {
             "colorbar": {
              "outlinewidth": 0,
              "ticks": ""
             }
            },
            "type": "scattermapbox"
           }
          ],
          "scatterpolar": [
           {
            "marker": {
             "colorbar": {
              "outlinewidth": 0,
              "ticks": ""
             }
            },
            "type": "scatterpolar"
           }
          ],
          "scatterpolargl": [
           {
            "marker": {
             "colorbar": {
              "outlinewidth": 0,
              "ticks": ""
             }
            },
            "type": "scatterpolargl"
           }
          ],
          "scatterternary": [
           {
            "marker": {
             "colorbar": {
              "outlinewidth": 0,
              "ticks": ""
             }
            },
            "type": "scatterternary"
           }
          ],
          "surface": [
           {
            "colorbar": {
             "outlinewidth": 0,
             "ticks": ""
            },
            "colorscale": [
             [
              0,
              "#0d0887"
             ],
             [
              0.1111111111111111,
              "#46039f"
             ],
             [
              0.2222222222222222,
              "#7201a8"
             ],
             [
              0.3333333333333333,
              "#9c179e"
             ],
             [
              0.4444444444444444,
              "#bd3786"
             ],
             [
              0.5555555555555556,
              "#d8576b"
             ],
             [
              0.6666666666666666,
              "#ed7953"
             ],
             [
              0.7777777777777778,
              "#fb9f3a"
             ],
             [
              0.8888888888888888,
              "#fdca26"
             ],
             [
              1,
              "#f0f921"
             ]
            ],
            "type": "surface"
           }
          ],
          "table": [
           {
            "cells": {
             "fill": {
              "color": "#EBF0F8"
             },
             "line": {
              "color": "white"
             }
            },
            "header": {
             "fill": {
              "color": "#C8D4E3"
             },
             "line": {
              "color": "white"
             }
            },
            "type": "table"
           }
          ]
         },
         "layout": {
          "annotationdefaults": {
           "arrowcolor": "#2a3f5f",
           "arrowhead": 0,
           "arrowwidth": 1
          },
          "autotypenumbers": "strict",
          "coloraxis": {
           "colorbar": {
            "outlinewidth": 0,
            "ticks": ""
           }
          },
          "colorscale": {
           "diverging": [
            [
             0,
             "#8e0152"
            ],
            [
             0.1,
             "#c51b7d"
            ],
            [
             0.2,
             "#de77ae"
            ],
            [
             0.3,
             "#f1b6da"
            ],
            [
             0.4,
             "#fde0ef"
            ],
            [
             0.5,
             "#f7f7f7"
            ],
            [
             0.6,
             "#e6f5d0"
            ],
            [
             0.7,
             "#b8e186"
            ],
            [
             0.8,
             "#7fbc41"
            ],
            [
             0.9,
             "#4d9221"
            ],
            [
             1,
             "#276419"
            ]
           ],
           "sequential": [
            [
             0,
             "#0d0887"
            ],
            [
             0.1111111111111111,
             "#46039f"
            ],
            [
             0.2222222222222222,
             "#7201a8"
            ],
            [
             0.3333333333333333,
             "#9c179e"
            ],
            [
             0.4444444444444444,
             "#bd3786"
            ],
            [
             0.5555555555555556,
             "#d8576b"
            ],
            [
             0.6666666666666666,
             "#ed7953"
            ],
            [
             0.7777777777777778,
             "#fb9f3a"
            ],
            [
             0.8888888888888888,
             "#fdca26"
            ],
            [
             1,
             "#f0f921"
            ]
           ],
           "sequentialminus": [
            [
             0,
             "#0d0887"
            ],
            [
             0.1111111111111111,
             "#46039f"
            ],
            [
             0.2222222222222222,
             "#7201a8"
            ],
            [
             0.3333333333333333,
             "#9c179e"
            ],
            [
             0.4444444444444444,
             "#bd3786"
            ],
            [
             0.5555555555555556,
             "#d8576b"
            ],
            [
             0.6666666666666666,
             "#ed7953"
            ],
            [
             0.7777777777777778,
             "#fb9f3a"
            ],
            [
             0.8888888888888888,
             "#fdca26"
            ],
            [
             1,
             "#f0f921"
            ]
           ]
          },
          "colorway": [
           "#636efa",
           "#EF553B",
           "#00cc96",
           "#ab63fa",
           "#FFA15A",
           "#19d3f3",
           "#FF6692",
           "#B6E880",
           "#FF97FF",
           "#FECB52"
          ],
          "font": {
           "color": "#2a3f5f"
          },
          "geo": {
           "bgcolor": "white",
           "lakecolor": "white",
           "landcolor": "#E5ECF6",
           "showlakes": true,
           "showland": true,
           "subunitcolor": "white"
          },
          "hoverlabel": {
           "align": "left"
          },
          "hovermode": "closest",
          "mapbox": {
           "style": "light"
          },
          "paper_bgcolor": "white",
          "plot_bgcolor": "#E5ECF6",
          "polar": {
           "angularaxis": {
            "gridcolor": "white",
            "linecolor": "white",
            "ticks": ""
           },
           "bgcolor": "#E5ECF6",
           "radialaxis": {
            "gridcolor": "white",
            "linecolor": "white",
            "ticks": ""
           }
          },
          "scene": {
           "xaxis": {
            "backgroundcolor": "#E5ECF6",
            "gridcolor": "white",
            "gridwidth": 2,
            "linecolor": "white",
            "showbackground": true,
            "ticks": "",
            "zerolinecolor": "white"
           },
           "yaxis": {
            "backgroundcolor": "#E5ECF6",
            "gridcolor": "white",
            "gridwidth": 2,
            "linecolor": "white",
            "showbackground": true,
            "ticks": "",
            "zerolinecolor": "white"
           },
           "zaxis": {
            "backgroundcolor": "#E5ECF6",
            "gridcolor": "white",
            "gridwidth": 2,
            "linecolor": "white",
            "showbackground": true,
            "ticks": "",
            "zerolinecolor": "white"
           }
          },
          "shapedefaults": {
           "line": {
            "color": "#2a3f5f"
           }
          },
          "ternary": {
           "aaxis": {
            "gridcolor": "white",
            "linecolor": "white",
            "ticks": ""
           },
           "baxis": {
            "gridcolor": "white",
            "linecolor": "white",
            "ticks": ""
           },
           "bgcolor": "#E5ECF6",
           "caxis": {
            "gridcolor": "white",
            "linecolor": "white",
            "ticks": ""
           }
          },
          "title": {
           "x": 0.05
          },
          "xaxis": {
           "automargin": true,
           "gridcolor": "white",
           "linecolor": "white",
           "ticks": "",
           "title": {
            "standoff": 15
           },
           "zerolinecolor": "white",
           "zerolinewidth": 2
          },
          "yaxis": {
           "automargin": true,
           "gridcolor": "white",
           "linecolor": "white",
           "ticks": "",
           "title": {
            "standoff": 15
           },
           "zerolinecolor": "white",
           "zerolinewidth": 2
          }
         }
        }
       }
      }
     },
     "metadata": {},
     "output_type": "display_data"
    }
   ],
   "source": [
    "# Create sunburst chart\n",
    "retmxloss_chart = px.sunburst(\n",
    "    data_sunburst, \n",
    "    path=['year', 'port'], \n",
    "    values='avgret',\n",
    "    color='minret', \n",
    "    color_continuous_scale='RdBu',\n",
    "    hover_data=['minret'],\n",
    ")\n",
    "\n",
    "retmxloss_chart.show()"
   ]
  },
  {
   "cell_type": "markdown",
   "id": "cc025f2f",
   "metadata": {},
   "source": [
    "### Sharpe results\n",
    "\n",
    "The Sharpe ratio for Bitcoin and the equally weighted portfolios outperformed both the S&P 500 and NASDAQ.\n",
    "\n",
    "Despite high volatility of bitcoin and the portfolios, their returns compensated for every unit of risk superior to the S&P 500 and NASDAQ."
   ]
  },
  {
   "cell_type": "code",
   "execution_count": 92,
   "id": "5949e57e",
   "metadata": {},
   "outputs": [],
   "source": [
    "# annualized return, risk and sharpe for individual assets for whole history\n",
    "all_pct_change = pd.concat([pct_change_df, combined_pct_change], axis=1)\n",
    "annual_returns = all_pct_change.mean() * 252\n",
    "annual_std = all_pct_change.std() * np.sqrt(252)\n",
    "annual_sharpe = annual_returns / annual_std"
   ]
  },
  {
   "cell_type": "code",
   "execution_count": 93,
   "id": "44f1af53",
   "metadata": {},
   "outputs": [
    {
     "data": {},
     "metadata": {},
     "output_type": "display_data"
    },
    {
     "data": {
      "application/vnd.holoviews_exec.v0+json": "",
      "text/html": [
       "<div id='4169'>\n",
       "\n",
       "\n",
       "\n",
       "\n",
       "\n",
       "  <div class=\"bk-root\" id=\"12151fc1-f7fc-470e-b034-8159533a538b\" data-root-id=\"4169\"></div>\n",
       "</div>\n",
       "<script type=\"application/javascript\">(function(root) {\n",
       "  function embed_document(root) {\n",
       "    var docs_json = {\"c6b67ebf-2bea-4e82-b132-a69ec7aa69a7\":{\"defs\":[{\"extends\":null,\"module\":null,\"name\":\"ReactiveHTML1\",\"overrides\":[],\"properties\":[]},{\"extends\":null,\"module\":null,\"name\":\"FlexBox1\",\"overrides\":[],\"properties\":[{\"default\":\"flex-start\",\"kind\":null,\"name\":\"align_content\"},{\"default\":\"flex-start\",\"kind\":null,\"name\":\"align_items\"},{\"default\":\"row\",\"kind\":null,\"name\":\"flex_direction\"},{\"default\":\"wrap\",\"kind\":null,\"name\":\"flex_wrap\"},{\"default\":\"flex-start\",\"kind\":null,\"name\":\"justify_content\"}]},{\"extends\":null,\"module\":null,\"name\":\"TemplateActions1\",\"overrides\":[],\"properties\":[{\"default\":0,\"kind\":null,\"name\":\"open_modal\"},{\"default\":0,\"kind\":null,\"name\":\"close_modal\"}]},{\"extends\":null,\"module\":null,\"name\":\"MaterialTemplateActions1\",\"overrides\":[],\"properties\":[{\"default\":0,\"kind\":null,\"name\":\"open_modal\"},{\"default\":0,\"kind\":null,\"name\":\"close_modal\"}]}],\"roots\":{\"references\":[{\"attributes\":{\"source\":{\"id\":\"4203\"}},\"id\":\"4210\",\"type\":\"CDSView\"},{\"attributes\":{\"coordinates\":null,\"group\":null,\"text\":\"Annualized Sharpe Ratio for each assets and portfolios\",\"text_color\":\"black\",\"text_font_size\":\"12pt\"},\"id\":\"4175\",\"type\":\"Title\"},{\"attributes\":{\"margin\":[5,5,5,5],\"name\":\"HSpacer03748\",\"sizing_mode\":\"stretch_width\"},\"id\":\"4238\",\"type\":\"Spacer\"},{\"attributes\":{},\"id\":\"4187\",\"type\":\"BasicTicker\"},{\"attributes\":{\"axis\":{\"id\":\"4186\"},\"coordinates\":null,\"dimension\":1,\"grid_line_color\":null,\"group\":null,\"ticker\":null},\"id\":\"4189\",\"type\":\"Grid\"},{\"attributes\":{\"data\":{\"A_0\":{\"__ndarray__\":\"Mm+EGlvY8j/vnh+bhmflP8n8EVcBSOk/wDgOG9Ue9D9soXtvH6b0Pw==\",\"dtype\":\"float64\",\"order\":\"little\",\"shape\":[5]},\"index\":[\"BTC\",\"SP500\",\"NASDAQ\",\"BTC-SP500\",\"BTC-NASDAQ\"]},\"selected\":{\"id\":\"4204\"},\"selection_policy\":{\"id\":\"4225\"}},\"id\":\"4203\",\"type\":\"ColumnDataSource\"},{\"attributes\":{},\"id\":\"4214\",\"type\":\"AllLabels\"},{\"attributes\":{},\"id\":\"4179\",\"type\":\"CategoricalScale\"},{\"attributes\":{\"bottom\":{\"value\":0},\"fill_alpha\":{\"value\":1.0},\"fill_color\":{\"value\":\"#30a2da\"},\"hatch_alpha\":{\"value\":1.0},\"hatch_color\":{\"value\":\"#30a2da\"},\"hatch_scale\":{\"value\":12.0},\"hatch_weight\":{\"value\":1.0},\"line_alpha\":{\"value\":1.0},\"line_cap\":{\"value\":\"butt\"},\"line_color\":{\"value\":\"black\"},\"line_dash\":{\"value\":[]},\"line_dash_offset\":{\"value\":0},\"line_join\":{\"value\":\"bevel\"},\"line_width\":{\"value\":1},\"top\":{\"field\":\"A_0\"},\"width\":{\"value\":0.8},\"x\":{\"field\":\"index\"}},\"id\":\"4211\",\"type\":\"VBar\"},{\"attributes\":{\"margin\":[5,5,5,5],\"name\":\"HSpacer03747\",\"sizing_mode\":\"stretch_width\"},\"id\":\"4170\",\"type\":\"Spacer\"},{\"attributes\":{\"coordinates\":null,\"data_source\":{\"id\":\"4203\"},\"glyph\":{\"id\":\"4206\"},\"group\":null,\"hover_glyph\":null,\"muted_glyph\":{\"id\":\"4208\"},\"nonselection_glyph\":{\"id\":\"4207\"},\"selection_glyph\":{\"id\":\"4211\"},\"view\":{\"id\":\"4210\"}},\"id\":\"4209\",\"type\":\"GlyphRenderer\"},{\"attributes\":{\"factors\":[\"BTC\",\"SP500\",\"NASDAQ\",\"BTC-SP500\",\"BTC-NASDAQ\"],\"tags\":[[[\"index\",\"index\",null]]]},\"id\":\"4171\",\"type\":\"FactorRange\"},{\"attributes\":{\"tools\":[{\"id\":\"4173\"},{\"id\":\"4190\"},{\"id\":\"4191\"},{\"id\":\"4192\"},{\"id\":\"4193\"},{\"id\":\"4194\"}]},\"id\":\"4196\",\"type\":\"Toolbar\"},{\"attributes\":{},\"id\":\"4213\",\"type\":\"CategoricalTickFormatter\"},{\"attributes\":{},\"id\":\"4216\",\"type\":\"BasicTickFormatter\"},{\"attributes\":{},\"id\":\"4190\",\"type\":\"SaveTool\"},{\"attributes\":{},\"id\":\"4204\",\"type\":\"Selection\"},{\"attributes\":{\"callback\":null,\"renderers\":[{\"id\":\"4209\"}],\"tags\":[\"hv_created\"],\"tooltips\":[[\"index\",\"@{index}\"],[\"0\",\"@{A_0}\"]]},\"id\":\"4173\",\"type\":\"HoverTool\"},{\"attributes\":{},\"id\":\"4191\",\"type\":\"PanTool\"},{\"attributes\":{\"end\":1.3527243125254254,\"reset_end\":1.3527243125254254,\"reset_start\":0.0,\"tags\":[[[\"0\",\"0\",null]]]},\"id\":\"4172\",\"type\":\"Range1d\"},{\"attributes\":{},\"id\":\"4192\",\"type\":\"WheelZoomTool\"},{\"attributes\":{\"children\":[{\"id\":\"4170\"},{\"id\":\"4174\"},{\"id\":\"4238\"}],\"margin\":[0,0,0,0],\"name\":\"Row03743\",\"tags\":[\"embedded\"]},\"id\":\"4169\",\"type\":\"Row\"},{\"attributes\":{},\"id\":\"4181\",\"type\":\"LinearScale\"},{\"attributes\":{\"fill_alpha\":{\"value\":0.1},\"fill_color\":{\"value\":\"#30a2da\"},\"hatch_alpha\":{\"value\":0.1},\"hatch_color\":{\"value\":\"#30a2da\"},\"line_alpha\":{\"value\":0.1},\"top\":{\"field\":\"A_0\"},\"width\":{\"value\":0.8},\"x\":{\"field\":\"index\"}},\"id\":\"4207\",\"type\":\"VBar\"},{\"attributes\":{\"overlay\":{\"id\":\"4195\"}},\"id\":\"4193\",\"type\":\"BoxZoomTool\"},{\"attributes\":{},\"id\":\"4217\",\"type\":\"AllLabels\"},{\"attributes\":{\"axis_label\":\"\",\"coordinates\":null,\"formatter\":{\"id\":\"4216\"},\"group\":null,\"major_label_policy\":{\"id\":\"4217\"},\"ticker\":{\"id\":\"4187\"}},\"id\":\"4186\",\"type\":\"LinearAxis\"},{\"attributes\":{\"fill_alpha\":{\"value\":0.2},\"fill_color\":{\"value\":\"#30a2da\"},\"hatch_alpha\":{\"value\":0.2},\"hatch_color\":{\"value\":\"#30a2da\"},\"line_alpha\":{\"value\":0.2},\"top\":{\"field\":\"A_0\"},\"width\":{\"value\":0.8},\"x\":{\"field\":\"index\"}},\"id\":\"4208\",\"type\":\"VBar\"},{\"attributes\":{\"below\":[{\"id\":\"4183\"}],\"center\":[{\"id\":\"4185\"},{\"id\":\"4189\"}],\"height\":300,\"left\":[{\"id\":\"4186\"}],\"margin\":[5,5,5,5],\"min_border_bottom\":10,\"min_border_left\":10,\"min_border_right\":10,\"min_border_top\":10,\"renderers\":[{\"id\":\"4209\"}],\"sizing_mode\":\"fixed\",\"title\":{\"id\":\"4175\"},\"toolbar\":{\"id\":\"4196\"},\"width\":500,\"x_range\":{\"id\":\"4171\"},\"x_scale\":{\"id\":\"4179\"},\"y_range\":{\"id\":\"4172\"},\"y_scale\":{\"id\":\"4181\"}},\"id\":\"4174\",\"subtype\":\"Figure\",\"type\":\"Plot\"},{\"attributes\":{\"axis\":{\"id\":\"4183\"},\"coordinates\":null,\"grid_line_color\":null,\"group\":null,\"ticker\":null},\"id\":\"4185\",\"type\":\"Grid\"},{\"attributes\":{},\"id\":\"4194\",\"type\":\"ResetTool\"},{\"attributes\":{},\"id\":\"4225\",\"type\":\"UnionRenderers\"},{\"attributes\":{},\"id\":\"4184\",\"type\":\"CategoricalTicker\"},{\"attributes\":{\"bottom_units\":\"screen\",\"coordinates\":null,\"fill_alpha\":0.5,\"fill_color\":\"lightgrey\",\"group\":null,\"left_units\":\"screen\",\"level\":\"overlay\",\"line_alpha\":1.0,\"line_color\":\"black\",\"line_dash\":[4,4],\"line_width\":2,\"right_units\":\"screen\",\"syncable\":false,\"top_units\":\"screen\"},\"id\":\"4195\",\"type\":\"BoxAnnotation\"},{\"attributes\":{\"fill_color\":{\"value\":\"#30a2da\"},\"hatch_color\":{\"value\":\"#30a2da\"},\"top\":{\"field\":\"A_0\"},\"width\":{\"value\":0.8},\"x\":{\"field\":\"index\"}},\"id\":\"4206\",\"type\":\"VBar\"},{\"attributes\":{\"axis_label\":\"\",\"coordinates\":null,\"formatter\":{\"id\":\"4213\"},\"group\":null,\"major_label_policy\":{\"id\":\"4214\"},\"ticker\":{\"id\":\"4184\"}},\"id\":\"4183\",\"type\":\"CategoricalAxis\"}],\"root_ids\":[\"4169\"]},\"title\":\"Bokeh Application\",\"version\":\"2.4.1\"}};\n",
       "    var render_items = [{\"docid\":\"c6b67ebf-2bea-4e82-b132-a69ec7aa69a7\",\"root_ids\":[\"4169\"],\"roots\":{\"4169\":\"12151fc1-f7fc-470e-b034-8159533a538b\"}}];\n",
       "    root.Bokeh.embed.embed_items_notebook(docs_json, render_items);\n",
       "  }\n",
       "  if (root.Bokeh !== undefined && root.Bokeh.Panel !== undefined) {\n",
       "    embed_document(root);\n",
       "  } else {\n",
       "    var attempts = 0;\n",
       "    var timer = setInterval(function(root) {\n",
       "      if (root.Bokeh !== undefined && root.Bokeh.Panel !== undefined) {\n",
       "        clearInterval(timer);\n",
       "        embed_document(root);\n",
       "      } else if (document.readyState == \"complete\") {\n",
       "        attempts++;\n",
       "        if (attempts > 200) {\n",
       "          clearInterval(timer);\n",
       "          console.log(\"Bokeh: ERROR: Unable to run BokehJS code because BokehJS library is missing\");\n",
       "        }\n",
       "      }\n",
       "    }, 25, root)\n",
       "  }\n",
       "})(window);</script>"
      ],
      "text/plain": [
       ":Bars   [index]   (0)"
      ]
     },
     "execution_count": 93,
     "metadata": {
      "application/vnd.holoviews_exec.v0+json": {
       "id": "4169"
      }
     },
     "output_type": "execute_result"
    }
   ],
   "source": [
    "# Create bar chart to disply the annualized sharpe ratios\n",
    "sharpe_bar_chart = create_bar_chart(\n",
    "    annual_sharpe,\n",
    "    'Annualized Sharpe Ratio for each assets and portfolios'\n",
    ")\n",
    "\n",
    "sharpe_bar_chart"
   ]
  },
  {
   "cell_type": "code",
   "execution_count": 94,
   "id": "658a322b",
   "metadata": {},
   "outputs": [
    {
     "data": {},
     "metadata": {},
     "output_type": "display_data"
    },
    {
     "data": {},
     "metadata": {},
     "output_type": "display_data"
    },
    {
     "data": {
      "application/vnd.holoviews_exec.v0+json": "",
      "text/html": [
       "<div id='4320'>\n",
       "\n",
       "\n",
       "\n",
       "\n",
       "\n",
       "  <div class=\"bk-root\" id=\"2bc372f9-9dc9-4af1-80ad-75404a21df73\" data-root-id=\"4320\"></div>\n",
       "</div>\n",
       "<script type=\"application/javascript\">(function(root) {\n",
       "  function embed_document(root) {\n",
       "    var docs_json = {\"160972cd-7816-4d8f-a421-78dd2c5cfeab\":{\"defs\":[{\"extends\":null,\"module\":null,\"name\":\"ReactiveHTML1\",\"overrides\":[],\"properties\":[]},{\"extends\":null,\"module\":null,\"name\":\"FlexBox1\",\"overrides\":[],\"properties\":[{\"default\":\"flex-start\",\"kind\":null,\"name\":\"align_content\"},{\"default\":\"flex-start\",\"kind\":null,\"name\":\"align_items\"},{\"default\":\"row\",\"kind\":null,\"name\":\"flex_direction\"},{\"default\":\"wrap\",\"kind\":null,\"name\":\"flex_wrap\"},{\"default\":\"flex-start\",\"kind\":null,\"name\":\"justify_content\"}]},{\"extends\":null,\"module\":null,\"name\":\"TemplateActions1\",\"overrides\":[],\"properties\":[{\"default\":0,\"kind\":null,\"name\":\"open_modal\"},{\"default\":0,\"kind\":null,\"name\":\"close_modal\"}]},{\"extends\":null,\"module\":null,\"name\":\"MaterialTemplateActions1\",\"overrides\":[],\"properties\":[{\"default\":0,\"kind\":null,\"name\":\"open_modal\"},{\"default\":0,\"kind\":null,\"name\":\"close_modal\"}]}],\"roots\":{\"references\":[{\"attributes\":{},\"id\":\"4375\",\"type\":\"UnionRenderers\"},{\"attributes\":{\"tools\":[{\"id\":\"4395\"},{\"id\":\"4412\"},{\"id\":\"4413\"},{\"id\":\"4414\"},{\"id\":\"4415\"},{\"id\":\"4416\"}]},\"id\":\"4418\",\"type\":\"Toolbar\"},{\"attributes\":{},\"id\":\"4459\",\"type\":\"SaveTool\"},{\"attributes\":{\"below\":[{\"id\":\"4333\"}],\"center\":[{\"id\":\"4335\"},{\"id\":\"4339\"}],\"height\":300,\"left\":[{\"id\":\"4336\"}],\"margin\":[5,5,5,5],\"min_border_bottom\":10,\"min_border_left\":10,\"min_border_right\":10,\"min_border_top\":10,\"renderers\":[{\"id\":\"4359\"}],\"sizing_mode\":\"fixed\",\"title\":{\"id\":\"4325\"},\"toolbar\":{\"id\":\"4346\"},\"width\":500,\"x_range\":{\"id\":\"4321\"},\"x_scale\":{\"id\":\"4329\"},\"y_range\":{\"id\":\"4322\"},\"y_scale\":{\"id\":\"4331\"}},\"id\":\"4324\",\"subtype\":\"Figure\",\"type\":\"Plot\"},{\"attributes\":{\"js_property_callbacks\":{\"change:active\":[{\"id\":\"4870\"}]},\"margin\":[0,0,0,0],\"tabs\":[{\"id\":\"4388\"},{\"id\":\"4391\"},{\"id\":\"4693\"},{\"id\":\"4697\"}]},\"id\":\"4320\",\"type\":\"Tabs\"},{\"attributes\":{\"coordinates\":null,\"data_source\":{\"id\":\"4353\"},\"glyph\":{\"id\":\"4356\"},\"group\":null,\"hover_glyph\":null,\"muted_glyph\":{\"id\":\"4358\"},\"nonselection_glyph\":{\"id\":\"4357\"},\"selection_glyph\":{\"id\":\"4361\"},\"view\":{\"id\":\"4360\"}},\"id\":\"4359\",\"type\":\"GlyphRenderer\"},{\"attributes\":{},\"id\":\"4460\",\"type\":\"PanTool\"},{\"attributes\":{\"coordinates\":null,\"group\":null,\"text\":\"Correlation between BTC vs SP500 and NASDAQ \\nduring Sell Off Market\",\"text_color\":\"black\",\"text_font_size\":\"12pt\"},\"id\":\"4397\",\"type\":\"Title\"},{\"attributes\":{},\"id\":\"4416\",\"type\":\"ResetTool\"},{\"attributes\":{\"data\":{\"index\":[\"BTC vs SP500\",\"BTC vs NASDAQ\",\"SP500 vs NASDAQ\"],\"normal\":{\"__ndarray__\":\"HJWx3SB/tj/26HuJKm6+P/JptUZXKO0/\",\"dtype\":\"float64\",\"order\":\"little\",\"shape\":[3]}},\"selected\":{\"id\":\"4473\"},\"selection_policy\":{\"id\":\"4505\"}},\"id\":\"4472\",\"type\":\"ColumnDataSource\"},{\"attributes\":{},\"id\":\"4461\",\"type\":\"WheelZoomTool\"},{\"attributes\":{\"tools\":[{\"id\":\"4442\"},{\"id\":\"4459\"},{\"id\":\"4460\"},{\"id\":\"4461\"},{\"id\":\"4462\"},{\"id\":\"4463\"}]},\"id\":\"4465\",\"type\":\"Toolbar\"},{\"attributes\":{\"bottom_units\":\"screen\",\"coordinates\":null,\"fill_alpha\":0.5,\"fill_color\":\"lightgrey\",\"group\":null,\"left_units\":\"screen\",\"level\":\"overlay\",\"line_alpha\":1.0,\"line_color\":\"black\",\"line_dash\":[4,4],\"line_width\":2,\"right_units\":\"screen\",\"syncable\":false,\"top_units\":\"screen\"},\"id\":\"4417\",\"type\":\"BoxAnnotation\"},{\"attributes\":{\"overlay\":{\"id\":\"4464\"}},\"id\":\"4462\",\"type\":\"BoxZoomTool\"},{\"attributes\":{\"data\":[{\"branchvalues\":\"total\",\"domain\":{\"x\":[0.0,1.0],\"y\":[0.0,1.0]},\"hovertemplate\":\"labels=%{label}<br>avgret=%{value}<br>parent=%{parent}<br>id=%{id}<br>minret=%{color}<extra></extra>\",\"marker\":{\"coloraxis\":\"coloraxis\"},\"name\":\"\",\"type\":\"sunburst\"}],\"data_sources\":[{\"id\":\"4389\"}],\"layout\":{\"coloraxis\":{\"colorbar\":{\"title\":{\"text\":\"minret\"}},\"colorscale\":[[0.0,\"rgb(103,0,31)\"],[0.1,\"rgb(178,24,43)\"],[0.2,\"rgb(214,96,77)\"],[0.3,\"rgb(244,165,130)\"],[0.4,\"rgb(253,219,199)\"],[0.5,\"rgb(247,247,247)\"],[0.6,\"rgb(209,229,240)\"],[0.7,\"rgb(146,197,222)\"],[0.8,\"rgb(67,147,195)\"],[0.9,\"rgb(33,102,172)\"],[1.0,\"rgb(5,48,97)\"]]},\"legend\":{\"tracegroupgap\":0},\"margin\":{\"t\":60},\"template\":{\"data\":{\"bar\":[{\"error_x\":{\"color\":\"#2a3f5f\"},\"error_y\":{\"color\":\"#2a3f5f\"},\"marker\":{\"line\":{\"color\":\"#E5ECF6\",\"width\":0.5},\"pattern\":{\"fillmode\":\"overlay\",\"size\":10,\"solidity\":0.2}},\"type\":\"bar\"}],\"barpolar\":[{\"marker\":{\"line\":{\"color\":\"#E5ECF6\",\"width\":0.5},\"pattern\":{\"fillmode\":\"overlay\",\"size\":10,\"solidity\":0.2}},\"type\":\"barpolar\"}],\"carpet\":[{\"aaxis\":{\"endlinecolor\":\"#2a3f5f\",\"gridcolor\":\"white\",\"linecolor\":\"white\",\"minorgridcolor\":\"white\",\"startlinecolor\":\"#2a3f5f\"},\"baxis\":{\"endlinecolor\":\"#2a3f5f\",\"gridcolor\":\"white\",\"linecolor\":\"white\",\"minorgridcolor\":\"white\",\"startlinecolor\":\"#2a3f5f\"},\"type\":\"carpet\"}],\"choropleth\":[{\"colorbar\":{\"outlinewidth\":0,\"ticks\":\"\"},\"type\":\"choropleth\"}],\"contour\":[{\"colorbar\":{\"outlinewidth\":0,\"ticks\":\"\"},\"colorscale\":[[0.0,\"#0d0887\"],[0.1111111111111111,\"#46039f\"],[0.2222222222222222,\"#7201a8\"],[0.3333333333333333,\"#9c179e\"],[0.4444444444444444,\"#bd3786\"],[0.5555555555555556,\"#d8576b\"],[0.6666666666666666,\"#ed7953\"],[0.7777777777777778,\"#fb9f3a\"],[0.8888888888888888,\"#fdca26\"],[1.0,\"#f0f921\"]],\"type\":\"contour\"}],\"contourcarpet\":[{\"colorbar\":{\"outlinewidth\":0,\"ticks\":\"\"},\"type\":\"contourcarpet\"}],\"heatmap\":[{\"colorbar\":{\"outlinewidth\":0,\"ticks\":\"\"},\"colorscale\":[[0.0,\"#0d0887\"],[0.1111111111111111,\"#46039f\"],[0.2222222222222222,\"#7201a8\"],[0.3333333333333333,\"#9c179e\"],[0.4444444444444444,\"#bd3786\"],[0.5555555555555556,\"#d8576b\"],[0.6666666666666666,\"#ed7953\"],[0.7777777777777778,\"#fb9f3a\"],[0.8888888888888888,\"#fdca26\"],[1.0,\"#f0f921\"]],\"type\":\"heatmap\"}],\"heatmapgl\":[{\"colorbar\":{\"outlinewidth\":0,\"ticks\":\"\"},\"colorscale\":[[0.0,\"#0d0887\"],[0.1111111111111111,\"#46039f\"],[0.2222222222222222,\"#7201a8\"],[0.3333333333333333,\"#9c179e\"],[0.4444444444444444,\"#bd3786\"],[0.5555555555555556,\"#d8576b\"],[0.6666666666666666,\"#ed7953\"],[0.7777777777777778,\"#fb9f3a\"],[0.8888888888888888,\"#fdca26\"],[1.0,\"#f0f921\"]],\"type\":\"heatmapgl\"}],\"histogram\":[{\"marker\":{\"pattern\":{\"fillmode\":\"overlay\",\"size\":10,\"solidity\":0.2}},\"type\":\"histogram\"}],\"histogram2d\":[{\"colorbar\":{\"outlinewidth\":0,\"ticks\":\"\"},\"colorscale\":[[0.0,\"#0d0887\"],[0.1111111111111111,\"#46039f\"],[0.2222222222222222,\"#7201a8\"],[0.3333333333333333,\"#9c179e\"],[0.4444444444444444,\"#bd3786\"],[0.5555555555555556,\"#d8576b\"],[0.6666666666666666,\"#ed7953\"],[0.7777777777777778,\"#fb9f3a\"],[0.8888888888888888,\"#fdca26\"],[1.0,\"#f0f921\"]],\"type\":\"histogram2d\"}],\"histogram2dcontour\":[{\"colorbar\":{\"outlinewidth\":0,\"ticks\":\"\"},\"colorscale\":[[0.0,\"#0d0887\"],[0.1111111111111111,\"#46039f\"],[0.2222222222222222,\"#7201a8\"],[0.3333333333333333,\"#9c179e\"],[0.4444444444444444,\"#bd3786\"],[0.5555555555555556,\"#d8576b\"],[0.6666666666666666,\"#ed7953\"],[0.7777777777777778,\"#fb9f3a\"],[0.8888888888888888,\"#fdca26\"],[1.0,\"#f0f921\"]],\"type\":\"histogram2dcontour\"}],\"mesh3d\":[{\"colorbar\":{\"outlinewidth\":0,\"ticks\":\"\"},\"type\":\"mesh3d\"}],\"parcoords\":[{\"line\":{\"colorbar\":{\"outlinewidth\":0,\"ticks\":\"\"}},\"type\":\"parcoords\"}],\"pie\":[{\"automargin\":true,\"type\":\"pie\"}],\"scatter\":[{\"marker\":{\"colorbar\":{\"outlinewidth\":0,\"ticks\":\"\"}},\"type\":\"scatter\"}],\"scatter3d\":[{\"line\":{\"colorbar\":{\"outlinewidth\":0,\"ticks\":\"\"}},\"marker\":{\"colorbar\":{\"outlinewidth\":0,\"ticks\":\"\"}},\"type\":\"scatter3d\"}],\"scattercarpet\":[{\"marker\":{\"colorbar\":{\"outlinewidth\":0,\"ticks\":\"\"}},\"type\":\"scattercarpet\"}],\"scattergeo\":[{\"marker\":{\"colorbar\":{\"outlinewidth\":0,\"ticks\":\"\"}},\"type\":\"scattergeo\"}],\"scattergl\":[{\"marker\":{\"colorbar\":{\"outlinewidth\":0,\"ticks\":\"\"}},\"type\":\"scattergl\"}],\"scattermapbox\":[{\"marker\":{\"colorbar\":{\"outlinewidth\":0,\"ticks\":\"\"}},\"type\":\"scattermapbox\"}],\"scatterpolar\":[{\"marker\":{\"colorbar\":{\"outlinewidth\":0,\"ticks\":\"\"}},\"type\":\"scatterpolar\"}],\"scatterpolargl\":[{\"marker\":{\"colorbar\":{\"outlinewidth\":0,\"ticks\":\"\"}},\"type\":\"scatterpolargl\"}],\"scatterternary\":[{\"marker\":{\"colorbar\":{\"outlinewidth\":0,\"ticks\":\"\"}},\"type\":\"scatterternary\"}],\"surface\":[{\"colorbar\":{\"outlinewidth\":0,\"ticks\":\"\"},\"colorscale\":[[0.0,\"#0d0887\"],[0.1111111111111111,\"#46039f\"],[0.2222222222222222,\"#7201a8\"],[0.3333333333333333,\"#9c179e\"],[0.4444444444444444,\"#bd3786\"],[0.5555555555555556,\"#d8576b\"],[0.6666666666666666,\"#ed7953\"],[0.7777777777777778,\"#fb9f3a\"],[0.8888888888888888,\"#fdca26\"],[1.0,\"#f0f921\"]],\"type\":\"surface\"}],\"table\":[{\"cells\":{\"fill\":{\"color\":\"#EBF0F8\"},\"line\":{\"color\":\"white\"}},\"header\":{\"fill\":{\"color\":\"#C8D4E3\"},\"line\":{\"color\":\"white\"}},\"type\":\"table\"}]},\"layout\":{\"annotationdefaults\":{\"arrowcolor\":\"#2a3f5f\",\"arrowhead\":0,\"arrowwidth\":1},\"autotypenumbers\":\"strict\",\"coloraxis\":{\"colorbar\":{\"outlinewidth\":0,\"ticks\":\"\"}},\"colorscale\":{\"diverging\":[[0,\"#8e0152\"],[0.1,\"#c51b7d\"],[0.2,\"#de77ae\"],[0.3,\"#f1b6da\"],[0.4,\"#fde0ef\"],[0.5,\"#f7f7f7\"],[0.6,\"#e6f5d0\"],[0.7,\"#b8e186\"],[0.8,\"#7fbc41\"],[0.9,\"#4d9221\"],[1,\"#276419\"]],\"sequential\":[[0.0,\"#0d0887\"],[0.1111111111111111,\"#46039f\"],[0.2222222222222222,\"#7201a8\"],[0.3333333333333333,\"#9c179e\"],[0.4444444444444444,\"#bd3786\"],[0.5555555555555556,\"#d8576b\"],[0.6666666666666666,\"#ed7953\"],[0.7777777777777778,\"#fb9f3a\"],[0.8888888888888888,\"#fdca26\"],[1.0,\"#f0f921\"]],\"sequentialminus\":[[0.0,\"#0d0887\"],[0.1111111111111111,\"#46039f\"],[0.2222222222222222,\"#7201a8\"],[0.3333333333333333,\"#9c179e\"],[0.4444444444444444,\"#bd3786\"],[0.5555555555555556,\"#d8576b\"],[0.6666666666666666,\"#ed7953\"],[0.7777777777777778,\"#fb9f3a\"],[0.8888888888888888,\"#fdca26\"],[1.0,\"#f0f921\"]]},\"colorway\":[\"#636efa\",\"#EF553B\",\"#00cc96\",\"#ab63fa\",\"#FFA15A\",\"#19d3f3\",\"#FF6692\",\"#B6E880\",\"#FF97FF\",\"#FECB52\"],\"font\":{\"color\":\"#2a3f5f\"},\"geo\":{\"bgcolor\":\"white\",\"lakecolor\":\"white\",\"landcolor\":\"#E5ECF6\",\"showlakes\":true,\"showland\":true,\"subunitcolor\":\"white\"},\"hoverlabel\":{\"align\":\"left\"},\"hovermode\":\"closest\",\"mapbox\":{\"style\":\"light\"},\"paper_bgcolor\":\"white\",\"plot_bgcolor\":\"#E5ECF6\",\"polar\":{\"angularaxis\":{\"gridcolor\":\"white\",\"linecolor\":\"white\",\"ticks\":\"\"},\"bgcolor\":\"#E5ECF6\",\"radialaxis\":{\"gridcolor\":\"white\",\"linecolor\":\"white\",\"ticks\":\"\"}},\"scene\":{\"xaxis\":{\"backgroundcolor\":\"#E5ECF6\",\"gridcolor\":\"white\",\"gridwidth\":2,\"linecolor\":\"white\",\"showbackground\":true,\"ticks\":\"\",\"zerolinecolor\":\"white\"},\"yaxis\":{\"backgroundcolor\":\"#E5ECF6\",\"gridcolor\":\"white\",\"gridwidth\":2,\"linecolor\":\"white\",\"showbackground\":true,\"ticks\":\"\",\"zerolinecolor\":\"white\"},\"zaxis\":{\"backgroundcolor\":\"#E5ECF6\",\"gridcolor\":\"white\",\"gridwidth\":2,\"linecolor\":\"white\",\"showbackground\":true,\"ticks\":\"\",\"zerolinecolor\":\"white\"}},\"shapedefaults\":{\"line\":{\"color\":\"#2a3f5f\"}},\"ternary\":{\"aaxis\":{\"gridcolor\":\"white\",\"linecolor\":\"white\",\"ticks\":\"\"},\"baxis\":{\"gridcolor\":\"white\",\"linecolor\":\"white\",\"ticks\":\"\"},\"bgcolor\":\"#E5ECF6\",\"caxis\":{\"gridcolor\":\"white\",\"linecolor\":\"white\",\"ticks\":\"\"}},\"title\":{\"x\":0.05},\"xaxis\":{\"automargin\":true,\"gridcolor\":\"white\",\"linecolor\":\"white\",\"ticks\":\"\",\"title\":{\"standoff\":15},\"zerolinecolor\":\"white\",\"zerolinewidth\":2},\"yaxis\":{\"automargin\":true,\"gridcolor\":\"white\",\"linecolor\":\"white\",\"ticks\":\"\",\"title\":{\"standoff\":15},\"zerolinecolor\":\"white\",\"zerolinewidth\":2}}}},\"margin\":[5,5,5,5],\"name\":\"Returns vs. Max Loss\",\"viewport_update_throttle\":200,\"visibility\":false},\"id\":\"4390\",\"type\":\"panel.models.plotly.PlotlyPlot\"},{\"attributes\":{},\"id\":\"4436\",\"type\":\"AllLabels\"},{\"attributes\":{\"coordinates\":null,\"group\":null,\"text\":\"Annualized Sharpe Ratio for each assets and portfolios\",\"text_color\":\"black\",\"text_font_size\":\"12pt\"},\"id\":\"4325\",\"type\":\"Title\"},{\"attributes\":{},\"id\":\"4438\",\"type\":\"BasicTickFormatter\"},{\"attributes\":{},\"id\":\"4331\",\"type\":\"LinearScale\"},{\"attributes\":{},\"id\":\"4463\",\"type\":\"ResetTool\"},{\"attributes\":{},\"id\":\"4435\",\"type\":\"CategoricalTickFormatter\"},{\"attributes\":{\"bottom\":{\"value\":0},\"fill_alpha\":{\"value\":1.0},\"fill_color\":{\"value\":\"#30a2da\"},\"hatch_alpha\":{\"value\":1.0},\"hatch_color\":{\"value\":\"#30a2da\"},\"hatch_scale\":{\"value\":12.0},\"hatch_weight\":{\"value\":1.0},\"line_alpha\":{\"value\":1.0},\"line_cap\":{\"value\":\"butt\"},\"line_color\":{\"value\":\"black\"},\"line_dash\":{\"value\":[]},\"line_dash_offset\":{\"value\":0},\"line_join\":{\"value\":\"bevel\"},\"line_width\":{\"value\":1},\"top\":{\"field\":\"A_0\"},\"width\":{\"value\":0.8},\"x\":{\"field\":\"index\"}},\"id\":\"4361\",\"type\":\"VBar\"},{\"attributes\":{\"bottom_units\":\"screen\",\"coordinates\":null,\"fill_alpha\":0.5,\"fill_color\":\"lightgrey\",\"group\":null,\"left_units\":\"screen\",\"level\":\"overlay\",\"line_alpha\":1.0,\"line_color\":\"black\",\"line_dash\":[4,4],\"line_width\":2,\"right_units\":\"screen\",\"syncable\":false,\"top_units\":\"screen\"},\"id\":\"4464\",\"type\":\"BoxAnnotation\"},{\"attributes\":{\"axis_label\":\"\",\"coordinates\":null,\"formatter\":{\"id\":\"4363\"},\"group\":null,\"major_label_policy\":{\"id\":\"4364\"},\"ticker\":{\"id\":\"4334\"}},\"id\":\"4333\",\"type\":\"CategoricalAxis\"},{\"attributes\":{\"coordinates\":null,\"data_source\":{\"id\":\"4425\"},\"glyph\":{\"id\":\"4428\"},\"group\":null,\"hover_glyph\":null,\"muted_glyph\":{\"id\":\"4430\"},\"nonselection_glyph\":{\"id\":\"4429\"},\"selection_glyph\":{\"id\":\"4433\"},\"view\":{\"id\":\"4432\"}},\"id\":\"4431\",\"type\":\"GlyphRenderer\"},{\"attributes\":{\"source\":{\"id\":\"4472\"}},\"id\":\"4479\",\"type\":\"CDSView\"},{\"attributes\":{},\"id\":\"4473\",\"type\":\"Selection\"},{\"attributes\":{},\"id\":\"4329\",\"type\":\"CategoricalScale\"},{\"attributes\":{\"data\":{\"customdata\":[{\"__ndarray__\":\"yBx2XL3Rwr/IHHZcvdHCv/bKTnHbyde/9spOcdvJ17/80/4P4p7Bv/zT/g/insG/V3EjlGaTur9XcSOUZpO6vzB70sUtdsG/MHvSxS12wb+QrVNdotPdv5CtU12i092/EPtu3cp4xL8Q+27dynjEv9SN+Mg+xcC/1I34yD7FwL+gxHNvVdbBv6DEc29V1sG/TPPd8C7g3b9M893wLuDdvxQTXJ8fzMO/FBNcnx/Mw78ghXihAGu/vyCFeKEAa7+/8BYpfuzIob/wFil+7MihvzD5V13oir+/MPlXXeiKv7+g519IsASiv6DnX0iwBKK/EEmypaoho78QSbKlqiGjvz9qPKwTfp6/P2o8rBN+nr+YOU/V3q2+v5g5T9Xerb6/APTgmk1Lmr8A9OCaTUuav0CuYBICOp6/QK5gEgI6nr8Av0gBWsW/vwC/SAFaxb+/AykuwMgD2r8DKS7AyAPav3NtbAyJO8G/c21sDIk7wb+PTOfR0Ky4v49M59HQrLi/\",\"dtype\":\"float64\",\"order\":\"little\",\"shape\":[24,2]}],\"ids\":[[\"2019/BTC\",\"2020/BTC\",\"2021/BTC\",\"2022/BTC\",\"2019/BTC-NASDAQ\",\"2020/BTC-NASDAQ\",\"2021/BTC-NASDAQ\",\"2022/BTC-NASDAQ\",\"2019/BTC-SP500\",\"2020/BTC-SP500\",\"2021/BTC-SP500\",\"2022/BTC-SP500\",\"2019/NASDAQ\",\"2020/NASDAQ\",\"2021/NASDAQ\",\"2022/NASDAQ\",\"2019/SP500\",\"2020/SP500\",\"2021/SP500\",\"2022/SP500\",\"2019\",\"2020\",\"2021\",\"2022\"]],\"labels\":[[\"BTC\",\"BTC\",\"BTC\",\"BTC\",\"BTC-NASDAQ\",\"BTC-NASDAQ\",\"BTC-NASDAQ\",\"BTC-NASDAQ\",\"BTC-SP500\",\"BTC-SP500\",\"BTC-SP500\",\"BTC-SP500\",\"NASDAQ\",\"NASDAQ\",\"NASDAQ\",\"NASDAQ\",\"SP500\",\"SP500\",\"SP500\",\"SP500\",\"2019\",\"2020\",\"2021\",\"2022\"]],\"marker.colors\":[{\"__ndarray__\":\"yBx2XL3Rwr/2yk5x28nXv/zT/g/insG/V3EjlGaTur8we9LFLXbBv5CtU12i092/EPtu3cp4xL/UjfjIPsXAv6DEc29V1sG/TPPd8C7g3b8UE1yfH8zDvyCFeKEAa7+/8BYpfuzIob8w+Vdd6Iq/v6DnX0iwBKK/EEmypaoho78/ajysE36ev5g5T9Xerb6/APTgmk1Lmr9ArmASAjqevwC/SAFaxb+/AykuwMgD2r9zbWwMiTvBv49M59HQrLi/\",\"dtype\":\"float64\",\"order\":\"little\",\"shape\":[24]}],\"parents\":[[\"2019\",\"2020\",\"2021\",\"2022\",\"2019\",\"2020\",\"2021\",\"2022\",\"2019\",\"2020\",\"2021\",\"2022\",\"2019\",\"2020\",\"2021\",\"2022\",\"2019\",\"2020\",\"2021\",\"2022\",\"\",\"\",\"\",\"\"]],\"values\":[{\"__ndarray__\":\"129UXBHpbD+KBWZN4jJ7P2Nk7TWsNmk/R/nOKQL4Vb+nAUeI5I9zP4FmAxt6DIE/DlW/koEFcD+H/gFmA4Frvz3RZFUBtXI/ahV1WXmbfj9P12h4cJ5wPxJ1uFa6lGO/3SZzaG9tVD/cHYOiR5hbP98WRb5bUUs/5IEaUQKFYL9DZeqc4gFRPw1/eGC4REs/fpTIdWkMUD/c8KGDcjFRv+y2loahCo8/1G9kNH6NmT9F06z9RlaKP6RaI5ney4S/\",\"dtype\":\"float64\",\"order\":\"little\",\"shape\":[24]}]},\"selected\":{\"id\":\"4706\"},\"selection_policy\":{\"id\":\"4705\"}},\"id\":\"4389\",\"type\":\"ColumnDataSource\"},{\"attributes\":{},\"id\":\"4483\",\"type\":\"AllLabels\"},{\"attributes\":{\"callback\":null,\"renderers\":[{\"id\":\"4478\"}],\"tags\":[\"hv_created\"],\"tooltips\":[[\"index\",\"@{index}\"],[\"normal\",\"@{normal}\"]]},\"id\":\"4442\",\"type\":\"HoverTool\"},{\"attributes\":{},\"id\":\"4334\",\"type\":\"CategoricalTicker\"},{\"attributes\":{\"child\":{\"id\":\"4392\"},\"name\":\"Column03445\",\"title\":\"Correlation in diff Markets\"},\"id\":\"4693\",\"type\":\"Panel\"},{\"attributes\":{\"data\":{\"index\":[\"BTC vs SP500\",\"BTC vs NASDAQ\",\"SP500 vs NASDAQ\"],\"selloff\":{\"__ndarray__\":\"CLJni87X4D+QL9zCNWPfPz3OqusU2e0/\",\"dtype\":\"float64\",\"order\":\"little\",\"shape\":[3]}},\"selected\":{\"id\":\"4426\"},\"selection_policy\":{\"id\":\"4494\"}},\"id\":\"4425\",\"type\":\"ColumnDataSource\"},{\"attributes\":{\"source\":{\"id\":\"4353\"}},\"id\":\"4360\",\"type\":\"CDSView\"},{\"attributes\":{},\"id\":\"4426\",\"type\":\"Selection\"},{\"attributes\":{\"toolbar\":{\"id\":\"4510\"},\"toolbar_location\":\"above\"},\"id\":\"4511\",\"type\":\"ToolbarBox\"},{\"attributes\":{\"factors\":[\"BTC\",\"SP500\",\"NASDAQ\",\"BTC-SP500\",\"BTC-NASDAQ\",\"BTC vs SP500\",\"BTC vs NASDAQ\",\"SP500 vs NASDAQ\"],\"tags\":[[[\"index\",\"index\",null]]]},\"id\":\"4321\",\"type\":\"FactorRange\"},{\"attributes\":{\"axis\":{\"id\":\"4333\"},\"coordinates\":null,\"grid_line_color\":null,\"group\":null,\"ticker\":null},\"id\":\"4335\",\"type\":\"Grid\"},{\"attributes\":{\"end\":0.9769811270589481,\"reset_end\":0.9769811270589481,\"reset_start\":0.0,\"tags\":[[[\"selloff\",\"selloff\",null]]]},\"id\":\"4394\",\"type\":\"Range1d\"},{\"attributes\":{\"children\":[{\"id\":\"4695\"},{\"id\":\"4696\"}],\"margin\":[0,0,0,0],\"name\":\"Row03822\"},\"id\":\"4694\",\"type\":\"Row\"},{\"attributes\":{\"bottom\":{\"value\":0},\"fill_alpha\":{\"value\":1.0},\"fill_color\":{\"value\":\"#30a2da\"},\"hatch_alpha\":{\"value\":1.0},\"hatch_color\":{\"value\":\"#30a2da\"},\"hatch_scale\":{\"value\":12.0},\"hatch_weight\":{\"value\":1.0},\"line_alpha\":{\"value\":1.0},\"line_cap\":{\"value\":\"butt\"},\"line_color\":{\"value\":\"black\"},\"line_dash\":{\"value\":[]},\"line_dash_offset\":{\"value\":0},\"line_join\":{\"value\":\"bevel\"},\"line_width\":{\"value\":1},\"top\":{\"field\":\"normal\"},\"width\":{\"value\":0.8},\"x\":{\"field\":\"index\"}},\"id\":\"4480\",\"type\":\"VBar\"},{\"attributes\":{\"fill_alpha\":{\"value\":0.1},\"fill_color\":{\"value\":\"#30a2da\"},\"hatch_alpha\":{\"value\":0.1},\"hatch_color\":{\"value\":\"#30a2da\"},\"line_alpha\":{\"value\":0.1},\"top\":{\"field\":\"A_0\"},\"width\":{\"value\":0.8},\"x\":{\"field\":\"index\"}},\"id\":\"4357\",\"type\":\"VBar\"},{\"attributes\":{},\"id\":\"4337\",\"type\":\"BasicTicker\"},{\"attributes\":{},\"id\":\"4354\",\"type\":\"Selection\"},{\"attributes\":{},\"id\":\"4439\",\"type\":\"AllLabels\"},{\"attributes\":{\"bottom\":{\"value\":0},\"fill_alpha\":{\"value\":1.0},\"fill_color\":{\"value\":\"#30a2da\"},\"hatch_alpha\":{\"value\":1.0},\"hatch_color\":{\"value\":\"#30a2da\"},\"hatch_scale\":{\"value\":12.0},\"hatch_weight\":{\"value\":1.0},\"line_alpha\":{\"value\":1.0},\"line_cap\":{\"value\":\"butt\"},\"line_color\":{\"value\":\"black\"},\"line_dash\":{\"value\":[]},\"line_dash_offset\":{\"value\":0},\"line_join\":{\"value\":\"bevel\"},\"line_width\":{\"value\":1},\"top\":{\"field\":\"selloff\"},\"width\":{\"value\":0.8},\"x\":{\"field\":\"index\"}},\"id\":\"4433\",\"type\":\"VBar\"},{\"attributes\":{\"axis\":{\"id\":\"4336\"},\"coordinates\":null,\"dimension\":1,\"grid_line_color\":null,\"group\":null,\"ticker\":null},\"id\":\"4339\",\"type\":\"Grid\"},{\"attributes\":{\"axis\":{\"id\":\"4408\"},\"coordinates\":null,\"dimension\":1,\"grid_line_color\":null,\"group\":null,\"ticker\":null},\"id\":\"4411\",\"type\":\"Grid\"},{\"attributes\":{\"overlay\":{\"id\":\"4417\"}},\"id\":\"4415\",\"type\":\"BoxZoomTool\"},{\"attributes\":{\"client_comm_id\":\"ed70515fafc8466b8bab7c8084e7de10\",\"comm_id\":\"7b5e5bc045754d18b1106b6011ba0463\",\"plot_id\":\"4320\"},\"id\":\"4935\",\"type\":\"panel.models.comm_manager.CommManager\"},{\"attributes\":{\"below\":[{\"id\":\"4452\"}],\"center\":[{\"id\":\"4454\"},{\"id\":\"4458\"}],\"height\":300,\"left\":[{\"id\":\"4455\"}],\"margin\":null,\"min_border_bottom\":10,\"min_border_left\":10,\"min_border_right\":10,\"min_border_top\":10,\"renderers\":[{\"id\":\"4478\"}],\"sizing_mode\":\"fixed\",\"title\":{\"id\":\"4444\"},\"toolbar\":{\"id\":\"4465\"},\"toolbar_location\":null,\"width\":500,\"x_range\":{\"id\":\"4321\"},\"x_scale\":{\"id\":\"4448\"},\"y_range\":{\"id\":\"4441\"},\"y_scale\":{\"id\":\"4450\"}},\"id\":\"4443\",\"subtype\":\"Figure\",\"type\":\"Plot\"},{\"attributes\":{},\"id\":\"4364\",\"type\":\"AllLabels\"},{\"attributes\":{\"callback\":null,\"renderers\":[{\"id\":\"4431\"}],\"tags\":[\"hv_created\"],\"tooltips\":[[\"index\",\"@{index}\"],[\"selloff\",\"@{selloff}\"]]},\"id\":\"4395\",\"type\":\"HoverTool\"},{\"attributes\":{},\"id\":\"4403\",\"type\":\"LinearScale\"},{\"attributes\":{\"fill_color\":{\"value\":\"#30a2da\"},\"hatch_color\":{\"value\":\"#30a2da\"},\"top\":{\"field\":\"normal\"},\"width\":{\"value\":0.8},\"x\":{\"field\":\"index\"}},\"id\":\"4475\",\"type\":\"VBar\"},{\"attributes\":{\"fill_alpha\":{\"value\":0.2},\"fill_color\":{\"value\":\"#30a2da\"},\"hatch_alpha\":{\"value\":0.2},\"hatch_color\":{\"value\":\"#30a2da\"},\"line_alpha\":{\"value\":0.2},\"top\":{\"field\":\"selloff\"},\"width\":{\"value\":0.8},\"x\":{\"field\":\"index\"}},\"id\":\"4430\",\"type\":\"VBar\"},{\"attributes\":{},\"id\":\"4482\",\"type\":\"CategoricalTickFormatter\"},{\"attributes\":{\"child\":{\"id\":\"4390\"},\"name\":\"Returns vs. Max Loss\",\"title\":\"Returns vs. Max Loss\"},\"id\":\"4391\",\"type\":\"Panel\"},{\"attributes\":{\"tools\":[{\"id\":\"4323\"},{\"id\":\"4340\"},{\"id\":\"4341\"},{\"id\":\"4342\"},{\"id\":\"4343\"},{\"id\":\"4344\"}]},\"id\":\"4346\",\"type\":\"Toolbar\"},{\"attributes\":{\"bottom_units\":\"screen\",\"coordinates\":null,\"fill_alpha\":0.5,\"fill_color\":\"lightgrey\",\"group\":null,\"left_units\":\"screen\",\"level\":\"overlay\",\"line_alpha\":1.0,\"line_color\":\"black\",\"line_dash\":[4,4],\"line_width\":2,\"right_units\":\"screen\",\"syncable\":false,\"top_units\":\"screen\"},\"id\":\"4345\",\"type\":\"BoxAnnotation\"},{\"attributes\":{\"below\":[{\"id\":\"4405\"}],\"center\":[{\"id\":\"4407\"},{\"id\":\"4411\"}],\"height\":300,\"left\":[{\"id\":\"4408\"}],\"margin\":null,\"min_border_bottom\":10,\"min_border_left\":10,\"min_border_right\":10,\"min_border_top\":10,\"renderers\":[{\"id\":\"4431\"}],\"sizing_mode\":\"fixed\",\"title\":{\"id\":\"4397\"},\"toolbar\":{\"id\":\"4418\"},\"toolbar_location\":null,\"width\":500,\"x_range\":{\"id\":\"4321\"},\"x_scale\":{\"id\":\"4401\"},\"y_range\":{\"id\":\"4394\"},\"y_scale\":{\"id\":\"4403\"}},\"id\":\"4396\",\"subtype\":\"Figure\",\"type\":\"Plot\"},{\"attributes\":{},\"id\":\"4485\",\"type\":\"BasicTickFormatter\"},{\"attributes\":{},\"id\":\"4340\",\"type\":\"SaveTool\"},{\"attributes\":{},\"id\":\"4494\",\"type\":\"UnionRenderers\"},{\"attributes\":{\"margin\":[5,5,5,5],\"name\":\"Str03818\",\"text\":\"&lt;pre&gt; &lt;/pre&gt;\"},\"id\":\"4695\",\"type\":\"panel.models.markup.HTML\"},{\"attributes\":{\"data\":{\"A_0\":{\"__ndarray__\":\"Mm+EGlvY8j/vnh+bhmflP8n8EVcBSOk/wDgOG9Ue9D9soXtvH6b0Pw==\",\"dtype\":\"float64\",\"order\":\"little\",\"shape\":[5]},\"index\":[\"BTC\",\"SP500\",\"NASDAQ\",\"BTC-SP500\",\"BTC-NASDAQ\"]},\"selected\":{\"id\":\"4354\"},\"selection_policy\":{\"id\":\"4375\"}},\"id\":\"4353\",\"type\":\"ColumnDataSource\"},{\"attributes\":{\"end\":0.9935041394240067,\"reset_end\":0.9935041394240067,\"reset_start\":0.0,\"tags\":[[[\"normal\",\"normal\",null]]]},\"id\":\"4441\",\"type\":\"Range1d\"},{\"attributes\":{},\"id\":\"4341\",\"type\":\"PanTool\"},{\"attributes\":{\"margin\":[5,5,5,5],\"name\":\"Str03820\",\"text\":\"&lt;pre&gt; &lt;/pre&gt;\"},\"id\":\"4696\",\"type\":\"panel.models.markup.HTML\"},{\"attributes\":{},\"id\":\"4342\",\"type\":\"WheelZoomTool\"},{\"attributes\":{\"coordinates\":null,\"group\":null,\"text\":\"Correlation between BTC vs SP500 and NASDAQ \\nduring Normal Market\",\"text_color\":\"black\",\"text_font_size\":\"12pt\"},\"id\":\"4444\",\"type\":\"Title\"},{\"attributes\":{},\"id\":\"4505\",\"type\":\"UnionRenderers\"},{\"attributes\":{},\"id\":\"4450\",\"type\":\"LinearScale\"},{\"attributes\":{\"children\":[{\"id\":\"4511\"},{\"id\":\"4509\"}]},\"id\":\"4512\",\"type\":\"Column\"},{\"attributes\":{\"overlay\":{\"id\":\"4345\"}},\"id\":\"4343\",\"type\":\"BoxZoomTool\"},{\"attributes\":{},\"id\":\"4401\",\"type\":\"CategoricalScale\"},{\"attributes\":{\"axis\":{\"id\":\"4455\"},\"coordinates\":null,\"dimension\":1,\"grid_line_color\":null,\"group\":null,\"ticker\":null},\"id\":\"4458\",\"type\":\"Grid\"},{\"attributes\":{},\"id\":\"4366\",\"type\":\"BasicTickFormatter\"},{\"attributes\":{\"axis_label\":\"\",\"coordinates\":null,\"formatter\":{\"id\":\"4435\"},\"group\":null,\"major_label_policy\":{\"id\":\"4436\"},\"ticker\":{\"id\":\"4406\"}},\"id\":\"4405\",\"type\":\"CategoricalAxis\"},{\"attributes\":{},\"id\":\"4486\",\"type\":\"AllLabels\"},{\"attributes\":{},\"id\":\"4406\",\"type\":\"CategoricalTicker\"},{\"attributes\":{},\"id\":\"4344\",\"type\":\"ResetTool\"},{\"attributes\":{},\"id\":\"4705\",\"type\":\"UnionRenderers\"},{\"attributes\":{\"axis\":{\"id\":\"4405\"},\"coordinates\":null,\"grid_line_color\":null,\"group\":null,\"ticker\":null},\"id\":\"4407\",\"type\":\"Grid\"},{\"attributes\":{\"fill_alpha\":{\"value\":0.2},\"fill_color\":{\"value\":\"#30a2da\"},\"hatch_alpha\":{\"value\":0.2},\"hatch_color\":{\"value\":\"#30a2da\"},\"line_alpha\":{\"value\":0.2},\"top\":{\"field\":\"A_0\"},\"width\":{\"value\":0.8},\"x\":{\"field\":\"index\"}},\"id\":\"4358\",\"type\":\"VBar\"},{\"attributes\":{\"child\":{\"id\":\"4324\"},\"name\":\"BTC - Equity Diversifier\",\"title\":\"BTC - Equity Diversifier\"},\"id\":\"4388\",\"type\":\"Panel\"},{\"attributes\":{},\"id\":\"4409\",\"type\":\"BasicTicker\"},{\"attributes\":{},\"id\":\"4448\",\"type\":\"CategoricalScale\"},{\"attributes\":{\"child\":{\"id\":\"4694\"},\"name\":\"Row03822\",\"title\":\"Return distribution\"},\"id\":\"4697\",\"type\":\"Panel\"},{\"attributes\":{\"axis_label\":\"\",\"coordinates\":null,\"formatter\":{\"id\":\"4438\"},\"group\":null,\"major_label_policy\":{\"id\":\"4439\"},\"ticker\":{\"id\":\"4409\"}},\"id\":\"4408\",\"type\":\"LinearAxis\"},{\"attributes\":{\"axis_label\":\"\",\"coordinates\":null,\"formatter\":{\"id\":\"4482\"},\"group\":null,\"major_label_policy\":{\"id\":\"4483\"},\"ticker\":{\"id\":\"4453\"}},\"id\":\"4452\",\"type\":\"CategoricalAxis\"},{\"attributes\":{\"axis_label\":\"\",\"coordinates\":null,\"formatter\":{\"id\":\"4366\"},\"group\":null,\"major_label_policy\":{\"id\":\"4367\"},\"ticker\":{\"id\":\"4337\"}},\"id\":\"4336\",\"type\":\"LinearAxis\"},{\"attributes\":{\"fill_alpha\":{\"value\":0.1},\"fill_color\":{\"value\":\"#30a2da\"},\"hatch_alpha\":{\"value\":0.1},\"hatch_color\":{\"value\":\"#30a2da\"},\"line_alpha\":{\"value\":0.1},\"top\":{\"field\":\"selloff\"},\"width\":{\"value\":0.8},\"x\":{\"field\":\"index\"}},\"id\":\"4429\",\"type\":\"VBar\"},{\"attributes\":{},\"id\":\"4453\",\"type\":\"CategoricalTicker\"},{\"attributes\":{\"args\":{\"model\":{\"id\":\"4390\"}},\"code\":\"try { model.visibility = (cb_obj.active == 1); } catch { }\",\"tags\":[\"plotly_tab_fix4390\"]},\"id\":\"4870\",\"type\":\"CustomJS\"},{\"attributes\":{\"source\":{\"id\":\"4425\"}},\"id\":\"4432\",\"type\":\"CDSView\"},{\"attributes\":{\"axis\":{\"id\":\"4452\"},\"coordinates\":null,\"grid_line_color\":null,\"group\":null,\"ticker\":null},\"id\":\"4454\",\"type\":\"Grid\"},{\"attributes\":{\"fill_color\":{\"value\":\"#30a2da\"},\"hatch_color\":{\"value\":\"#30a2da\"},\"top\":{\"field\":\"A_0\"},\"width\":{\"value\":0.8},\"x\":{\"field\":\"index\"}},\"id\":\"4356\",\"type\":\"VBar\"},{\"attributes\":{\"children\":[{\"id\":\"4512\"}],\"margin\":[0,0,0,0],\"name\":\"Column03445\"},\"id\":\"4392\",\"type\":\"Column\"},{\"attributes\":{},\"id\":\"4706\",\"type\":\"Selection\"},{\"attributes\":{},\"id\":\"4456\",\"type\":\"BasicTicker\"},{\"attributes\":{\"callback\":null,\"renderers\":[{\"id\":\"4359\"}],\"tags\":[\"hv_created\"],\"tooltips\":[[\"index\",\"@{index}\"],[\"0\",\"@{A_0}\"]]},\"id\":\"4323\",\"type\":\"HoverTool\"},{\"attributes\":{\"axis_label\":\"\",\"coordinates\":null,\"formatter\":{\"id\":\"4485\"},\"group\":null,\"major_label_policy\":{\"id\":\"4486\"},\"ticker\":{\"id\":\"4456\"}},\"id\":\"4455\",\"type\":\"LinearAxis\"},{\"attributes\":{},\"id\":\"4363\",\"type\":\"CategoricalTickFormatter\"},{\"attributes\":{\"fill_color\":{\"value\":\"#30a2da\"},\"hatch_color\":{\"value\":\"#30a2da\"},\"top\":{\"field\":\"selloff\"},\"width\":{\"value\":0.8},\"x\":{\"field\":\"index\"}},\"id\":\"4428\",\"type\":\"VBar\"},{\"attributes\":{\"children\":[[{\"id\":\"4396\"},0,0],[{\"id\":\"4443\"},0,1]]},\"id\":\"4509\",\"type\":\"GridBox\"},{\"attributes\":{},\"id\":\"4412\",\"type\":\"SaveTool\"},{\"attributes\":{},\"id\":\"4413\",\"type\":\"PanTool\"},{\"attributes\":{\"coordinates\":null,\"data_source\":{\"id\":\"4472\"},\"glyph\":{\"id\":\"4475\"},\"group\":null,\"hover_glyph\":null,\"muted_glyph\":{\"id\":\"4477\"},\"nonselection_glyph\":{\"id\":\"4476\"},\"selection_glyph\":{\"id\":\"4480\"},\"view\":{\"id\":\"4479\"}},\"id\":\"4478\",\"type\":\"GlyphRenderer\"},{\"attributes\":{},\"id\":\"4367\",\"type\":\"AllLabels\"},{\"attributes\":{\"fill_alpha\":{\"value\":0.1},\"fill_color\":{\"value\":\"#30a2da\"},\"hatch_alpha\":{\"value\":0.1},\"hatch_color\":{\"value\":\"#30a2da\"},\"line_alpha\":{\"value\":0.1},\"top\":{\"field\":\"normal\"},\"width\":{\"value\":0.8},\"x\":{\"field\":\"index\"}},\"id\":\"4476\",\"type\":\"VBar\"},{\"attributes\":{\"end\":1.3527243125254254,\"reset_end\":1.3527243125254254,\"reset_start\":0.0,\"tags\":[[[\"0\",\"0\",null]]]},\"id\":\"4322\",\"type\":\"Range1d\"},{\"attributes\":{},\"id\":\"4414\",\"type\":\"WheelZoomTool\"},{\"attributes\":{\"toolbars\":[{\"id\":\"4418\"},{\"id\":\"4465\"}],\"tools\":[{\"id\":\"4395\"},{\"id\":\"4412\"},{\"id\":\"4413\"},{\"id\":\"4414\"},{\"id\":\"4415\"},{\"id\":\"4416\"},{\"id\":\"4442\"},{\"id\":\"4459\"},{\"id\":\"4460\"},{\"id\":\"4461\"},{\"id\":\"4462\"},{\"id\":\"4463\"}]},\"id\":\"4510\",\"type\":\"ProxyToolbar\"},{\"attributes\":{\"fill_alpha\":{\"value\":0.2},\"fill_color\":{\"value\":\"#30a2da\"},\"hatch_alpha\":{\"value\":0.2},\"hatch_color\":{\"value\":\"#30a2da\"},\"line_alpha\":{\"value\":0.2},\"top\":{\"field\":\"normal\"},\"width\":{\"value\":0.8},\"x\":{\"field\":\"index\"}},\"id\":\"4477\",\"type\":\"VBar\"}],\"root_ids\":[\"4320\",\"4935\"]},\"title\":\"Bokeh Application\",\"version\":\"2.4.1\"}};\n",
       "    var render_items = [{\"docid\":\"160972cd-7816-4d8f-a421-78dd2c5cfeab\",\"root_ids\":[\"4320\"],\"roots\":{\"4320\":\"2bc372f9-9dc9-4af1-80ad-75404a21df73\"}}];\n",
       "    root.Bokeh.embed.embed_items_notebook(docs_json, render_items);\n",
       "  }\n",
       "  if (root.Bokeh !== undefined && root.Bokeh.Panel !== undefined) {\n",
       "    embed_document(root);\n",
       "  } else {\n",
       "    var attempts = 0;\n",
       "    var timer = setInterval(function(root) {\n",
       "      if (root.Bokeh !== undefined && root.Bokeh.Panel !== undefined) {\n",
       "        clearInterval(timer);\n",
       "        embed_document(root);\n",
       "      } else if (document.readyState == \"complete\") {\n",
       "        attempts++;\n",
       "        if (attempts > 200) {\n",
       "          clearInterval(timer);\n",
       "          console.log(\"Bokeh: ERROR: Unable to run BokehJS code because BokehJS library is missing\");\n",
       "        }\n",
       "      }\n",
       "    }, 25, root)\n",
       "  }\n",
       "})(window);</script>"
      ],
      "text/plain": [
       "Tabs\n",
       "    [0] HoloViews(Bars, name='BTC - Equity D...)\n",
       "    [1] Plotly(Figure, name='Returns vs. Max Loss')\n",
       "    [2] Column\n",
       "        [0] HoloViews(Layout)\n",
       "    [3] Row\n",
       "        [0] Str(None)\n",
       "        [1] Str(None)"
      ]
     },
     "execution_count": 94,
     "metadata": {
      "application/vnd.holoviews_exec.v0+json": {
       "id": "4320"
      }
     },
     "output_type": "execute_result"
    }
   ],
   "source": [
    "tabs = pn.Tabs(\n",
    "    (\"BTC - Equity Diversifier\", sharpe_bar_chart),\n",
    "    (\"Returns vs. Max Loss\", retmxloss_chart),\n",
    "    (\"Correlation in diff Markets\",corr_chart),\n",
    "    (\"Return distribution\", pn.Row(selloff_dist_chart,normal_dist_chart)))\n",
    "tabs"
   ]
  }
 ],
 "metadata": {
  "kernelspec": {
   "display_name": "Python 3 (ipykernel)",
   "language": "python",
   "name": "python3"
  },
  "language_info": {
   "codemirror_mode": {
    "name": "ipython",
    "version": 3
   },
   "file_extension": ".py",
   "mimetype": "text/x-python",
   "name": "python",
   "nbconvert_exporter": "python",
   "pygments_lexer": "ipython3",
   "version": "3.7.11"
  }
 },
 "nbformat": 4,
 "nbformat_minor": 5
}
